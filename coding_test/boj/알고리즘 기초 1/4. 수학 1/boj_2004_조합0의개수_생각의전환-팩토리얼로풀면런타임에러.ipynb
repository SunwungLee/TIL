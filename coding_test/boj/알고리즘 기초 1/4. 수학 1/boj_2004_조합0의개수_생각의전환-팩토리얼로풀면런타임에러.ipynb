{
 "cells": [
  {
   "cell_type": "code",
   "execution_count": 5,
   "metadata": {
    "scrolled": true
   },
   "outputs": [
    {
     "name": "stdout",
     "output_type": "stream",
     "text": [
      "25 12\n",
      "2\n"
     ]
    }
   ],
   "source": [
    "def calFactorial(n):\n",
    "    if n == 0:\n",
    "        return 1\n",
    "    return n*calFactorial(n-1)\n",
    "\n",
    "def calCombi(n, r):\n",
    "    return int(calFactorial(n)/(calFactorial(r)*calFactorial(n-r)))\n",
    "\n",
    "n, m = map(int, input().split())\n",
    "ans = calCombi(n,m)\n",
    "cnt = 0\n",
    "for _ in range(ans):\n",
    "    if ans%10 == 0:\n",
    "        cnt += 1\n",
    "        ans = ans//10\n",
    "    else:\n",
    "        print(cnt)\n",
    "        break\n",
    "    "
   ]
  },
  {
   "cell_type": "code",
   "execution_count": 8,
   "metadata": {},
   "outputs": [
    {
     "name": "stdout",
     "output_type": "stream",
     "text": [
      "25 12\n",
      "2\n"
     ]
    }
   ],
   "source": [
    " N, M = map(int, input().split())\n",
    "\n",
    "\n",
    "# 진짜 팩토리얼로 구해서 문제를 해결하게 되면 시간초과 발생\n",
    "# 끝자리가 0이라는 것은 10의 배수\n",
    "# 10은 2와 5로 구성되어 있음\n",
    "# 2와 5 짝이 맞아야 10이 되므로 2의 개수와 5의 개수중 더 작은게 10의 개수이다.\n",
    "\n",
    "def count_number(n, k):\n",
    "    count = 0\n",
    "    while n:\n",
    "        n //= k\n",
    "        count += n\n",
    "    return count\n",
    "\n",
    "\n",
    "five_count = count_number(N, 5) - count_number(M, 5) - count_number(N - M, 5)\n",
    "two_count = count_number(N, 2) - count_number(M, 2) - count_number(N - M, 2)\n",
    "\n",
    "answer = min(five_count, two_count)\n",
    "print(answer)"
   ]
  },
  {
   "cell_type": "code",
   "execution_count": null,
   "metadata": {},
   "outputs": [],
   "source": []
  }
 ],
 "metadata": {
  "kernelspec": {
   "display_name": "Python 3",
   "language": "python",
   "name": "python3"
  },
  "language_info": {
   "codemirror_mode": {
    "name": "ipython",
    "version": 3
   },
   "file_extension": ".py",
   "mimetype": "text/x-python",
   "name": "python",
   "nbconvert_exporter": "python",
   "pygments_lexer": "ipython3",
   "version": "3.8.5"
  }
 },
 "nbformat": 4,
 "nbformat_minor": 4
}
