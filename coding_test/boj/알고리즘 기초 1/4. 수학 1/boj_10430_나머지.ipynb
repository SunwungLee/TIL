{
 "cells": [
  {
   "cell_type": "code",
   "execution_count": 1,
   "metadata": {},
   "outputs": [
    {
     "name": "stdout",
     "output_type": "stream",
     "text": [
      "5 8 4\n",
      "1\n",
      "1\n",
      "0\n",
      "0\n"
     ]
    }
   ],
   "source": [
    "def eq_1(a,b,c):\n",
    "    return (a+b)%c\n",
    "def eq_2(a,b,c):\n",
    "    return ((a%c) + (b%c))%c\n",
    "def eq_3(a,b,c):\n",
    "    return (a*b)%c\n",
    "def eq_4(a,b,c):\n",
    "    return ((a%c)*(b%c))%c\n",
    "\n",
    "a,b,c = map(int, input().split())\n",
    "print(eq_1(a,b,c))\n",
    "print(eq_2(a,b,c))\n",
    "print(eq_3(a,b,c))\n",
    "print(eq_4(a,b,c))"
   ]
  },
  {
   "cell_type": "code",
   "execution_count": null,
   "metadata": {},
   "outputs": [],
   "source": []
  }
 ],
 "metadata": {
  "kernelspec": {
   "display_name": "Python 3",
   "language": "python",
   "name": "python3"
  },
  "language_info": {
   "codemirror_mode": {
    "name": "ipython",
    "version": 3
   },
   "file_extension": ".py",
   "mimetype": "text/x-python",
   "name": "python",
   "nbconvert_exporter": "python",
   "pygments_lexer": "ipython3",
   "version": "3.8.5"
  }
 },
 "nbformat": 4,
 "nbformat_minor": 4
}
