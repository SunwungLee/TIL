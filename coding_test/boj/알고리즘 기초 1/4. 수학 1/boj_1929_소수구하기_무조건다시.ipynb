{
 "cells": [
  {
   "cell_type": "code",
   "execution_count": 4,
   "metadata": {},
   "outputs": [
    {
     "name": "stdout",
     "output_type": "stream",
     "text": [
      "3 16\n",
      "3\n",
      "5\n",
      "7\n",
      "11\n",
      "13\n"
     ]
    }
   ],
   "source": [
    "m, n = map(int, input().split())\n",
    "\n",
    "prime=[]\n",
    "for number in range(m, n+1):\n",
    "    error = 0\n",
    "    for i in range(2, number):\n",
    "        if number%i == 0:\n",
    "            error=1\n",
    "            break\n",
    "    if error == 0:\n",
    "        prime.append(number)\n",
    "\n",
    "for j in prime:\n",
    "    print(j)"
   ]
  },
  {
   "cell_type": "code",
   "execution_count": 5,
   "metadata": {},
   "outputs": [
    {
     "name": "stdout",
     "output_type": "stream",
     "text": [
      "3 10\n",
      "3\n",
      "5\n",
      "7\n"
     ]
    }
   ],
   "source": [
    "m, n = map(int, input().split())\n",
    "\n",
    "def isPrime(m, n):\n",
    "    n+=1\n",
    "    prime = [True]*n\n",
    "    for i in range(2, int(n**0.5)+1): \n",
    "        if prime[i]:\n",
    "            for j in range(2*i, n, i): # 에라토스테네스의 체\n",
    "                prime[j] = False\n",
    "    \n",
    "    for i in range(m,n):\n",
    "        if i > 1 and prime[i] == True:\n",
    "            print(i)\n",
    "            \n",
    "isPrime(m, n)"
   ]
  },
  {
   "cell_type": "code",
   "execution_count": null,
   "metadata": {},
   "outputs": [],
   "source": []
  }
 ],
 "metadata": {
  "kernelspec": {
   "display_name": "Python 3",
   "language": "python",
   "name": "python3"
  },
  "language_info": {
   "codemirror_mode": {
    "name": "ipython",
    "version": 3
   },
   "file_extension": ".py",
   "mimetype": "text/x-python",
   "name": "python",
   "nbconvert_exporter": "python",
   "pygments_lexer": "ipython3",
   "version": "3.8.5"
  }
 },
 "nbformat": 4,
 "nbformat_minor": 4
}
