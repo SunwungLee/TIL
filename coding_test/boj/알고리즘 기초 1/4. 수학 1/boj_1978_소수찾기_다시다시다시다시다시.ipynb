{
 "cells": [
  {
   "cell_type": "code",
   "execution_count": 8,
   "metadata": {},
   "outputs": [
    {
     "name": "stdout",
     "output_type": "stream",
     "text": [
      "4\n",
      "2\n"
     ]
    }
   ],
   "source": [
    "# 주어진 N개 중에서 소수가 몇 개인지 찾아서 출력\n",
    "\n",
    "n = int(input())\n",
    "\n",
    "prime = [False, False]+[True]*(n-1)\n",
    "for i in range(1, n+1):\n",
    "    if prime[i]:\n",
    "        for j in range(2*i, n+1, i):\n",
    "            prime[j] = False\n",
    "cnt = 0\n",
    "for p in prime:\n",
    "    if p:\n",
    "        cnt += 1\n",
    "print(cnt)\n",
    "    "
   ]
  },
  {
   "cell_type": "code",
   "execution_count": 16,
   "metadata": {},
   "outputs": [
    {
     "name": "stdout",
     "output_type": "stream",
     "text": [
      "4\n",
      "2 3 4 5\n",
      "3\n"
     ]
    }
   ],
   "source": [
    "n = int(input())\n",
    "\n",
    "numbers = list(map(int, input().split()))\n",
    "\n",
    "cnt = 0\n",
    "\n",
    "for i in numbers:\n",
    "    flag = 0\n",
    "    if i > 1:\n",
    "        for j in range(2, i):\n",
    "            if i%j == 0:\n",
    "                flag = 1\n",
    "                break\n",
    "        if flag == 0:\n",
    "            cnt += 1\n",
    "print(cnt)"
   ]
  },
  {
   "cell_type": "code",
   "execution_count": null,
   "metadata": {},
   "outputs": [],
   "source": []
  }
 ],
 "metadata": {
  "kernelspec": {
   "display_name": "Python 3",
   "language": "python",
   "name": "python3"
  },
  "language_info": {
   "codemirror_mode": {
    "name": "ipython",
    "version": 3
   },
   "file_extension": ".py",
   "mimetype": "text/x-python",
   "name": "python",
   "nbconvert_exporter": "python",
   "pygments_lexer": "ipython3",
   "version": "3.8.5"
  }
 },
 "nbformat": 4,
 "nbformat_minor": 4
}
