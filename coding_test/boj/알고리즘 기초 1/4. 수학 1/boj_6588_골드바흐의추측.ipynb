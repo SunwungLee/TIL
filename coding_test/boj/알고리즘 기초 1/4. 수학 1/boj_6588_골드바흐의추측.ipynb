{
 "cells": [
  {
   "cell_type": "code",
   "execution_count": 13,
   "metadata": {},
   "outputs": [
    {
     "name": "stdout",
     "output_type": "stream",
     "text": [
      "8\n",
      "8 = 3 + 5\n",
      "20\n",
      "20 = 3 + 17\n",
      "0\n"
     ]
    }
   ],
   "source": [
    "# isPrime 만들기\n",
    "def isPrime(num):\n",
    "    num += 1\n",
    "    prime = [False, False] + [True]*(num-2)\n",
    "    \n",
    "    for i in range(2, int(num**0.5)+1):\n",
    "        if prime[i]:\n",
    "            for j in range(2*i, num, i):\n",
    "                prime[j] = False\n",
    "    if prime[num-1]:\n",
    "        return True\n",
    "    else:\n",
    "        return False\n",
    "\n",
    "while True:\n",
    "    case = int(input())\n",
    "    if case == 0:\n",
    "        break\n",
    "    # 가장 작은 소수\n",
    "    a = 3\n",
    "    b = case - a\n",
    "    while True:\n",
    "        if isPrime(a) and isPrime(b):\n",
    "            print(case, '=', a, '+', b)\n",
    "            break\n",
    "        else:\n",
    "            a += 2\n",
    "            b = case - a\n",
    "        \n"
   ]
  },
  {
   "cell_type": "code",
   "execution_count": 14,
   "metadata": {},
   "outputs": [
    {
     "ename": "ValueError",
     "evalue": "invalid literal for int() with base 10: ''",
     "output_type": "error",
     "traceback": [
      "\u001b[1;31m---------------------------------------------------------------------------\u001b[0m",
      "\u001b[1;31mValueError\u001b[0m                                Traceback (most recent call last)",
      "\u001b[1;32m<ipython-input-14-8550585e48b6>\u001b[0m in \u001b[0;36m<module>\u001b[1;34m\u001b[0m\n\u001b[0;32m     12\u001b[0m \u001b[1;33m\u001b[0m\u001b[0m\n\u001b[0;32m     13\u001b[0m \u001b[1;32mwhile\u001b[0m \u001b[1;32mTrue\u001b[0m\u001b[1;33m:\u001b[0m\u001b[1;33m\u001b[0m\u001b[1;33m\u001b[0m\u001b[0m\n\u001b[1;32m---> 14\u001b[1;33m     \u001b[0mcase\u001b[0m \u001b[1;33m=\u001b[0m \u001b[0mint\u001b[0m\u001b[1;33m(\u001b[0m\u001b[0msys\u001b[0m\u001b[1;33m.\u001b[0m\u001b[0mstdin\u001b[0m\u001b[1;33m.\u001b[0m\u001b[0mreadline\u001b[0m\u001b[1;33m(\u001b[0m\u001b[1;33m)\u001b[0m\u001b[1;33m)\u001b[0m\u001b[1;33m\u001b[0m\u001b[1;33m\u001b[0m\u001b[0m\n\u001b[0m\u001b[0;32m     15\u001b[0m     \u001b[0mprime_list\u001b[0m \u001b[1;33m=\u001b[0m \u001b[0misPrime\u001b[0m\u001b[1;33m(\u001b[0m\u001b[0mcase\u001b[0m\u001b[1;33m)\u001b[0m\u001b[1;33m\u001b[0m\u001b[1;33m\u001b[0m\u001b[0m\n\u001b[0;32m     16\u001b[0m     \u001b[1;32mif\u001b[0m \u001b[0mcase\u001b[0m \u001b[1;33m==\u001b[0m \u001b[1;36m0\u001b[0m\u001b[1;33m:\u001b[0m\u001b[1;33m\u001b[0m\u001b[1;33m\u001b[0m\u001b[0m\n",
      "\u001b[1;31mValueError\u001b[0m: invalid literal for int() with base 10: ''"
     ]
    }
   ],
   "source": [
    "import sys\n",
    "# isPrime 만들기\n",
    "def isPrime(num):\n",
    "    num += 1\n",
    "    prime = [False, False] + [True]*(num-2)\n",
    "    \n",
    "    for i in range(2, int(num**0.5)+1):\n",
    "        if prime[i]:\n",
    "            for j in range(2*i, num, i):\n",
    "                prime[j] = False\n",
    "    return prime\n",
    "\n",
    "prime_list = isPrime(1000000) # 이거밖으로 뺴니까 메모리 해결됨\n",
    "while True:\n",
    "    case = int(sys.stdin.readline())\n",
    "    \n",
    "    if case == 0:\n",
    "        break\n",
    "    # 가장 작은 소수\n",
    "    a = 3\n",
    "    b = case - a\n",
    "    while True:\n",
    "        if prime_list[a] and prime_list[b]:\n",
    "            print(case, '=', a, '+', b)\n",
    "            break\n",
    "        else:\n",
    "            a += 2\n",
    "            b = case - a\n",
    "        \n"
   ]
  },
  {
   "cell_type": "code",
   "execution_count": 21,
   "metadata": {},
   "outputs": [
    {
     "name": "stdout",
     "output_type": "stream",
     "text": [
      "6\n",
      "6 = 3 + 3\n",
      "0\n"
     ]
    }
   ],
   "source": [
    "# isPrime 만들기\n",
    "def isPrime(num):\n",
    "    num += 1\n",
    "    prime = [False, False] + [True]*(num-2)\n",
    "    \n",
    "    for i in range(2, int(num**0.5)+1):\n",
    "        if prime[i]:\n",
    "            for j in range(2*i, num, i):\n",
    "                prime[j] = False\n",
    "    return prime\n",
    "\n",
    "prime_list = isPrime(1000000)\n",
    "while True:\n",
    "    case = int(input())\n",
    "    if case == 0:\n",
    "        break\n",
    "    \n",
    "    # 가장 작은 소수\n",
    "    a = 3\n",
    "    b = case - a\n",
    "    while True:\n",
    "        if a >= case:\n",
    "            print(\"Goldbach's conjecture is wrong\")\n",
    "            break\n",
    "            \n",
    "        if prime_list[a] and prime_list[b]:\n",
    "            print(case, '=', a, '+', b)\n",
    "            break\n",
    "        else:\n",
    "            a += 2\n",
    "            b = case - a"
   ]
  },
  {
   "cell_type": "code",
   "execution_count": null,
   "metadata": {},
   "outputs": [],
   "source": []
  }
 ],
 "metadata": {
  "kernelspec": {
   "display_name": "Python 3",
   "language": "python",
   "name": "python3"
  },
  "language_info": {
   "codemirror_mode": {
    "name": "ipython",
    "version": 3
   },
   "file_extension": ".py",
   "mimetype": "text/x-python",
   "name": "python",
   "nbconvert_exporter": "python",
   "pygments_lexer": "ipython3",
   "version": "3.8.5"
  }
 },
 "nbformat": 4,
 "nbformat_minor": 4
}
