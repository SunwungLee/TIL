{
 "cells": [
  {
   "cell_type": "code",
   "execution_count": 1,
   "id": "f352c7e2",
   "metadata": {},
   "outputs": [],
   "source": [
    "#\n",
    "# n개의 임의의 수열\n",
    "# 몇개 골라 구할 수 있는 수의 합 중 최대값\n",
    "#\n"
   ]
  },
  {
   "cell_type": "code",
   "execution_count": null,
   "id": "2db2ea99",
   "metadata": {},
   "outputs": [],
   "source": [
    "# n = 1\n",
    "# sum = arr[1]\n",
    "\n",
    "# n = 2\n",
    "# a, b\n",
    "# a+b or a or b\n",
    "\n",
    "# n = 3\n",
    "# a, b, c"
   ]
  }
 ],
 "metadata": {
  "kernelspec": {
   "display_name": "Python 3",
   "language": "python",
   "name": "python3"
  },
  "language_info": {
   "codemirror_mode": {
    "name": "ipython",
    "version": 3
   },
   "file_extension": ".py",
   "mimetype": "text/x-python",
   "name": "python",
   "nbconvert_exporter": "python",
   "pygments_lexer": "ipython3",
   "version": "3.8.10"
  }
 },
 "nbformat": 4,
 "nbformat_minor": 5
}
