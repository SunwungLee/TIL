{
 "cells": [
  {
   "cell_type": "code",
   "execution_count": 1,
   "metadata": {},
   "outputs": [],
   "source": [
    "# 계단수: 인접한 모든 자리수의 차이가 1\n",
    "# 길이가 N인 계단 수가 총 몇개 있는지 구하라.\n",
    "# 0으로 시작하는 수는 없다."
   ]
  },
  {
   "cell_type": "code",
   "execution_count": 7,
   "metadata": {},
   "outputs": [
    {
     "name": "stdout",
     "output_type": "stream",
     "text": [
      "100\n",
      "39609\n"
     ]
    }
   ],
   "source": [
    "n = int(input())\n",
    "\n",
    "dp = [0]*101 # N은 100보다 작거나 같은 자연수\n",
    "dp[1] = 9\n",
    "\n",
    "for i in range(2, n+1):\n",
    "    dp[i] = dp[i-1] + 8*(i-1)\n",
    "\n",
    "print(dp[n]%1_000_000_000)"
   ]
  },
  {
   "cell_type": "code",
   "execution_count": 8,
   "metadata": {},
   "outputs": [
    {
     "name": "stdout",
     "output_type": "stream",
     "text": [
      "10\n",
      "2986\n"
     ]
    }
   ],
   "source": [
    "N = int(input()) \n",
    "\n",
    "dp = [[0]*10 for _ in range(N+1)] \n",
    "for i in range(1, 10): \n",
    "    dp[1][i] = 1 \n",
    "\n",
    "MOD = 1000000000 \n",
    "\n",
    "for i in range(2, N+1): \n",
    "    for j in range(10): \n",
    "        if j == 0: \n",
    "            dp[i][j] = dp[i-1][1] \n",
    "        elif j == 9: \n",
    "            dp[i][j] = dp[i-1][8]\n",
    "        else: dp[i][j] = dp[i-1][j-1] + dp[i-1][j+1] \n",
    "            \n",
    "print(sum(dp[N]) % MOD)\n"
   ]
  },
  {
   "cell_type": "code",
   "execution_count": null,
   "metadata": {},
   "outputs": [],
   "source": []
  }
 ],
 "metadata": {
  "kernelspec": {
   "display_name": "Python 3",
   "language": "python",
   "name": "python3"
  },
  "language_info": {
   "codemirror_mode": {
    "name": "ipython",
    "version": 3
   },
   "file_extension": ".py",
   "mimetype": "text/x-python",
   "name": "python",
   "nbconvert_exporter": "python",
   "pygments_lexer": "ipython3",
   "version": "3.8.5"
  }
 },
 "nbformat": 4,
 "nbformat_minor": 4
}
