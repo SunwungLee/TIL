{
 "cells": [
  {
   "cell_type": "code",
   "execution_count": 1,
   "id": "ce59b8d1",
   "metadata": {},
   "outputs": [],
   "source": [
    "#\n",
    "#\n",
    "#\n"
   ]
  },
  {
   "cell_type": "code",
   "execution_count": 25,
   "id": "c0d577e3",
   "metadata": {},
   "outputs": [
    {
     "name": "stdout",
     "output_type": "stream",
     "text": [
      "5\n",
      "60 20 40 50 10\n",
      "3\n",
      "10 50 "
     ]
    }
   ],
   "source": [
    "# 백준 14002\n",
    "N = int(input())\n",
    "arr = list(map(int, input().split()))\n",
    "dp = [1]*N\n",
    "\n",
    "for i in range(1, N):\n",
    "    for j in range(i):\n",
    "        if arr[i]>arr[j]:\n",
    "            dp[i] = max(dp[i], dp[j]+1)\n",
    "\n",
    "print(max(dp))\n",
    "order = max(dp)\n",
    "lst = []\n",
    "for i in range(N-1, -1, -1):\n",
    "    if dp[i]==order:\n",
    "        lst.append(arr[i])\n",
    "        order-=1\n",
    "lst.reverse()\n",
    "for i in lst:\n",
    "    print(i, end=' ')"
   ]
  },
  {
   "cell_type": "code",
   "execution_count": 23,
   "id": "687ef981",
   "metadata": {},
   "outputs": [
    {
     "name": "stdout",
     "output_type": "stream",
     "text": [
      "5\n",
      "60 20 40 50 10\n",
      "3\n",
      "20 40 50 "
     ]
    }
   ],
   "source": [
    "# 백준 14002\n",
    "N = int(input())\n",
    "arr = list(map(int, input().split()))\n",
    "dp = [1]*N\n",
    "\n",
    "for i in range(1, N):\n",
    "    for j in range(i):\n",
    "        if arr[i]>arr[j]:\n",
    "            dp[i] = max(dp[i], dp[j]+1)\n",
    "\n",
    "print(max(dp))\n",
    "order = max(dp)\n",
    "lst = []\n",
    "for i in range(N-1, -1, -1):\n",
    "    if dp[i]==order:\n",
    "        lst.append(arr[i])\n",
    "        order-=1\n",
    "lst.reverse()\n",
    "for i in lst:\n",
    "    print(i, end=' ')"
   ]
  },
  {
   "cell_type": "code",
   "execution_count": null,
   "id": "d532d44c",
   "metadata": {},
   "outputs": [],
   "source": []
  }
 ],
 "metadata": {
  "kernelspec": {
   "display_name": "Python 3",
   "language": "python",
   "name": "python3"
  },
  "language_info": {
   "codemirror_mode": {
    "name": "ipython",
    "version": 3
   },
   "file_extension": ".py",
   "mimetype": "text/x-python",
   "name": "python",
   "nbconvert_exporter": "python",
   "pygments_lexer": "ipython3",
   "version": "3.8.10"
  }
 },
 "nbformat": 4,
 "nbformat_minor": 5
}
