{
 "cells": [
  {
   "cell_type": "code",
   "execution_count": 1,
   "id": "e1767d2e",
   "metadata": {},
   "outputs": [],
   "source": [
    "#\n",
    "#\n",
    "#\n"
   ]
  },
  {
   "cell_type": "code",
   "execution_count": 13,
   "id": "a001d23c",
   "metadata": {},
   "outputs": [
    {
     "name": "stdout",
     "output_type": "stream",
     "text": [
      "5\n",
      "30 20 10 50 40\n",
      "2\n"
     ]
    }
   ],
   "source": [
    "# A = [10, 20, 10, 30, 20, 50] \n",
    "# A = [10, 20, X, 30, X, 50] \n",
    "# 길이는 4\n",
    "cases = int(input())\n",
    "dp = [0 for i in range(n)]\n",
    "arr_a = list(map(int, input().split()))\n",
    "# arr_a[0] 을 기준으로 증가하는 것들만 고르는 것.\n",
    "\n",
    "for i in range(cases): # 배열 길이만큼\n",
    "    for j in range(i): # 처음부터 해당까지\n",
    "        if arr_a[i] > arr_a[j] and dp[i] < dp[j]:\n",
    "            dp[i] = dp[j]\n",
    "    dp[i] += 1\n",
    "print(max(dp))"
   ]
  },
  {
   "cell_type": "code",
   "execution_count": 11,
   "id": "f998fee6",
   "metadata": {},
   "outputs": [
    {
     "name": "stdout",
     "output_type": "stream",
     "text": [
      "5\n",
      "30 20 10 50 40\n",
      "2\n"
     ]
    }
   ],
   "source": [
    "n = int(input())\n",
    "a = list(map(int, input().split()))\n",
    "dp = [0 for i in range(n)]\n",
    "for i in range(n):\n",
    "    for j in range(i):\n",
    "        if a[i] > a[j] and dp[i] < dp[j]:\n",
    "            dp[i] = dp[j]\n",
    "    dp[i] += 1\n",
    "print(max(dp))"
   ]
  },
  {
   "cell_type": "code",
   "execution_count": null,
   "id": "5c5f3c55",
   "metadata": {},
   "outputs": [],
   "source": []
  }
 ],
 "metadata": {
  "kernelspec": {
   "display_name": "Python 3",
   "language": "python",
   "name": "python3"
  },
  "language_info": {
   "codemirror_mode": {
    "name": "ipython",
    "version": 3
   },
   "file_extension": ".py",
   "mimetype": "text/x-python",
   "name": "python",
   "nbconvert_exporter": "python",
   "pygments_lexer": "ipython3",
   "version": "3.8.10"
  }
 },
 "nbformat": 4,
 "nbformat_minor": 5
}
