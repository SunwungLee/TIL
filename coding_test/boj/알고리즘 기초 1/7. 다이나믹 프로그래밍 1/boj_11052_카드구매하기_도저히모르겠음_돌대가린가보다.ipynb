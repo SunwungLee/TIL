{
 "cells": [
  {
   "cell_type": "code",
   "execution_count": 9,
   "metadata": {},
   "outputs": [
    {
     "name": "stdout",
     "output_type": "stream",
     "text": [
      "10\n",
      "5 10 11 12 13 30 35 40 45 47\n",
      "50\n"
     ]
    }
   ],
   "source": [
    "n = int(input())\n",
    "p = [0] + list(map(int, input().split()))\n",
    "\n",
    "dp = [0]*(1000+1)\n",
    "dp[1] = p[1]\n",
    "# 모든 경우의 수를 어떻게 구할까\n",
    "for i in range(2, n+1):\n",
    "    for k in range(1, i+1):\n",
    "        dp[i] = max(dp[i], dp[i-k] + p[k])\n",
    "print(dp[n])"
   ]
  },
  {
   "cell_type": "code",
   "execution_count": null,
   "metadata": {},
   "outputs": [],
   "source": []
  }
 ],
 "metadata": {
  "kernelspec": {
   "display_name": "Python 3",
   "language": "python",
   "name": "python3"
  },
  "language_info": {
   "codemirror_mode": {
    "name": "ipython",
    "version": 3
   },
   "file_extension": ".py",
   "mimetype": "text/x-python",
   "name": "python",
   "nbconvert_exporter": "python",
   "pygments_lexer": "ipython3",
   "version": "3.8.5"
  }
 },
 "nbformat": 4,
 "nbformat_minor": 4
}
