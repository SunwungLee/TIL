{
 "cells": [
  {
   "cell_type": "code",
   "execution_count": 4,
   "metadata": {},
   "outputs": [],
   "source": [
    "# 어떤 중복되는 경우를 가지고 있는지\n",
    "# 규칙을 파악해보자\n",
    "# 다이나믹 프로그래밍의 핵심은 문제의 규칙을 찾는 것에 있다."
   ]
  },
  {
   "cell_type": "code",
   "execution_count": 3,
   "metadata": {},
   "outputs": [
    {
     "name": "stdout",
     "output_type": "stream",
     "text": [
      "3\n",
      "2\n"
     ]
    }
   ],
   "source": [
    "# 이친수: pinary number\n",
    "# 0으로 시작 x\n",
    "# 1이 두번연속 x\n",
    "\n",
    "# 1, 2, 4, 8, 16\n",
    "# \n",
    "\n",
    "# N=1\n",
    "# 1\n",
    "# N=2\n",
    "# 10\n",
    "# N=3\n",
    "# 100 (101)\n",
    "# N=4\n",
    "# 1000 (1001 1010)\n",
    "# N=5\n",
    "# 10000 (10001 10010) (10100 10101)\n",
    "\n",
    "\n",
    "\n",
    "n = int(input())\n",
    "\n",
    "dp = [0]*(90+1)\n",
    "dp[1] = 1\n",
    "dp[2] = 1\n",
    "\n",
    "for i in range(3, 90+1): # n은 90까지 자연수\n",
    "    dp[i] = dp[i-2] + dp[i-1]\n",
    "print(dp[n])"
   ]
  },
  {
   "cell_type": "code",
   "execution_count": null,
   "metadata": {},
   "outputs": [],
   "source": []
  }
 ],
 "metadata": {
  "kernelspec": {
   "display_name": "Python 3",
   "language": "python",
   "name": "python3"
  },
  "language_info": {
   "codemirror_mode": {
    "name": "ipython",
    "version": 3
   },
   "file_extension": ".py",
   "mimetype": "text/x-python",
   "name": "python",
   "nbconvert_exporter": "python",
   "pygments_lexer": "ipython3",
   "version": "3.8.10"
  }
 },
 "nbformat": 4,
 "nbformat_minor": 4
}
