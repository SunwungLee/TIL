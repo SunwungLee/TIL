{
 "cells": [
  {
   "cell_type": "code",
   "execution_count": 5,
   "metadata": {},
   "outputs": [
    {
     "name": "stdout",
     "output_type": "stream",
     "text": [
      "9\n",
      "55\n"
     ]
    }
   ],
   "source": [
    "# 출력: 직사각형을 채우는 방법의 수를 10_007로 나눈 나머지를 출력한다.\n",
    "\n",
    "n = int(input())\n",
    "\n",
    "dp = [1,1]+[0]*(n-1)\n",
    "\n",
    "def fibo(num):\n",
    "    if num==0 or num==1:\n",
    "        return 1\n",
    "    if dp[num]:\n",
    "        return dp[num]\n",
    "    else:\n",
    "        dp[num] = fibo(num-1) + fibo(num-2)\n",
    "        return dp[num]\n",
    "\n",
    "print(fibo(n)%10007)   \n",
    "#print(dp)"
   ]
  },
  {
   "cell_type": "code",
   "execution_count": 1,
   "metadata": {},
   "outputs": [
    {
     "name": "stdout",
     "output_type": "stream",
     "text": [
      "1\n",
      "1\n"
     ]
    }
   ],
   "source": [
    "n = int(input())\n",
    "dp = [0]*(10001)\n",
    "dp[1] = 1\n",
    "dp[2] = 2\n",
    "\n",
    "for i in range(3, n+1): # n보다 작을때까지\n",
    "    dp[i] = dp[i-1] + dp[i-2]\n",
    "print(dp[n]%10007)"
   ]
  },
  {
   "cell_type": "code",
   "execution_count": null,
   "metadata": {},
   "outputs": [],
   "source": []
  }
 ],
 "metadata": {
  "kernelspec": {
   "display_name": "Python 3",
   "language": "python",
   "name": "python3"
  },
  "language_info": {
   "codemirror_mode": {
    "name": "ipython",
    "version": 3
   },
   "file_extension": ".py",
   "mimetype": "text/x-python",
   "name": "python",
   "nbconvert_exporter": "python",
   "pygments_lexer": "ipython3",
   "version": "3.8.5"
  }
 },
 "nbformat": 4,
 "nbformat_minor": 4
}
