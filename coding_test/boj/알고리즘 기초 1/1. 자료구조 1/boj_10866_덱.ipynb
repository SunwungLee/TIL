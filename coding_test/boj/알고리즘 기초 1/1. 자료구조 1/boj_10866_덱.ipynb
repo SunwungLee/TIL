{
 "cells": [
  {
   "cell_type": "code",
   "execution_count": 1,
   "metadata": {},
   "outputs": [
    {
     "name": "stdout",
     "output_type": "stream",
     "text": [
      "15\n",
      "push_back 1\n",
      "push_front 2\n",
      "front\n",
      "2\n",
      "back\n",
      "1\n",
      "size\n",
      "2\n",
      "empty\n",
      "0\n",
      "pop_front\n",
      "2\n",
      "pop_back\n",
      "1\n",
      "pop_front\n",
      "-1\n",
      "size\n",
      "0\n",
      "empty\n",
      "1\n",
      "pop_back\n",
      "-1\n",
      "push_front 3\n",
      "empty\n",
      "0\n",
      "front\n",
      "3\n"
     ]
    }
   ],
   "source": [
    "from collections import deque\n",
    "\n",
    "n = int(input())\n",
    "arr = []\n",
    "for _ in range(n):\n",
    "    command = input().split()\n",
    "    if command[0] == 'push_front':\n",
    "        arr.insert(0, command[1])\n",
    "    elif command[0] == 'push_back':\n",
    "        arr.append(command[1])\n",
    "    elif command[0] == 'pop_front':\n",
    "        if arr == []: print(-1)\n",
    "        else:\n",
    "            ans = arr.pop(0)\n",
    "            print(ans)\n",
    "    elif command[0] == 'pop_back':\n",
    "        if arr == []: print(-1)\n",
    "        else:\n",
    "            ans = arr.pop()\n",
    "            print(ans)\n",
    "    elif command[0] == 'size':\n",
    "        print(len(arr))\n",
    "    elif command[0] == 'empty':\n",
    "        if arr == []: print(1)\n",
    "        else: print(0)\n",
    "    elif command[0] == 'front':\n",
    "        if arr == []: print(-1)\n",
    "        else: print(arr[0])\n",
    "    elif command[0] == 'back':\n",
    "        if arr == []: print(-1)\n",
    "        else: print(arr[-1])"
   ]
  },
  {
   "cell_type": "code",
   "execution_count": null,
   "metadata": {},
   "outputs": [],
   "source": [
    "from collections import deque\n",
    "import sys\n",
    "\n",
    "n = int(sys.stdin.readline())\n",
    "arr = []\n",
    "for _ in range(n):\n",
    "    command = sys.stdin.readline().split()\n",
    "    if command[0] == 'push_front':\n",
    "        arr.insert(0, command[1])\n",
    "    elif command[0] == 'push_back':\n",
    "        arr.append(command[1])\n",
    "    elif command[0] == 'pop_front':\n",
    "        if arr == []: print(-1)\n",
    "        else:\n",
    "            ans = arr.pop(0)\n",
    "            print(ans)\n",
    "    elif command[0] == 'pop_back':\n",
    "        if arr == []: print(-1)\n",
    "        else:\n",
    "            ans = arr.pop()\n",
    "            print(ans)\n",
    "    elif command[0] == 'size':\n",
    "        print(len(arr))\n",
    "    elif command[0] == 'empty':\n",
    "        if arr == []: print(1)\n",
    "        else: print(0)\n",
    "    elif command[0] == 'front':\n",
    "        if arr == []: print(-1)\n",
    "        else: print(arr[0])\n",
    "    elif command[0] == 'back':\n",
    "        if arr == []: print(-1)\n",
    "        else: print(arr[-1])"
   ]
  }
 ],
 "metadata": {
  "kernelspec": {
   "display_name": "Python 3",
   "language": "python",
   "name": "python3"
  },
  "language_info": {
   "codemirror_mode": {
    "name": "ipython",
    "version": 3
   },
   "file_extension": ".py",
   "mimetype": "text/x-python",
   "name": "python",
   "nbconvert_exporter": "python",
   "pygments_lexer": "ipython3",
   "version": "3.8.5"
  }
 },
 "nbformat": 4,
 "nbformat_minor": 4
}
