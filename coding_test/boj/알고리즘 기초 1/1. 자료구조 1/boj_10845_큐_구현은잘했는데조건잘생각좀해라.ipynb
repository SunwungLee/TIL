{
 "cells": [
  {
   "cell_type": "code",
   "execution_count": 13,
   "metadata": {},
   "outputs": [
    {
     "name": "stdout",
     "output_type": "stream",
     "text": [
      "1\n",
      "empty\n",
      "1\n"
     ]
    }
   ],
   "source": [
    "n = int(input())\n",
    "queue = []\n",
    "for _ in range(n):\n",
    "    command = input().split()\n",
    "    if command[0] == 'push':\n",
    "        queue.append(command[1])\n",
    "    elif command[0] == 'pop':\n",
    "        if queue != []:\n",
    "            ans = queue.pop(0)\n",
    "            print(ans)\n",
    "        else:\n",
    "            print(-1)\n",
    "    elif command[0] == 'size':\n",
    "        print(len(queue))\n",
    "    elif command[0] == 'empty':\n",
    "        if queue != []:\n",
    "            print(0)\n",
    "        else:\n",
    "            print(1)\n",
    "    elif command[0] == 'front':\n",
    "        if queue == []:\n",
    "            print(-1)\n",
    "        else:\n",
    "            print(queue[0])\n",
    "    elif command[0] == 'back':\n",
    "        if queue == []:\n",
    "            print(-1)\n",
    "        else: print(queue[-1])"
   ]
  },
  {
   "cell_type": "code",
   "execution_count": null,
   "metadata": {},
   "outputs": [],
   "source": [
    "import sys\n",
    "n = int(sys.stdin.readline())\n",
    "queue = []\n",
    "for _ in range(n):\n",
    "    command = sys.stdin.readline().split() # 여러줄 strip, 한줄 split\n",
    "    if command[0] == 'push':\n",
    "        queue.append(command[1])\n",
    "    elif command[0] == 'pop':\n",
    "        if queue != []:\n",
    "            ans = queue.pop(0)\n",
    "            print(ans)\n",
    "        else:\n",
    "            print(-1)\n",
    "    elif command[0] == 'size':\n",
    "        print(len(queue))\n",
    "    elif command[0] == 'empty':\n",
    "        if queue != []:\n",
    "            print(0)\n",
    "        else:\n",
    "            print(1)\n",
    "    elif command[0] == 'front':\n",
    "        if queue == []:\n",
    "            print(-1)\n",
    "        else:\n",
    "            print(queue[0])\n",
    "    elif command[0] == 'back':\n",
    "        if queue == []:\n",
    "            print(-1)\n",
    "        else: print(queue[-1])"
   ]
  }
 ],
 "metadata": {
  "kernelspec": {
   "display_name": "Python 3",
   "language": "python",
   "name": "python3"
  },
  "language_info": {
   "codemirror_mode": {
    "name": "ipython",
    "version": 3
   },
   "file_extension": ".py",
   "mimetype": "text/x-python",
   "name": "python",
   "nbconvert_exporter": "python",
   "pygments_lexer": "ipython3",
   "version": "3.8.5"
  }
 },
 "nbformat": 4,
 "nbformat_minor": 4
}
