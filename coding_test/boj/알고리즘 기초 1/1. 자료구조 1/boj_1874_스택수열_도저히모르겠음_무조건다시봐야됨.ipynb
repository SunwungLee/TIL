{
 "cells": [
  {
   "cell_type": "code",
   "execution_count": 1,
   "metadata": {},
   "outputs": [
    {
     "name": "stdout",
     "output_type": "stream",
     "text": [
      "2\n"
     ]
    }
   ],
   "source": [
    "cases = int(input())\n",
    "\n",
    "# push 하는 순서는 반드시 오름차순\n",
    "arr = list(range(1, cases+1))"
   ]
  },
  {
   "cell_type": "code",
   "execution_count": 5,
   "metadata": {},
   "outputs": [
    {
     "name": "stdout",
     "output_type": "stream",
     "text": [
      "8\n",
      "4\n",
      "3\n",
      "6\n",
      "8\n",
      "7\n",
      "5\n",
      "2\n",
      "1\n",
      "+\n",
      "+\n",
      "+\n",
      "+\n",
      "-\n",
      "-\n",
      "+\n",
      "+\n",
      "-\n",
      "+\n",
      "+\n",
      "-\n",
      "-\n",
      "-\n",
      "-\n",
      "-\n"
     ]
    }
   ],
   "source": [
    "n = int(input())\n",
    "s = []\n",
    "op = []\n",
    "count = 1\n",
    "temp = True\n",
    "for i in range(n):\n",
    "    num = int(input())\n",
    "    while count <= num:\n",
    "        s.append(count)\n",
    "        op.append('+')\n",
    "        count += 1\n",
    "    if s[-1] == num:\n",
    "        s.pop()\n",
    "        op.append('-')\n",
    "    else:\n",
    "        temp = False\n",
    "if temp == False:\n",
    "    print('NO')\n",
    "else:\n",
    "    for i in op:\n",
    "        print(i)"
   ]
  },
  {
   "cell_type": "code",
   "execution_count": 3,
   "metadata": {},
   "outputs": [
    {
     "data": {
      "text/plain": [
       "2"
      ]
     },
     "execution_count": 3,
     "metadata": {},
     "output_type": "execute_result"
    }
   ],
   "source": [
    "arr.pop()"
   ]
  },
  {
   "cell_type": "code",
   "execution_count": 4,
   "metadata": {},
   "outputs": [
    {
     "data": {
      "text/plain": [
       "[1]"
      ]
     },
     "execution_count": 4,
     "metadata": {},
     "output_type": "execute_result"
    }
   ],
   "source": [
    "arr"
   ]
  },
  {
   "cell_type": "code",
   "execution_count": null,
   "metadata": {},
   "outputs": [],
   "source": []
  }
 ],
 "metadata": {
  "kernelspec": {
   "display_name": "Python 3",
   "language": "python",
   "name": "python3"
  },
  "language_info": {
   "codemirror_mode": {
    "name": "ipython",
    "version": 3
   },
   "file_extension": ".py",
   "mimetype": "text/x-python",
   "name": "python",
   "nbconvert_exporter": "python",
   "pygments_lexer": "ipython3",
   "version": "3.8.5"
  }
 },
 "nbformat": 4,
 "nbformat_minor": 4
}
