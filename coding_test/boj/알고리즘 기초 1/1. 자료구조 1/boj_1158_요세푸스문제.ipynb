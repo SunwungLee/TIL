{
 "cells": [
  {
   "cell_type": "code",
   "execution_count": 9,
   "metadata": {},
   "outputs": [
    {
     "name": "stdout",
     "output_type": "stream",
     "text": [
      "7 3\n",
      "<3, 6, 2, 7, 5, 1, 4>\n"
     ]
    }
   ],
   "source": [
    "n, k = map(int, input().split())\n",
    "\n",
    "# circular queue 구현해야함\n",
    "# index 순환하도록 % 연산 사용할 것\n",
    "arr = list(range(1,n +1))\n",
    "q_idx = 0\n",
    "res = []\n",
    "while True:\n",
    "    if arr == []:\n",
    "        break\n",
    "    arr_sz = len(arr)\n",
    "    q_idx = (q_idx + (k-1))%arr_sz\n",
    "    \n",
    "    ans = arr.pop(q_idx)\n",
    "    #print(q_idx)\n",
    "    #print(ans)\n",
    "    res.append(ans)\n",
    "\n",
    "print('<', end='')\n",
    "for j in res:\n",
    "    if j == res[-1]:\n",
    "        print(j, end='')\n",
    "    else:\n",
    "        print(j, end=', ')\n",
    "print('>')"
   ]
  },
  {
   "cell_type": "code",
   "execution_count": null,
   "metadata": {},
   "outputs": [],
   "source": []
  }
 ],
 "metadata": {
  "kernelspec": {
   "display_name": "Python 3",
   "language": "python",
   "name": "python3"
  },
  "language_info": {
   "codemirror_mode": {
    "name": "ipython",
    "version": 3
   },
   "file_extension": ".py",
   "mimetype": "text/x-python",
   "name": "python",
   "nbconvert_exporter": "python",
   "pygments_lexer": "ipython3",
   "version": "3.8.5"
  }
 },
 "nbformat": 4,
 "nbformat_minor": 4
}
