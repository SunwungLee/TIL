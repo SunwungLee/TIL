{
 "cells": [
  {
   "cell_type": "code",
   "execution_count": 27,
   "metadata": {},
   "outputs": [
    {
     "name": "stdout",
     "output_type": "stream",
     "text": [
      "abcd\n",
      "3\n",
      "P x\n",
      "L\n",
      "P y\n",
      "['a', 'b', 'c', 'd', 'y']\n",
      "['x']\n",
      "abcdyx\n"
     ]
    }
   ],
   "source": [
    "s1 = list(input())\n",
    "n = int(input())\n",
    "cursor = len(s1)\n",
    "s2 = []\n",
    "for _ in range(n):\n",
    "    command = input().split()\n",
    "    if command[0] == 'L' and s1 != []:\n",
    "        s2.append(s1.pop())\n",
    "    elif command[0] == 'D' and s2 != []:\n",
    "        s1.append(s2.pop())\n",
    "    elif command[0] == 'B' and s1 != []:\n",
    "        s1.pop()\n",
    "    elif command[0] == 'P':\n",
    "        s1.append(command[1])\n",
    "\n",
    "print(''.join(s1 + list(reversed(s2))))"
   ]
  },
  {
   "cell_type": "code",
   "execution_count": 4,
   "metadata": {},
   "outputs": [
    {
     "data": {
      "text/plain": [
       "[1, 2, 3, 4, 5]"
      ]
     },
     "execution_count": 4,
     "metadata": {},
     "output_type": "execute_result"
    }
   ],
   "source": [
    "from sys import stdin\n",
    "s1 = list(stdin.readline().strip())\n",
    "n = int(stdin.readline())\n",
    "cursor = len(s1)\n",
    "s2 = []\n",
    "for _ in range(n):\n",
    "    command = stdin.readline().strip()\n",
    "    if command[0] == 'L' and s1 != []:\n",
    "        s2.append(s1.pop())\n",
    "    elif command[0] == 'D' and s2 != []:\n",
    "        s1.append(s2.pop())\n",
    "    elif command[0] == 'B' and s1 != []:\n",
    "        s1.pop()\n",
    "    elif command[0] == 'P':\n",
    "        s1.append(command[2])\n",
    "\n",
    "print(''.join(s1 + list(reversed(s2))))"
   ]
  }
 ],
 "metadata": {
  "kernelspec": {
   "display_name": "Python 3",
   "language": "python",
   "name": "python3"
  },
  "language_info": {
   "codemirror_mode": {
    "name": "ipython",
    "version": 3
   },
   "file_extension": ".py",
   "mimetype": "text/x-python",
   "name": "python",
   "nbconvert_exporter": "python",
   "pygments_lexer": "ipython3",
   "version": "3.8.5"
  }
 },
 "nbformat": 4,
 "nbformat_minor": 4
}
