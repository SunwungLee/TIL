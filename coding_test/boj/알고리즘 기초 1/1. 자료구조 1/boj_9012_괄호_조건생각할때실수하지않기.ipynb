{
 "cells": [
  {
   "cell_type": "code",
   "execution_count": 6,
   "metadata": {},
   "outputs": [
    {
     "name": "stdout",
     "output_type": "stream",
     "text": [
      "3\n",
      "((\n",
      "NO\n",
      "))\n",
      "NO\n",
      "(())((\n",
      "NO\n"
     ]
    }
   ],
   "source": [
    "# 괄호가 쌍으로 있으면 YES, 아니면 NO\n",
    "#\n",
    "case = int(input())\n",
    "\n",
    "for _ in range(case):\n",
    "    word = input()\n",
    "    res=0\n",
    "    for i in word:\n",
    "        if i == '(':\n",
    "            res += 1\n",
    "        else:\n",
    "            res -= 1\n",
    "        if res<0:\n",
    "            print('NO')\n",
    "            break\n",
    "    if res == 0:\n",
    "        print('YES')\n",
    "    elif res > 0:\n",
    "        print('NO')"
   ]
  },
  {
   "cell_type": "code",
   "execution_count": null,
   "metadata": {},
   "outputs": [],
   "source": []
  }
 ],
 "metadata": {
  "kernelspec": {
   "display_name": "Python 3",
   "language": "python",
   "name": "python3"
  },
  "language_info": {
   "codemirror_mode": {
    "name": "ipython",
    "version": 3
   },
   "file_extension": ".py",
   "mimetype": "text/x-python",
   "name": "python",
   "nbconvert_exporter": "python",
   "pygments_lexer": "ipython3",
   "version": "3.8.5"
  }
 },
 "nbformat": 4,
 "nbformat_minor": 4
}
