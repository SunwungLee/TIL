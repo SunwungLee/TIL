{
 "cells": [
  {
   "cell_type": "code",
   "execution_count": 22,
   "metadata": {},
   "outputs": [
    {
     "name": "stdout",
     "output_type": "stream",
     "text": [
      "1\n",
      "i am happy\n",
      "i \n",
      "am \n",
      "happy \n"
     ]
    }
   ],
   "source": [
    "# 틀림\n",
    "cases = int(input())\n",
    "\n",
    "for _ in range(cases):\n",
    "    words = list(input().split())\n",
    "    stack = []\n",
    "    for i in range(len(words)):\n",
    "        stack.append(words[i])\n",
    "        while stack:\n",
    "            print(stack.pop(), end='')\n",
    "        print(' ')"
   ]
  },
  {
   "cell_type": "code",
   "execution_count": 26,
   "metadata": {},
   "outputs": [
    {
     "name": "stdout",
     "output_type": "stream",
     "text": [
      "1\n",
      "i am happy\n",
      "i ma yppah "
     ]
    }
   ],
   "source": [
    "cases = int(input())\n",
    "\n",
    "for _ in range(cases):\n",
    "    words = list(input().split())\n",
    "    rev_words = []\n",
    "    for word in words:\n",
    "        rev_words.append(word[::-1])\n",
    "    for r in rev_words:\n",
    "        print(r, end=' ')"
   ]
  },
  {
   "cell_type": "code",
   "execution_count": null,
   "metadata": {},
   "outputs": [],
   "source": []
  }
 ],
 "metadata": {
  "kernelspec": {
   "display_name": "Python 3",
   "language": "python",
   "name": "python3"
  },
  "language_info": {
   "codemirror_mode": {
    "name": "ipython",
    "version": 3
   },
   "file_extension": ".py",
   "mimetype": "text/x-python",
   "name": "python",
   "nbconvert_exporter": "python",
   "pygments_lexer": "ipython3",
   "version": "3.8.5"
  }
 },
 "nbformat": 4,
 "nbformat_minor": 4
}
