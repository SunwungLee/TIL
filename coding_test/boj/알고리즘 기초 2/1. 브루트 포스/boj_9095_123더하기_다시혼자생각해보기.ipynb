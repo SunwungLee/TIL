{
 "cells": [
  {
   "cell_type": "code",
   "execution_count": 2,
   "id": "4a62b27c",
   "metadata": {},
   "outputs": [],
   "source": [
    "#\n",
    "#\n",
    "#"
   ]
  },
  {
   "cell_type": "code",
   "execution_count": null,
   "id": "52f13127",
   "metadata": {},
   "outputs": [],
   "source": [
    "cases = int(input())\n",
    "\n",
    "for _ in range(cases):\n",
    "    n = int(input())\n",
    "    \n",
    "    # 1,2,3의 합으로 나타내는 방법의 수"
   ]
  }
 ],
 "metadata": {
  "kernelspec": {
   "display_name": "Python 3",
   "language": "python",
   "name": "python3"
  },
  "language_info": {
   "codemirror_mode": {
    "name": "ipython",
    "version": 3
   },
   "file_extension": ".py",
   "mimetype": "text/x-python",
   "name": "python",
   "nbconvert_exporter": "python",
   "pygments_lexer": "ipython3",
   "version": "3.8.10"
  }
 },
 "nbformat": 4,
 "nbformat_minor": 5
}
