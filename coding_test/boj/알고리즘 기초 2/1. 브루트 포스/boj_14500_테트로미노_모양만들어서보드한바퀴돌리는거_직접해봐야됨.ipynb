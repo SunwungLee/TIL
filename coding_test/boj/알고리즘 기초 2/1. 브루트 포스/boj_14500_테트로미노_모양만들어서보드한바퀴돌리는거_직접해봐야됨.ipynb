{
 "cells": [
  {
   "cell_type": "code",
   "execution_count": 1,
   "id": "66aef88c",
   "metadata": {},
   "outputs": [],
   "source": [
    "#\n",
    "# 정사각형 4개를 이어 붙인 블록들\n",
    "#"
   ]
  },
  {
   "cell_type": "code",
   "execution_count": 2,
   "id": "8a7d5f6d",
   "metadata": {},
   "outputs": [
    {
     "ename": "KeyboardInterrupt",
     "evalue": "Interrupted by user",
     "output_type": "error",
     "traceback": [
      "\u001b[1;31m---------------------------------------------------------------------------\u001b[0m",
      "\u001b[1;31mKeyboardInterrupt\u001b[0m                         Traceback (most recent call last)",
      "\u001b[1;32m<ipython-input-2-48e5bef47002>\u001b[0m in \u001b[0;36m<module>\u001b[1;34m\u001b[0m\n\u001b[1;32m----> 1\u001b[1;33m \u001b[0mn\u001b[0m\u001b[1;33m,\u001b[0m \u001b[0mm\u001b[0m \u001b[1;33m=\u001b[0m \u001b[0mmap\u001b[0m\u001b[1;33m(\u001b[0m\u001b[0mint\u001b[0m\u001b[1;33m,\u001b[0m \u001b[0minput\u001b[0m\u001b[1;33m(\u001b[0m\u001b[1;33m)\u001b[0m\u001b[1;33m.\u001b[0m\u001b[0msplit\u001b[0m\u001b[1;33m(\u001b[0m\u001b[1;33m)\u001b[0m\u001b[1;33m)\u001b[0m\u001b[1;33m\u001b[0m\u001b[1;33m\u001b[0m\u001b[0m\n\u001b[0m\u001b[0;32m      2\u001b[0m \u001b[0mboard\u001b[0m \u001b[1;33m=\u001b[0m \u001b[1;33m[\u001b[0m\u001b[0mlist\u001b[0m\u001b[1;33m(\u001b[0m\u001b[0mmap\u001b[0m\u001b[1;33m(\u001b[0m\u001b[0mint\u001b[0m\u001b[1;33m,\u001b[0m \u001b[0minput\u001b[0m\u001b[1;33m(\u001b[0m\u001b[1;33m)\u001b[0m\u001b[1;33m.\u001b[0m\u001b[0msplit\u001b[0m\u001b[1;33m(\u001b[0m\u001b[1;33m)\u001b[0m\u001b[1;33m)\u001b[0m\u001b[1;33m)\u001b[0m \u001b[1;32mfor\u001b[0m \u001b[0m_\u001b[0m \u001b[1;32min\u001b[0m \u001b[0mrange\u001b[0m\u001b[1;33m(\u001b[0m\u001b[0mn\u001b[0m\u001b[1;33m)\u001b[0m\u001b[1;33m]\u001b[0m\u001b[1;33m\u001b[0m\u001b[1;33m\u001b[0m\u001b[0m\n\u001b[0;32m      3\u001b[0m tetromino = [\n\u001b[0;32m      4\u001b[0m     \u001b[1;33m[\u001b[0m\u001b[1;33m(\u001b[0m\u001b[1;36m0\u001b[0m\u001b[1;33m,\u001b[0m\u001b[1;36m0\u001b[0m\u001b[1;33m)\u001b[0m\u001b[1;33m,\u001b[0m \u001b[1;33m(\u001b[0m\u001b[1;36m0\u001b[0m\u001b[1;33m,\u001b[0m\u001b[1;36m1\u001b[0m\u001b[1;33m)\u001b[0m\u001b[1;33m,\u001b[0m \u001b[1;33m(\u001b[0m\u001b[1;36m1\u001b[0m\u001b[1;33m,\u001b[0m\u001b[1;36m0\u001b[0m\u001b[1;33m)\u001b[0m\u001b[1;33m,\u001b[0m \u001b[1;33m(\u001b[0m\u001b[1;36m1\u001b[0m\u001b[1;33m,\u001b[0m\u001b[1;36m1\u001b[0m\u001b[1;33m)\u001b[0m\u001b[1;33m]\u001b[0m\u001b[1;33m,\u001b[0m \u001b[1;31m# ㅁ\u001b[0m\u001b[1;33m\u001b[0m\u001b[1;33m\u001b[0m\u001b[0m\n\u001b[0;32m      5\u001b[0m     \u001b[1;33m[\u001b[0m\u001b[1;33m(\u001b[0m\u001b[1;36m0\u001b[0m\u001b[1;33m,\u001b[0m\u001b[1;36m0\u001b[0m\u001b[1;33m)\u001b[0m\u001b[1;33m,\u001b[0m \u001b[1;33m(\u001b[0m\u001b[1;36m0\u001b[0m\u001b[1;33m,\u001b[0m\u001b[1;36m1\u001b[0m\u001b[1;33m)\u001b[0m\u001b[1;33m,\u001b[0m \u001b[1;33m(\u001b[0m\u001b[1;36m0\u001b[0m\u001b[1;33m,\u001b[0m\u001b[1;36m2\u001b[0m\u001b[1;33m)\u001b[0m\u001b[1;33m,\u001b[0m \u001b[1;33m(\u001b[0m\u001b[1;36m0\u001b[0m\u001b[1;33m,\u001b[0m\u001b[1;36m3\u001b[0m\u001b[1;33m)\u001b[0m\u001b[1;33m]\u001b[0m\u001b[1;33m,\u001b[0m \u001b[1;31m# ㅡ\u001b[0m\u001b[1;33m\u001b[0m\u001b[1;33m\u001b[0m\u001b[0m\n",
      "\u001b[1;32mC:\\ProgramData\\Anaconda3\\lib\\site-packages\\ipykernel\\kernelbase.py\u001b[0m in \u001b[0;36mraw_input\u001b[1;34m(self, prompt)\u001b[0m\n\u001b[0;32m    858\u001b[0m                 \u001b[1;34m\"raw_input was called, but this frontend does not support input requests.\"\u001b[0m\u001b[1;33m\u001b[0m\u001b[1;33m\u001b[0m\u001b[0m\n\u001b[0;32m    859\u001b[0m             )\n\u001b[1;32m--> 860\u001b[1;33m         return self._input_request(str(prompt),\n\u001b[0m\u001b[0;32m    861\u001b[0m             \u001b[0mself\u001b[0m\u001b[1;33m.\u001b[0m\u001b[0m_parent_ident\u001b[0m\u001b[1;33m,\u001b[0m\u001b[1;33m\u001b[0m\u001b[1;33m\u001b[0m\u001b[0m\n\u001b[0;32m    862\u001b[0m             \u001b[0mself\u001b[0m\u001b[1;33m.\u001b[0m\u001b[0m_parent_header\u001b[0m\u001b[1;33m,\u001b[0m\u001b[1;33m\u001b[0m\u001b[1;33m\u001b[0m\u001b[0m\n",
      "\u001b[1;32mC:\\ProgramData\\Anaconda3\\lib\\site-packages\\ipykernel\\kernelbase.py\u001b[0m in \u001b[0;36m_input_request\u001b[1;34m(self, prompt, ident, parent, password)\u001b[0m\n\u001b[0;32m    902\u001b[0m             \u001b[1;32mexcept\u001b[0m \u001b[0mKeyboardInterrupt\u001b[0m\u001b[1;33m:\u001b[0m\u001b[1;33m\u001b[0m\u001b[1;33m\u001b[0m\u001b[0m\n\u001b[0;32m    903\u001b[0m                 \u001b[1;31m# re-raise KeyboardInterrupt, to truncate traceback\u001b[0m\u001b[1;33m\u001b[0m\u001b[1;33m\u001b[0m\u001b[1;33m\u001b[0m\u001b[0m\n\u001b[1;32m--> 904\u001b[1;33m                 \u001b[1;32mraise\u001b[0m \u001b[0mKeyboardInterrupt\u001b[0m\u001b[1;33m(\u001b[0m\u001b[1;34m\"Interrupted by user\"\u001b[0m\u001b[1;33m)\u001b[0m \u001b[1;32mfrom\u001b[0m \u001b[1;32mNone\u001b[0m\u001b[1;33m\u001b[0m\u001b[1;33m\u001b[0m\u001b[0m\n\u001b[0m\u001b[0;32m    905\u001b[0m             \u001b[1;32mexcept\u001b[0m \u001b[0mException\u001b[0m \u001b[1;32mas\u001b[0m \u001b[0me\u001b[0m\u001b[1;33m:\u001b[0m\u001b[1;33m\u001b[0m\u001b[1;33m\u001b[0m\u001b[0m\n\u001b[0;32m    906\u001b[0m                 \u001b[0mself\u001b[0m\u001b[1;33m.\u001b[0m\u001b[0mlog\u001b[0m\u001b[1;33m.\u001b[0m\u001b[0mwarning\u001b[0m\u001b[1;33m(\u001b[0m\u001b[1;34m\"Invalid Message:\"\u001b[0m\u001b[1;33m,\u001b[0m \u001b[0mexc_info\u001b[0m\u001b[1;33m=\u001b[0m\u001b[1;32mTrue\u001b[0m\u001b[1;33m)\u001b[0m\u001b[1;33m\u001b[0m\u001b[1;33m\u001b[0m\u001b[0m\n",
      "\u001b[1;31mKeyboardInterrupt\u001b[0m: Interrupted by user"
     ]
    }
   ],
   "source": [
    "n, m = map(int, input().split())\n",
    "board = [list(map(int, input().split())) for _ in range(n)]\n",
    "tetromino = [\n",
    "    [(0,0), (0,1), (1,0), (1,1)], # ㅁ\n",
    "    [(0,0), (0,1), (0,2), (0,3)], # ㅡ\n",
    "    [(0,0), (1,0), (2,0), (3,0)], # ㅣ\n",
    "    [(0,0), (0,1), (0,2), (1,0)], \n",
    "    [(1,0), (1,1), (1,2), (0,2)],\n",
    "    [(0,0), (1,0), (1,1), (1,2)], # ㄴ\n",
    "    [(0,0), (0,1), (0,2), (1,2)], # ㄱ\n",
    "    [(0,0), (1,0), (2,0), (2,1)],\n",
    "    [(2,0), (2,1), (1,1), (0,1)],\n",
    "    [(0,0), (0,1), (1,0), (2,0)], \n",
    "    [(0,0), (0,1), (1,1), (2,1)],\n",
    "    [(0,0), (0,1), (0,2), (1,1)], # ㅜ\n",
    "    [(1,0), (1,1), (1,2), (0,1)], # ㅗ\n",
    "    [(0,0), (1,0), (2,0), (1,1)], # ㅏ\n",
    "    [(1,0), (0,1), (1,1), (2,1)], # ㅓ\n",
    "    [(1,0), (2,0), (0,1), (1,1)], # ㄹ\n",
    "    [(0,0), (1,0), (1,1), (2,1)],\n",
    "    [(1,0), (0,1), (1,1), (0,2)],\n",
    "    [(0,0), (0,1), (1,1), (1,2)]\n",
    "]\n",
    "\n",
    "\n",
    "def find(x, y):\n",
    "    global answer\n",
    "    for i in range(19):\n",
    "        result = 0\n",
    "        for j in range(4):\n",
    "            try:\n",
    "                next_x = x+tetromino[i][j][0] # x 좌표\n",
    "                next_y = y+tetromino[i][j][1] # y 좌표\n",
    "                result += board[next_x][next_y]\n",
    "            except IndexError:\n",
    "                continue\n",
    "        answer = max(answer, result)\n",
    "        \n",
    "def solve():\n",
    "    for i in range (n):\n",
    "        for j in range(m):\n",
    "            find(i, j)\n",
    "            \n",
    "answer = 0\n",
    "solve()\n",
    "print(answer)\n"
   ]
  },
  {
   "cell_type": "code",
   "execution_count": null,
   "id": "c607a400",
   "metadata": {},
   "outputs": [],
   "source": [
    "n,m=map(int, input().split())\n",
    "maps=[]\n",
    "for i in range(n):\n",
    "    maps.append(list(map(int, input().split())))\n",
    "\n",
    "tet=[[[0,0],[0,1],[0,2],[0,3]], #-\n",
    "    [[0,0],[1,0],[2,0],[3,0]], #ㅣ\n",
    "    [[0,0],[0,1],[1,0],[1,1]], #ㅁ\n",
    "    [[0,0],[0,1],[0,2],[1,0]], #ㄱ\n",
    "    [[0,0],[0,1],[0,2],[1,2]],\n",
    "    [[0,0],[1,0],[1,1],[1,2]],\n",
    "    [[0,2],[1,2],[1,1],[1,0]],\n",
    "    [[0,1],[0,0],[1,0],[2,0]],\n",
    "    [[0,0],[0,1],[1,1],[2,1]],\n",
    "    [[0,0],[1,0],[2,0],[2,1]],\n",
    "    [[0,1],[1,1],[2,1],[2,0]],\n",
    "    [[0,0],[0,1],[0,2],[1,1]], #ㅜ\n",
    "    [[0,1],[1,0],[1,1],[1,2]],\n",
    "    [[0,0],[1,0],[1,1],[2,0]],\n",
    "    [[1,0],[0,1],[1,1],[2,1]],\n",
    "    [[0,1],[1,1],[1,0],[2,0]],\n",
    "    [[0,0],[1,0],[1,1],[2,1]],\n",
    "    [[0,1],[0,2],[1,1],[1,0]],\n",
    "    [[0,0],[0,1],[1,1],[1,2]]]\n",
    "\n",
    "result=0\n",
    "for i in range(n):\n",
    "    for j in range(m):\n",
    "        for k in tet:\n",
    "            try:\n",
    "                a=maps[i+k[0][0]][j+k[0][1]]\n",
    "                b=maps[i+k[1][0]][j+k[1][1]]\n",
    "                c=maps[i+k[2][0]][j+k[2][1]]\n",
    "                d=maps[i+k[3][0]][j+k[3][1]]\n",
    "                temp=a+b+c+d\n",
    "            except:\n",
    "                temp=0\n",
    "            result=m"
   ]
  }
 ],
 "metadata": {
  "kernelspec": {
   "display_name": "Python 3",
   "language": "python",
   "name": "python3"
  },
  "language_info": {
   "codemirror_mode": {
    "name": "ipython",
    "version": 3
   },
   "file_extension": ".py",
   "mimetype": "text/x-python",
   "name": "python",
   "nbconvert_exporter": "python",
   "pygments_lexer": "ipython3",
   "version": "3.8.10"
  }
 },
 "nbformat": 4,
 "nbformat_minor": 5
}
