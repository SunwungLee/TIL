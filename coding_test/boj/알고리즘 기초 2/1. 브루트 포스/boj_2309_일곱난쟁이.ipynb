{
 "cells": [
  {
   "cell_type": "code",
   "execution_count": 1,
   "id": "1206d14b",
   "metadata": {},
   "outputs": [],
   "source": [
    "#\n",
    "# 난쟁이의 키의 합이 100\n",
    "# 7명 난쟁이를 찾아라\n",
    "# \n",
    "# 9개 줄에 걸쳐 난쟁이들의 키가주어진다. \n",
    "# 각자의 키는 모두 다름\n",
    "# 일곱난쟁이를 찾을 수 없는 경우는 없다.\n",
    "#"
   ]
  },
  {
   "cell_type": "code",
   "execution_count": 21,
   "id": "9d21e26a",
   "metadata": {},
   "outputs": [
    {
     "name": "stdout",
     "output_type": "stream",
     "text": [
      "1\n",
      "1\n",
      "1\n",
      "1\n",
      "1\n",
      "1\n",
      "1\n",
      "1\n",
      "1\n",
      "1\n",
      "1\n",
      "1\n",
      "1\n",
      "1\n",
      "1\n",
      "1\n",
      "1\n",
      "1\n"
     ]
    }
   ],
   "source": [
    "from itertools import combinations\n",
    "short = []\n",
    "for _ in range(9):\n",
    "    short.append(int(input()))\n",
    "\n",
    "# 난쟁이 array 완성\n",
    "diff = sum(short)-100\n",
    "for i in combinations(short, 2):\n",
    "    if sum(i) == diff:\n",
    "        short.remove(i[0])\n",
    "        short.remove(i[1])\n",
    "        break\n",
    "for j in sorted(short):\n",
    "    print(j)"
   ]
  },
  {
   "cell_type": "code",
   "execution_count": 20,
   "id": "829d6d28",
   "metadata": {},
   "outputs": [
    {
     "name": "stdout",
     "output_type": "stream",
     "text": [
      "[7, 10, 8, 13]\n"
     ]
    }
   ],
   "source": [
    "del short[1]\n",
    "print(short)"
   ]
  },
  {
   "cell_type": "code",
   "execution_count": 5,
   "id": "ab98bcbc",
   "metadata": {},
   "outputs": [
    {
     "data": {
      "text/plain": [
       "[20, 7, 23, 19, 10]"
      ]
     },
     "execution_count": 5,
     "metadata": {},
     "output_type": "execute_result"
    }
   ],
   "source": [
    "short"
   ]
  },
  {
   "cell_type": "code",
   "execution_count": null,
   "id": "4fcbc46a",
   "metadata": {},
   "outputs": [],
   "source": []
  }
 ],
 "metadata": {
  "kernelspec": {
   "display_name": "Python 3",
   "language": "python",
   "name": "python3"
  },
  "language_info": {
   "codemirror_mode": {
    "name": "ipython",
    "version": 3
   },
   "file_extension": ".py",
   "mimetype": "text/x-python",
   "name": "python",
   "nbconvert_exporter": "python",
   "pygments_lexer": "ipython3",
   "version": "3.8.10"
  }
 },
 "nbformat": 4,
 "nbformat_minor": 5
}
