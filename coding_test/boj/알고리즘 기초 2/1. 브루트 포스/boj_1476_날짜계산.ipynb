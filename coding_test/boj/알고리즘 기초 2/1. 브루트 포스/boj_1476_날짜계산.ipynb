{
 "cells": [
  {
   "cell_type": "code",
   "execution_count": 1,
   "id": "a110efff",
   "metadata": {},
   "outputs": [],
   "source": [
    "#\n",
    "# 3개 수를 사용해서 연도를 나타냄\n",
    "# E<=15, S<=28, M<=19\n",
    "#\n",
    "# 최소 공배수를 구하는 느낌?\n",
    "# 15의 배수, 28의 배수, 19의 배수\n"
   ]
  },
  {
   "cell_type": "code",
   "execution_count": 7,
   "id": "1e642a5e",
   "metadata": {},
   "outputs": [
    {
     "name": "stdout",
     "output_type": "stream",
     "text": [
      "15 28 19\n",
      "7980\n"
     ]
    }
   ],
   "source": [
    "e, s, m = map(int, input().split())\n",
    "\n",
    "for n in range(1, 7981):\n",
    "    y_e = n%15\n",
    "    if y_e==0:\n",
    "        y_e = 15\n",
    "    y_s = n%28\n",
    "    if y_s==0:\n",
    "        y_s = 28\n",
    "    y_m = n%19\n",
    "    if y_m==0:\n",
    "        y_m = 19\n",
    "    if (y_e == e) and (y_s == s) and (y_m == m):\n",
    "        print(n)"
   ]
  },
  {
   "cell_type": "code",
   "execution_count": null,
   "id": "de9850ed",
   "metadata": {},
   "outputs": [],
   "source": []
  }
 ],
 "metadata": {
  "kernelspec": {
   "display_name": "Python 3",
   "language": "python",
   "name": "python3"
  },
  "language_info": {
   "codemirror_mode": {
    "name": "ipython",
    "version": 3
   },
   "file_extension": ".py",
   "mimetype": "text/x-python",
   "name": "python",
   "nbconvert_exporter": "python",
   "pygments_lexer": "ipython3",
   "version": "3.8.10"
  }
 },
 "nbformat": 4,
 "nbformat_minor": 5
}
