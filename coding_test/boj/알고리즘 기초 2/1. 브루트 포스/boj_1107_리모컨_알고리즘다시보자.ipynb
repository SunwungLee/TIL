{
 "cells": [
  {
   "cell_type": "code",
   "execution_count": 1,
   "id": "31f9c76e",
   "metadata": {},
   "outputs": [],
   "source": [
    "#\n",
    "# 리모컨 일부 숫자 버튼 고장\n",
    "# 0 ~ 9, +, -\n",
    "# 어떤 버튼이 고장났을때 채널 N으로 이동하기 위해 버튼을 몇번 눌러야 되는지 \n",
    "# 프로그램 작성\n",
    "#\n",
    "# 현재 수빈이가 보는 채널은 100번\n",
    "#"
   ]
  },
  {
   "cell_type": "code",
   "execution_count": 7,
   "id": "5d41c628",
   "metadata": {},
   "outputs": [
    {
     "name": "stdout",
     "output_type": "stream",
     "text": [
      "5457\n",
      "0\n",
      "1 2 3 4\n",
      "4\n"
     ]
    }
   ],
   "source": [
    "target = int(input())\n",
    "broken_cases = int(input())\n",
    "buttons = list(map(int, input().split()))\n",
    "\n",
    "init = 100\n",
    "cnt = 0\n",
    "best_case = 0\n",
    "if target == init: # 시작점이 target이라면\n",
    "    print(cnt)\n",
    "elif broken_cases == 0: # 고장난 것이 없으면\n",
    "    if (target-init) > len(str(target)):\n",
    "        cnt = len(str(target))\n",
    "        print(cnt)\n",
    "else: # 고장난 버튼이 있으면\n",
    "    "
   ]
  },
  {
   "cell_type": "code",
   "execution_count": 8,
   "id": "86e01456",
   "metadata": {},
   "outputs": [
    {
     "name": "stdout",
     "output_type": "stream",
     "text": [
      "5457\n",
      "4\n",
      "1 2 3 4\n",
      "47\n"
     ]
    }
   ],
   "source": [
    "target = int(input())\n",
    "M = int(input())\n",
    "numberList = {str(i) for i in range(10)} # 입력 불가능한 번호들을 제거해주기 위해 리스트가 아닌 set로 선언\n",
    "\n",
    "if M != 0:\n",
    "    numberList -= set(map(str, input().split())) # 입력 불가능한 숫자들 제외\n",
    "\n",
    "start = 100\n",
    "count = abs(start - target) # 모든 숫자가 입력이 불가능할 경우(+, - 로만 이동하는 경우)가 입력 횟수 최대의 경우 이므로\n",
    "                            # 입력 횟수를 저장하는 변수를 최대의 경우로 선언\n",
    "\n",
    "for i in range(1000000): # 고장날 버튼과 희망채널의 관계를 고려하여 최악의 경우 100만까지 순회해야하므로 범위를 100만까지 지정\n",
    "    for j in range(len(str(i))): # 현재 순회중인 채널의 각 자릿수를 조회\n",
    "        if str(i)[j] not in numberList: # 현재 자릿수의 숫자가 입력 불가능한 숫자이면 다시 순회하러 감\n",
    "            break\n",
    "        elif j == len(str(i)) - 1: # 모든 자릿수가 입력 가능한 숫자이면\n",
    "            count = min(count, abs(i - target) + len(str(i))) # 이전에 구한 입력 횟수보다 적다면 최소 입력횟수를 변경\n",
    "\n",
    "print(count)"
   ]
  },
  {
   "cell_type": "code",
   "execution_count": null,
   "id": "a4d99b28",
   "metadata": {},
   "outputs": [],
   "source": []
  }
 ],
 "metadata": {
  "kernelspec": {
   "display_name": "Python 3",
   "language": "python",
   "name": "python3"
  },
  "language_info": {
   "codemirror_mode": {
    "name": "ipython",
    "version": 3
   },
   "file_extension": ".py",
   "mimetype": "text/x-python",
   "name": "python",
   "nbconvert_exporter": "python",
   "pygments_lexer": "ipython3",
   "version": "3.8.10"
  }
 },
 "nbformat": 4,
 "nbformat_minor": 5
}
