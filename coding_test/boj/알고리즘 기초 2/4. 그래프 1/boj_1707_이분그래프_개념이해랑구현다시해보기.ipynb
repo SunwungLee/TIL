{
 "cells": [
  {
   "cell_type": "code",
   "execution_count": 1,
   "metadata": {},
   "outputs": [],
   "source": [
    "#\n",
    "# 정점의 집합을 둘로 분할, 각 집합에 속한 정점끼리는 서로 인접하지 않도록 분할\n",
    "# 이를 이분 그래프(Bipartite Graph)\n",
    "# 이 그래프가 이분 그래프인지 아닌지 판별\n",
    "#\n",
    "# 첫줄에 테스트 케이스 개수\n",
    "# 케이스 첫줄에 정점개수 v, 간선 개수 e\n",
    "# "
   ]
  },
  {
   "cell_type": "code",
   "execution_count": 29,
   "metadata": {},
   "outputs": [
    {
     "name": "stdout",
     "output_type": "stream",
     "text": [
      "2\n",
      "3 2\n",
      "1 3\n",
      "2 3\n",
      "YES\n",
      "4 4\n",
      "1 2\n",
      "2 3\n",
      "3 4\n",
      "4 2\n",
      "YES\n"
     ]
    }
   ],
   "source": [
    "from collections import deque\n",
    "\n",
    "cases = int(input())    \n",
    "\n",
    "def bfs(start, bi):\n",
    "    check = deque()\n",
    "    check.append(start)\n",
    "    bi[start] = 1\n",
    "    while check:\n",
    "        cur_v = check.popleft()\n",
    "        #print(cur_v)\n",
    "        visited[cur_v] = cc_cnt\n",
    "        \n",
    "        for i in graph[cur_v]:\n",
    "            if visited[i]==0 and i not in check:\n",
    "                if bi[i] == 0:\n",
    "                    check.append(i)\n",
    "                    bi[i] = -bi[cur_v]\n",
    "                else:\n",
    "                    if bi[i] == bi[cur_v]:\n",
    "                        return False\n",
    "\n",
    "\n",
    "for _ in range(cases):\n",
    "    v, e = map(int, input().split())\n",
    "    graph = [[] for i in range(v+1)]\n",
    "    visited = [False]*(v+1)\n",
    "    bi = [0 for i in range(v + 1)]\n",
    "    \n",
    "    # graph 생성\n",
    "    for i in range(1, e+1):\n",
    "        a, b = map(int, input().split())\n",
    "        graph[a].append(b)\n",
    "        graph[b].append(a)\n",
    "    \n",
    "    # bfs 진행\n",
    "    if not bfs(1, bi):\n",
    "        print(\"YES\")\n",
    "    else:\n",
    "        print('NO')\n",
    "    \n",
    "#     if cc_cnt != 1:\n",
    "#         print(cc_cnt)\n",
    "#         print('YES')\n",
    "#     else:\n",
    "#         print('NO')"
   ]
  },
  {
   "cell_type": "code",
   "execution_count": 27,
   "metadata": {},
   "outputs": [
    {
     "data": {
      "text/plain": [
       "[False, 1, 1, -1]"
      ]
     },
     "execution_count": 27,
     "metadata": {},
     "output_type": "execute_result"
    }
   ],
   "source": [
    "visited"
   ]
  },
  {
   "cell_type": "code",
   "execution_count": 16,
   "metadata": {},
   "outputs": [
    {
     "data": {
      "text/plain": [
       "[[], [3], [3], [1, 2]]"
      ]
     },
     "execution_count": 16,
     "metadata": {},
     "output_type": "execute_result"
    }
   ],
   "source": [
    "graph"
   ]
  },
  {
   "cell_type": "code",
   "execution_count": 17,
   "metadata": {},
   "outputs": [
    {
     "name": "stdout",
     "output_type": "stream",
     "text": [
      "1\n",
      "3\n",
      "2\n"
     ]
    }
   ],
   "source": [
    "bfs(1)"
   ]
  },
  {
   "cell_type": "code",
   "execution_count": null,
   "metadata": {},
   "outputs": [],
   "source": []
  }
 ],
 "metadata": {
  "kernelspec": {
   "display_name": "Python 3",
   "language": "python",
   "name": "python3"
  },
  "language_info": {
   "codemirror_mode": {
    "name": "ipython",
    "version": 3
   },
   "file_extension": ".py",
   "mimetype": "text/x-python",
   "name": "python",
   "nbconvert_exporter": "python",
   "pygments_lexer": "ipython3",
   "version": "3.8.5"
  }
 },
 "nbformat": 4,
 "nbformat_minor": 4
}
