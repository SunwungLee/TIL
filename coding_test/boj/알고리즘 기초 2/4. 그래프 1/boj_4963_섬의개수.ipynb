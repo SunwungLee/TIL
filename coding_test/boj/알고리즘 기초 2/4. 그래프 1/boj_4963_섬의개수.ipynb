{
 "cells": [
  {
   "cell_type": "code",
   "execution_count": null,
   "metadata": {},
   "outputs": [],
   "source": [
    "#\n",
    "# 아파트 단지 세는 문제와 비슷함\n",
    "# 먼저 map 만들고\n",
    "# dfs 활용하면 될듯\n",
    "# 여기서 상하좌우 방향벡터 사용해야됨 (cuz, 주변에 땅인지 바다인지 알아야함)\n",
    "#"
   ]
  }
 ],
 "metadata": {
  "kernelspec": {
   "display_name": "Python 3",
   "language": "python",
   "name": "python3"
  },
  "language_info": {
   "codemirror_mode": {
    "name": "ipython",
    "version": 3
   },
   "file_extension": ".py",
   "mimetype": "text/x-python",
   "name": "python",
   "nbconvert_exporter": "python",
   "pygments_lexer": "ipython3",
   "version": "3.8.5"
  }
 },
 "nbformat": 4,
 "nbformat_minor": 4
}
