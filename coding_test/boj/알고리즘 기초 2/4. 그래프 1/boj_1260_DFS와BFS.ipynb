{
 "cells": [
  {
   "cell_type": "code",
   "execution_count": null,
   "metadata": {},
   "outputs": [],
   "source": [
    "#\n",
    "# 각 탐색방식으로 얻은 결과값을 출력하세요 \n",
    "#\n",
    "# 첫줄에 정점의 개수, 간선의 개수\n",
    "# 정점의 번호 v가 주어짐\n",
    "# 간선은 양방향이다\n",
    "# \n",
    "# 첫줄에 DFS, 다음줄에 BFS\n",
    "#"
   ]
  },
  {
   "cell_type": "code",
   "execution_count": 1,
   "metadata": {},
   "outputs": [
    {
     "name": "stdout",
     "output_type": "stream",
     "text": [
      "4 5 1\n",
      "1 2\n",
      "1 3\n",
      "1 4\n",
      "2 4\n",
      "3 4\n",
      "1 2 4 3 \n"
     ]
    },
    {
     "ename": "NameError",
     "evalue": "name 'check' is not defined",
     "output_type": "error",
     "traceback": [
      "\u001b[1;31m---------------------------------------------------------------------------\u001b[0m",
      "\u001b[1;31mNameError\u001b[0m                                 Traceback (most recent call last)",
      "\u001b[1;32m<ipython-input-1-cf20d4c6be51>\u001b[0m in \u001b[0;36m<module>\u001b[1;34m\u001b[0m\n\u001b[0;32m     37\u001b[0m \u001b[0mvisited\u001b[0m \u001b[1;33m=\u001b[0m \u001b[1;33m[\u001b[0m\u001b[1;32mFalse\u001b[0m\u001b[1;33m]\u001b[0m\u001b[1;33m*\u001b[0m\u001b[1;33m(\u001b[0m\u001b[0mn\u001b[0m\u001b[1;33m+\u001b[0m\u001b[1;36m1\u001b[0m\u001b[1;33m)\u001b[0m\u001b[1;33m\u001b[0m\u001b[1;33m\u001b[0m\u001b[0m\n\u001b[0;32m     38\u001b[0m \u001b[0mprint\u001b[0m\u001b[1;33m(\u001b[0m\u001b[1;33m)\u001b[0m\u001b[1;33m\u001b[0m\u001b[1;33m\u001b[0m\u001b[0m\n\u001b[1;32m---> 39\u001b[1;33m \u001b[0mbfs\u001b[0m\u001b[1;33m(\u001b[0m\u001b[0mstart\u001b[0m\u001b[1;33m)\u001b[0m\u001b[1;33m\u001b[0m\u001b[1;33m\u001b[0m\u001b[0m\n\u001b[0m",
      "\u001b[1;32m<ipython-input-1-cf20d4c6be51>\u001b[0m in \u001b[0;36mbfs\u001b[1;34m(start_vertex)\u001b[0m\n\u001b[0;32m     10\u001b[0m \u001b[1;32mdef\u001b[0m \u001b[0mbfs\u001b[0m\u001b[1;33m(\u001b[0m\u001b[0mstart_vertex\u001b[0m\u001b[1;33m)\u001b[0m\u001b[1;33m:\u001b[0m\u001b[1;33m\u001b[0m\u001b[1;33m\u001b[0m\u001b[0m\n\u001b[0;32m     11\u001b[0m     \u001b[0mvisited\u001b[0m\u001b[1;33m[\u001b[0m\u001b[0mstart_vertex\u001b[0m\u001b[1;33m]\u001b[0m \u001b[1;33m=\u001b[0m \u001b[1;32mTrue\u001b[0m\u001b[1;33m\u001b[0m\u001b[1;33m\u001b[0m\u001b[0m\n\u001b[1;32m---> 12\u001b[1;33m     \u001b[0mcheck\u001b[0m\u001b[1;33m.\u001b[0m\u001b[0mappend\u001b[0m\u001b[1;33m(\u001b[0m\u001b[0mstart_vertex\u001b[0m\u001b[1;33m)\u001b[0m\u001b[1;33m\u001b[0m\u001b[1;33m\u001b[0m\u001b[0m\n\u001b[0m\u001b[0;32m     13\u001b[0m     \u001b[1;32mwhile\u001b[0m \u001b[0mcheck\u001b[0m\u001b[1;33m:\u001b[0m\u001b[1;33m\u001b[0m\u001b[1;33m\u001b[0m\u001b[0m\n\u001b[0;32m     14\u001b[0m         \u001b[0mnext_v\u001b[0m \u001b[1;33m=\u001b[0m \u001b[0mcheck\u001b[0m\u001b[1;33m.\u001b[0m\u001b[0mpopleft\u001b[0m\u001b[1;33m(\u001b[0m\u001b[1;33m)\u001b[0m\u001b[1;33m\u001b[0m\u001b[1;33m\u001b[0m\u001b[0m\n",
      "\u001b[1;31mNameError\u001b[0m: name 'check' is not defined"
     ]
    }
   ],
   "source": [
    "from collections import deque\n",
    "# start\n",
    "def dfs(start_vertex):\n",
    "    print(start_vertex, end=' ')\n",
    "    visited[start_vertex] = True\n",
    "    for i in graph[start_vertex]:\n",
    "        if not visited[i]:\n",
    "            dfs(i)\n",
    "\n",
    "def bfs(start_vertex):\n",
    "    check = deque()\n",
    "    visited[start_vertex] = True\n",
    "    check.append(start_vertex)\n",
    "    while check:\n",
    "        next_v = check.popleft()\n",
    "        visited[next_v] = True\n",
    "        print(next_v, end=' ')\n",
    "        for i in graph[next_v]:\n",
    "            if (i not in check) and (not visited[i]):\n",
    "                check.append(i)\n",
    "                \n",
    "n, m, start = map(int, input().split())\n",
    "graph = [[] for _ in range(n+1)]\n",
    "\n",
    "visited = [False] * (n+1) # vertex 입력 +1 만큼 만들기,\n",
    "                                # 0번 index사용안하므로\n",
    "\n",
    "# graph 생성\n",
    "for i in range(1, m+1):\n",
    "    v_a, v_b = map(int, input().split())\n",
    "    graph[v_a].append(v_b)\n",
    "    graph[v_b].append(v_a)\n",
    "\n",
    "for i in range(n+1):\n",
    "    graph[i] = sorted(graph[i])\n",
    "\n",
    "dfs(start)\n",
    "visited = [False]*(n+1)\n",
    "print()\n",
    "bfs(start)"
   ]
  },
  {
   "cell_type": "code",
   "execution_count": null,
   "metadata": {},
   "outputs": [],
   "source": [
    "visited = [False] * (n+1) # vertex 입력 +1 만큼 만들기,\n",
    "                                # 0번 index사용안하므로\n",
    "    # start\n",
    "def dfs(start_vertex):\n",
    "    print(start_vertex, end=' ')\n",
    "    visited[start_vertex] = True\n",
    "    for i in graph[start_vertex]:\n",
    "        if not visited[i]:\n",
    "            dfs(i)\n",
    "dfs(1)"
   ]
  },
  {
   "cell_type": "code",
   "execution_count": null,
   "metadata": {},
   "outputs": [],
   "source": [
    "visited = [False] * (n+1)\n",
    "check = deque()\n",
    "\n",
    "from collections import deque\n",
    "\n",
    "def bfs(start_vertex):\n",
    "    visited[start_vertex] = True\n",
    "    check.append(start_vertex)\n",
    "    while check:\n",
    "        next_v = check.popleft()\n",
    "        visited[next_v] = True\n",
    "        print(next_v, end='')\n",
    "        for i in graph[next_v]:\n",
    "            #print('i=', i)\n",
    "            if (i not in check) and (not visited[i]):\n",
    "                check.append(i)\n",
    "bfs(3)"
   ]
  },
  {
   "cell_type": "code",
   "execution_count": null,
   "metadata": {},
   "outputs": [],
   "source": [
    "from collections import deque\n",
    "check = deque()\n",
    "def bfs(start_vertex):\n",
    "    visited[start_vertex] = True\n",
    "    check.append(start_vertex)\n",
    "    while check:\n",
    "        next_vertex = check.popleft()\n",
    "        visited[next_vertex]=True\n",
    "        print(next_vertex, end='')\n",
    "        for i in graph[next_vertex]:\n",
    "            if i not in check and not visited[i]:\n",
    "                check.append(i)\n"
   ]
  },
  {
   "cell_type": "code",
   "execution_count": null,
   "metadata": {},
   "outputs": [],
   "source": [
    "visited = [False] * (n+1)# 0번 index 사용 안함\n",
    "\n",
    "def dfs(start_vertex):\n",
    "    print(start_vertex, end='')\n",
    "    visitied[start_vertex] = True\n",
    "    for i in graph[start_vertex]:\n",
    "        if not visited[i]:\n",
    "            dfs(i)"
   ]
  },
  {
   "cell_type": "code",
   "execution_count": null,
   "metadata": {},
   "outputs": [],
   "source": [
    "visited = [False] * (n+1) # vertex 입력 +1 만큼 만들기,\n",
    "                                # 0번 index사용안하므로\n",
    "    # start\n",
    "def dfs(start_vertex):\n",
    "    print(start_vertex, end=' ')\n",
    "    visited[start_vertex] = True\n",
    "    for i in graph[start_vertex]:\n",
    "        if not visited[i]:\n",
    "            dfs(i)\n",
    "dfs(1)"
   ]
  },
  {
   "cell_type": "code",
   "execution_count": null,
   "metadata": {},
   "outputs": [],
   "source": []
  }
 ],
 "metadata": {
  "kernelspec": {
   "display_name": "Python 3",
   "language": "python",
   "name": "python3"
  },
  "language_info": {
   "codemirror_mode": {
    "name": "ipython",
    "version": 3
   },
   "file_extension": ".py",
   "mimetype": "text/x-python",
   "name": "python",
   "nbconvert_exporter": "python",
   "pygments_lexer": "ipython3",
   "version": "3.8.5"
  }
 },
 "nbformat": 4,
 "nbformat_minor": 4
}
