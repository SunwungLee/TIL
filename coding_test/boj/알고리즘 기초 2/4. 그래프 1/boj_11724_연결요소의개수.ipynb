{
 "cells": [
  {
   "cell_type": "code",
   "execution_count": 2,
   "metadata": {},
   "outputs": [],
   "source": [
    "#\n",
    "# 방향없는 그래프가 주어졌을때 Connected component의 개수를 구하는 프로그램\n",
    "#\n",
    "# 첫줄에 정점의 개수 n과 간선 m\n",
    "# m개의 줄에 간선의 양끝점 u, v\n",
    "# 연결 요소의 개수?\n",
    "#"
   ]
  },
  {
   "cell_type": "code",
   "execution_count": 3,
   "metadata": {},
   "outputs": [],
   "source": [
    "# visited로 계산하면 될듯.\n",
    "# graph 작성해놓고\n",
    "#\n",
    "# 1번 vertex부터 시작해서 dfs or bfs진행\n",
    "# visited = True 대신 1로 사용\n",
    "# 반복\n",
    "    # dfs 끝난 뒤에 visitied에 남은거 있나 확인 \n",
    "    # -> 남은 거 다시 dfs or bfs 입력으로 넣음"
   ]
  },
  {
   "cell_type": "code",
   "execution_count": 23,
   "metadata": {},
   "outputs": [
    {
     "name": "stdout",
     "output_type": "stream",
     "text": [
      "6 8\n",
      "1 2\n",
      "2 5\n",
      "5 1\n",
      "3 4\n",
      "4 6\n",
      "5 4\n",
      "2 4\n",
      "2 3\n",
      "1\n"
     ]
    }
   ],
   "source": [
    "n, m = map(int, input().split())\n",
    "graph = [[] for i in range(n+1)] # 0번 index 안씀\n",
    "visited = [0]*(n+1) # 방문목적, False 대신 0 사용\n",
    "connected_component_cnt=1\n",
    "\n",
    "# graph 생성\n",
    "for _ in range(1, m+1):\n",
    "    a, b = map(int, input().split())\n",
    "    graph[a].append(b)\n",
    "    graph[b].append(a)\n",
    "# 오름차순 정렬    \n",
    "for i in range(n+1):\n",
    "    graph[i] = sorted(graph[i])\n",
    "    \n",
    "def dfs(start_vertex):\n",
    "    visited[start_vertex] = connected_component_cnt\n",
    "    for i in graph[start_vertex]:\n",
    "        if visited[i] == 0:\n",
    "            dfs(i)\n",
    "    \n",
    "idx = 1\n",
    "while True:\n",
    "    dfs(idx)\n",
    "    if 0 in visited[1:]:\n",
    "        idx = (visited[1:].index(0))+1\n",
    "        connected_component_cnt += 1\n",
    "    else:\n",
    "        break\n",
    "print(connected_component_cnt)"
   ]
  },
  {
   "cell_type": "code",
   "execution_count": 20,
   "metadata": {},
   "outputs": [
    {
     "name": "stdout",
     "output_type": "stream",
     "text": [
      "a\n"
     ]
    }
   ],
   "source": [
    "import sys\n",
    "sys.setrecursionlimit(10000)\n",
    "\n",
    "n, m = map(int, sys.stdin.readline().split())\n",
    "graph = [[] for i in range(n+1)] # 0번 index 안씀\n",
    "visited = [0]*(n+1) # 방문목적, False 대신 0 사용\n",
    "connected_component_cnt=1\n",
    "\n",
    "# graph 생성\n",
    "for _ in range(1, m+1):\n",
    "    a, b = map(int, sys.stdin.readline().split())\n",
    "    graph[a].append(b)\n",
    "    graph[b].append(a)\n",
    "# 오름차순 정렬    \n",
    "for i in range(n+1):\n",
    "    graph[i] = sorted(graph[i])\n",
    "    \n",
    "def dfs(start_vertex):\n",
    "    visited[start_vertex] = connected_component_cnt\n",
    "    for i in graph[start_vertex]:\n",
    "        if visited[i] == 0:\n",
    "            dfs(i)\n",
    "    \n",
    "idx = 1\n",
    "while True:\n",
    "    dfs(idx)\n",
    "    if 0 in visited[1:]:\n",
    "        idx = (visited[1:].index(0))+1\n",
    "        connected_component_cnt += 1\n",
    "    else:\n",
    "        break\n",
    "print(connected_component_cnt)"
   ]
  },
  {
   "cell_type": "code",
   "execution_count": 13,
   "metadata": {},
   "outputs": [
    {
     "ename": "ValueError",
     "evalue": "3 is not in list",
     "output_type": "error",
     "traceback": [
      "\u001b[1;31m---------------------------------------------------------------------------\u001b[0m",
      "\u001b[1;31mValueError\u001b[0m                                Traceback (most recent call last)",
      "\u001b[1;32m<ipython-input-13-a509894f0a44>\u001b[0m in \u001b[0;36m<module>\u001b[1;34m\u001b[0m\n\u001b[1;32m----> 1\u001b[1;33m \u001b[0mvisited\u001b[0m\u001b[1;33m[\u001b[0m\u001b[1;36m1\u001b[0m\u001b[1;33m:\u001b[0m\u001b[1;33m]\u001b[0m\u001b[1;33m.\u001b[0m\u001b[0mindex\u001b[0m\u001b[1;33m(\u001b[0m\u001b[1;36m3\u001b[0m\u001b[1;33m)\u001b[0m\u001b[1;33m\u001b[0m\u001b[1;33m\u001b[0m\u001b[0m\n\u001b[0m",
      "\u001b[1;31mValueError\u001b[0m: 3 is not in list"
     ]
    }
   ],
   "source": [
    "visited[1:].index(3)"
   ]
  },
  {
   "cell_type": "code",
   "execution_count": 26,
   "metadata": {},
   "outputs": [
    {
     "ename": "SyntaxError",
     "evalue": "invalid syntax (<ipython-input-26-796539ee41a8>, line 1)",
     "output_type": "error",
     "traceback": [
      "\u001b[1;36m  File \u001b[1;32m\"<ipython-input-26-796539ee41a8>\"\u001b[1;36m, line \u001b[1;32m1\u001b[0m\n\u001b[1;33m    sorted(graph[], reverse=True)\u001b[0m\n\u001b[1;37m                 ^\u001b[0m\n\u001b[1;31mSyntaxError\u001b[0m\u001b[1;31m:\u001b[0m invalid syntax\n"
     ]
    }
   ],
   "source": [
    "sorted(graph, reverse=True)"
   ]
  },
  {
   "cell_type": "code",
   "execution_count": null,
   "metadata": {},
   "outputs": [],
   "source": []
  }
 ],
 "metadata": {
  "kernelspec": {
   "display_name": "Python 3",
   "language": "python",
   "name": "python3"
  },
  "language_info": {
   "codemirror_mode": {
    "name": "ipython",
    "version": 3
   },
   "file_extension": ".py",
   "mimetype": "text/x-python",
   "name": "python",
   "nbconvert_exporter": "python",
   "pygments_lexer": "ipython3",
   "version": "3.8.5"
  }
 },
 "nbformat": 4,
 "nbformat_minor": 4
}
