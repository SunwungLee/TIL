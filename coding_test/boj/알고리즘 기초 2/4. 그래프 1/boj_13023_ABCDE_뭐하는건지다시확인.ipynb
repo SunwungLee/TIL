{
 "cells": [
  {
   "cell_type": "code",
   "execution_count": 1,
   "id": "25462983",
   "metadata": {},
   "outputs": [],
   "source": [
    "#\n",
    "# 깊이가 n-1인 관계를 증명하는 문제\n",
    "#"
   ]
  },
  {
   "cell_type": "code",
   "execution_count": 5,
   "id": "e5fbe5b8",
   "metadata": {},
   "outputs": [
    {
     "name": "stdout",
     "output_type": "stream",
     "text": [
      "5 4\n",
      "0 1\n",
      "1 2\n",
      "2 3\n",
      "3 4\n",
      "1\n",
      "1\n",
      "0\n"
     ]
    }
   ],
   "source": [
    "n, m = map(int, input().split())\n",
    "arr = [[] for _ in range(n)]\n",
    "visited = [False] * n\n",
    "\n",
    "# 그래프를 인접 리스트 방식으로 표현\n",
    "for _ in range(m):\n",
    "    a, b = map(int, input().split())\n",
    "    arr[a].append(b)\n",
    "    arr[b].append(a)\n",
    "    \n",
    "def dfs(idx, num):\n",
    "    if num == 4:\n",
    "        print(1)\n",
    "        return\n",
    "    else:\n",
    "        for i in arr[idx]:\n",
    "            if not visited[i]:\n",
    "                visited[i] = True\n",
    "                dfs(i, num+1)\n",
    "                visited[i] = False\n",
    "\n",
    "for i in range(n):\n",
    "    visited[i] = True\n",
    "    dfs(i, 0)\n",
    "    visited[i] = False\n",
    "\n",
    "print(0)"
   ]
  },
  {
   "cell_type": "code",
   "execution_count": null,
   "id": "81607b75",
   "metadata": {},
   "outputs": [],
   "source": []
  }
 ],
 "metadata": {
  "kernelspec": {
   "display_name": "Python 3",
   "language": "python",
   "name": "python3"
  },
  "language_info": {
   "codemirror_mode": {
    "name": "ipython",
    "version": 3
   },
   "file_extension": ".py",
   "mimetype": "text/x-python",
   "name": "python",
   "nbconvert_exporter": "python",
   "pygments_lexer": "ipython3",
   "version": "3.8.10"
  }
 },
 "nbformat": 4,
 "nbformat_minor": 5
}
