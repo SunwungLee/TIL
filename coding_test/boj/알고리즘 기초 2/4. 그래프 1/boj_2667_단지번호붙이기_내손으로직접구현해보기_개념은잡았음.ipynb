{
 "cells": [
  {
   "cell_type": "code",
   "execution_count": 1,
   "metadata": {},
   "outputs": [],
   "source": [
    "#\n",
    "# 정사각형 모양의 지도\n",
    "# 1은 집이 있는 곳.\n",
    "# 0은 집이 없는 곳\n",
    "# 단지의 번호를 붙이려한다.\n",
    "# \n",
    "# 대각선 상은 연결 X\n",
    "# 각 단지에 속하는 집의 수를 오름차순으로 정렬해서 출력하라\n",
    "#"
   ]
  },
  {
   "cell_type": "code",
   "execution_count": 3,
   "metadata": {},
   "outputs": [
    {
     "name": "stdout",
     "output_type": "stream",
     "text": [
      "7\n",
      "0110100\n",
      "0110101\n",
      "1110101\n",
      "0000111\n",
      "0100000\n",
      "0111110\n",
      "0111000\n",
      "3\n",
      "7\n",
      "8\n",
      "9\n"
     ]
    }
   ],
   "source": [
    "map_sz = int(input())\n",
    "# 데이터 저장용 공간\n",
    "matrix = [[0]*map_sz for _ in range(map_sz)]\n",
    "# 방문 내역 저장 공간\n",
    "visited = [[0]*map_sz for _ in range(map_sz)]\n",
    "\n",
    "# matrix에 아파트 유무 0과 1 저장\n",
    "for i in range(map_sz):\n",
    "    line = input()\n",
    "    for j, b in enumerate(line):\n",
    "        matrix[i][j] = int(b)\n",
    "\n",
    "# 방향벡터 정의\n",
    "# 좌/우/위/아래\n",
    "dx = [-1, 1, 0, 0]\n",
    "dy = [0, 0, 1, -1]\n",
    "\n",
    "# dfs 정의\n",
    "def dfs(x, y, c):\n",
    "    visited[x][y] = 1 # 방문 여부\n",
    "    global nums # 아파트 세기위한 변수\n",
    "    \n",
    "    if matrix[x][y] == 1:\n",
    "        matrix[x][y] = c # 아파트 단지별 숫자 표시\n",
    "        nums += 1\n",
    "        \n",
    "    # 해당 위치에서 좌/우/위/아래 좌표를 확인해서 dfs 적용\n",
    "    for i in range(4):\n",
    "        nx = x + dx[i]\n",
    "        ny = y + dy[i]\n",
    "        if 0<=nx<map_sz and 0<=ny<map_sz: # 이동점이 map 내부이면,\n",
    "            if visited[nx][ny] == 0 and matrix[nx][ny] == 1:\n",
    "                # 방문X, 아파트O\n",
    "                dfs(nx, ny, c)\n",
    "                \n",
    "cnt = 1 # 아파트 단지를 세자\n",
    "numlist = [] # 아파트 단지 별 숫자\n",
    "nums = 0 #  아파트 수\n",
    "\n",
    "# 검사 시작\n",
    "for a in range(map_sz):\n",
    "    for b in range(map_sz):\n",
    "        # 아파트가 있는 곳이면서, 방문하지 않았다면\n",
    "        if matrix[a][b] == 1 and visited[a][b] == 0:\n",
    "            dfs(a, b, cnt)\n",
    "            numlist.append(nums)\n",
    "            nums = 0\n",
    "            cnt += 1 # 아파트 단지별 표시용\n",
    "print(len(numlist))\n",
    "for n in sorted(numlist):\n",
    "    print(n)"
   ]
  },
  {
   "cell_type": "code",
   "execution_count": null,
   "metadata": {},
   "outputs": [],
   "source": [
    "# 데이터 저장용 공간\n",
    "matrix = [[0]*map_sz for _ in range(map_sz)]\n",
    "# 방문 내역 저장 공간\n",
    "visited = [[0]*map_sz for _ in range(map_sz)]\n",
    "\n",
    "# 방향벡터 정의\n",
    "# 좌/우/위/아래\n",
    "dx = [-1, 1, 0, 0]\n",
    "dy = [0, 0, 1, -1]\n",
    "\n",
    "# dfs 정의\n",
    "def dfs(x, y, c):\n",
    "    visited[x][y] = 1 # 방문 여부\n",
    "    global nums # 아파트 세기위한 변수\n",
    "    \n",
    "    if matrix[x][y] == 1:\n",
    "        matrix[x][y] = c # 아파트 단지별 숫자 표시\n",
    "        nums += 1\n",
    "        \n",
    "    # 해당 위치에서 좌/우/위/아래 좌표를 확인해서 dfs 적용\n",
    "    for i in range(4):\n",
    "        nx = x + dx[i]\n",
    "        ny = y + dy[i]\n",
    "        if 0<=nx<map_sz and 0<=ny<map_sz: # 이동점이 map 내부이면,\n",
    "            if visited[nx][ny] == 0 and matrix[nx][ny] == 1:\n",
    "                # 방문X, 아파트O\n",
    "                dfs(nx, ny, c)\n",
    "                \n",
    "cnt = 1 # 아파트 단지를 세자\n",
    "numlist = [] # 아파트 단지 별 숫자\n",
    "nums = 0 #  아파트 수\n",
    "\n",
    "# 검사 시작\n",
    "for a in range(map_sz):\n",
    "    for b in range(map_sz):\n",
    "        # 아파트가 있는 곳이면서, 방문하지 않았다면\n",
    "        if matrix[a][b] == 1 and visited[a][b] == 0:\n",
    "            dfs(a, b, cnt)\n",
    "            numlist.append(nums)\n",
    "            nums = 0\n",
    "            cnt += 1 # 아파트 단지별 표시용"
   ]
  },
  {
   "cell_type": "code",
   "execution_count": 29,
   "metadata": {},
   "outputs": [],
   "source": [
    "def dfs(x, y, c):\n",
    "    visited[x][y] = 1\n",
    "    global nums\n",
    "    if matrix[x][y] == 1:\n",
    "        matrix[x][y] = c\n",
    "        nums += 1\n",
    "    for i in range(4):\n",
    "        nx = x+dx[i]\n",
    "        ny = y+dy[i]\n",
    "        if 0<=nx<map_sz and 0<=ny<map_sz:\n",
    "            if visited[nx][ny]==0 and matrix[nx][ny] == 1:\n",
    "                dfs(nx, ny, c)\n",
    "nums = 0\n",
    "for a in range(map_sz):\n",
    "    for b in range(map_sz):\n",
    "        if matrix[a][b] == 1 and visited[a][b] == 0:\n",
    "            dfs(a,b,cnt)\n",
    "            numlist.append(nums)\n",
    "            nums = 0\n",
    "            cnt += 1"
   ]
  },
  {
   "cell_type": "code",
   "execution_count": 30,
   "metadata": {},
   "outputs": [
    {
     "data": {
      "text/plain": [
       "0"
      ]
     },
     "execution_count": 30,
     "metadata": {},
     "output_type": "execute_result"
    }
   ],
   "source": [
    "len(grid[5])"
   ]
  },
  {
   "cell_type": "code",
   "execution_count": null,
   "metadata": {},
   "outputs": [],
   "source": []
  },
  {
   "cell_type": "code",
   "execution_count": null,
   "metadata": {},
   "outputs": [],
   "source": []
  }
 ],
 "metadata": {
  "kernelspec": {
   "display_name": "Python 3",
   "language": "python",
   "name": "python3"
  },
  "language_info": {
   "codemirror_mode": {
    "name": "ipython",
    "version": 3
   },
   "file_extension": ".py",
   "mimetype": "text/x-python",
   "name": "python",
   "nbconvert_exporter": "python",
   "pygments_lexer": "ipython3",
   "version": "3.8.5"
  }
 },
 "nbformat": 4,
 "nbformat_minor": 4
}
