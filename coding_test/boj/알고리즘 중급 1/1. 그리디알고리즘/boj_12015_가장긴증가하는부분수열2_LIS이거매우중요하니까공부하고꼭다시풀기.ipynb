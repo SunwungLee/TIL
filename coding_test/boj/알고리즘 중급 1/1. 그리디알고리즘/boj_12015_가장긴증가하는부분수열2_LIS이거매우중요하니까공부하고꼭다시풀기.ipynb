{
 "cells": [
  {
   "cell_type": "code",
   "execution_count": 6,
   "metadata": {},
   "outputs": [
    {
     "name": "stdout",
     "output_type": "stream",
     "text": [
      "5\n",
      "20 10 10 10 30\n",
      "2\n"
     ]
    }
   ],
   "source": [
    "# 틀림\n",
    "n = int(input())\n",
    "arr_a = list(map(int, input().split()))\n",
    "\n",
    "arr_result = []\n",
    "idx = 0\n",
    "\n",
    "arr_result.append(arr_a[0])\n",
    "for i in arr_a:\n",
    "    if arr_result[idx] < i:\n",
    "        idx += 1\n",
    "        arr_result.append(i)\n",
    "print(len(arr_result))"
   ]
  },
  {
   "cell_type": "code",
   "execution_count": null,
   "metadata": {},
   "outputs": [],
   "source": [
    "# 최장 증가 부분 수열 (LIS : Longest Increasing Subsequence)문제\n",
    "# https://namu.wiki/w/%EC%B5%9C%EC%9E%A5%20%EC%A6%9D%EA%B0%80%20%EB%B6%80%EB%B6%84%20%EC%88%98%EC%97%B4#s-3.2"
   ]
  }
 ],
 "metadata": {
  "kernelspec": {
   "display_name": "Python 3",
   "language": "python",
   "name": "python3"
  },
  "language_info": {
   "codemirror_mode": {
    "name": "ipython",
    "version": 3
   },
   "file_extension": ".py",
   "mimetype": "text/x-python",
   "name": "python",
   "nbconvert_exporter": "python",
   "pygments_lexer": "ipython3",
   "version": "3.8.5"
  }
 },
 "nbformat": 4,
 "nbformat_minor": 4
}
