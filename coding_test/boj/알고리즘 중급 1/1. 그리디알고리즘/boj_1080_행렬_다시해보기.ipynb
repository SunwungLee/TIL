{
 "cells": [
  {
   "cell_type": "code",
   "execution_count": 5,
   "metadata": {},
   "outputs": [
    {
     "name": "stdout",
     "output_type": "stream",
     "text": [
      "3 4\n",
      "0000\n",
      "0010\n",
      "0000\n",
      "1001\n",
      "1011\n",
      "1001\n",
      "2\n",
      "2\n"
     ]
    }
   ],
   "source": [
    "# \n",
    "# 0과 1로만 이루어진 행렬 A, B\n",
    "# A를 B로 바꾸는데 필요한 연산의 횟수의 최솟값\n",
    "#\n",
    "n, m = map(int, input().split())\n",
    "\n",
    "matrix_a = [list(map(int, input())) for _ in range(n)]\n",
    "matrix_b = [list(map(int, input())) for _ in range(n)]\n",
    "\n",
    "def convMatrix(x, y, matrix):\n",
    "    for i in range(x, x+3):\n",
    "        for j in range(y, y+3):\n",
    "            matrix[i][j] = 1 - matrix[i][j]\n",
    "\n",
    "cnt = 0\n",
    "for i in range(0, n-2):\n",
    "    for j in range(0, m-2):\n",
    "        if matrix_a[i][j] != matrix_b[i][j]:\n",
    "            convMatrix(i, j, matrix_a)\n",
    "            cnt += 1\n",
    "\n",
    "res = False\n",
    "for i in range(0, n):\n",
    "    for j in range(0, m):\n",
    "        if matrix_a[i][j] != matrix_b[i][j]:\n",
    "            res = True\n",
    "    \n",
    "print(-1 if res else cnt)"
   ]
  },
  {
   "cell_type": "code",
   "execution_count": 4,
   "metadata": {},
   "outputs": [
    {
     "name": "stdout",
     "output_type": "stream",
     "text": [
      "0\n"
     ]
    }
   ],
   "source": [
    "res = 0\n",
    "cnt = 0\n",
    "print(-1 if res else cnt)\n"
   ]
  },
  {
   "cell_type": "code",
   "execution_count": null,
   "metadata": {},
   "outputs": [],
   "source": []
  }
 ],
 "metadata": {
  "kernelspec": {
   "display_name": "Python 3",
   "language": "python",
   "name": "python3"
  },
  "language_info": {
   "codemirror_mode": {
    "name": "ipython",
    "version": 3
   },
   "file_extension": ".py",
   "mimetype": "text/x-python",
   "name": "python",
   "nbconvert_exporter": "python",
   "pygments_lexer": "ipython3",
   "version": "3.8.5"
  }
 },
 "nbformat": 4,
 "nbformat_minor": 4
}
