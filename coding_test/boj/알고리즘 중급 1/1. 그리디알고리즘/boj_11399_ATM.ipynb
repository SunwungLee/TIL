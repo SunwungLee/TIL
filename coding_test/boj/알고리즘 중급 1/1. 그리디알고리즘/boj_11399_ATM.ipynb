{
 "cells": [
  {
   "cell_type": "code",
   "execution_count": 1,
   "metadata": {},
   "outputs": [],
   "source": [
    "#\n",
    "# ATM이 1대밖에없음\n",
    "# N명의 사람들이 줄 서있음\n",
    "# i번 사람 Pi 만큼 시간\n",
    "# 줄 서는 순서에 따라 돈 인출에 필요한 시간의 합이 다르다.\n",
    "# 돈을 인출하는데 걸리는 시간의 합의 최솟값\n",
    "#\n",
    "# 첫줄에 N(사람), 둘째줄에는 각 사람이 돈인출에 걸리는 시간 Pi\n",
    "#"
   ]
  },
  {
   "cell_type": "code",
   "execution_count": 6,
   "metadata": {},
   "outputs": [
    {
     "name": "stdout",
     "output_type": "stream",
     "text": [
      "5\n",
      "3 1 4 3 2\n",
      "1\n",
      "1\n",
      "2\n",
      "1\n",
      "2\n",
      "3\n",
      "1\n",
      "2\n",
      "3\n",
      "3\n",
      "1\n",
      "2\n",
      "3\n",
      "3\n",
      "4\n",
      "32\n"
     ]
    }
   ],
   "source": [
    "n = int(input())\n",
    "p_i = list(map(int, input().split()))\n",
    "\n",
    "p_i = sorted(p_i)\n",
    "iter_sum = 0\n",
    "for i in range(n):\n",
    "    for j in range(i+1):\n",
    "        #print(p_i[j])\n",
    "        iter_sum += p_i[j]\n",
    "        \n",
    "print(iter_sum)"
   ]
  },
  {
   "cell_type": "code",
   "execution_count": 3,
   "metadata": {},
   "outputs": [
    {
     "data": {
      "text/plain": [
       "[1, 2, 3, 3, 4]"
      ]
     },
     "execution_count": 3,
     "metadata": {},
     "output_type": "execute_result"
    }
   ],
   "source": [
    "p_i"
   ]
  },
  {
   "cell_type": "code",
   "execution_count": null,
   "metadata": {},
   "outputs": [],
   "source": []
  }
 ],
 "metadata": {
  "kernelspec": {
   "display_name": "Python 3",
   "language": "python",
   "name": "python3"
  },
  "language_info": {
   "codemirror_mode": {
    "name": "ipython",
    "version": 3
   },
   "file_extension": ".py",
   "mimetype": "text/x-python",
   "name": "python",
   "nbconvert_exporter": "python",
   "pygments_lexer": "ipython3",
   "version": "3.8.5"
  }
 },
 "nbformat": 4,
 "nbformat_minor": 4
}
