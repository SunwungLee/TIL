{
 "cells": [
  {
   "cell_type": "code",
   "execution_count": 1,
   "metadata": {},
   "outputs": [],
   "source": [
    "# \n",
    "# 동전 종류N\n",
    "# 각 동전 매우 많이 가지고 있음\n",
    "# 동전을 적절히 사용해서 합을 K로 하려고함\n",
    "# 필요한 동전 개수의 최솟값\n",
    "#\n",
    "# 첫줄에 n, k (1<=n<=10, 1<=k<=100_000_000)\n",
    "#"
   ]
  },
  {
   "cell_type": "code",
   "execution_count": 10,
   "metadata": {},
   "outputs": [
    {
     "name": "stdout",
     "output_type": "stream",
     "text": [
      "10 4790\n",
      "1\n",
      "5\n",
      "10\n",
      "50\n",
      "100\n",
      "500\n",
      "1000\n",
      "5000\n",
      "10000\n",
      "50000\n",
      "12\n"
     ]
    }
   ],
   "source": [
    "n, k = map(int, input().split())\n",
    "\n",
    "coins = []\n",
    "idx = -1\n",
    "for i in range(n):\n",
    "    coin = int(input())\n",
    "    if coin >= k and idx==-1:\n",
    "        idx = i\n",
    "    coins.append(coin)\n",
    "    \n",
    "cnt = 0\n",
    "remain = k\n",
    "while remain:\n",
    "    if remain >= coins[idx]:\n",
    "        cnt += (remain//coins[idx])\n",
    "        remain = remain%coins[idx]\n",
    "    idx -=1\n",
    "print(cnt)"
   ]
  },
  {
   "cell_type": "code",
   "execution_count": 5,
   "metadata": {},
   "outputs": [
    {
     "data": {
      "text/plain": [
       "0"
      ]
     },
     "execution_count": 5,
     "metadata": {},
     "output_type": "execute_result"
    }
   ],
   "source": [
    "200//500\n"
   ]
  },
  {
   "cell_type": "code",
   "execution_count": null,
   "metadata": {},
   "outputs": [],
   "source": []
  }
 ],
 "metadata": {
  "kernelspec": {
   "display_name": "Python 3",
   "language": "python",
   "name": "python3"
  },
  "language_info": {
   "codemirror_mode": {
    "name": "ipython",
    "version": 3
   },
   "file_extension": ".py",
   "mimetype": "text/x-python",
   "name": "python",
   "nbconvert_exporter": "python",
   "pygments_lexer": "ipython3",
   "version": "3.8.5"
  }
 },
 "nbformat": 4,
 "nbformat_minor": 4
}
