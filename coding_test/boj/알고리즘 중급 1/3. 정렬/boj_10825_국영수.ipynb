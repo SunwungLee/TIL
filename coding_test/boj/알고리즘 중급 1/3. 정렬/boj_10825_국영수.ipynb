{
 "cells": [
  {
   "cell_type": "code",
   "execution_count": 1,
   "metadata": {},
   "outputs": [],
   "source": [
    "#\n",
    "# 도현이네 반 N명 국,영,수 점수\n",
    "# 1. 국어 점수가 감소하는 순서로(내림차순)\n",
    "# 2. 국어 점수가 같으면 영어 점수 증가순서(오름차순)\n",
    "# 3. 국어/영어 점수가 같으면, 수학점수가 감소하는 순서(내림)\n",
    "# 4. 모든 점수가 같으면, 이름이 사전순으로 증가하는 순서로\n",
    "# (단, ASCII 코드에서 대문자는 소문자보다 작으므로 사전순으로 앞에)\n",
    "#"
   ]
  },
  {
   "cell_type": "code",
   "execution_count": 22,
   "metadata": {},
   "outputs": [
    {
     "name": "stdout",
     "output_type": "stream",
     "text": [
      "12\n",
      "Junkyu 50 60 100\n",
      "Sangkeun 80 60 50\n",
      "Sunyoung 80 70 100\n",
      "Soong 50 60 90\n",
      "Haebin 50 60 100\n",
      "Kangsoo 60 80 100\n",
      "Donghyuk 80 60 100\n",
      "Sei 70 70 70\n",
      "Wonseob 70 70 90\n",
      "Sanghyun 70 70 80\n",
      "nsj 80 80 80\n",
      "Taewhan 50 60 90\n"
     ]
    }
   ],
   "source": [
    "cases = int(input())\n",
    "students = []\n",
    "for _ in range(cases):\n",
    "    name, korean, english, math = input().split()\n",
    "    korean, english, math = int(korean), int(english), int(math)\n",
    "    students.append((name, korean, english, math))\n",
    "\n",
    "sort = sorted(students, key=lambda x: (-x[1], x[2], -x[3], x[0]), reverse=False) \n",
    "for i in sort:\n",
    "    print(i[0])"
   ]
  },
  {
   "cell_type": "code",
   "execution_count": 34,
   "metadata": {},
   "outputs": [
    {
     "name": "stdout",
     "output_type": "stream",
     "text": [
      "[('Junkyu', 50, 60, 100), ('Sangkeun', 80, 60, 50), ('Sunyoung', 80, 70, 100), ('Soong', 50, 60, 90), ('Haebin', 50, 60, 100), ('Kangsoo', 60, 80, 100), ('Donghyuk', 80, 60, 100), ('Sei', 70, 70, 70), ('Wonseob', 70, 70, 90), ('Sanghyun', 70, 70, 80), ('nsj', 80, 80, 80), ('Taewhan', 50, 60, 90)]\n",
      "Donghyuk\n",
      "Sangkeun\n",
      "Sunyoung\n",
      "nsj\n",
      "Wonseob\n",
      "Sanghyun\n",
      "Sei\n",
      "Kangsoo\n",
      "Haebin\n",
      "Junkyu\n",
      "Soong\n",
      "Taewhan\n"
     ]
    }
   ],
   "source": [
    "print(students)\n",
    "\n",
    "sort = sorted(students, key=lambda x: (-x[1], x[2], -x[3], x[0]), reverse=False) \n",
    "for i in sort:\n",
    "    print(i[0])"
   ]
  },
  {
   "cell_type": "code",
   "execution_count": null,
   "metadata": {},
   "outputs": [],
   "source": [
    "import sys\n",
    "\n",
    "cases = int(sys.stdin.readline())\n",
    "students = []\n",
    "for _ in range(cases):\n",
    "    name, korean, english, math = sys.stdin.readline().split()\n",
    "    korean, english, math = int(korean), int(english), int(math)\n",
    "    students.append((name, korean, english, math))\n",
    "\n",
    "sort = sorted(students, key=lambda x: (-x[1], x[2], -x[3], x[0]), reverse=False) \n",
    "for i in sort:\n",
    "    print(i[0])"
   ]
  }
 ],
 "metadata": {
  "kernelspec": {
   "display_name": "Python 3",
   "language": "python",
   "name": "python3"
  },
  "language_info": {
   "codemirror_mode": {
    "name": "ipython",
    "version": 3
   },
   "file_extension": ".py",
   "mimetype": "text/x-python",
   "name": "python",
   "nbconvert_exporter": "python",
   "pygments_lexer": "ipython3",
   "version": "3.8.5"
  }
 },
 "nbformat": 4,
 "nbformat_minor": 4
}
