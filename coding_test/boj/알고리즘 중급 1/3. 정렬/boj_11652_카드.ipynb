{
 "cells": [
  {
   "cell_type": "code",
   "execution_count": 1,
   "metadata": {},
   "outputs": [],
   "source": [
    "#\n",
    "# 준규는 카드 N장 보유, \n",
    "# 각 카드에는 정수 하나씩\n",
    "# 준규가 가장 많이 가지고있는 정수를 출력한다.\n",
    "#"
   ]
  },
  {
   "cell_type": "code",
   "execution_count": 23,
   "metadata": {},
   "outputs": [
    {
     "name": "stdout",
     "output_type": "stream",
     "text": [
      "5\n",
      "1\n",
      "2\n",
      "1\n",
      "2\n",
      "1\n",
      "1\n"
     ]
    }
   ],
   "source": [
    "n = int(input())\n",
    "\n",
    "cards = dict()\n",
    "for _ in range(n):\n",
    "    num = int(input())\n",
    "    if num not in cards.keys(): # key값이 없다면 추가\n",
    "        cards[num] = 1\n",
    "    else: # 키 값이 있다면 ++\n",
    "        cards[num] += 1\n",
    "\n",
    "sort = sorted(cards.items(), key=lambda x: (-x[1], x[0]))\n",
    "print(sort[0][0])"
   ]
  },
  {
   "cell_type": "code",
   "execution_count": 24,
   "metadata": {},
   "outputs": [
    {
     "name": "stdout",
     "output_type": "stream",
     "text": [
      "1\n"
     ]
    }
   ],
   "source": [
    "import sys\n",
    "n = int(sys.stdin.readline())\n",
    "\n",
    "cards = dict()\n",
    "for _ in range(n):\n",
    "    num = int(sys.stdin.readline())\n",
    "    if num not in cards.keys(): # key값이 없다면 추가\n",
    "        cards[num] = 1\n",
    "    else: # 키 값이 있다면 ++\n",
    "        cards[num] += 1\n",
    "\n",
    "sort = sorted(cards.items(), key=lambda x: (-x[1], x[0]))\n",
    "print(sort[0][0])"
   ]
  },
  {
   "cell_type": "code",
   "execution_count": 25,
   "metadata": {},
   "outputs": [
    {
     "data": {
      "text/plain": [
       "dict_items([(1, 3), (2, 2)])"
      ]
     },
     "execution_count": 25,
     "metadata": {},
     "output_type": "execute_result"
    }
   ],
   "source": [
    "cards.items()"
   ]
  },
  {
   "cell_type": "code",
   "execution_count": null,
   "metadata": {},
   "outputs": [],
   "source": []
  }
 ],
 "metadata": {
  "kernelspec": {
   "display_name": "Python 3",
   "language": "python",
   "name": "python3"
  },
  "language_info": {
   "codemirror_mode": {
    "name": "ipython",
    "version": 3
   },
   "file_extension": ".py",
   "mimetype": "text/x-python",
   "name": "python",
   "nbconvert_exporter": "python",
   "pygments_lexer": "ipython3",
   "version": "3.8.5"
  }
 },
 "nbformat": 4,
 "nbformat_minor": 4
}
