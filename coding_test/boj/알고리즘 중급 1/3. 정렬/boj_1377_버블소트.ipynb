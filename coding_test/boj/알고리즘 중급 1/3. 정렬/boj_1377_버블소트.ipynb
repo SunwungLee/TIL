{
 "cells": [
  {
   "cell_type": "code",
   "execution_count": null,
   "metadata": {},
   "outputs": [],
   "source": [
    "#\n",
    "# 이건 문제 자체에 집중하는 것보다 \n",
    "# 버블 소트의 구현, 퀵소트 구현을 목표로 해보자\n",
    "# 정렬들의 종류 조사 및 각각을 구현 및 정리해보자.\n",
    "#\n",
    "#https://velog.io/@jguuun/%EC%A0%95%EB%A0%AC-%EC%95%8C%EA%B3%A0%EB%A6%AC%EC%A6%98"
   ]
  }
 ],
 "metadata": {
  "kernelspec": {
   "display_name": "Python 3",
   "language": "python",
   "name": "python3"
  },
  "language_info": {
   "codemirror_mode": {
    "name": "ipython",
    "version": 3
   },
   "file_extension": ".py",
   "mimetype": "text/x-python",
   "name": "python",
   "nbconvert_exporter": "python",
   "pygments_lexer": "ipython3",
   "version": "3.8.5"
  }
 },
 "nbformat": 4,
 "nbformat_minor": 4
}
