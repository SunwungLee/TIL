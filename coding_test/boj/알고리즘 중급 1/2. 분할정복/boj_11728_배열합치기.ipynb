{
 "cells": [
  {
   "cell_type": "code",
   "execution_count": 1,
   "metadata": {},
   "outputs": [],
   "source": [
    "#\n",
    "# 정렬되어있는 A, B \n",
    "# 두 배열을 합친다음 정렬해서 출력하는 프로그램 작성\n",
    "#\n",
    "# line 1: 배열 A,B의 크기 N,M\n",
    "# line 2: 배열 A\n",
    "# line 3: 배열 B\n",
    "# "
   ]
  },
  {
   "cell_type": "code",
   "execution_count": 2,
   "metadata": {},
   "outputs": [
    {
     "name": "stdout",
     "output_type": "stream",
     "text": [
      "2 1\n",
      "4 7\n",
      "1\n",
      "1 4 7\n"
     ]
    }
   ],
   "source": [
    "n, m = map(int, input().split())\n",
    "arr_a = list(map(int, input().split()))\n",
    "arr_b = list(map(int, input().split()))\n",
    "\n",
    "arr_sum = sorted(arr_a + arr_b)\n",
    "print(' '.join(map(str, arr_sum)))"
   ]
  },
  {
   "cell_type": "code",
   "execution_count": null,
   "metadata": {},
   "outputs": [],
   "source": []
  }
 ],
 "metadata": {
  "kernelspec": {
   "display_name": "Python 3",
   "language": "python",
   "name": "python3"
  },
  "language_info": {
   "codemirror_mode": {
    "name": "ipython",
    "version": 3
   },
   "file_extension": ".py",
   "mimetype": "text/x-python",
   "name": "python",
   "nbconvert_exporter": "python",
   "pygments_lexer": "ipython3",
   "version": "3.8.5"
  }
 },
 "nbformat": 4,
 "nbformat_minor": 4
}
