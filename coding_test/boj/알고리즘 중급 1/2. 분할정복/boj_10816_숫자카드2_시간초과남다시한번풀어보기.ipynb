{
 "cells": [
  {
   "cell_type": "code",
   "execution_count": 11,
   "metadata": {
    "scrolled": false
   },
   "outputs": [
    {
     "name": "stdout",
     "output_type": "stream",
     "text": [
      "10\n",
      "6 3 2 10 10 10 -10 -10 7 3\n",
      "8\n",
      "10 9 -5 2 3 4 5 -10\n",
      "3 0 0 1 2 0 0 2 "
     ]
    }
   ],
   "source": [
    "n = int(input())\n",
    "my_cards = list(map(int, input().split()))\n",
    "my_cards = sorted(my_cards)\n",
    "m = int(input())\n",
    "target_cards = list(map(int, input().split()))\n",
    "\n",
    "def binarysearch(array, target, start, end):\n",
    "    while start <= end:\n",
    "        mid = (start+end) // 2\n",
    "        #print(start, end, mid)\n",
    "        if array[mid] == target:\n",
    "            #print(array[start:end+1])\n",
    "            return array[start:end+1].count(target) # count 함수 사용\n",
    "        elif array[mid] < target:\n",
    "            start = mid + 1\n",
    "        elif array[mid] > target:\n",
    "            end = mid - 1\n",
    "        \n",
    "    return -1\n",
    "\n",
    "for target in target_cards:\n",
    "    #print(target)\n",
    "    ans = binarysearch(my_cards, target, 0, (n-1))\n",
    "    #print(ans)\n",
    "    if ans == -1:\n",
    "        print(0, end=' ')\n",
    "        #print('ans:', 0)\n",
    "    else:\n",
    "        print(ans, end=' ')\n",
    "        #print('ans:', ans)"
   ]
  },
  {
   "cell_type": "code",
   "execution_count": 5,
   "metadata": {},
   "outputs": [
    {
     "data": {
      "text/plain": [
       "[-10, -10, 2, 3, 3, 6, 7, 10, 10, 10]"
      ]
     },
     "execution_count": 5,
     "metadata": {},
     "output_type": "execute_result"
    }
   ],
   "source": [
    "import sys\n",
    "\n",
    "n = int(sys.stdin.readline())\n",
    "my_cards = list(map(int, sys.stdin.readline().split()))\n",
    "my_cards = sorted(my_cards)\n",
    "m = int(sys.stdin.readline())\n",
    "target_cards = list(map(int, sys.stdin.readline().split()))\n",
    "\n",
    "def binarysearch(array, target, start, end):\n",
    "    while start <= end:\n",
    "        mid = (start+end) // 2\n",
    "        if array[mid] == target:\n",
    "            print(array[start:end+1].count(target), end=' ')\n",
    "            return# count 함수 사용\n",
    "        elif array[mid] < target:\n",
    "            start = mid + 1\n",
    "        elif array[mid] > target:\n",
    "            end = mid - 1\n",
    "    print(0, end=' ')\n",
    "    return\n",
    "\n",
    "for target in target_cards:\n",
    "    #print(target)\n",
    "    ans = binarysearch(my_cards, target, 0, (n-1))"
   ]
  },
  {
   "cell_type": "code",
   "execution_count": null,
   "metadata": {},
   "outputs": [],
   "source": []
  }
 ],
 "metadata": {
  "kernelspec": {
   "display_name": "Python 3",
   "language": "python",
   "name": "python3"
  },
  "language_info": {
   "codemirror_mode": {
    "name": "ipython",
    "version": 3
   },
   "file_extension": ".py",
   "mimetype": "text/x-python",
   "name": "python",
   "nbconvert_exporter": "python",
   "pygments_lexer": "ipython3",
   "version": "3.8.5"
  }
 },
 "nbformat": 4,
 "nbformat_minor": 4
}
