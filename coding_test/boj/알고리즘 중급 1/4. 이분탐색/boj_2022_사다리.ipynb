{
 "cells": [
  {
   "cell_type": "markdown",
   "metadata": {},
   "source": [
    "https://jinho-study.tistory.com/687"
   ]
  },
  {
   "cell_type": "code",
   "execution_count": null,
   "metadata": {},
   "outputs": [],
   "source": [
    "def f(x, y, w):\n",
    "    h1 = (x**2-w**2)**0.5\n",
    "    h2 = (y**2-w**2)**0.5    \n",
    "    c = h1*h2 / (h1+h2)\n",
    "    return c\n",
    "    \n",
    "x, y, c = map(float, input().split())\n",
    "s, e = 0, min(x, y)\n",
    "res = 0\n",
    "while e-s > 0.000001:\n",
    "    m = (s+e)/2\n",
    "    if f(x, y, m) >= c:\n",
    "        res = m\n",
    "        s = m\n",
    "    else:\n",
    "        e = m\n",
    "print(res)"
   ]
  }
 ],
 "metadata": {
  "kernelspec": {
   "display_name": "Python 3",
   "language": "python",
   "name": "python3"
  },
  "language_info": {
   "codemirror_mode": {
    "name": "ipython",
    "version": 3
   },
   "file_extension": ".py",
   "mimetype": "text/x-python",
   "name": "python",
   "nbconvert_exporter": "python",
   "pygments_lexer": "ipython3",
   "version": "3.8.5"
  }
 },
 "nbformat": 4,
 "nbformat_minor": 4
}
