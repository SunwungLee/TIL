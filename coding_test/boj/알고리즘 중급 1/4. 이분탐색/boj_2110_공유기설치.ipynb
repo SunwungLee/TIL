{
 "cells": [
  {
   "cell_type": "code",
   "execution_count": null,
   "metadata": {},
   "outputs": [],
   "source": [
    "import sys\n",
    "N, C = map(int, (input().split()))\n",
    "house = [int(sys.stdin.readline()) for _ in range(N)]\n",
    "\n",
    "#해당 거리를 유지하며 공유기가 몇 개 설치될 수 있는가?\n",
    "def router_counter(distance):\n",
    "    count = 1\n",
    "    cur_house = house[0] #시작점\n",
    "    for i in range(1, N): #집모두를 돈다\n",
    "        if cur_house + distance <= house[i]: #이전 집에서 해당 거리보다 멀리 떨어진 집이라면\n",
    "            count += 1\n",
    "            cur_house = house[i] #공유기 설치된 집 갱신\n",
    "    return count\n",
    "\n",
    "house = sorted(house) #이분탐색을 위한 정렬\n",
    "start, end = 1, house[-1] - house[0] #1, 첫집과 끝집\n",
    "\n",
    "while start <= end: #이분탐색 알고리즘\n",
    "    mid = (start+end) // 2\n",
    "    \n",
    "    if router_counter(mid) >= C:\n",
    "        answer = mid\n",
    "        start = mid + 1\n",
    "    else:\n",
    "        end = mid - 1\n",
    "        \n",
    "print(answer)"
   ]
  }
 ],
 "metadata": {
  "kernelspec": {
   "display_name": "Python 3",
   "language": "python",
   "name": "python3"
  },
  "language_info": {
   "codemirror_mode": {
    "name": "ipython",
    "version": 3
   },
   "file_extension": ".py",
   "mimetype": "text/x-python",
   "name": "python",
   "nbconvert_exporter": "python",
   "pygments_lexer": "ipython3",
   "version": "3.8.5"
  }
 },
 "nbformat": 4,
 "nbformat_minor": 4
}
