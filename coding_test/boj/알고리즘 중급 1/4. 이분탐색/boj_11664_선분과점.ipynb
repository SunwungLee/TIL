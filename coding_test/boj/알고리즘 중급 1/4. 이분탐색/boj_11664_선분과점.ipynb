{
 "cells": [
  {
   "cell_type": "code",
   "execution_count": 1,
   "metadata": {},
   "outputs": [
    {
     "name": "stdout",
     "output_type": "stream",
     "text": [
      "1\n"
     ]
    },
    {
     "ename": "ValueError",
     "evalue": "not enough values to unpack (expected 9, got 1)",
     "output_type": "error",
     "traceback": [
      "\u001b[1;31m---------------------------------------------------------------------------\u001b[0m",
      "\u001b[1;31mValueError\u001b[0m                                Traceback (most recent call last)",
      "\u001b[1;32m<ipython-input-1-dbd1a98da556>\u001b[0m in \u001b[0;36m<module>\u001b[1;34m\u001b[0m\n\u001b[0;32m      2\u001b[0m     \u001b[1;32mreturn\u001b[0m \u001b[1;33m(\u001b[0m\u001b[0msum\u001b[0m\u001b[1;33m(\u001b[0m\u001b[1;33m(\u001b[0m\u001b[0me1\u001b[0m\u001b[1;33m-\u001b[0m\u001b[0me2\u001b[0m\u001b[1;33m)\u001b[0m\u001b[1;33m**\u001b[0m\u001b[1;36m2\u001b[0m \u001b[1;32mfor\u001b[0m \u001b[0me1\u001b[0m\u001b[1;33m,\u001b[0m \u001b[0me2\u001b[0m \u001b[1;32min\u001b[0m \u001b[0mzip\u001b[0m\u001b[1;33m(\u001b[0m\u001b[0ma\u001b[0m\u001b[1;33m,\u001b[0m\u001b[0mb\u001b[0m\u001b[1;33m)\u001b[0m\u001b[1;33m)\u001b[0m\u001b[1;33m)\u001b[0m \u001b[1;33m**\u001b[0m \u001b[1;36m0.5\u001b[0m\u001b[1;33m\u001b[0m\u001b[1;33m\u001b[0m\u001b[0m\n\u001b[0;32m      3\u001b[0m \u001b[1;33m\u001b[0m\u001b[0m\n\u001b[1;32m----> 4\u001b[1;33m \u001b[0mAx\u001b[0m\u001b[1;33m,\u001b[0m \u001b[0mAy\u001b[0m\u001b[1;33m,\u001b[0m \u001b[0mAz\u001b[0m\u001b[1;33m,\u001b[0m \u001b[0mBx\u001b[0m\u001b[1;33m,\u001b[0m \u001b[0mBy\u001b[0m\u001b[1;33m,\u001b[0m \u001b[0mBz\u001b[0m\u001b[1;33m,\u001b[0m \u001b[0mCx\u001b[0m\u001b[1;33m,\u001b[0m \u001b[0mCy\u001b[0m\u001b[1;33m,\u001b[0m \u001b[0mCz\u001b[0m \u001b[1;33m=\u001b[0m \u001b[0mmap\u001b[0m\u001b[1;33m(\u001b[0m\u001b[0mint\u001b[0m\u001b[1;33m,\u001b[0m \u001b[0minput\u001b[0m\u001b[1;33m(\u001b[0m\u001b[1;33m)\u001b[0m\u001b[1;33m.\u001b[0m\u001b[0msplit\u001b[0m\u001b[1;33m(\u001b[0m\u001b[1;33m)\u001b[0m\u001b[1;33m)\u001b[0m\u001b[1;33m\u001b[0m\u001b[1;33m\u001b[0m\u001b[0m\n\u001b[0m\u001b[0;32m      5\u001b[0m \u001b[1;33m\u001b[0m\u001b[0m\n\u001b[0;32m      6\u001b[0m \u001b[0mCx\u001b[0m \u001b[1;33m-=\u001b[0m \u001b[0mAx\u001b[0m\u001b[1;33m\u001b[0m\u001b[1;33m\u001b[0m\u001b[0m\n",
      "\u001b[1;31mValueError\u001b[0m: not enough values to unpack (expected 9, got 1)"
     ]
    }
   ],
   "source": [
    "def distance(a, b):\n",
    "    return (sum((e1-e2)**2 for e1, e2 in zip(a,b))) ** 0.5\n",
    "\n",
    "Ax, Ay, Az, Bx, By, Bz, Cx, Cy, Cz = map(int, input().split())\n",
    "\n",
    "Cx -= Ax\n",
    "Cy -= Ay\n",
    "Cz -= Az\n",
    "Bx -= Ax\n",
    "By -= Ay\n",
    "Bz -= Az\n",
    "\n",
    "A, B, C = (0,0,0), (Bx, By, Bz), (Cx, Cy, Cz)                       # A 를 원점으로 두고, B 와 C 변환\n",
    "\n",
    "x = (Bx * Cx + By * Cy + Bz * Cz) / (Bx * Bx + By * By + Bz * Bz)   # B 를 C 에 사영시킬 때 나오는 벡터의 C 에 대한 비율\n",
    "\n",
    "# 만약 해당 벡터가 선분 AC 바깥쪽에 존재한다면\n",
    "if x < 0 or x > 1:\n",
    "    print(\"{:.10f}\".format(min(distance(A, C), distance(B, C))))    # A 와 C 중 가까운 점과의 거리가 최소거리\n",
    "else:\n",
    "    print(\"{:.10f}\".format(distance((x * Bx, x * By, x * Bz), C)))\n",
    "    # AC 안에 존재한다면 사영시킨 벡터 P 와 C 의 거리가 최소 거리"
   ]
  },
  {
   "cell_type": "code",
   "execution_count": null,
   "metadata": {},
   "outputs": [],
   "source": []
  }
 ],
 "metadata": {
  "kernelspec": {
   "display_name": "Python 3",
   "language": "python",
   "name": "python3"
  },
  "language_info": {
   "codemirror_mode": {
    "name": "ipython",
    "version": 3
   },
   "file_extension": ".py",
   "mimetype": "text/x-python",
   "name": "python",
   "nbconvert_exporter": "python",
   "pygments_lexer": "ipython3",
   "version": "3.8.5"
  }
 },
 "nbformat": 4,
 "nbformat_minor": 4
}
