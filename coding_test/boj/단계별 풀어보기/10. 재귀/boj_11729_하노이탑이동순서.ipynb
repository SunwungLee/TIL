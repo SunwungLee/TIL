{
 "cells": [
  {
   "cell_type": "code",
   "execution_count": 3,
   "metadata": {},
   "outputs": [
    {
     "name": "stdout",
     "output_type": "stream",
     "text": [
      "3\n",
      "7\n",
      "n=3,a=1,b=2,c=3\n",
      "n=2,a=1,b=3,c=2\n",
      "n=1,a=1,b=2,c=3\n",
      "1 3\n",
      "1 2\n",
      "n=1,a=3,b=1,c=2\n",
      "3 2\n",
      "1 3\n",
      "n=2,a=2,b=1,c=3\n",
      "n=1,a=2,b=3,c=1\n",
      "2 1\n",
      "2 3\n",
      "n=1,a=1,b=2,c=3\n",
      "1 3\n"
     ]
    }
   ],
   "source": [
    "n = int(input())\n",
    "def hanoi(n, a, b, c):\n",
    "    print(f'n={n},a={a},b={b},c={c}')\n",
    "    if n == 1:\n",
    "        print(a, c)\n",
    "    else:\n",
    "        hanoi(n - 1, a, c, b)\n",
    "        print(a, c)\n",
    "        hanoi(n - 1, b, a, c)\n",
    "sum = 1\n",
    "for i in range(n - 1):\n",
    "    sum = sum * 2 + 1\n",
    "print(sum)\n",
    "hanoi(n, 1, 2, 3)"
   ]
  },
  {
   "cell_type": "code",
   "execution_count": null,
   "metadata": {},
   "outputs": [],
   "source": []
  }
 ],
 "metadata": {
  "kernelspec": {
   "display_name": "Python 3",
   "language": "python",
   "name": "python3"
  },
  "language_info": {
   "codemirror_mode": {
    "name": "ipython",
    "version": 3
   },
   "file_extension": ".py",
   "mimetype": "text/x-python",
   "name": "python",
   "nbconvert_exporter": "python",
   "pygments_lexer": "ipython3",
   "version": "3.8.5"
  }
 },
 "nbformat": 4,
 "nbformat_minor": 4
}
