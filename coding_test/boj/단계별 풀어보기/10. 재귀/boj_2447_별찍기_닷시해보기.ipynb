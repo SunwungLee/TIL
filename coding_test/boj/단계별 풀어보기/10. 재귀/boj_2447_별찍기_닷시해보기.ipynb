{
 "cells": [
  {
   "cell_type": "code",
   "execution_count": 6,
   "metadata": {},
   "outputs": [
    {
     "name": "stdout",
     "output_type": "stream",
     "text": [
      "9\n",
      "*********\n",
      "* ** ** *\n",
      "*********\n",
      "******\n",
      "* ** *\n",
      "******\n",
      "*********\n",
      "* ** ** *\n",
      "*********\n"
     ]
    }
   ],
   "source": [
    "def stars(n):\n",
    "    mat=[]\n",
    "    for i in range(3*len(n)):\n",
    "        if i // len(n) == 1:\n",
    "            mat.append(n[i%len(n)] + \"\"*len(n) + n[i%len(n)])\n",
    "        else:\n",
    "            mat.append(n[i%len(n)]*3)\n",
    "    return (list(mat))\n",
    "\n",
    "star = ['***', '* *', '***']\n",
    "n = int(input())\n",
    "k=0\n",
    "while n!=3:\n",
    "    n = int(n/3)\n",
    "    k +=1\n",
    "\n",
    "for i in range(k):\n",
    "    star = stars(star)\n",
    "for i in star:\n",
    "    print(i)"
   ]
  },
  {
   "cell_type": "code",
   "execution_count": null,
   "metadata": {},
   "outputs": [],
   "source": []
  }
 ],
 "metadata": {
  "kernelspec": {
   "display_name": "Python 3",
   "language": "python",
   "name": "python3"
  },
  "language_info": {
   "codemirror_mode": {
    "name": "ipython",
    "version": 3
   },
   "file_extension": ".py",
   "mimetype": "text/x-python",
   "name": "python",
   "nbconvert_exporter": "python",
   "pygments_lexer": "ipython3",
   "version": "3.8.5"
  }
 },
 "nbformat": 4,
 "nbformat_minor": 4
}
