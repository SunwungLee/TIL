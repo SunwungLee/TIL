{
 "cells": [
  {
   "cell_type": "code",
   "execution_count": null,
   "id": "6edfb420",
   "metadata": {},
   "outputs": [],
   "source": []
  },
  {
   "cell_type": "code",
   "execution_count": 11,
   "id": "3ed008f9",
   "metadata": {},
   "outputs": [
    {
     "name": "stdout",
     "output_type": "stream",
     "text": [
      "1000\n",
      "144\n"
     ]
    }
   ],
   "source": [
    "num = int(input())\n",
    "\n",
    "hansu = 0\n",
    "for i in range(1, num+1):\n",
    "    num_list = list(map(int, str(i)))\n",
    "    if i<100:\n",
    "        hansu += 1\n",
    "    elif num_list[0]-num_list[1] == num_list[1]-num_list[2]:\n",
    "        hansu += 1\n",
    "print(hansu)"
   ]
  },
  {
   "cell_type": "code",
   "execution_count": 13,
   "id": "efd9fb34",
   "metadata": {},
   "outputs": [
    {
     "name": "stdout",
     "output_type": "stream",
     "text": [
      "1000\n",
      "144\n"
     ]
    }
   ],
   "source": [
    "def hansu_cnt(_num):\n",
    "    cnt=0\n",
    "    for i in range(1, _num+1):\n",
    "        num_list = list(map(int, str(i)))\n",
    "        if i < 100:\n",
    "            cnt += 1\n",
    "        elif num_list[0]-num_list[1] == num_list[1]-num_list[2]:\n",
    "            cnt += 1\n",
    "    return cnt\n",
    "\n",
    "num = int(input())\n",
    "print(hansu_cnt(num))"
   ]
  },
  {
   "cell_type": "code",
   "execution_count": null,
   "id": "cfa15647",
   "metadata": {},
   "outputs": [],
   "source": []
  }
 ],
 "metadata": {
  "kernelspec": {
   "display_name": "Python 3",
   "language": "python",
   "name": "python3"
  },
  "language_info": {
   "codemirror_mode": {
    "name": "ipython",
    "version": 3
   },
   "file_extension": ".py",
   "mimetype": "text/x-python",
   "name": "python",
   "nbconvert_exporter": "python",
   "pygments_lexer": "ipython3",
   "version": "3.8.10"
  }
 },
 "nbformat": 4,
 "nbformat_minor": 5
}
