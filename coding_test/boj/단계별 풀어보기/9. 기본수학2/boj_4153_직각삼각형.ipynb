{
 "cells": [
  {
   "cell_type": "code",
   "execution_count": 8,
   "metadata": {},
   "outputs": [
    {
     "name": "stdout",
     "output_type": "stream",
     "text": [
      "6 8 10\n",
      "right\n",
      "25 52 60\n",
      "wrong\n",
      "5 12 13\n",
      "right\n",
      "0 0 0\n"
     ]
    }
   ],
   "source": [
    "# 피타고라스\n",
    "# a^2+b^2 = c^2\n",
    "def isPythagoras(a, b, c):\n",
    "    if a**2+b**2 == c**2:\n",
    "        print('right')\n",
    "    else:\n",
    "        print('wrong')\n",
    "    \n",
    "while True:\n",
    "    a, b, c = sorted(map(int, input().split()))\n",
    "    if a == 0 and b ==0 and c == 0:\n",
    "        break\n",
    "    isPythagoras(a, b, c)"
   ]
  },
  {
   "cell_type": "code",
   "execution_count": null,
   "metadata": {},
   "outputs": [],
   "source": []
  }
 ],
 "metadata": {
  "kernelspec": {
   "display_name": "Python 3",
   "language": "python",
   "name": "python3"
  },
  "language_info": {
   "codemirror_mode": {
    "name": "ipython",
    "version": 3
   },
   "file_extension": ".py",
   "mimetype": "text/x-python",
   "name": "python",
   "nbconvert_exporter": "python",
   "pygments_lexer": "ipython3",
   "version": "3.8.5"
  }
 },
 "nbformat": 4,
 "nbformat_minor": 4
}
