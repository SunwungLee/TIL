{
 "cells": [
  {
   "cell_type": "code",
   "execution_count": 2,
   "metadata": {},
   "outputs": [
    {
     "name": "stdout",
     "output_type": "stream",
     "text": [
      "3 16\n",
      "3\n",
      "5\n",
      "7\n",
      "11\n",
      "13\n"
     ]
    }
   ],
   "source": [
    "m, n = map(int, input().split())\n",
    "\n",
    "prime = []\n",
    "for i in range(m, n+1):\n",
    "    flag = False\n",
    "    if i > 1:\n",
    "        for j in range(2, int(i**0.5)+1): # skill 제곱근까지만 검사하고 넘김\n",
    "            if i%j == 0:\n",
    "                flag = True\n",
    "                break\n",
    "        if not flag:\n",
    "            print(i)\n"
   ]
  },
  {
   "cell_type": "code",
   "execution_count": null,
   "metadata": {},
   "outputs": [],
   "source": [
    "m, n = map(int, input().split())\n",
    "\n",
    "def isprime(m, n):\n",
    "  n += 1                            # for문 사용을 위한 n += 1\n",
    "  prime = [True] * n                # n개의 [True]가 있는 리스트 생성\n",
    "  for i in range(2, int(n**0.5)+1): # n의 제곱근까지만 검사\n",
    "    if prime[i]:                    # prime[i]가 True일때\n",
    "      for j in range(2*i, n, i):    # prime 내 i의 배수들을 False로 변환\n",
    "        prime[j] = False\n",
    "\n",
    "  for i in range(m, n):\n",
    "    if i > 1 and prime[i] == True:  # 1 이상이면서 남은 소수들을 출력\n",
    "      print(i)\n",
    "\n",
    "isprime(m, n)"
   ]
  }
 ],
 "metadata": {
  "kernelspec": {
   "display_name": "Python 3",
   "language": "python",
   "name": "python3"
  },
  "language_info": {
   "codemirror_mode": {
    "name": "ipython",
    "version": 3
   },
   "file_extension": ".py",
   "mimetype": "text/x-python",
   "name": "python",
   "nbconvert_exporter": "python",
   "pygments_lexer": "ipython3",
   "version": "3.8.5"
  }
 },
 "nbformat": 4,
 "nbformat_minor": 4
}
