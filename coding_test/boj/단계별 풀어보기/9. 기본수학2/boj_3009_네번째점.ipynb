{
 "cells": [
  {
   "cell_type": "code",
   "execution_count": null,
   "metadata": {},
   "outputs": [],
   "source": [
    "x_ = []\n",
    "y_ = []\n",
    "for i in range(3):\n",
    "        x, y = map(int, input().split())\n",
    "        x_.append(x)\n",
    "        y_.append(y)\n",
    "for i in range(3):\n",
    "        if x_.count(x_[i]) == 1:\n",
    "                x = x_[i]\n",
    "        if y_.count(y_[i]) == 1:\n",
    "                y = y_[i]\n",
    "print(x, y)"
   ]
  },
  {
   "cell_type": "code",
   "execution_count": 11,
   "metadata": {},
   "outputs": [
    {
     "name": "stdout",
     "output_type": "stream",
     "text": [
      "x: [1, 2, 1] y: [1, 2, 2]\n",
      "1 1\n",
      "x: [1, 2, 1] y: [1, 2, 2]\n",
      "2 2\n",
      "x: [1, 2, 1] y: [1, 2, 2]\n",
      "1 2\n",
      "[2, 1]\n"
     ]
    }
   ],
   "source": [
    "v = [[1, 1], [2, 2], [1, 2]]\n",
    "\n",
    "\n",
    "def solution(v):\n",
    "    answer = []\n",
    "    x=[]\n",
    "    y=[]\n",
    "    for i in range(3):\n",
    "        x.append(v[i][0])\n",
    "        y.append(v[i][1])\n",
    "    for i in range(3):\n",
    "        print('x:', x, 'y:', y)\n",
    "        print(v[i][0], v[i][1])\n",
    "        if x.count(v[i][0]) == 1:\n",
    "            answer.append(v[i][0])\n",
    "        if y.count(v[i][1]) == 1:\n",
    "            answer.append(v[i][1])\n",
    "        \n",
    "    return answer\n",
    "\n",
    "print(solution(v))"
   ]
  },
  {
   "cell_type": "code",
   "execution_count": null,
   "metadata": {},
   "outputs": [],
   "source": []
  }
 ],
 "metadata": {
  "kernelspec": {
   "display_name": "Python 3",
   "language": "python",
   "name": "python3"
  },
  "language_info": {
   "codemirror_mode": {
    "name": "ipython",
    "version": 3
   },
   "file_extension": ".py",
   "mimetype": "text/x-python",
   "name": "python",
   "nbconvert_exporter": "python",
   "pygments_lexer": "ipython3",
   "version": "3.8.5"
  }
 },
 "nbformat": 4,
 "nbformat_minor": 4
}
