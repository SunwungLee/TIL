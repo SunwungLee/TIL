{
 "cells": [
  {
   "cell_type": "code",
   "execution_count": 2,
   "metadata": {},
   "outputs": [
    {
     "name": "stdout",
     "output_type": "stream",
     "text": [
      "6 2 10 3\n",
      "1\n"
     ]
    }
   ],
   "source": [
    "x, y, w, h = map(int, input().split())\n",
    "\n",
    "if w-x > x:\n",
    "    width = x\n",
    "else:\n",
    "    width = w-x\n",
    "if h-y > y:\n",
    "    height = y\n",
    "else:\n",
    "    height = h-y\n",
    "if height > width:\n",
    "    print(width)\n",
    "else:\n",
    "    print(height)"
   ]
  },
  {
   "cell_type": "code",
   "execution_count": 4,
   "metadata": {},
   "outputs": [
    {
     "name": "stdout",
     "output_type": "stream",
     "text": [
      "6 2 10 3\n",
      "1\n"
     ]
    }
   ],
   "source": [
    "# 이게 훨씬 좋음\n",
    "x, y, w, h = map(int, input().split())\n",
    "print(min([x, y, w-x, h-y]))"
   ]
  },
  {
   "cell_type": "code",
   "execution_count": null,
   "metadata": {},
   "outputs": [],
   "source": []
  }
 ],
 "metadata": {
  "kernelspec": {
   "display_name": "Python 3",
   "language": "python",
   "name": "python3"
  },
  "language_info": {
   "codemirror_mode": {
    "name": "ipython",
    "version": 3
   },
   "file_extension": ".py",
   "mimetype": "text/x-python",
   "name": "python",
   "nbconvert_exporter": "python",
   "pygments_lexer": "ipython3",
   "version": "3.8.5"
  }
 },
 "nbformat": 4,
 "nbformat_minor": 4
}
