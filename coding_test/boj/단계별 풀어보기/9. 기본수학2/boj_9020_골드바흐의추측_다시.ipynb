{
 "cells": [
  {
   "cell_type": "code",
   "execution_count": 15,
   "metadata": {},
   "outputs": [
    {
     "name": "stdout",
     "output_type": "stream",
     "text": [
      "10\n",
      "10\n",
      "5 5\n",
      "10\n",
      "5 5\n",
      "10\n",
      "5 5\n",
      "10\n",
      "5 5\n",
      "11\n",
      "5 5\n",
      "12\n",
      "5 7\n",
      "14\n",
      "7 7\n",
      "20\n",
      "7 13\n",
      "22\n",
      "11 11\n",
      "24\n",
      "11 13\n"
     ]
    }
   ],
   "source": [
    "prime_list = [False, False] + [True]*10002\n",
    "\n",
    "for i in range(2, 10002):\n",
    "    if prime_list[i]:\n",
    "        for j in range(2*i, 10002, i):\n",
    "            prime_list[j] = False\n",
    "\n",
    "T = int(input())\n",
    "\n",
    "for i in range(T):\n",
    "    n = int(input())\n",
    "    a = n//2\n",
    "    b = a\n",
    "    while a>0:\n",
    "        if prime_list[a] and prime_list[b]:\n",
    "            print(a, b)\n",
    "            break\n",
    "        else:\n",
    "            a-=1\n",
    "            b+=1"
   ]
  },
  {
   "cell_type": "code",
   "execution_count": null,
   "metadata": {},
   "outputs": [],
   "source": [
    "## def isPrime(n):\n",
    "    n2 = n*2\n",
    "    prime = [True]*n2\n",
    "    isprime=[]\n",
    "    \n",
    "    if n == 1:\n",
    "        isprime.append(2)\n",
    "    for i in range(2, int(n2**0.5)+1):\n",
    "        if prime[i]:\n",
    "            for j in range(2*i, n2, i):\n",
    "                prime[j] = False\n",
    "    \n",
    "    for i in range(n+1, n2):\n",
    "        if i > 1 and prime[i] == True:\n",
    "            isprime.append(i)\n",
    "    print(len(isprime))"
   ]
  },
  {
   "cell_type": "code",
   "execution_count": 4,
   "metadata": {},
   "outputs": [
    {
     "data": {
      "text/plain": [
       "[4, 6]"
      ]
     },
     "execution_count": 4,
     "metadata": {},
     "output_type": "execute_result"
    }
   ],
   "source": [
    "list(range(4, 8, 2))"
   ]
  },
  {
   "cell_type": "code",
   "execution_count": null,
   "metadata": {},
   "outputs": [],
   "source": []
  }
 ],
 "metadata": {
  "kernelspec": {
   "display_name": "Python 3",
   "language": "python",
   "name": "python3"
  },
  "language_info": {
   "codemirror_mode": {
    "name": "ipython",
    "version": 3
   },
   "file_extension": ".py",
   "mimetype": "text/x-python",
   "name": "python",
   "nbconvert_exporter": "python",
   "pygments_lexer": "ipython3",
   "version": "3.8.5"
  }
 },
 "nbformat": 4,
 "nbformat_minor": 4
}
