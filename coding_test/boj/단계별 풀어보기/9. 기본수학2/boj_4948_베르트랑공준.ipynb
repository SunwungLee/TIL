{
 "cells": [
  {
   "cell_type": "code",
   "execution_count": 17,
   "metadata": {},
   "outputs": [
    {
     "name": "stdout",
     "output_type": "stream",
     "text": [
      "1\n",
      "1\n",
      "13\n",
      "3\n",
      "0\n"
     ]
    }
   ],
   "source": [
    "def isPrime(n):\n",
    "    n2 = n*2\n",
    "    prime = [True]*n2\n",
    "    isprime=[]\n",
    "    \n",
    "    if n == 1:\n",
    "        isprime.append(2)\n",
    "    for i in range(2, int(n2**0.5)+1):\n",
    "        if prime[i]:\n",
    "            for j in range(2*i, n2, i):\n",
    "                prime[j] = False\n",
    "    \n",
    "    for i in range(n+1, n2):\n",
    "        if i > 1 and prime[i] == True:\n",
    "            isprime.append(i)\n",
    "    print(len(isprime))\n",
    "\n",
    "while True:\n",
    "    n = int(input())\n",
    "    if n == 0:\n",
    "        break\n",
    "    else:\n",
    "        isPrime(n)"
   ]
  }
 ],
 "metadata": {
  "kernelspec": {
   "display_name": "Python 3",
   "language": "python",
   "name": "python3"
  },
  "language_info": {
   "codemirror_mode": {
    "name": "ipython",
    "version": 3
   },
   "file_extension": ".py",
   "mimetype": "text/x-python",
   "name": "python",
   "nbconvert_exporter": "python",
   "pygments_lexer": "ipython3",
   "version": "3.8.5"
  }
 },
 "nbformat": 4,
 "nbformat_minor": 4
}
