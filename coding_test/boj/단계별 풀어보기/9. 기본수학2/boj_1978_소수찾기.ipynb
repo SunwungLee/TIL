{
 "cells": [
  {
   "cell_type": "code",
   "execution_count": 4,
   "metadata": {},
   "outputs": [
    {
     "name": "stdout",
     "output_type": "stream",
     "text": [
      "4\n",
      "1 3 5 7\n",
      "3\n"
     ]
    }
   ],
   "source": [
    "# 소수는 약수가 없는 숫자 의미\n",
    "# 주어진 수들 중 소수의 개수를 출력\n",
    "\n",
    "tot_num = int(input())\n",
    "usr_input = map(int, input().split())\n",
    "\n",
    "# usr input 숫자들이 소수인지 확인\n",
    "prime = 0\n",
    "for num in usr_input:\n",
    "    non_prime = 0\n",
    "    if num > 1:\n",
    "        for i in range(2, num):\n",
    "            if num%i == 0:\n",
    "                non_prime += 1\n",
    "                break\n",
    "        if non_prime == 0:\n",
    "            prime += 1\n",
    "print(prime)\n",
    "        "
   ]
  },
  {
   "cell_type": "code",
   "execution_count": null,
   "metadata": {},
   "outputs": [],
   "source": []
  }
 ],
 "metadata": {
  "kernelspec": {
   "display_name": "Python 3",
   "language": "python",
   "name": "python3"
  },
  "language_info": {
   "codemirror_mode": {
    "name": "ipython",
    "version": 3
   },
   "file_extension": ".py",
   "mimetype": "text/x-python",
   "name": "python",
   "nbconvert_exporter": "python",
   "pygments_lexer": "ipython3",
   "version": "3.8.5"
  }
 },
 "nbformat": 4,
 "nbformat_minor": 4
}
