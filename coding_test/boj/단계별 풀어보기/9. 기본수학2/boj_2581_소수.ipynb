{
 "cells": [
  {
   "cell_type": "code",
   "execution_count": 13,
   "metadata": {},
   "outputs": [
    {
     "name": "stdout",
     "output_type": "stream",
     "text": [
      "1\n",
      "2\n",
      "2\n",
      "2\n"
     ]
    }
   ],
   "source": [
    "# m 과 n이 주어짐\n",
    "# 소수를 모두 골라\n",
    "# 소수가 없을때는 -1 출력\n",
    "m = int(input())\n",
    "n = int(input())\n",
    "prime = []\n",
    "for i in range(m, n+1):\n",
    "    flag = False\n",
    "    if i > 1:\n",
    "        for j in range(2, i):\n",
    "            if i > 1:\n",
    "                if i%j == 0:\n",
    "                    flag = True\n",
    "                    break\n",
    "        if not flag:\n",
    "            prime.append(i)\n",
    "if len(prime) <= 0:\n",
    "    print(-1)\n",
    "else:\n",
    "    print(sum(prime))\n",
    "    print(prime[0])"
   ]
  },
  {
   "cell_type": "code",
   "execution_count": null,
   "metadata": {},
   "outputs": [],
   "source": []
  }
 ],
 "metadata": {
  "kernelspec": {
   "display_name": "Python 3",
   "language": "python",
   "name": "python3"
  },
  "language_info": {
   "codemirror_mode": {
    "name": "ipython",
    "version": 3
   },
   "file_extension": ".py",
   "mimetype": "text/x-python",
   "name": "python",
   "nbconvert_exporter": "python",
   "pygments_lexer": "ipython3",
   "version": "3.8.5"
  }
 },
 "nbformat": 4,
 "nbformat_minor": 4
}
