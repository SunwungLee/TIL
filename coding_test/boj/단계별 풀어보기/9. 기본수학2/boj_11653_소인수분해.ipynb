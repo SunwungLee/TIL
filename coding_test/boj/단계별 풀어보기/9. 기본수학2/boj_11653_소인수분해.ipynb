{
 "cells": [
  {
   "cell_type": "code",
   "execution_count": 4,
   "metadata": {},
   "outputs": [
    {
     "name": "stdout",
     "output_type": "stream",
     "text": [
      "72\n",
      "2\n",
      "2\n",
      "2\n",
      "3\n",
      "3\n"
     ]
    }
   ],
   "source": [
    "usr_input = int(input())\n",
    "\n",
    "# 작은 수들로 나누기 시작\n",
    "div = 2\n",
    "prime = []\n",
    "while (True):\n",
    "    if usr_input == 1:\n",
    "        break\n",
    "    if usr_input%div == 0:\n",
    "        usr_input = usr_input/div\n",
    "        prime.append(div)\n",
    "        print(div)\n",
    "    else:\n",
    "        div += 1"
   ]
  },
  {
   "cell_type": "code",
   "execution_count": 9,
   "metadata": {},
   "outputs": [
    {
     "name": "stdout",
     "output_type": "stream",
     "text": [
      "9991\n",
      "97\n",
      "103\n"
     ]
    }
   ],
   "source": [
    "usr_input = int(input())\n",
    "\n",
    "# 작은 수들로 나누기 시작\n",
    "div = 2\n",
    "while (True):\n",
    "    if usr_input == 1:\n",
    "        break\n",
    "    if usr_input%div == 0:\n",
    "        usr_input = usr_input/div\n",
    "        print(div)\n",
    "    else:\n",
    "        div += 1"
   ]
  },
  {
   "cell_type": "code",
   "execution_count": null,
   "metadata": {},
   "outputs": [],
   "source": []
  }
 ],
 "metadata": {
  "kernelspec": {
   "display_name": "Python 3",
   "language": "python",
   "name": "python3"
  },
  "language_info": {
   "codemirror_mode": {
    "name": "ipython",
    "version": 3
   },
   "file_extension": ".py",
   "mimetype": "text/x-python",
   "name": "python",
   "nbconvert_exporter": "python",
   "pygments_lexer": "ipython3",
   "version": "3.8.5"
  }
 },
 "nbformat": 4,
 "nbformat_minor": 4
}
