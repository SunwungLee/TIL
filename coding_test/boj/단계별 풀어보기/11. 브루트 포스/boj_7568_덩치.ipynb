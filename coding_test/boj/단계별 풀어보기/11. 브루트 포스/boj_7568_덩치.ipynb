{
 "cells": [
  {
   "cell_type": "code",
   "execution_count": 2,
   "metadata": {},
   "outputs": [
    {
     "name": "stdout",
     "output_type": "stream",
     "text": [
      "5\n",
      "55 185\n",
      "58 183\n",
      "88 186\n",
      "60 175\n",
      "46 155\n",
      "2 2 1 2 5 "
     ]
    }
   ],
   "source": [
    "cases = int(input())\n",
    "students = []\n",
    "\n",
    "for _ in range(cases):\n",
    "    wt, ht = map(int, input().split())\n",
    "    students.append((wt, ht))\n",
    "\n",
    "# 한명한명 모든 사람들이랑 비교하면서 몇등인지 정하자\n",
    "for i in students:\n",
    "    rank = 1\n",
    "    for j in students:\n",
    "        if i[0] < j[0] and i[1] < j[1]:\n",
    "            rank += 1\n",
    "    print(rank, end=' ')"
   ]
  },
  {
   "cell_type": "code",
   "execution_count": null,
   "metadata": {},
   "outputs": [],
   "source": []
  }
 ],
 "metadata": {
  "kernelspec": {
   "display_name": "Python 3",
   "language": "python",
   "name": "python3"
  },
  "language_info": {
   "codemirror_mode": {
    "name": "ipython",
    "version": 3
   },
   "file_extension": ".py",
   "mimetype": "text/x-python",
   "name": "python",
   "nbconvert_exporter": "python",
   "pygments_lexer": "ipython3",
   "version": "3.8.5"
  }
 },
 "nbformat": 4,
 "nbformat_minor": 4
}
