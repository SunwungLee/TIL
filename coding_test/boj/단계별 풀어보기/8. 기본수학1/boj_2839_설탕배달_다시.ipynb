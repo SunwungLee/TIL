{
 "cells": [
  {
   "cell_type": "code",
   "execution_count": 27,
   "id": "75fdf17f",
   "metadata": {},
   "outputs": [
    {
     "name": "stdout",
     "output_type": "stream",
     "text": [
      "12\n",
      "7\n"
     ]
    }
   ],
   "source": [
    "n = int(input())\n",
    "\n",
    "max_five_div = n//5\n",
    "x = n - max_five_div*5\n",
    "if x%3 == 0:\n",
    "    print(max_five_div, x//3)\n",
    "else:\n",
    "    five_div = max_five_div - 1\n",
    "    if five_div < 0:\n",
    "        print(-1)\n",
    "    else:\n",
    "        for i in range(five_div):\n",
    "            five_div -= i\n",
    "            x = n - five_div*5\n",
    "            if x%3 == 0:\n",
    "                print(five_div, x//3)\n",
    "                break\n",
    "            print(x)\n"
   ]
  },
  {
   "cell_type": "code",
   "execution_count": 28,
   "id": "59d9ccb1",
   "metadata": {},
   "outputs": [
    {
     "name": "stdout",
     "output_type": "stream",
     "text": [
      "12\n",
      "4\n"
     ]
    }
   ],
   "source": [
    "sugar = int(input())\n",
    "bag=0\n",
    "\n",
    "while sugar >= 0:\n",
    "    if sugar%5 == 0:\n",
    "        bag += (sugar//5)\n",
    "        print(bag)\n",
    "        break\n",
    "    sugar -= 3\n",
    "    bag += 1\n",
    "else:\n",
    "    print(-1)"
   ]
  },
  {
   "cell_type": "code",
   "execution_count": null,
   "id": "83da76c3",
   "metadata": {},
   "outputs": [],
   "source": []
  }
 ],
 "metadata": {
  "kernelspec": {
   "display_name": "Python 3",
   "language": "python",
   "name": "python3"
  },
  "language_info": {
   "codemirror_mode": {
    "name": "ipython",
    "version": 3
   },
   "file_extension": ".py",
   "mimetype": "text/x-python",
   "name": "python",
   "nbconvert_exporter": "python",
   "pygments_lexer": "ipython3",
   "version": "3.8.10"
  }
 },
 "nbformat": 4,
 "nbformat_minor": 5
}
