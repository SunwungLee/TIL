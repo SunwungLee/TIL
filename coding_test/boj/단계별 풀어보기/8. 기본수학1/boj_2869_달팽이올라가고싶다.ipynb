{
 "cells": [
  {
   "cell_type": "code",
   "execution_count": 9,
   "id": "64ae03f0",
   "metadata": {},
   "outputs": [
    {
     "name": "stdout",
     "output_type": "stream",
     "text": [
      "100 99 1000000000\n",
      "999999901\n"
     ]
    }
   ],
   "source": [
    "a, b, v = map(int, input().split())\n",
    "n = (v-b)/(a-b)\n",
    "if n*10%10 != 0:\n",
    "    print(int(n+1))\n",
    "else:\n",
    "    print(int(n))"
   ]
  },
  {
   "cell_type": "code",
   "execution_count": null,
   "id": "5b8e45e4",
   "metadata": {},
   "outputs": [],
   "source": []
  }
 ],
 "metadata": {
  "kernelspec": {
   "display_name": "Python 3",
   "language": "python",
   "name": "python3"
  },
  "language_info": {
   "codemirror_mode": {
    "name": "ipython",
    "version": 3
   },
   "file_extension": ".py",
   "mimetype": "text/x-python",
   "name": "python",
   "nbconvert_exporter": "python",
   "pygments_lexer": "ipython3",
   "version": "3.8.10"
  }
 },
 "nbformat": 4,
 "nbformat_minor": 5
}
