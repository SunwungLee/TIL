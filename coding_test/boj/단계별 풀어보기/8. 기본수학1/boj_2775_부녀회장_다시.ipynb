{
 "cells": [
  {
   "cell_type": "code",
   "execution_count": 17,
   "id": "12d9818c",
   "metadata": {},
   "outputs": [
    {
     "name": "stdout",
     "output_type": "stream",
     "text": [
      "1\n",
      "13\n",
      "13\n",
      "467\n"
     ]
    }
   ],
   "source": [
    "# a층 b호에 살려면, 자신의 아래(a-1)층 1호부터 b호까지 사람들의 수\n",
    "# 합 만큼 데려와 살아야 함.\n",
    "\n",
    "# k층 n호에는 몇명 살고 있는지 출력\n",
    "# 아파트는 0층부터, 각층은 1호부터, 0층 i호에는 i명이 산다.\n",
    "\n",
    "test_cases = int(input())\n",
    "\n",
    "for i in range(test_cases):\n",
    "    total = 0\n",
    "    k = int(input())\n",
    "    n = int(input())\n",
    "    for j in range(k):\n",
    "        total += ((n-j)*((n-j)+1))//2\n",
    "    total += k-1\n",
    "    print(total)"
   ]
  },
  {
   "cell_type": "code",
   "execution_count": 16,
   "id": "3b03a2cc",
   "metadata": {},
   "outputs": [
    {
     "name": "stdout",
     "output_type": "stream",
     "text": [
      "1\n",
      "13\n",
      "13\n",
      "9657700\n"
     ]
    }
   ],
   "source": [
    "t = int(input())\n",
    "\n",
    "for _ in range(t):  \n",
    "    floor = int(input())  # 층\n",
    "    num = int(input())  # 호\n",
    "    f0 = [x for x in range(1, num+1)]  # 0층 리스트\n",
    "    for k in range(floor):  # 층 수 만큼 반복\n",
    "        for i in range(1, num):  # 1 ~ n-1까지 (인덱스로 사용)\n",
    "            f0[i] += f0[i-1]  # 층별 각 호실의 사람 수를 변경\n",
    "    print(f0[-1])  # 가장 마지막 수 출력"
   ]
  },
  {
   "cell_type": "code",
   "execution_count": null,
   "id": "4df14bb0",
   "metadata": {},
   "outputs": [],
   "source": []
  }
 ],
 "metadata": {
  "kernelspec": {
   "display_name": "Python 3",
   "language": "python",
   "name": "python3"
  },
  "language_info": {
   "codemirror_mode": {
    "name": "ipython",
    "version": 3
   },
   "file_extension": ".py",
   "mimetype": "text/x-python",
   "name": "python",
   "nbconvert_exporter": "python",
   "pygments_lexer": "ipython3",
   "version": "3.8.10"
  }
 },
 "nbformat": 4,
 "nbformat_minor": 5
}
