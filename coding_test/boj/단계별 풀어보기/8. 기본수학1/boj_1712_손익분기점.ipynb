{
 "cells": [
  {
   "cell_type": "code",
   "execution_count": 12,
   "id": "d1f83628",
   "metadata": {},
   "outputs": [
    {
     "name": "stdout",
     "output_type": "stream",
     "text": [
      "1000 70 170\n",
      "11\n"
     ]
    }
   ],
   "source": [
    "# 고정비용 A, 1대당 가변비용 B\n",
    "# 1대 가격 C, 판매대수 N\n",
    "# N*C - B*N - A > 0\n",
    "# N(C-B)-A > 0\n",
    "# N(C-B) > A\n",
    "# (C-B) > A/N, IF B>C, 손익분기점 x\n",
    "# N(C-B) = A\n",
    "# N = A/(C-B)\n",
    "\n",
    "#\n",
    "# 손익 분기점이 존재하지 않으면 -1\n",
    "#\n",
    "a, b, c = map(int, input().split())\n",
    "if b >= c:\n",
    "    print(\"-1\")\n",
    "else:\n",
    "    n = int(a / (c-b))+1\n",
    "    print(n)"
   ]
  },
  {
   "cell_type": "code",
   "execution_count": null,
   "id": "5dcbc718",
   "metadata": {},
   "outputs": [],
   "source": []
  }
 ],
 "metadata": {
  "kernelspec": {
   "display_name": "Python 3",
   "language": "python",
   "name": "python3"
  },
  "language_info": {
   "codemirror_mode": {
    "name": "ipython",
    "version": 3
   },
   "file_extension": ".py",
   "mimetype": "text/x-python",
   "name": "python",
   "nbconvert_exporter": "python",
   "pygments_lexer": "ipython3",
   "version": "3.8.10"
  }
 },
 "nbformat": 4,
 "nbformat_minor": 5
}
