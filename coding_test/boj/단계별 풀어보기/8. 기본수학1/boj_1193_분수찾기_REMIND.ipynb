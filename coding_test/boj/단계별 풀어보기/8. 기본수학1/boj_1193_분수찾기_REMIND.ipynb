{
 "cells": [
  {
   "cell_type": "code",
   "execution_count": 6,
   "id": "e978571d",
   "metadata": {},
   "outputs": [
    {
     "name": "stdout",
     "output_type": "stream",
     "text": [
      "6\n",
      "1/3\n"
     ]
    }
   ],
   "source": [
    "X=int(input())\n",
    "\n",
    "line=1\n",
    "while X>line:\n",
    "    X-=line\n",
    "    line+=1\n",
    "    \n",
    "if line%2==0:\n",
    "    a=X\n",
    "    b=line-X+1\n",
    "else:\n",
    "    a=line-X+1\n",
    "    b=X\n",
    "print(a, '/', b, sep='')"
   ]
  },
  {
   "cell_type": "code",
   "execution_count": null,
   "id": "fb27f7e4",
   "metadata": {},
   "outputs": [],
   "source": []
  }
 ],
 "metadata": {
  "kernelspec": {
   "display_name": "Python 3",
   "language": "python",
   "name": "python3"
  },
  "language_info": {
   "codemirror_mode": {
    "name": "ipython",
    "version": 3
   },
   "file_extension": ".py",
   "mimetype": "text/x-python",
   "name": "python",
   "nbconvert_exporter": "python",
   "pygments_lexer": "ipython3",
   "version": "3.8.10"
  }
 },
 "nbformat": 4,
 "nbformat_minor": 5
}
