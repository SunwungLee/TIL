{
 "cells": [
  {
   "cell_type": "code",
   "execution_count": 2,
   "id": "6ffa7a7a",
   "metadata": {},
   "outputs": [
    {
     "name": "stdout",
     "output_type": "stream",
     "text": [
      "3\n",
      "0 3\n",
      "3\n",
      "1 5\n",
      "3\n",
      "45 50\n",
      "4\n"
     ]
    }
   ],
   "source": [
    "# 1011번\n",
    "\n",
    "import math\n",
    "\n",
    "T = int(input())\n",
    "\n",
    "for _ in range(T):\n",
    "    x, y = map(int, input().split())\n",
    "    distance = y - x\n",
    "    count = 0\n",
    "\n",
    "    num = math.floor(math.sqrt(distance))   # n제곱 <= 거리 < (n+1)제곱일때 n제곱\n",
    "    num_square = num ** 2   # n제곱의 제곱\n",
    "    increase_num = math.sqrt(num_square)\n",
    "\n",
    "    if distance > num_square + increase_num:\n",
    "        count = 2 * num + 1\n",
    "    elif distance > num_square and distance <= num_square + increase_num:\n",
    "        count = 2 * num\n",
    "    elif distance == num_square:\n",
    "        count = 2 * num - 1\n",
    "\n",
    "    if distance < 4:\n",
    "        count = distance\n",
    "\n",
    "    print(count)"
   ]
  },
  {
   "cell_type": "code",
   "execution_count": null,
   "id": "6013fc6e",
   "metadata": {},
   "outputs": [],
   "source": []
  }
 ],
 "metadata": {
  "kernelspec": {
   "display_name": "Python 3",
   "language": "python",
   "name": "python3"
  },
  "language_info": {
   "codemirror_mode": {
    "name": "ipython",
    "version": 3
   },
   "file_extension": ".py",
   "mimetype": "text/x-python",
   "name": "python",
   "nbconvert_exporter": "python",
   "pygments_lexer": "ipython3",
   "version": "3.8.10"
  }
 },
 "nbformat": 4,
 "nbformat_minor": 5
}
