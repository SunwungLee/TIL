{
 "cells": [
  {
   "cell_type": "code",
   "execution_count": 19,
   "id": "9689ee95",
   "metadata": {},
   "outputs": [
    {
     "name": "stdout",
     "output_type": "stream",
     "text": [
      "2\n",
      "6 10 12\n",
      "603\n",
      "30 72 72\n",
      "1203\n"
     ]
    }
   ],
   "source": [
    "# w: 각 층의 방개수\n",
    "# h: 건물 층수\n",
    "# 1<=h, w<=99\n",
    "# h*w 형태의 호텔\n",
    "# \n",
    "\n",
    "test_num = int(input())\n",
    "for i in range(test_num):\n",
    "    h, w, n = map(int, input().split())\n",
    "    height = n%h\n",
    "    if height == 0: ##################\n",
    "        height = h ####################\n",
    "    room = (n//h) + 1\n",
    "    print(f'{height*100+room}')\n",
    "    "
   ]
  },
  {
   "cell_type": "code",
   "execution_count": 10,
   "id": "9cfd8cc5",
   "metadata": {},
   "outputs": [
    {
     "data": {
      "text/plain": [
       "1"
      ]
     },
     "execution_count": 10,
     "metadata": {},
     "output_type": "execute_result"
    }
   ],
   "source": [
    "t = int(input())\n",
    "\n",
    "for i in range(t):\n",
    "    h, w, n = map(int, input().split())\n",
    "    num = n//h + 1\n",
    "    floor = n % h\n",
    "    if n % h == 0:  # h의 배수이면,\n",
    "        num = n//h\n",
    "        floor = h\n",
    "    print(f'{floor*100+num}')"
   ]
  },
  {
   "cell_type": "code",
   "execution_count": null,
   "id": "c241774d",
   "metadata": {},
   "outputs": [],
   "source": []
  }
 ],
 "metadata": {
  "kernelspec": {
   "display_name": "Python 3",
   "language": "python",
   "name": "python3"
  },
  "language_info": {
   "codemirror_mode": {
    "name": "ipython",
    "version": 3
   },
   "file_extension": ".py",
   "mimetype": "text/x-python",
   "name": "python",
   "nbconvert_exporter": "python",
   "pygments_lexer": "ipython3",
   "version": "3.8.10"
  }
 },
 "nbformat": 4,
 "nbformat_minor": 5
}
