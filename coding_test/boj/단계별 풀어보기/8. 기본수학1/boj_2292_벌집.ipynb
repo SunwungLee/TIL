{
 "cells": [
  {
   "cell_type": "code",
   "execution_count": 25,
   "id": "ea0c17a0",
   "metadata": {},
   "outputs": [
    {
     "name": "stdout",
     "output_type": "stream",
     "text": [
      "13\n",
      "3\n"
     ]
    }
   ],
   "source": [
    "import math\n",
    "usr_input = int(input())\n",
    "\n",
    "n = math.ceil((-1 + math.sqrt(1 + (4*(usr_input-1)/3)))/2)\n",
    "print(n+1)"
   ]
  },
  {
   "cell_type": "code",
   "execution_count": null,
   "id": "b5291d00",
   "metadata": {},
   "outputs": [],
   "source": []
  }
 ],
 "metadata": {
  "kernelspec": {
   "display_name": "Python 3",
   "language": "python",
   "name": "python3"
  },
  "language_info": {
   "codemirror_mode": {
    "name": "ipython",
    "version": 3
   },
   "file_extension": ".py",
   "mimetype": "text/x-python",
   "name": "python",
   "nbconvert_exporter": "python",
   "pygments_lexer": "ipython3",
   "version": "3.8.10"
  }
 },
 "nbformat": 4,
 "nbformat_minor": 5
}
