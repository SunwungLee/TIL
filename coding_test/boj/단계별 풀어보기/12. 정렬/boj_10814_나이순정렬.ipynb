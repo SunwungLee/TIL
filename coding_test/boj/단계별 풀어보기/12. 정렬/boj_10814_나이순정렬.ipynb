{
 "cells": [
  {
   "cell_type": "code",
   "execution_count": 1,
   "metadata": {},
   "outputs": [
    {
     "name": "stdout",
     "output_type": "stream",
     "text": [
      "3\n",
      "21 Junkyu\n",
      "21 Dohyun\n",
      "20 Sunyoung\n",
      "20 Sunyoung\n",
      "21 Junkyu\n",
      "21 Dohyun\n"
     ]
    }
   ],
   "source": [
    "# 나이와 이름이 가입한 순서대로\n",
    "# 나이가 증가하는 순으로, 먼저 가입한 순서로\n",
    "cases = int(input())\n",
    "customers = []\n",
    "\n",
    "for i in range(cases):\n",
    "    age, name = input().split()\n",
    "    age = int(age)\n",
    "    customers.append((i, age, name))\n",
    "\n",
    "for customer in sorted(customers, key=lambda x: (x[1], x[0])):\n",
    "    print(customer[1], customer[2])"
   ]
  },
  {
   "cell_type": "code",
   "execution_count": null,
   "metadata": {},
   "outputs": [],
   "source": []
  }
 ],
 "metadata": {
  "kernelspec": {
   "display_name": "Python 3",
   "language": "python",
   "name": "python3"
  },
  "language_info": {
   "codemirror_mode": {
    "name": "ipython",
    "version": 3
   },
   "file_extension": ".py",
   "mimetype": "text/x-python",
   "name": "python",
   "nbconvert_exporter": "python",
   "pygments_lexer": "ipython3",
   "version": "3.8.5"
  }
 },
 "nbformat": 4,
 "nbformat_minor": 4
}
