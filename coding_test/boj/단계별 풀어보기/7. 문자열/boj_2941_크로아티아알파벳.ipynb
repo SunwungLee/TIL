{
 "cells": [
  {
   "cell_type": "code",
   "execution_count": 32,
   "id": "a2277b9c",
   "metadata": {},
   "outputs": [
    {
     "name": "stdout",
     "output_type": "stream",
     "text": [
      "nljj\n",
      "3\n"
     ]
    }
   ],
   "source": [
    "case = ['c=', 'c-', 'dz=', 'd-', 'lj', 'nj', 's=', 'z=']\n",
    "\n",
    "usr_input = input()\n",
    "if i in case:\n",
    "    usr_input = usr_input.replace(i, '*')\n",
    "print(len(usr_input))"
   ]
  },
  {
   "cell_type": "code",
   "execution_count": 21,
   "id": "d6084900",
   "metadata": {},
   "outputs": [
    {
     "name": "stdout",
     "output_type": "stream",
     "text": [
      "3\n"
     ]
    }
   ],
   "source": [
    "case = ['c=', 'c-', 'dz=', 'd-', 'lj', 'nj', 's=', 'z=']\n",
    "\n",
    "usr_input = input()\n",
    "if i in case:\n",
    "    usr_input = usr_input.replace(i, '*')\n",
    "print(len(usr_input))"
   ]
  },
  {
   "cell_type": "code",
   "execution_count": 6,
   "id": "9503a3de",
   "metadata": {},
   "outputs": [
    {
     "data": {
      "text/plain": [
       "{'=', 'a', 'e', 'j', 'k', 'l', 'n', 's'}"
      ]
     },
     "execution_count": 6,
     "metadata": {},
     "output_type": "execute_result"
    }
   ],
   "source": [
    "croatia = ['c=', 'c-', 'dz=', 'd-', 'lj', 'nj', 's=', 'z=']\n",
    "word = input()\n",
    "\n",
    "for i in croatia :\n",
    "    word = word.replace(i, '*')  # input 변수와 동일한 이름의 변수\n",
    "print(len(word))"
   ]
  },
  {
   "cell_type": "code",
   "execution_count": null,
   "id": "9e96a6a8",
   "metadata": {},
   "outputs": [],
   "source": []
  }
 ],
 "metadata": {
  "kernelspec": {
   "display_name": "Python 3",
   "language": "python",
   "name": "python3"
  },
  "language_info": {
   "codemirror_mode": {
    "name": "ipython",
    "version": 3
   },
   "file_extension": ".py",
   "mimetype": "text/x-python",
   "name": "python",
   "nbconvert_exporter": "python",
   "pygments_lexer": "ipython3",
   "version": "3.8.10"
  }
 },
 "nbformat": 4,
 "nbformat_minor": 5
}
