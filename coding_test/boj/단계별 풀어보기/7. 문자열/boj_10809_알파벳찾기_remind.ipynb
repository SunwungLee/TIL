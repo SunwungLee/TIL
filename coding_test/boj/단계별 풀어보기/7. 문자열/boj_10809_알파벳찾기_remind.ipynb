{
 "cells": [
  {
   "cell_type": "code",
   "execution_count": 22,
   "id": "6487dbc5",
   "metadata": {},
   "outputs": [
    {
     "name": "stdout",
     "output_type": "stream",
     "text": [
      "baekjoon\n",
      "1 0 -1 -1 2 -1 -1 -1 -1 4 3 -1 -1 7 5 -1 -1 -1 -1 -1 -1 -1 -1 -1 -1 -1 "
     ]
    }
   ],
   "source": [
    "input_str = input()\n",
    "alphabet = ['a','b','c','d','e','f','g','h','i','j','k','l','m','n',\n",
    "           'o','p','q','r','s','t','u','v','w','x','y','z']\n",
    "res = dict()\n",
    "for a in alphabet:\n",
    "    res[a] = -1\n",
    "for alpha in range(len(input_str)):\n",
    "    if res[input_str[alpha]] == -1:\n",
    "        res[input_str[alpha]] = alpha\n",
    "ans = []\n",
    "for i in res.values():\n",
    "    print(i, end=' ') ## 이 부분 활용 잘하길"
   ]
  },
  {
   "cell_type": "code",
   "execution_count": 19,
   "id": "3d648e85",
   "metadata": {},
   "outputs": [
    {
     "name": "stdout",
     "output_type": "stream",
     "text": [
      "baekjoon\n",
      "1 0 -1 -1 2 -1 -1 -1 -1 4 3 -1 -1 7 5 -1 -1 -1 -1 -1 -1 -1 -1 -1 -1 -1 "
     ]
    }
   ],
   "source": [
    "S = input()\n",
    "check = [-1]*26\n",
    "\n",
    "for i in range(len(S)):\n",
    "    if check[ord(S[i])-97] != -1: # 아스키코드를 사용해서 알파벳분류\n",
    "        continue\n",
    "    else:\n",
    "        check[ord(S[i])-97] = i\n",
    "for i in range(len(check)):\n",
    "    print(check[i], end = ' ')"
   ]
  },
  {
   "cell_type": "code",
   "execution_count": null,
   "id": "22508696",
   "metadata": {},
   "outputs": [],
   "source": []
  }
 ],
 "metadata": {
  "kernelspec": {
   "display_name": "Python 3",
   "language": "python",
   "name": "python3"
  },
  "language_info": {
   "codemirror_mode": {
    "name": "ipython",
    "version": 3
   },
   "file_extension": ".py",
   "mimetype": "text/x-python",
   "name": "python",
   "nbconvert_exporter": "python",
   "pygments_lexer": "ipython3",
   "version": "3.8.10"
  }
 },
 "nbformat": 4,
 "nbformat_minor": 5
}
