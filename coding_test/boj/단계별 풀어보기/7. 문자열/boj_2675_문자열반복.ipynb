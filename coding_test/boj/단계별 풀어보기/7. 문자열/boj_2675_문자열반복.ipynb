{
 "cells": [
  {
   "cell_type": "code",
   "execution_count": 14,
   "id": "b4e2d231",
   "metadata": {},
   "outputs": [
    {
     "name": "stdout",
     "output_type": "stream",
     "text": [
      "2\n",
      "3 ABC\n",
      "5 /HTP\n",
      "[3, 5]\n",
      "['ABC', '/HTP']\n",
      "AAABBBCCC\n",
      "/////HHHHHTTTTTPPPPP\n"
     ]
    }
   ],
   "source": [
    "num_cases = int(input())\n",
    "iter_len = []\n",
    "S = []\n",
    "for i in range(0, num_cases):\n",
    "    usr_input = input().split(' ')\n",
    "    iter_len.append(int(usr_input[0]))\n",
    "    S.append(usr_input[1])\n",
    "for i in range(0, num_cases):\n",
    "    for j in range(len(S[i])):\n",
    "        print(S[i][j]*iter_len[i], end='')\n",
    "    print()"
   ]
  },
  {
   "cell_type": "markdown",
   "id": "10366c2f",
   "metadata": {},
   "source": [
    "### "
   ]
  },
  {
   "cell_type": "code",
   "execution_count": null,
   "id": "fc166bad",
   "metadata": {},
   "outputs": [],
   "source": []
  }
 ],
 "metadata": {
  "kernelspec": {
   "display_name": "Python 3",
   "language": "python",
   "name": "python3"
  },
  "language_info": {
   "codemirror_mode": {
    "name": "ipython",
    "version": 3
   },
   "file_extension": ".py",
   "mimetype": "text/x-python",
   "name": "python",
   "nbconvert_exporter": "python",
   "pygments_lexer": "ipython3",
   "version": "3.8.10"
  }
 },
 "nbformat": 4,
 "nbformat_minor": 5
}
