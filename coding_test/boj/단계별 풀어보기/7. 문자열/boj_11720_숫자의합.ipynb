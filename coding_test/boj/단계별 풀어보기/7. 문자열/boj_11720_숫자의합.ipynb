{
 "cells": [
  {
   "cell_type": "code",
   "execution_count": 6,
   "id": "3d1e5596",
   "metadata": {},
   "outputs": [
    {
     "name": "stdout",
     "output_type": "stream",
     "text": [
      "25\n",
      "7000000000000000000000000\n",
      "7\n"
     ]
    }
   ],
   "source": [
    "tot = int(input())\n",
    "input_num = list(map(int, input()))\n",
    "print(sum(input_num))"
   ]
  },
  {
   "cell_type": "code",
   "execution_count": null,
   "id": "aec2e2ba",
   "metadata": {},
   "outputs": [],
   "source": []
  }
 ],
 "metadata": {
  "kernelspec": {
   "display_name": "Python 3",
   "language": "python",
   "name": "python3"
  },
  "language_info": {
   "codemirror_mode": {
    "name": "ipython",
    "version": 3
   },
   "file_extension": ".py",
   "mimetype": "text/x-python",
   "name": "python",
   "nbconvert_exporter": "python",
   "pygments_lexer": "ipython3",
   "version": "3.8.10"
  }
 },
 "nbformat": 4,
 "nbformat_minor": 5
}
