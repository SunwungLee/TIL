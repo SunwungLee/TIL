{
 "cells": [
  {
   "cell_type": "code",
   "execution_count": 15,
   "id": "9d26bd79",
   "metadata": {},
   "outputs": [
    {
     "name": "stdout",
     "output_type": "stream",
     "text": [
      "asdfasdfadsfadsf\n",
      "80\n"
     ]
    }
   ],
   "source": [
    "usr_input = input().lower()\n",
    "number=[]\n",
    "alphabet = 'abcdefghijklmnopqrstuvwxyz'\n",
    "rule = dict()\n",
    "n=1\n",
    "for i in range(len(alphabet)):\n",
    "    if i%3 == 0:\n",
    "        n+=1\n",
    "    rule[alphabet[i]] = n\n",
    "    \n",
    "for dial in usr_input:\n",
    "    t = int(rule[dial] + 1)\n",
    "    number.append(t)\n",
    "print(sum(number))"
   ]
  },
  {
   "cell_type": "code",
   "execution_count": 17,
   "id": "68f52c4b",
   "metadata": {},
   "outputs": [
    {
     "name": "stdout",
     "output_type": "stream",
     "text": [
      "ASDFASDFADSFADSF\n",
      "76\n"
     ]
    }
   ],
   "source": [
    "dial = ['ABC', 'DEF', 'GHI', 'JKL', 'MNO', 'PQRS', 'TUV', 'WXYZ']\n",
    "a = input()\n",
    "ret = 0\n",
    "for j in range(len(a)):\n",
    "    for i in dial:\n",
    "        if a[j] in i:\n",
    "            ret += dial.index(i)+3\n",
    "print(ret)\n"
   ]
  },
  {
   "cell_type": "code",
   "execution_count": null,
   "id": "9b6484a9",
   "metadata": {},
   "outputs": [],
   "source": []
  }
 ],
 "metadata": {
  "kernelspec": {
   "display_name": "Python 3",
   "language": "python",
   "name": "python3"
  },
  "language_info": {
   "codemirror_mode": {
    "name": "ipython",
    "version": 3
   },
   "file_extension": ".py",
   "mimetype": "text/x-python",
   "name": "python",
   "nbconvert_exporter": "python",
   "pygments_lexer": "ipython3",
   "version": "3.8.10"
  }
 },
 "nbformat": 4,
 "nbformat_minor": 5
}
