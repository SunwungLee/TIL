{
 "cells": [
  {
   "cell_type": "code",
   "execution_count": 1,
   "id": "f7685b74",
   "metadata": {},
   "outputs": [
    {
     "name": "stdout",
     "output_type": "stream",
     "text": [
      "The curious case of benjamin button\n",
      "6\n"
     ]
    }
   ],
   "source": [
    "usr_input = input().split()\n",
    "print(len(usr_input))"
   ]
  },
  {
   "cell_type": "code",
   "execution_count": null,
   "id": "c3413cec",
   "metadata": {},
   "outputs": [],
   "source": []
  }
 ],
 "metadata": {
  "kernelspec": {
   "display_name": "Python 3",
   "language": "python",
   "name": "python3"
  },
  "language_info": {
   "codemirror_mode": {
    "name": "ipython",
    "version": 3
   },
   "file_extension": ".py",
   "mimetype": "text/x-python",
   "name": "python",
   "nbconvert_exporter": "python",
   "pygments_lexer": "ipython3",
   "version": "3.8.10"
  }
 },
 "nbformat": 4,
 "nbformat_minor": 5
}
