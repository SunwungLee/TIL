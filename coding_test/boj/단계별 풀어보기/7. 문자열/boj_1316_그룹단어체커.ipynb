{
 "cells": [
  {
   "cell_type": "code",
   "execution_count": 4,
   "id": "d6c071a2",
   "metadata": {},
   "outputs": [
    {
     "name": "stdout",
     "output_type": "stream",
     "text": [
      "4\n",
      "aba\n",
      "abab\n",
      "abcabc\n",
      "a\n",
      "1\n"
     ]
    }
   ],
   "source": [
    "input_num = int(input())\n",
    "cnt = 0\n",
    "for i in range(input_num):\n",
    "    usr_input = input()\n",
    "    checker = []\n",
    "    flag = 0\n",
    "    prev=''\n",
    "    for j in usr_input:\n",
    "        if j in checker:\n",
    "            if prev != j:\n",
    "                flag = 1\n",
    "                break\n",
    "        prev=j\n",
    "        checker.append(j)\n",
    "    if flag ==0:\n",
    "        cnt += 1\n",
    "print(cnt)"
   ]
  },
  {
   "cell_type": "code",
   "execution_count": null,
   "id": "bb8e0267",
   "metadata": {},
   "outputs": [],
   "source": []
  }
 ],
 "metadata": {
  "kernelspec": {
   "display_name": "Python 3",
   "language": "python",
   "name": "python3"
  },
  "language_info": {
   "codemirror_mode": {
    "name": "ipython",
    "version": 3
   },
   "file_extension": ".py",
   "mimetype": "text/x-python",
   "name": "python",
   "nbconvert_exporter": "python",
   "pygments_lexer": "ipython3",
   "version": "3.8.10"
  }
 },
 "nbformat": 4,
 "nbformat_minor": 5
}
