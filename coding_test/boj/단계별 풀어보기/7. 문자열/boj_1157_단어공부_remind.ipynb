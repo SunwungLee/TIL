{
 "cells": [
  {
   "cell_type": "code",
   "execution_count": 24,
   "id": "1ef86f0e",
   "metadata": {},
   "outputs": [
    {
     "name": "stdout",
     "output_type": "stream",
     "text": [
      "aaa\n",
      "A\n"
     ]
    }
   ],
   "source": [
    "usr_input = input().lower()\n",
    "alpha = set(sorted(usr_input))\n",
    "res=dict()\n",
    "for i in alpha:\n",
    "    res[i] = usr_input.count(i)\n",
    "\n",
    "maxi = 0\n",
    "flag = 0\n",
    "for i in res.keys():\n",
    "    #print(res[i])\n",
    "    if res[i] > maxi:\n",
    "        flag = 0\n",
    "        maxi = res[i]\n",
    "        m_chr = i\n",
    "    elif res[i] == maxi:\n",
    "        flag =1\n",
    "if flag == 1:\n",
    "    print(\"?\")\n",
    "else:\n",
    "    print(m_chr.upper())"
   ]
  },
  {
   "cell_type": "code",
   "execution_count": 28,
   "id": "b63bb954",
   "metadata": {},
   "outputs": [
    {
     "name": "stdout",
     "output_type": "stream",
     "text": [
      "mississipi\n",
      "['I', 'S', 'P', 'M']\n",
      "?\n"
     ]
    }
   ],
   "source": [
    "#\n",
    "# 다른사람 풀이\n",
    "#\n",
    "words = input().upper()\n",
    "uniq_words = list(set(words)) # 입력받은 문자열에서 중복값 제거\n",
    "\n",
    "cnt=[]\n",
    "for x in uniq_words:\n",
    "    c = words.count(x)\n",
    "    cnt.append(c)\n",
    "\n",
    "if cnt.count(max(cnt)) > 1:\n",
    "    print('?')\n",
    "else:\n",
    "    max_idx = cnt.index(max(cnt_list))\n",
    "    print(uniq_words[max_idx])"
   ]
  },
  {
   "cell_type": "code",
   "execution_count": null,
   "id": "d08e284d",
   "metadata": {},
   "outputs": [],
   "source": []
  }
 ],
 "metadata": {
  "kernelspec": {
   "display_name": "Python 3",
   "language": "python",
   "name": "python3"
  },
  "language_info": {
   "codemirror_mode": {
    "name": "ipython",
    "version": 3
   },
   "file_extension": ".py",
   "mimetype": "text/x-python",
   "name": "python",
   "nbconvert_exporter": "python",
   "pygments_lexer": "ipython3",
   "version": "3.8.10"
  }
 },
 "nbformat": 4,
 "nbformat_minor": 5
}
