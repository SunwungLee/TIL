{
 "cells": [
  {
   "cell_type": "code",
   "execution_count": 110,
   "metadata": {},
   "outputs": [
    {
     "data": {
      "text/plain": [
       "'\\nKaggle Competition\\nTitle: Predict Future Sales\\nURL: https://www.kaggle.com/c/competitive-data-science-predict-future-sales\\n\\n참고: https://www.kaggle.com/sarthakbatra/predicting-sales-tutorial\\n\\n본 jupyter notebook은 참고 링크에 있는 내용을 그대로 타이핑 하면서 캐글에 익숙해지고, 공부하는 의도로 작성되었습니다.\\n\\n작성자: 이선웅, 지해찬, 황현길\\n작성일: 2021.07.12\\n'"
      ]
     },
     "execution_count": 110,
     "metadata": {},
     "output_type": "execute_result"
    }
   ],
   "source": [
    "'''\n",
    "Kaggle Competition\n",
    "Title: Predict Future Sales\n",
    "URL: https://www.kaggle.com/c/competitive-data-science-predict-future-sales\n",
    "\n",
    "참고: https://www.kaggle.com/sarthakbatra/predicting-sales-tutorial\n",
    "\n",
    "본 jupyter notebook은 참고 링크에 있는 내용을 그대로 타이핑 하면서 캐글에 익숙해지고, 공부하는 의도로 작성되었습니다.\n",
    "\n",
    "작성자: 이선웅, 지해찬, 황현길\n",
    "작성일: 2021.07.12\n",
    "'''"
   ]
  },
  {
   "cell_type": "code",
   "execution_count": 5,
   "metadata": {
    "_cell_guid": "b1076dfc-b9ad-4769-8c92-a6c4dae69d19",
    "_uuid": "8f2839f25d086af736a60e9eeb907d3b93b6e0e5"
   },
   "outputs": [],
   "source": [
    "# This Python 3 environment comes with many helpful analytics libraries installed\n",
    "# It is defined by the kaggle/python docker image: https://github.com/kaggle/docker-python\n",
    "# For example, here's several helpful packages to load in \n",
    "\n",
    "import numpy as np # linear algebra\n",
    "import pandas as pd # data processing, CSV file I/O (e.g. pd.read_csv)\n",
    "import matplotlib.pyplot as plt\n",
    "import seaborn as sns \n",
    "#import altair as alt \n",
    "\n",
    "# Input data files are available in the \"../input/\" directory.\n",
    "# For example, running this (by clicking run or pressing Shift+Enter) will list the files in the input directory\n",
    "\n",
    "import os\n",
    "#print(os.listdir(\"../input\"))\n",
    "\n",
    "# Any results you write to the current directory are saved as output."
   ]
  },
  {
   "cell_type": "markdown",
   "metadata": {},
   "source": [
    "# Reading Data"
   ]
  },
  {
   "cell_type": "code",
   "execution_count": 6,
   "metadata": {
    "_cell_guid": "79c7e3d0-c299-4dcb-8224-4455121ee9b0",
    "_uuid": "d629ff2d2480ee46fbb7e2d37f6b5fab8052498a"
   },
   "outputs": [],
   "source": [
    "train = pd.read_csv('../dataset/sales_train.csv')\n",
    "items = pd.read_csv('../dataset/items.csv')\n",
    "categories = pd.read_csv('../dataset/item_categories.csv')\n",
    "shops = pd.read_csv('../dataset/shops.csv')\n",
    "test = pd.read_csv('../dataset/test.csv')\n",
    "submission = pd.read_csv('../dataset/sample_submission.csv')"
   ]
  },
  {
   "cell_type": "code",
   "execution_count": 7,
   "metadata": {
    "_kg_hide-input": false,
    "_uuid": "787102b803e8f9831ad6ab819683b04ccbd5dc95"
   },
   "outputs": [
    {
     "data": {
      "text/html": [
       "<div>\n",
       "<style scoped>\n",
       "    .dataframe tbody tr th:only-of-type {\n",
       "        vertical-align: middle;\n",
       "    }\n",
       "\n",
       "    .dataframe tbody tr th {\n",
       "        vertical-align: top;\n",
       "    }\n",
       "\n",
       "    .dataframe thead th {\n",
       "        text-align: right;\n",
       "    }\n",
       "</style>\n",
       "<table border=\"1\" class=\"dataframe\">\n",
       "  <thead>\n",
       "    <tr style=\"text-align: right;\">\n",
       "      <th></th>\n",
       "      <th>date</th>\n",
       "      <th>date_block_num</th>\n",
       "      <th>shop_id</th>\n",
       "      <th>item_id</th>\n",
       "      <th>item_price</th>\n",
       "      <th>item_cnt_day</th>\n",
       "    </tr>\n",
       "  </thead>\n",
       "  <tbody>\n",
       "    <tr>\n",
       "      <th>0</th>\n",
       "      <td>02.01.2013</td>\n",
       "      <td>0</td>\n",
       "      <td>59</td>\n",
       "      <td>22154</td>\n",
       "      <td>999.00</td>\n",
       "      <td>1.0</td>\n",
       "    </tr>\n",
       "    <tr>\n",
       "      <th>1</th>\n",
       "      <td>03.01.2013</td>\n",
       "      <td>0</td>\n",
       "      <td>25</td>\n",
       "      <td>2552</td>\n",
       "      <td>899.00</td>\n",
       "      <td>1.0</td>\n",
       "    </tr>\n",
       "    <tr>\n",
       "      <th>2</th>\n",
       "      <td>05.01.2013</td>\n",
       "      <td>0</td>\n",
       "      <td>25</td>\n",
       "      <td>2552</td>\n",
       "      <td>899.00</td>\n",
       "      <td>-1.0</td>\n",
       "    </tr>\n",
       "    <tr>\n",
       "      <th>3</th>\n",
       "      <td>06.01.2013</td>\n",
       "      <td>0</td>\n",
       "      <td>25</td>\n",
       "      <td>2554</td>\n",
       "      <td>1709.05</td>\n",
       "      <td>1.0</td>\n",
       "    </tr>\n",
       "    <tr>\n",
       "      <th>4</th>\n",
       "      <td>15.01.2013</td>\n",
       "      <td>0</td>\n",
       "      <td>25</td>\n",
       "      <td>2555</td>\n",
       "      <td>1099.00</td>\n",
       "      <td>1.0</td>\n",
       "    </tr>\n",
       "  </tbody>\n",
       "</table>\n",
       "</div>"
      ],
      "text/plain": [
       "         date  date_block_num  shop_id  item_id  item_price  item_cnt_day\n",
       "0  02.01.2013               0       59    22154      999.00           1.0\n",
       "1  03.01.2013               0       25     2552      899.00           1.0\n",
       "2  05.01.2013               0       25     2552      899.00          -1.0\n",
       "3  06.01.2013               0       25     2554     1709.05           1.0\n",
       "4  15.01.2013               0       25     2555     1099.00           1.0"
      ]
     },
     "execution_count": 7,
     "metadata": {},
     "output_type": "execute_result"
    }
   ],
   "source": [
    "train.head()"
   ]
  },
  {
   "cell_type": "code",
   "execution_count": 8,
   "metadata": {},
   "outputs": [
    {
     "data": {
      "text/plain": [
       "(2935849, 6)"
      ]
     },
     "execution_count": 8,
     "metadata": {},
     "output_type": "execute_result"
    }
   ],
   "source": [
    "train.shape"
   ]
  },
  {
   "cell_type": "code",
   "execution_count": 9,
   "metadata": {},
   "outputs": [
    {
     "data": {
      "text/html": [
       "<div>\n",
       "<style scoped>\n",
       "    .dataframe tbody tr th:only-of-type {\n",
       "        vertical-align: middle;\n",
       "    }\n",
       "\n",
       "    .dataframe tbody tr th {\n",
       "        vertical-align: top;\n",
       "    }\n",
       "\n",
       "    .dataframe thead th {\n",
       "        text-align: right;\n",
       "    }\n",
       "</style>\n",
       "<table border=\"1\" class=\"dataframe\">\n",
       "  <thead>\n",
       "    <tr style=\"text-align: right;\">\n",
       "      <th></th>\n",
       "      <th>ID</th>\n",
       "      <th>shop_id</th>\n",
       "      <th>item_id</th>\n",
       "    </tr>\n",
       "  </thead>\n",
       "  <tbody>\n",
       "    <tr>\n",
       "      <th>0</th>\n",
       "      <td>0</td>\n",
       "      <td>5</td>\n",
       "      <td>5037</td>\n",
       "    </tr>\n",
       "    <tr>\n",
       "      <th>1</th>\n",
       "      <td>1</td>\n",
       "      <td>5</td>\n",
       "      <td>5320</td>\n",
       "    </tr>\n",
       "    <tr>\n",
       "      <th>2</th>\n",
       "      <td>2</td>\n",
       "      <td>5</td>\n",
       "      <td>5233</td>\n",
       "    </tr>\n",
       "    <tr>\n",
       "      <th>3</th>\n",
       "      <td>3</td>\n",
       "      <td>5</td>\n",
       "      <td>5232</td>\n",
       "    </tr>\n",
       "    <tr>\n",
       "      <th>4</th>\n",
       "      <td>4</td>\n",
       "      <td>5</td>\n",
       "      <td>5268</td>\n",
       "    </tr>\n",
       "  </tbody>\n",
       "</table>\n",
       "</div>"
      ],
      "text/plain": [
       "   ID  shop_id  item_id\n",
       "0   0        5     5037\n",
       "1   1        5     5320\n",
       "2   2        5     5233\n",
       "3   3        5     5232\n",
       "4   4        5     5268"
      ]
     },
     "execution_count": 9,
     "metadata": {},
     "output_type": "execute_result"
    }
   ],
   "source": [
    "test.head()"
   ]
  },
  {
   "cell_type": "code",
   "execution_count": 10,
   "metadata": {},
   "outputs": [
    {
     "data": {
      "text/plain": [
       "(214200, 3)"
      ]
     },
     "execution_count": 10,
     "metadata": {},
     "output_type": "execute_result"
    }
   ],
   "source": [
    "test.shape"
   ]
  },
  {
   "cell_type": "code",
   "execution_count": 11,
   "metadata": {},
   "outputs": [
    {
     "data": {
      "text/html": [
       "<div>\n",
       "<style scoped>\n",
       "    .dataframe tbody tr th:only-of-type {\n",
       "        vertical-align: middle;\n",
       "    }\n",
       "\n",
       "    .dataframe tbody tr th {\n",
       "        vertical-align: top;\n",
       "    }\n",
       "\n",
       "    .dataframe thead th {\n",
       "        text-align: right;\n",
       "    }\n",
       "</style>\n",
       "<table border=\"1\" class=\"dataframe\">\n",
       "  <thead>\n",
       "    <tr style=\"text-align: right;\">\n",
       "      <th></th>\n",
       "      <th>ID</th>\n",
       "      <th>item_cnt_month</th>\n",
       "    </tr>\n",
       "  </thead>\n",
       "  <tbody>\n",
       "    <tr>\n",
       "      <th>0</th>\n",
       "      <td>0</td>\n",
       "      <td>0.5</td>\n",
       "    </tr>\n",
       "    <tr>\n",
       "      <th>1</th>\n",
       "      <td>1</td>\n",
       "      <td>0.5</td>\n",
       "    </tr>\n",
       "    <tr>\n",
       "      <th>2</th>\n",
       "      <td>2</td>\n",
       "      <td>0.5</td>\n",
       "    </tr>\n",
       "    <tr>\n",
       "      <th>3</th>\n",
       "      <td>3</td>\n",
       "      <td>0.5</td>\n",
       "    </tr>\n",
       "    <tr>\n",
       "      <th>4</th>\n",
       "      <td>4</td>\n",
       "      <td>0.5</td>\n",
       "    </tr>\n",
       "  </tbody>\n",
       "</table>\n",
       "</div>"
      ],
      "text/plain": [
       "   ID  item_cnt_month\n",
       "0   0             0.5\n",
       "1   1             0.5\n",
       "2   2             0.5\n",
       "3   3             0.5\n",
       "4   4             0.5"
      ]
     },
     "execution_count": 11,
     "metadata": {},
     "output_type": "execute_result"
    }
   ],
   "source": [
    "submission.head()"
   ]
  },
  {
   "cell_type": "markdown",
   "metadata": {},
   "source": [
    "As we can see, the test set is different in size and structure when compared to the training set. We have the features 'shop_id' and 'item_id' in the test set, which are present in the trianing set as well. Each observation in the test set has an ID associated with it. If we look at our submission file, we need to submit the monthly count (item_cnt_month) for that particular ID. This means we need to predict a number for the monthly sale quantity of a particular item at a particular shop."
   ]
  },
  {
   "cell_type": "markdown",
   "metadata": {},
   "source": [
    "# EDA"
   ]
  },
  {
   "cell_type": "markdown",
   "metadata": {},
   "source": [
    "Let's look at the distribution of the training and test set to understand our dataset better and check for overlap, or lack thereof."
   ]
  },
  {
   "cell_type": "code",
   "execution_count": 12,
   "metadata": {},
   "outputs": [
    {
     "data": {
      "image/png": "[encoded data removed]",
      "text/plain": [
       "<Figure size 1296x648 with 5 Axes>"
      ]
     },
     "metadata": {
      "needs_background": "light"
     },
     "output_type": "display_data"
    }
   ],
   "source": [
    "fig = plt.figure(figsize=(18,9))\n",
    "plt.subplots_adjust(hspace=.5)\n",
    "\n",
    "plt.subplot2grid((3,3), (0,0), colspan = 3)\n",
    "train['shop_id'].value_counts(normalize=True).plot(kind='bar', alpha=0.7)\n",
    "plt.title('Shop ID Values in the Training Set (Normalized)')\n",
    "\n",
    "plt.subplot2grid((3,3), (1,0))\n",
    "train['item_id'].plot(kind='hist', alpha=0.7)\n",
    "plt.title('Item ID Histogram')\n",
    "\n",
    "plt.subplot2grid((3,3), (1,1))\n",
    "train['item_price'].plot(kind='hist', alpha=0.7, color='orange')\n",
    "plt.title('Item Price Histogram')\n",
    "\n",
    "plt.subplot2grid((3,3), (1,2))\n",
    "train['item_cnt_day'].plot(kind='hist', alpha=0.7, color='green')\n",
    "plt.title('Item Count Day Histogram')\n",
    "\n",
    "plt.subplot2grid((3,3), (2,0), colspan = 3)\n",
    "train['date_block_num'].value_counts(normalize=True).plot(kind='bar', alpha=0.7)\n",
    "plt.title('Month (date_block_num) Values in the Training Set (Normalized)')\n",
    "\n",
    "plt.show()"
   ]
  },
  {
   "cell_type": "markdown",
   "metadata": {},
   "source": [
    "The above graphs are a nice way to look at the raw distribtion of the test dataset. Here are some observations:\n",
    "\n",
    "1. We have 60 'shop_id's but there is an uneven distribtution of these in the dataset. Four (<7%) of these shops make up ~25 percent of this dataset. These are shops (31, 25, 54, 28).\n",
    "\n",
    "\n",
    "2. The Item IDs seem to have variations in frequency. We can't attribute a reason to this yet but we can inspect this further. Certain cateogeries are bound to sell better and maybe items under the same category are closer to each other as far as their ID distributions are concerned\n",
    "\n",
    "\n",
    "3. From the vast empty spaces in the histograms of 'item_price' and 'item_cnt_day', we can infer that there are outliers in their distribution. **Let's write some simple code below to put a value to these outliers.**\n",
    "\n",
    "\n",
    "4. Plotting the individual months from January 2013 to October 2015, it is interesting to see that the block month 12, corresponding to December 2013, had the highest number of sales. Month 23, which corresponds to December 2014, had the second highest number of sales. Shortly, we will use some better graphs to observe the monthly sale trends."
   ]
  },
  {
   "cell_type": "markdown",
   "metadata": {},
   "source": [
    "## Dealing with Outliers"
   ]
  },
  {
   "cell_type": "code",
   "execution_count": 13,
   "metadata": {},
   "outputs": [
    {
     "data": {
      "text/plain": [
       "20949    31340\n",
       "5822      9408\n",
       "17717     9067\n",
       "2808      7479\n",
       "4181      6853\n",
       "Name: item_id, dtype: int64"
      ]
     },
     "execution_count": 13,
     "metadata": {},
     "output_type": "execute_result"
    }
   ],
   "source": [
    "train['item_id'].value_counts(ascending=False)[:5]"
   ]
  },
  {
   "cell_type": "markdown",
   "metadata": {},
   "source": [
    "Having a look at the item id 20949 that has been sold the most number of times, it is a plastic bag!"
   ]
  },
  {
   "cell_type": "code",
   "execution_count": 14,
   "metadata": {},
   "outputs": [
    {
     "data": {
      "text/html": [
       "<div>\n",
       "<style scoped>\n",
       "    .dataframe tbody tr th:only-of-type {\n",
       "        vertical-align: middle;\n",
       "    }\n",
       "\n",
       "    .dataframe tbody tr th {\n",
       "        vertical-align: top;\n",
       "    }\n",
       "\n",
       "    .dataframe thead th {\n",
       "        text-align: right;\n",
       "    }\n",
       "</style>\n",
       "<table border=\"1\" class=\"dataframe\">\n",
       "  <thead>\n",
       "    <tr style=\"text-align: right;\">\n",
       "      <th></th>\n",
       "      <th>item_name</th>\n",
       "      <th>item_id</th>\n",
       "      <th>item_category_id</th>\n",
       "    </tr>\n",
       "  </thead>\n",
       "  <tbody>\n",
       "    <tr>\n",
       "      <th>20949</th>\n",
       "      <td>Фирменный пакет майка 1С Интерес белый (34*42)...</td>\n",
       "      <td>20949</td>\n",
       "      <td>71</td>\n",
       "    </tr>\n",
       "  </tbody>\n",
       "</table>\n",
       "</div>"
      ],
      "text/plain": [
       "                                               item_name  item_id  \\\n",
       "20949  Фирменный пакет майка 1С Интерес белый (34*42)...    20949   \n",
       "\n",
       "       item_category_id  \n",
       "20949                71  "
      ]
     },
     "execution_count": 14,
     "metadata": {},
     "output_type": "execute_result"
    }
   ],
   "source": [
    "items.loc[items['item_id']==20949]"
   ]
  },
  {
   "cell_type": "code",
   "execution_count": 15,
   "metadata": {},
   "outputs": [
    {
     "data": {
      "text/html": [
       "<div>\n",
       "<style scoped>\n",
       "    .dataframe tbody tr th:only-of-type {\n",
       "        vertical-align: middle;\n",
       "    }\n",
       "\n",
       "    .dataframe tbody tr th {\n",
       "        vertical-align: top;\n",
       "    }\n",
       "\n",
       "    .dataframe thead th {\n",
       "        text-align: right;\n",
       "    }\n",
       "</style>\n",
       "<table border=\"1\" class=\"dataframe\">\n",
       "  <thead>\n",
       "    <tr style=\"text-align: right;\">\n",
       "      <th></th>\n",
       "      <th>item_category_name</th>\n",
       "      <th>item_category_id</th>\n",
       "    </tr>\n",
       "  </thead>\n",
       "  <tbody>\n",
       "    <tr>\n",
       "      <th>71</th>\n",
       "      <td>Подарки - Сумки, Альбомы, Коврики д/мыши</td>\n",
       "      <td>71</td>\n",
       "    </tr>\n",
       "  </tbody>\n",
       "</table>\n",
       "</div>"
      ],
      "text/plain": [
       "                          item_category_name  item_category_id\n",
       "71  Подарки - Сумки, Альбомы, Коврики д/мыши                71"
      ]
     },
     "execution_count": 15,
     "metadata": {},
     "output_type": "execute_result"
    }
   ],
   "source": [
    "categories.loc[categories['item_category_id']==71]"
   ]
  },
  {
   "cell_type": "code",
   "execution_count": 16,
   "metadata": {},
   "outputs": [
    {
     "data": {
      "text/html": [
       "<div>\n",
       "<style scoped>\n",
       "    .dataframe tbody tr th:only-of-type {\n",
       "        vertical-align: middle;\n",
       "    }\n",
       "\n",
       "    .dataframe tbody tr th {\n",
       "        vertical-align: top;\n",
       "    }\n",
       "\n",
       "    .dataframe thead th {\n",
       "        text-align: right;\n",
       "    }\n",
       "</style>\n",
       "<table border=\"1\" class=\"dataframe\">\n",
       "  <thead>\n",
       "    <tr style=\"text-align: right;\">\n",
       "      <th></th>\n",
       "      <th>ID</th>\n",
       "      <th>shop_id</th>\n",
       "      <th>item_id</th>\n",
       "    </tr>\n",
       "  </thead>\n",
       "  <tbody>\n",
       "    <tr>\n",
       "      <th>460</th>\n",
       "      <td>460</td>\n",
       "      <td>5</td>\n",
       "      <td>20949</td>\n",
       "    </tr>\n",
       "    <tr>\n",
       "      <th>5560</th>\n",
       "      <td>5560</td>\n",
       "      <td>4</td>\n",
       "      <td>20949</td>\n",
       "    </tr>\n",
       "    <tr>\n",
       "      <th>10660</th>\n",
       "      <td>10660</td>\n",
       "      <td>6</td>\n",
       "      <td>20949</td>\n",
       "    </tr>\n",
       "    <tr>\n",
       "      <th>15760</th>\n",
       "      <td>15760</td>\n",
       "      <td>3</td>\n",
       "      <td>20949</td>\n",
       "    </tr>\n",
       "    <tr>\n",
       "      <th>20860</th>\n",
       "      <td>20860</td>\n",
       "      <td>2</td>\n",
       "      <td>20949</td>\n",
       "    </tr>\n",
       "  </tbody>\n",
       "</table>\n",
       "</div>"
      ],
      "text/plain": [
       "          ID  shop_id  item_id\n",
       "460      460        5    20949\n",
       "5560    5560        4    20949\n",
       "10660  10660        6    20949\n",
       "15760  15760        3    20949\n",
       "20860  20860        2    20949"
      ]
     },
     "execution_count": 16,
     "metadata": {},
     "output_type": "execute_result"
    }
   ],
   "source": [
    "test.loc[test['item_id']==20949].head(5)"
   ]
  },
  {
   "cell_type": "markdown",
   "metadata": {},
   "source": [
    "And just to satisfy my curiosity bowels, there is only one item under item category 71 and it is indeed present in the test set!"
   ]
  },
  {
   "cell_type": "code",
   "execution_count": 17,
   "metadata": {},
   "outputs": [
    {
     "data": {
      "text/plain": [
       "2909818    2169.0\n",
       "2326930    1000.0\n",
       "2864235     669.0\n",
       "2851091     637.0\n",
       "2608040     624.0\n",
       "Name: item_cnt_day, dtype: float64"
      ]
     },
     "execution_count": 17,
     "metadata": {},
     "output_type": "execute_result"
    }
   ],
   "source": [
    "train['item_cnt_day'].sort_values(ascending=False)[:5]"
   ]
  },
  {
   "cell_type": "code",
   "execution_count": 18,
   "metadata": {},
   "outputs": [
    {
     "data": {
      "text/html": [
       "<div>\n",
       "<style scoped>\n",
       "    .dataframe tbody tr th:only-of-type {\n",
       "        vertical-align: middle;\n",
       "    }\n",
       "\n",
       "    .dataframe tbody tr th {\n",
       "        vertical-align: top;\n",
       "    }\n",
       "\n",
       "    .dataframe thead th {\n",
       "        text-align: right;\n",
       "    }\n",
       "</style>\n",
       "<table border=\"1\" class=\"dataframe\">\n",
       "  <thead>\n",
       "    <tr style=\"text-align: right;\">\n",
       "      <th></th>\n",
       "      <th>date</th>\n",
       "      <th>date_block_num</th>\n",
       "      <th>shop_id</th>\n",
       "      <th>item_id</th>\n",
       "      <th>item_price</th>\n",
       "      <th>item_cnt_day</th>\n",
       "    </tr>\n",
       "  </thead>\n",
       "  <tbody>\n",
       "    <tr>\n",
       "      <th>2909818</th>\n",
       "      <td>28.10.2015</td>\n",
       "      <td>33</td>\n",
       "      <td>12</td>\n",
       "      <td>11373</td>\n",
       "      <td>0.908714</td>\n",
       "      <td>2169.0</td>\n",
       "    </tr>\n",
       "  </tbody>\n",
       "</table>\n",
       "</div>"
      ],
      "text/plain": [
       "               date  date_block_num  shop_id  item_id  item_price  \\\n",
       "2909818  28.10.2015              33       12    11373    0.908714   \n",
       "\n",
       "         item_cnt_day  \n",
       "2909818        2169.0  "
      ]
     },
     "execution_count": 18,
     "metadata": {},
     "output_type": "execute_result"
    }
   ],
   "source": [
    "train[train['item_cnt_day'] == 2169]"
   ]
  },
  {
   "cell_type": "markdown",
   "metadata": {},
   "source": [
    "So item 11373 was sold 2169 times at shop 12 on a single day in October. Let's inspect this outlier a bit more."
   ]
  },
  {
   "cell_type": "code",
   "execution_count": 19,
   "metadata": {},
   "outputs": [
    {
     "data": {
      "text/html": [
       "<div>\n",
       "<style scoped>\n",
       "    .dataframe tbody tr th:only-of-type {\n",
       "        vertical-align: middle;\n",
       "    }\n",
       "\n",
       "    .dataframe tbody tr th {\n",
       "        vertical-align: top;\n",
       "    }\n",
       "\n",
       "    .dataframe thead th {\n",
       "        text-align: right;\n",
       "    }\n",
       "</style>\n",
       "<table border=\"1\" class=\"dataframe\">\n",
       "  <thead>\n",
       "    <tr style=\"text-align: right;\">\n",
       "      <th></th>\n",
       "      <th>item_name</th>\n",
       "      <th>item_id</th>\n",
       "      <th>item_category_id</th>\n",
       "    </tr>\n",
       "  </thead>\n",
       "  <tbody>\n",
       "    <tr>\n",
       "      <th>11373</th>\n",
       "      <td>Доставка до пункта выдачи (Boxberry)</td>\n",
       "      <td>11373</td>\n",
       "      <td>9</td>\n",
       "    </tr>\n",
       "  </tbody>\n",
       "</table>\n",
       "</div>"
      ],
      "text/plain": [
       "                                  item_name  item_id  item_category_id\n",
       "11373  Доставка до пункта выдачи (Boxberry)    11373                 9"
      ]
     },
     "execution_count": 19,
     "metadata": {},
     "output_type": "execute_result"
    }
   ],
   "source": [
    "items[items['item_id'] == 11373]"
   ]
  },
  {
   "cell_type": "markdown",
   "metadata": {},
   "source": [
    "Using google translate, I understood that this item is related to point of delivery and the Russian shipment company 'Boxberry'. Let's look at some of the other daiy sales for this item"
   ]
  },
  {
   "cell_type": "code",
   "execution_count": 20,
   "metadata": {},
   "outputs": [
    {
     "data": {
      "text/html": [
       "<div>\n",
       "<style scoped>\n",
       "    .dataframe tbody tr th:only-of-type {\n",
       "        vertical-align: middle;\n",
       "    }\n",
       "\n",
       "    .dataframe tbody tr th {\n",
       "        vertical-align: top;\n",
       "    }\n",
       "\n",
       "    .dataframe thead th {\n",
       "        text-align: right;\n",
       "    }\n",
       "</style>\n",
       "<table border=\"1\" class=\"dataframe\">\n",
       "  <thead>\n",
       "    <tr style=\"text-align: right;\">\n",
       "      <th></th>\n",
       "      <th>date</th>\n",
       "      <th>date_block_num</th>\n",
       "      <th>shop_id</th>\n",
       "      <th>item_id</th>\n",
       "      <th>item_price</th>\n",
       "      <th>item_cnt_day</th>\n",
       "    </tr>\n",
       "  </thead>\n",
       "  <tbody>\n",
       "    <tr>\n",
       "      <th>58323</th>\n",
       "      <td>08.01.2013</td>\n",
       "      <td>0</td>\n",
       "      <td>12</td>\n",
       "      <td>11373</td>\n",
       "      <td>1000.0</td>\n",
       "      <td>1.0</td>\n",
       "    </tr>\n",
       "    <tr>\n",
       "      <th>58324</th>\n",
       "      <td>31.01.2013</td>\n",
       "      <td>0</td>\n",
       "      <td>12</td>\n",
       "      <td>11373</td>\n",
       "      <td>97.8</td>\n",
       "      <td>5.0</td>\n",
       "    </tr>\n",
       "    <tr>\n",
       "      <th>176790</th>\n",
       "      <td>01.02.2013</td>\n",
       "      <td>1</td>\n",
       "      <td>12</td>\n",
       "      <td>11373</td>\n",
       "      <td>229.0</td>\n",
       "      <td>1.0</td>\n",
       "    </tr>\n",
       "    <tr>\n",
       "      <th>176791</th>\n",
       "      <td>04.02.2013</td>\n",
       "      <td>1</td>\n",
       "      <td>12</td>\n",
       "      <td>11373</td>\n",
       "      <td>130.0</td>\n",
       "      <td>1.0</td>\n",
       "    </tr>\n",
       "    <tr>\n",
       "      <th>302468</th>\n",
       "      <td>29.03.2013</td>\n",
       "      <td>2</td>\n",
       "      <td>12</td>\n",
       "      <td>11373</td>\n",
       "      <td>139.5</td>\n",
       "      <td>2.0</td>\n",
       "    </tr>\n",
       "  </tbody>\n",
       "</table>\n",
       "</div>"
      ],
      "text/plain": [
       "              date  date_block_num  shop_id  item_id  item_price  item_cnt_day\n",
       "58323   08.01.2013               0       12    11373      1000.0           1.0\n",
       "58324   31.01.2013               0       12    11373        97.8           5.0\n",
       "176790  01.02.2013               1       12    11373       229.0           1.0\n",
       "176791  04.02.2013               1       12    11373       130.0           1.0\n",
       "302468  29.03.2013               2       12    11373       139.5           2.0"
      ]
     },
     "execution_count": 20,
     "metadata": {},
     "output_type": "execute_result"
    }
   ],
   "source": [
    "train[train['item_id'] == 11373].head(5)"
   ]
  },
  {
   "cell_type": "markdown",
   "metadata": {},
   "source": [
    "We can see that item 11373 usually has sells much less. I calculated the median of it's 'item_cnt_day' value to be 4. This confirms that the high value of 2169 is an anomaly and we should get rid of it."
   ]
  },
  {
   "cell_type": "code",
   "execution_count": 21,
   "metadata": {},
   "outputs": [],
   "source": [
    "train = train[train['item_cnt_day'] < 2000]"
   ]
  },
  {
   "cell_type": "code",
   "execution_count": 22,
   "metadata": {},
   "outputs": [
    {
     "data": {
      "text/plain": [
       "1163158    307980.0\n",
       "885138      59200.0\n",
       "1488135     50999.0\n",
       "2327159     49782.0\n",
       "2931380     42990.0\n",
       "Name: item_price, dtype: float64"
      ]
     },
     "execution_count": 22,
     "metadata": {},
     "output_type": "execute_result"
    }
   ],
   "source": [
    "train['item_price'].sort_values(ascending=False)[:5]"
   ]
  },
  {
   "cell_type": "markdown",
   "metadata": {},
   "source": [
    "Another outlier! This time with 'item_price'. Let's inspect this a little further before we decide to remove it."
   ]
  },
  {
   "cell_type": "code",
   "execution_count": 23,
   "metadata": {},
   "outputs": [
    {
     "data": {
      "text/html": [
       "<div>\n",
       "<style scoped>\n",
       "    .dataframe tbody tr th:only-of-type {\n",
       "        vertical-align: middle;\n",
       "    }\n",
       "\n",
       "    .dataframe tbody tr th {\n",
       "        vertical-align: top;\n",
       "    }\n",
       "\n",
       "    .dataframe thead th {\n",
       "        text-align: right;\n",
       "    }\n",
       "</style>\n",
       "<table border=\"1\" class=\"dataframe\">\n",
       "  <thead>\n",
       "    <tr style=\"text-align: right;\">\n",
       "      <th></th>\n",
       "      <th>date</th>\n",
       "      <th>date_block_num</th>\n",
       "      <th>shop_id</th>\n",
       "      <th>item_id</th>\n",
       "      <th>item_price</th>\n",
       "      <th>item_cnt_day</th>\n",
       "    </tr>\n",
       "  </thead>\n",
       "  <tbody>\n",
       "    <tr>\n",
       "      <th>1163158</th>\n",
       "      <td>13.12.2013</td>\n",
       "      <td>11</td>\n",
       "      <td>12</td>\n",
       "      <td>6066</td>\n",
       "      <td>307980.0</td>\n",
       "      <td>1.0</td>\n",
       "    </tr>\n",
       "  </tbody>\n",
       "</table>\n",
       "</div>"
      ],
      "text/plain": [
       "               date  date_block_num  shop_id  item_id  item_price  \\\n",
       "1163158  13.12.2013              11       12     6066    307980.0   \n",
       "\n",
       "         item_cnt_day  \n",
       "1163158           1.0  "
      ]
     },
     "execution_count": 23,
     "metadata": {},
     "output_type": "execute_result"
    }
   ],
   "source": [
    "train[train['item_price'] == 307980]"
   ]
  },
  {
   "cell_type": "code",
   "execution_count": 24,
   "metadata": {},
   "outputs": [
    {
     "data": {
      "text/html": [
       "<div>\n",
       "<style scoped>\n",
       "    .dataframe tbody tr th:only-of-type {\n",
       "        vertical-align: middle;\n",
       "    }\n",
       "\n",
       "    .dataframe tbody tr th {\n",
       "        vertical-align: top;\n",
       "    }\n",
       "\n",
       "    .dataframe thead th {\n",
       "        text-align: right;\n",
       "    }\n",
       "</style>\n",
       "<table border=\"1\" class=\"dataframe\">\n",
       "  <thead>\n",
       "    <tr style=\"text-align: right;\">\n",
       "      <th></th>\n",
       "      <th>item_name</th>\n",
       "      <th>item_id</th>\n",
       "      <th>item_category_id</th>\n",
       "    </tr>\n",
       "  </thead>\n",
       "  <tbody>\n",
       "    <tr>\n",
       "      <th>6066</th>\n",
       "      <td>Radmin 3  - 522 лиц.</td>\n",
       "      <td>6066</td>\n",
       "      <td>75</td>\n",
       "    </tr>\n",
       "  </tbody>\n",
       "</table>\n",
       "</div>"
      ],
      "text/plain": [
       "                 item_name  item_id  item_category_id\n",
       "6066  Radmin 3  - 522 лиц.     6066                75"
      ]
     },
     "execution_count": 24,
     "metadata": {},
     "output_type": "execute_result"
    }
   ],
   "source": [
    "items[items['item_id'] == 6066]"
   ]
  },
  {
   "cell_type": "markdown",
   "metadata": {},
   "source": [
    "Once again, using Google translate, I found that this is an antivirus sold to 522 people and the price is probabaly the cost of one installation times 522. Let's see if there are other transactions related to this software in our training set."
   ]
  },
  {
   "cell_type": "code",
   "execution_count": 25,
   "metadata": {},
   "outputs": [
    {
     "data": {
      "text/html": [
       "<div>\n",
       "<style scoped>\n",
       "    .dataframe tbody tr th:only-of-type {\n",
       "        vertical-align: middle;\n",
       "    }\n",
       "\n",
       "    .dataframe tbody tr th {\n",
       "        vertical-align: top;\n",
       "    }\n",
       "\n",
       "    .dataframe thead th {\n",
       "        text-align: right;\n",
       "    }\n",
       "</style>\n",
       "<table border=\"1\" class=\"dataframe\">\n",
       "  <thead>\n",
       "    <tr style=\"text-align: right;\">\n",
       "      <th></th>\n",
       "      <th>date</th>\n",
       "      <th>date_block_num</th>\n",
       "      <th>shop_id</th>\n",
       "      <th>item_id</th>\n",
       "      <th>item_price</th>\n",
       "      <th>item_cnt_day</th>\n",
       "    </tr>\n",
       "  </thead>\n",
       "  <tbody>\n",
       "    <tr>\n",
       "      <th>1163158</th>\n",
       "      <td>13.12.2013</td>\n",
       "      <td>11</td>\n",
       "      <td>12</td>\n",
       "      <td>6066</td>\n",
       "      <td>307980.0</td>\n",
       "      <td>1.0</td>\n",
       "    </tr>\n",
       "  </tbody>\n",
       "</table>\n",
       "</div>"
      ],
      "text/plain": [
       "               date  date_block_num  shop_id  item_id  item_price  \\\n",
       "1163158  13.12.2013              11       12     6066    307980.0   \n",
       "\n",
       "         item_cnt_day  \n",
       "1163158           1.0  "
      ]
     },
     "execution_count": 25,
     "metadata": {},
     "output_type": "execute_result"
    }
   ],
   "source": [
    "train[train['item_id'] == 6066]"
   ]
  },
  {
   "cell_type": "markdown",
   "metadata": {},
   "source": [
    "Nope! The outlier is the only transaction. It is justifiable to remove this observation from the training set."
   ]
  },
  {
   "cell_type": "code",
   "execution_count": 26,
   "metadata": {},
   "outputs": [],
   "source": [
    "train = train[train['item_price'] < 300000]"
   ]
  },
  {
   "cell_type": "markdown",
   "metadata": {},
   "source": [
    "Now, we will inspect the 'item_price' field for low priced outliers"
   ]
  },
  {
   "cell_type": "code",
   "execution_count": 27,
   "metadata": {},
   "outputs": [
    {
     "data": {
      "text/plain": [
       "484683   -1.0000\n",
       "608763    0.0700\n",
       "579766    0.0700\n",
       "611400    0.0875\n",
       "673155    0.0900\n",
       "Name: item_price, dtype: float64"
      ]
     },
     "execution_count": 27,
     "metadata": {},
     "output_type": "execute_result"
    }
   ],
   "source": [
    "train['item_price'].sort_values()[:5]"
   ]
  },
  {
   "cell_type": "markdown",
   "metadata": {},
   "source": [
    "And yes, there exists a value of -1. This is an error and we should inspect this observation further"
   ]
  },
  {
   "cell_type": "code",
   "execution_count": 28,
   "metadata": {},
   "outputs": [
    {
     "data": {
      "text/html": [
       "<div>\n",
       "<style scoped>\n",
       "    .dataframe tbody tr th:only-of-type {\n",
       "        vertical-align: middle;\n",
       "    }\n",
       "\n",
       "    .dataframe tbody tr th {\n",
       "        vertical-align: top;\n",
       "    }\n",
       "\n",
       "    .dataframe thead th {\n",
       "        text-align: right;\n",
       "    }\n",
       "</style>\n",
       "<table border=\"1\" class=\"dataframe\">\n",
       "  <thead>\n",
       "    <tr style=\"text-align: right;\">\n",
       "      <th></th>\n",
       "      <th>date</th>\n",
       "      <th>date_block_num</th>\n",
       "      <th>shop_id</th>\n",
       "      <th>item_id</th>\n",
       "      <th>item_price</th>\n",
       "      <th>item_cnt_day</th>\n",
       "    </tr>\n",
       "  </thead>\n",
       "  <tbody>\n",
       "    <tr>\n",
       "      <th>484683</th>\n",
       "      <td>15.05.2013</td>\n",
       "      <td>4</td>\n",
       "      <td>32</td>\n",
       "      <td>2973</td>\n",
       "      <td>-1.0</td>\n",
       "      <td>1.0</td>\n",
       "    </tr>\n",
       "  </tbody>\n",
       "</table>\n",
       "</div>"
      ],
      "text/plain": [
       "              date  date_block_num  shop_id  item_id  item_price  item_cnt_day\n",
       "484683  15.05.2013               4       32     2973        -1.0           1.0"
      ]
     },
     "execution_count": 28,
     "metadata": {},
     "output_type": "execute_result"
    }
   ],
   "source": [
    "train[train['item_price'] == -1]"
   ]
  },
  {
   "cell_type": "markdown",
   "metadata": {},
   "source": [
    "Let's see if there are other observations for this item (2973) which can help us determine its price"
   ]
  },
  {
   "cell_type": "code",
   "execution_count": 29,
   "metadata": {},
   "outputs": [
    {
     "data": {
      "text/html": [
       "<div>\n",
       "<style scoped>\n",
       "    .dataframe tbody tr th:only-of-type {\n",
       "        vertical-align: middle;\n",
       "    }\n",
       "\n",
       "    .dataframe tbody tr th {\n",
       "        vertical-align: top;\n",
       "    }\n",
       "\n",
       "    .dataframe thead th {\n",
       "        text-align: right;\n",
       "    }\n",
       "</style>\n",
       "<table border=\"1\" class=\"dataframe\">\n",
       "  <thead>\n",
       "    <tr style=\"text-align: right;\">\n",
       "      <th></th>\n",
       "      <th>date</th>\n",
       "      <th>date_block_num</th>\n",
       "      <th>shop_id</th>\n",
       "      <th>item_id</th>\n",
       "      <th>item_price</th>\n",
       "      <th>item_cnt_day</th>\n",
       "    </tr>\n",
       "  </thead>\n",
       "  <tbody>\n",
       "    <tr>\n",
       "      <th>352</th>\n",
       "      <td>15.01.2013</td>\n",
       "      <td>0</td>\n",
       "      <td>25</td>\n",
       "      <td>2973</td>\n",
       "      <td>2499.0</td>\n",
       "      <td>13.0</td>\n",
       "    </tr>\n",
       "    <tr>\n",
       "      <th>353</th>\n",
       "      <td>16.01.2013</td>\n",
       "      <td>0</td>\n",
       "      <td>25</td>\n",
       "      <td>2973</td>\n",
       "      <td>2499.0</td>\n",
       "      <td>5.0</td>\n",
       "    </tr>\n",
       "    <tr>\n",
       "      <th>354</th>\n",
       "      <td>17.01.2013</td>\n",
       "      <td>0</td>\n",
       "      <td>25</td>\n",
       "      <td>2973</td>\n",
       "      <td>2499.0</td>\n",
       "      <td>3.0</td>\n",
       "    </tr>\n",
       "    <tr>\n",
       "      <th>355</th>\n",
       "      <td>18.01.2013</td>\n",
       "      <td>0</td>\n",
       "      <td>25</td>\n",
       "      <td>2973</td>\n",
       "      <td>2499.0</td>\n",
       "      <td>2.0</td>\n",
       "    </tr>\n",
       "    <tr>\n",
       "      <th>356</th>\n",
       "      <td>19.01.2013</td>\n",
       "      <td>0</td>\n",
       "      <td>25</td>\n",
       "      <td>2973</td>\n",
       "      <td>2499.0</td>\n",
       "      <td>3.0</td>\n",
       "    </tr>\n",
       "  </tbody>\n",
       "</table>\n",
       "</div>"
      ],
      "text/plain": [
       "           date  date_block_num  shop_id  item_id  item_price  item_cnt_day\n",
       "352  15.01.2013               0       25     2973      2499.0          13.0\n",
       "353  16.01.2013               0       25     2973      2499.0           5.0\n",
       "354  17.01.2013               0       25     2973      2499.0           3.0\n",
       "355  18.01.2013               0       25     2973      2499.0           2.0\n",
       "356  19.01.2013               0       25     2973      2499.0           3.0"
      ]
     },
     "execution_count": 29,
     "metadata": {},
     "output_type": "execute_result"
    }
   ],
   "source": [
    "train[train['item_id'] == 2973].head(5)"
   ]
  },
  {
   "cell_type": "markdown",
   "metadata": {},
   "source": [
    "Indeed, this item seems to have been sold for quite a high price so its value of -1 should be changed. We should replace it with the median of its price, but this should be calculated for the shop (ID 12) for which this outlier exists. If there are other sales for this item in that shop for the same month (date_block_num 4), then we should calculate the median using that"
   ]
  },
  {
   "cell_type": "code",
   "execution_count": 30,
   "metadata": {},
   "outputs": [],
   "source": [
    "price_correction = train[(train['shop_id'] == 32) & (train['item_id'] == 2973) & (train['date_block_num'] == 4) & (train['item_price'] > 0)].item_price.median()\n",
    "train.loc[train['item_price'] < 0, 'item_price'] = price_correction"
   ]
  },
  {
   "cell_type": "markdown",
   "metadata": {},
   "source": [
    "## Test Set Distribution"
   ]
  },
  {
   "cell_type": "markdown",
   "metadata": {},
   "source": [
    "Now, let's do the distribution analysis for the test set and see if we can spot any differences"
   ]
  },
  {
   "cell_type": "code",
   "execution_count": 31,
   "metadata": {},
   "outputs": [
    {
     "data": {
      "image/png": "[encoded data removed]",
      "text/plain": [
       "<Figure size 1296x576 with 2 Axes>"
      ]
     },
     "metadata": {
      "needs_background": "light"
     },
     "output_type": "display_data"
    }
   ],
   "source": [
    "fig = plt.figure(figsize=(18,8))\n",
    "plt.subplots_adjust(hspace=.5)\n",
    "\n",
    "plt.subplot2grid((3,3), (0,0), colspan = 3)\n",
    "test['shop_id'].value_counts(normalize=True).plot(kind='bar', alpha=0.7)\n",
    "plt.title('Shop ID Values in the Test Set (Normalized)')\n",
    "\n",
    "plt.subplot2grid((3,3), (1,0))\n",
    "test['item_id'].plot(kind='hist', alpha=0.7)\n",
    "plt.title('Item ID Histogram - Test Set')\n",
    "\n",
    "plt.show()"
   ]
  },
  {
   "cell_type": "markdown",
   "metadata": {},
   "source": [
    "1. The Shop Id's are evenly spread out, unlike the training set. The font size of labels quickly tells me that there are certain Shop Id's missing in the test set as the bars in the training set 'shop_id' plot were more tightly packed.\n",
    "2. While item id's in the histogram are binned, the spikes are less in the test set. The test set is much smaller in shape than the training set, and naturally, the frequency values are significantly lower. It is tough to be draw more insights from this histogram.\n",
    "\n",
    "It seems there might be some values of shop_id and item_id completely missing in the test set. Let's have a closer look and put some numbers or percentages to these missing values."
   ]
  },
  {
   "cell_type": "markdown",
   "metadata": {},
   "source": [
    "## Shops Analysis"
   ]
  },
  {
   "cell_type": "code",
   "execution_count": 32,
   "metadata": {},
   "outputs": [
    {
     "name": "stdout",
     "output_type": "stream",
     "text": [
      "Shops in Training Set:  60\n",
      "Shops in Test Set:  42\n"
     ]
    }
   ],
   "source": [
    "shops_train = train['shop_id'].nunique()\n",
    "shops_test = test['shop_id'].nunique()\n",
    "print('Shops in Training Set: ', shops_train)\n",
    "print('Shops in Test Set: ', shops_test)"
   ]
  },
  {
   "cell_type": "markdown",
   "metadata": {},
   "source": [
    "However, this doesn't mean that the training set contains all of the shops present in the test set. For that, we need to see if every element of the test set is present in the training set. Let's write some simple code to see if the test set list is a subset of the training set list."
   ]
  },
  {
   "cell_type": "code",
   "execution_count": 33,
   "metadata": {},
   "outputs": [
    {
     "name": "stdout",
     "output_type": "stream",
     "text": [
      "Yes, list is subset of other.\n"
     ]
    }
   ],
   "source": [
    "shops_train_list = list(train['shop_id'].unique())\n",
    "shops_test_list = list(test['shop_id'].unique())\n",
    "\n",
    "flag = 0\n",
    "if(set(shops_test_list).issubset(set(shops_train_list))): \n",
    "    flag = 1\n",
    "      \n",
    "if (flag) : \n",
    "    print (\"Yes, list is subset of other.\") \n",
    "else : \n",
    "    print (\"No, list is not subset of other.\") "
   ]
  },
  {
   "cell_type": "markdown",
   "metadata": {},
   "source": [
    "### Duplicate Shops"
   ]
  },
  {
   "cell_type": "markdown",
   "metadata": {},
   "source": [
    "Great, so all shops id's in the test set are also present in the training set. But there is an issue regarding duplicate shops that was talked about in the competition discussions. Let's have a look at the shops dataframe to identify this issue."
   ]
  },
  {
   "cell_type": "code",
   "execution_count": 34,
   "metadata": {},
   "outputs": [
    {
     "data": {
      "text/html": [
       "<div>\n",
       "<style scoped>\n",
       "    .dataframe tbody tr th:only-of-type {\n",
       "        vertical-align: middle;\n",
       "    }\n",
       "\n",
       "    .dataframe tbody tr th {\n",
       "        vertical-align: top;\n",
       "    }\n",
       "\n",
       "    .dataframe thead th {\n",
       "        text-align: right;\n",
       "    }\n",
       "</style>\n",
       "<table border=\"1\" class=\"dataframe\">\n",
       "  <thead>\n",
       "    <tr style=\"text-align: right;\">\n",
       "      <th></th>\n",
       "      <th>0</th>\n",
       "      <th>1</th>\n",
       "      <th>2</th>\n",
       "      <th>3</th>\n",
       "      <th>4</th>\n",
       "      <th>5</th>\n",
       "      <th>6</th>\n",
       "      <th>7</th>\n",
       "      <th>8</th>\n",
       "      <th>9</th>\n",
       "      <th>...</th>\n",
       "      <th>50</th>\n",
       "      <th>51</th>\n",
       "      <th>52</th>\n",
       "      <th>53</th>\n",
       "      <th>54</th>\n",
       "      <th>55</th>\n",
       "      <th>56</th>\n",
       "      <th>57</th>\n",
       "      <th>58</th>\n",
       "      <th>59</th>\n",
       "    </tr>\n",
       "  </thead>\n",
       "  <tbody>\n",
       "    <tr>\n",
       "      <th>shop_name</th>\n",
       "      <td>!Якутск Орджоникидзе, 56 фран</td>\n",
       "      <td>!Якутск ТЦ \"Центральный\" фран</td>\n",
       "      <td>Адыгея ТЦ \"Мега\"</td>\n",
       "      <td>Балашиха ТРК \"Октябрь-Киномир\"</td>\n",
       "      <td>Волжский ТЦ \"Волга Молл\"</td>\n",
       "      <td>Вологда ТРЦ \"Мармелад\"</td>\n",
       "      <td>Воронеж (Плехановская, 13)</td>\n",
       "      <td>Воронеж ТРЦ \"Максимир\"</td>\n",
       "      <td>Воронеж ТРЦ Сити-Парк \"Град\"</td>\n",
       "      <td>Выездная Торговля</td>\n",
       "      <td>...</td>\n",
       "      <td>Тюмень ТЦ \"Гудвин\"</td>\n",
       "      <td>Тюмень ТЦ \"Зеленый Берег\"</td>\n",
       "      <td>Уфа ТК \"Центральный\"</td>\n",
       "      <td>Уфа ТЦ \"Семья\" 2</td>\n",
       "      <td>Химки ТЦ \"Мега\"</td>\n",
       "      <td>Цифровой склад 1С-Онлайн</td>\n",
       "      <td>Чехов ТРЦ \"Карнавал\"</td>\n",
       "      <td>Якутск Орджоникидзе, 56</td>\n",
       "      <td>Якутск ТЦ \"Центральный\"</td>\n",
       "      <td>Ярославль ТЦ \"Альтаир\"</td>\n",
       "    </tr>\n",
       "    <tr>\n",
       "      <th>shop_id</th>\n",
       "      <td>0</td>\n",
       "      <td>1</td>\n",
       "      <td>2</td>\n",
       "      <td>3</td>\n",
       "      <td>4</td>\n",
       "      <td>5</td>\n",
       "      <td>6</td>\n",
       "      <td>7</td>\n",
       "      <td>8</td>\n",
       "      <td>9</td>\n",
       "      <td>...</td>\n",
       "      <td>50</td>\n",
       "      <td>51</td>\n",
       "      <td>52</td>\n",
       "      <td>53</td>\n",
       "      <td>54</td>\n",
       "      <td>55</td>\n",
       "      <td>56</td>\n",
       "      <td>57</td>\n",
       "      <td>58</td>\n",
       "      <td>59</td>\n",
       "    </tr>\n",
       "  </tbody>\n",
       "</table>\n",
       "<p>2 rows × 60 columns</p>\n",
       "</div>"
      ],
      "text/plain": [
       "                                      0                              1   \\\n",
       "shop_name  !Якутск Орджоникидзе, 56 фран  !Якутск ТЦ \"Центральный\" фран   \n",
       "shop_id                                0                              1   \n",
       "\n",
       "                         2                               3   \\\n",
       "shop_name  Адыгея ТЦ \"Мега\"  Балашиха ТРК \"Октябрь-Киномир\"   \n",
       "shop_id                   2                               3   \n",
       "\n",
       "                                 4                       5   \\\n",
       "shop_name  Волжский ТЦ \"Волга Молл\"  Вологда ТРЦ \"Мармелад\"   \n",
       "shop_id                           4                       5   \n",
       "\n",
       "                                   6                       7   \\\n",
       "shop_name  Воронеж (Плехановская, 13)  Воронеж ТРЦ \"Максимир\"   \n",
       "shop_id                             6                       7   \n",
       "\n",
       "                                     8                  9   ...  \\\n",
       "shop_name  Воронеж ТРЦ Сити-Парк \"Град\"  Выездная Торговля  ...   \n",
       "shop_id                               8                  9  ...   \n",
       "\n",
       "                           50                         51  \\\n",
       "shop_name  Тюмень ТЦ \"Гудвин\"  Тюмень ТЦ \"Зеленый Берег\"   \n",
       "shop_id                    50                         51   \n",
       "\n",
       "                             52                53               54  \\\n",
       "shop_name  Уфа ТК \"Центральный\"  Уфа ТЦ \"Семья\" 2  Химки ТЦ \"Мега\"   \n",
       "shop_id                      52                53               54   \n",
       "\n",
       "                                 55                    56  \\\n",
       "shop_name  Цифровой склад 1С-Онлайн  Чехов ТРЦ \"Карнавал\"   \n",
       "shop_id                          55                    56   \n",
       "\n",
       "                                57                       58  \\\n",
       "shop_name  Якутск Орджоникидзе, 56  Якутск ТЦ \"Центральный\"   \n",
       "shop_id                         57                       58   \n",
       "\n",
       "                               59  \n",
       "shop_name  Ярославль ТЦ \"Альтаир\"  \n",
       "shop_id                        59  \n",
       "\n",
       "[2 rows x 60 columns]"
      ]
     },
     "execution_count": 34,
     "metadata": {},
     "output_type": "execute_result"
    }
   ],
   "source": [
    "shops.T"
   ]
  },
  {
   "cell_type": "markdown",
   "metadata": {},
   "source": [
    "Using [Google translate API](https://pypi.org/project/googletrans/) and measuring pair wise Levenstein distance with a python [library](https://github.com/luozhouyang/python-string-similarity), I generated a matrix plot to observe similarity with the shop names"
   ]
  },
  {
   "cell_type": "markdown",
   "metadata": {},
   "source": [
    "Upon examing the above matrixes and 'similar' shop names, one observes that shops start with their city name! This can be a useful feature. Also, 'shop_id's 0 and 1 are the same as 57 and 58 respectively. The only difference is the Russian word 'фран' attached to both shops 0 and 1. Shops 10 and 11 have the exact same name excpet the last character ('?' vs '2'). These duplicates should be removed!"
   ]
  },
  {
   "cell_type": "code",
   "execution_count": 35,
   "metadata": {},
   "outputs": [],
   "source": [
    "train.loc[train['shop_id'] == 0, 'shop_id'] = 57\n",
    "test.loc[test['shop_id'] == 0, 'shop_id'] = 57\n",
    "\n",
    "train.loc[train['shop_id'] == 1, 'shop_id'] = 58\n",
    "test.loc[test['shop_id'] == 1, 'shop_id'] = 58\n",
    "\n",
    "train.loc[train['shop_id'] == 10, 'shop_id'] = 11\n",
    "test.loc[test['shop_id'] == 10, 'shop_id'] = 11"
   ]
  },
  {
   "cell_type": "markdown",
   "metadata": {},
   "source": [
    "### Extracting City "
   ]
  },
  {
   "cell_type": "code",
   "execution_count": 36,
   "metadata": {},
   "outputs": [
    {
     "data": {
      "text/plain": [
       "array(['!Якутск', 'Адыгея', 'Балашиха', 'Волжский', 'Вологда', 'Воронеж',\n",
       "       'Выездная', 'Жуковский', 'Интернет-магазин', 'Казань', 'Калуга',\n",
       "       'Коломна', 'Красноярск', 'Курск', 'Москва', 'Мытищи', 'Н.Новгород',\n",
       "       'Новосибирск', 'Омск', 'РостовНаДону', 'СПб', 'Самара', 'Сергиев',\n",
       "       'Сургут', 'Томск', 'Тюмень', 'Уфа', 'Химки', 'Цифровой', 'Чехов',\n",
       "       'Якутск', 'Ярославль'], dtype=object)"
      ]
     },
     "execution_count": 36,
     "metadata": {},
     "output_type": "execute_result"
    }
   ],
   "source": [
    "cities = shops['shop_name'].str.split(' ').map(lambda row: row[0])\n",
    "cities.unique()"
   ]
  },
  {
   "cell_type": "markdown",
   "metadata": {},
   "source": [
    "Upon careful observation, the city Yakutsk is represented as *'!Якутск'* and *'Якутск'*. We should make sure they are the same so when we label encode these city names, they will fall under the same cateogory. For reference, the english tranlation of the cities is below.\n",
    "\n",
    "'!Yakutsk', 'Adygea', 'Balashikha', 'Volzhsky', 'Vologda', 'Voronezh', 'Outbound', 'Zhukovsky', 'Online', 'Kazan', 'Kaluga', 'Kolomna', 'Krasnoyarsk', 'Kursk', 'Moscow', 'Mytishchi', 'N.Novgorod', 'Novosibirsk', 'Omsk', 'RostovNaDonu', 'St.', 'Samara', 'Sergiev', 'Surgut', 'Tomsk', 'Tyumen', 'Ufa', 'Khimki', 'Digital', 'Chekhov', 'Yakutsk', 'Yaroslavl'\n",
    "\n",
    "You will notice we only extract the St. from St. Petersburg but that's okay as we will label encode these categorical variables. "
   ]
  },
  {
   "cell_type": "code",
   "execution_count": 37,
   "metadata": {},
   "outputs": [],
   "source": [
    "shops['city'] = shops['shop_name'].str.split(' ').map(lambda row: row[0])\n",
    "shops.loc[shops.city == '!Якутск', 'city'] = 'Якутск'"
   ]
  },
  {
   "cell_type": "code",
   "execution_count": 38,
   "metadata": {},
   "outputs": [
    {
     "data": {
      "text/plain": [
       "array([29, 29,  0,  1,  2,  3,  4,  4,  4,  5,  6,  6,  7,  8,  8,  9, 10,\n",
       "       11, 11, 12, 13, 13, 13, 13, 13, 13, 13, 13, 13, 13, 13, 13, 13, 14,\n",
       "       15, 15, 16, 16, 17, 18, 18, 18, 19, 19, 20, 20, 21, 22, 23, 24, 24,\n",
       "       24, 25, 25, 26, 27, 28, 29, 29, 30])"
      ]
     },
     "execution_count": 38,
     "metadata": {},
     "output_type": "execute_result"
    }
   ],
   "source": [
    "from sklearn import preprocessing\n",
    "le = preprocessing.LabelEncoder()\n",
    "le.fit_transform(shops['city'])"
   ]
  },
  {
   "cell_type": "markdown",
   "metadata": {},
   "source": [
    "Great, that worked! Let's just add these codes to the shops dataframe. We can get rid of *'shop_name'* and *'city'* while preserving the *'shop_id'* and *'city_label'*"
   ]
  },
  {
   "cell_type": "code",
   "execution_count": 39,
   "metadata": {},
   "outputs": [
    {
     "data": {
      "text/html": [
       "<div>\n",
       "<style scoped>\n",
       "    .dataframe tbody tr th:only-of-type {\n",
       "        vertical-align: middle;\n",
       "    }\n",
       "\n",
       "    .dataframe tbody tr th {\n",
       "        vertical-align: top;\n",
       "    }\n",
       "\n",
       "    .dataframe thead th {\n",
       "        text-align: right;\n",
       "    }\n",
       "</style>\n",
       "<table border=\"1\" class=\"dataframe\">\n",
       "  <thead>\n",
       "    <tr style=\"text-align: right;\">\n",
       "      <th></th>\n",
       "      <th>shop_id</th>\n",
       "      <th>city_label</th>\n",
       "    </tr>\n",
       "  </thead>\n",
       "  <tbody>\n",
       "    <tr>\n",
       "      <th>0</th>\n",
       "      <td>0</td>\n",
       "      <td>29</td>\n",
       "    </tr>\n",
       "    <tr>\n",
       "      <th>1</th>\n",
       "      <td>1</td>\n",
       "      <td>29</td>\n",
       "    </tr>\n",
       "    <tr>\n",
       "      <th>2</th>\n",
       "      <td>2</td>\n",
       "      <td>0</td>\n",
       "    </tr>\n",
       "    <tr>\n",
       "      <th>3</th>\n",
       "      <td>3</td>\n",
       "      <td>1</td>\n",
       "    </tr>\n",
       "    <tr>\n",
       "      <th>4</th>\n",
       "      <td>4</td>\n",
       "      <td>2</td>\n",
       "    </tr>\n",
       "  </tbody>\n",
       "</table>\n",
       "</div>"
      ],
      "text/plain": [
       "   shop_id  city_label\n",
       "0        0          29\n",
       "1        1          29\n",
       "2        2           0\n",
       "3        3           1\n",
       "4        4           2"
      ]
     },
     "execution_count": 39,
     "metadata": {},
     "output_type": "execute_result"
    }
   ],
   "source": [
    "shops['city_label'] = le.fit_transform(shops['city'])\n",
    "shops.drop(['shop_name', 'city'], axis = 1, inplace = True)\n",
    "shops.head()"
   ]
  },
  {
   "cell_type": "markdown",
   "metadata": {},
   "source": [
    "## Items Analysis"
   ]
  },
  {
   "cell_type": "markdown",
   "metadata": {},
   "source": [
    "Let's perform a similar train-test analysis for item_ids"
   ]
  },
  {
   "cell_type": "code",
   "execution_count": 40,
   "metadata": {},
   "outputs": [
    {
     "name": "stdout",
     "output_type": "stream",
     "text": [
      "Items in Training Set:  21806\n",
      "Items in Test Set:  5100\n"
     ]
    }
   ],
   "source": [
    "items_train = train['item_id'].nunique()\n",
    "items_test = test['item_id'].nunique()\n",
    "print('Items in Training Set: ', items_train)\n",
    "print('Items in Test Set: ', items_test)"
   ]
  },
  {
   "cell_type": "markdown",
   "metadata": {},
   "source": [
    "There are a lot many more items in the training set than there are in the test set. However, this doesn't mean that the training set contains all of the items in the test set. For that, we need to see if every element of the test set is present in the training set. Let's write some simple code to achieve this."
   ]
  },
  {
   "cell_type": "code",
   "execution_count": 41,
   "metadata": {},
   "outputs": [
    {
     "name": "stdout",
     "output_type": "stream",
     "text": [
      "No, list is not subset of other.\n"
     ]
    }
   ],
   "source": [
    "items_train_list = list(train['item_id'].unique())\n",
    "items_test_list = list(test['item_id'].unique())\n",
    "\n",
    "flag = 0\n",
    "if(set(items_test_list).issubset(set(items_train_list))): \n",
    "    flag = 1\n",
    "      \n",
    "if (flag) : \n",
    "    print (\"Yes, list is subset of other.\") \n",
    "else : \n",
    "    print (\"No, list is not subset of other.\") "
   ]
  },
  {
   "cell_type": "markdown",
   "metadata": {},
   "source": [
    "Well then, this means there are certain items that are present in the test set but completely absent in the training set! Can we put a number to this to get an intuition?"
   ]
  },
  {
   "cell_type": "code",
   "execution_count": 42,
   "metadata": {},
   "outputs": [
    {
     "data": {
      "text/plain": [
       "363"
      ]
     },
     "execution_count": 42,
     "metadata": {},
     "output_type": "execute_result"
    }
   ],
   "source": [
    "len(set(items_test_list).difference(items_train_list))"
   ]
  },
  {
   "cell_type": "markdown",
   "metadata": {},
   "source": [
    "There are 363 items that are present in the test set but completely absent in the training set. This doesn't mean that the sales prediction against those items must be zero as new items can be added to the market or we simply didn't possess the data for those items before. The fascinating questions pops though, how do you go about predicting them? "
   ]
  },
  {
   "cell_type": "markdown",
   "metadata": {},
   "source": [
    "Before we do that, let's find out more about the 5100 items in the test set. What categories to they belong to? What categories do we not have to make predictions in the test set for"
   ]
  },
  {
   "cell_type": "code",
   "execution_count": 43,
   "metadata": {},
   "outputs": [],
   "source": [
    "categories_in_test = items.loc[items['item_id'].isin(sorted(test['item_id'].unique()))].item_category_id.unique()"
   ]
  },
  {
   "cell_type": "code",
   "execution_count": 44,
   "metadata": {},
   "outputs": [
    {
     "data": {
      "text/html": [
       "<div>\n",
       "<style scoped>\n",
       "    .dataframe tbody tr th:only-of-type {\n",
       "        vertical-align: middle;\n",
       "    }\n",
       "\n",
       "    .dataframe tbody tr th {\n",
       "        vertical-align: top;\n",
       "    }\n",
       "\n",
       "    .dataframe thead th {\n",
       "        text-align: right;\n",
       "    }\n",
       "</style>\n",
       "<table border=\"1\" class=\"dataframe\">\n",
       "  <thead>\n",
       "    <tr style=\"text-align: right;\">\n",
       "      <th></th>\n",
       "      <th>1</th>\n",
       "      <th>4</th>\n",
       "      <th>8</th>\n",
       "      <th>10</th>\n",
       "      <th>13</th>\n",
       "      <th>14</th>\n",
       "      <th>17</th>\n",
       "      <th>18</th>\n",
       "      <th>32</th>\n",
       "      <th>39</th>\n",
       "      <th>...</th>\n",
       "      <th>50</th>\n",
       "      <th>51</th>\n",
       "      <th>52</th>\n",
       "      <th>53</th>\n",
       "      <th>59</th>\n",
       "      <th>66</th>\n",
       "      <th>68</th>\n",
       "      <th>80</th>\n",
       "      <th>81</th>\n",
       "      <th>82</th>\n",
       "    </tr>\n",
       "  </thead>\n",
       "  <tbody>\n",
       "    <tr>\n",
       "      <th>item_category_name</th>\n",
       "      <td>Аксессуары - PS2</td>\n",
       "      <td>Аксессуары - PSP</td>\n",
       "      <td>Билеты (Цифра)</td>\n",
       "      <td>Игровые консоли - PS2</td>\n",
       "      <td>Игровые консоли - PSP</td>\n",
       "      <td>Игровые консоли - PSVita</td>\n",
       "      <td>Игровые консоли - Прочие</td>\n",
       "      <td>Игры - PS2</td>\n",
       "      <td>Карты оплаты (Кино, Музыка, Игры)</td>\n",
       "      <td>Кино - Blu-Ray 4K</td>\n",
       "      <td>...</td>\n",
       "      <td>Книги - Открытки</td>\n",
       "      <td>Книги - Познавательная литература</td>\n",
       "      <td>Книги - Путеводители</td>\n",
       "      <td>Книги - Художественная литература</td>\n",
       "      <td>Музыка - Музыкальное видео</td>\n",
       "      <td>Подарки - Открытки, наклейки</td>\n",
       "      <td>Подарки - Сертификаты, услуги</td>\n",
       "      <td>Служебные - Билеты</td>\n",
       "      <td>Чистые носители (шпиль)</td>\n",
       "      <td>Чистые носители (штучные)</td>\n",
       "    </tr>\n",
       "    <tr>\n",
       "      <th>item_category_id</th>\n",
       "      <td>1</td>\n",
       "      <td>4</td>\n",
       "      <td>8</td>\n",
       "      <td>10</td>\n",
       "      <td>13</td>\n",
       "      <td>14</td>\n",
       "      <td>17</td>\n",
       "      <td>18</td>\n",
       "      <td>32</td>\n",
       "      <td>39</td>\n",
       "      <td>...</td>\n",
       "      <td>50</td>\n",
       "      <td>51</td>\n",
       "      <td>52</td>\n",
       "      <td>53</td>\n",
       "      <td>59</td>\n",
       "      <td>66</td>\n",
       "      <td>68</td>\n",
       "      <td>80</td>\n",
       "      <td>81</td>\n",
       "      <td>82</td>\n",
       "    </tr>\n",
       "  </tbody>\n",
       "</table>\n",
       "<p>2 rows × 22 columns</p>\n",
       "</div>"
      ],
      "text/plain": [
       "                                  1                 4               8   \\\n",
       "item_category_name  Аксессуары - PS2  Аксессуары - PSP  Билеты (Цифра)   \n",
       "item_category_id                   1                 4               8   \n",
       "\n",
       "                                       10                     13  \\\n",
       "item_category_name  Игровые консоли - PS2  Игровые консоли - PSP   \n",
       "item_category_id                       10                     13   \n",
       "\n",
       "                                          14                        17  \\\n",
       "item_category_name  Игровые консоли - PSVita  Игровые консоли - Прочие   \n",
       "item_category_id                          14                        17   \n",
       "\n",
       "                            18                                 32  \\\n",
       "item_category_name  Игры - PS2  Карты оплаты (Кино, Музыка, Игры)   \n",
       "item_category_id            18                                 32   \n",
       "\n",
       "                                   39  ...                50  \\\n",
       "item_category_name  Кино - Blu-Ray 4K  ...  Книги - Открытки   \n",
       "item_category_id                   39  ...                50   \n",
       "\n",
       "                                                   51                    52  \\\n",
       "item_category_name  Книги - Познавательная литература  Книги - Путеводители   \n",
       "item_category_id                                   51                    52   \n",
       "\n",
       "                                                   53  \\\n",
       "item_category_name  Книги - Художественная литература   \n",
       "item_category_id                                   53   \n",
       "\n",
       "                                            59                            66  \\\n",
       "item_category_name  Музыка - Музыкальное видео  Подарки - Открытки, наклейки   \n",
       "item_category_id                            59                            66   \n",
       "\n",
       "                                               68                  80  \\\n",
       "item_category_name  Подарки - Сертификаты, услуги  Служебные - Билеты   \n",
       "item_category_id                               68                  80   \n",
       "\n",
       "                                         81                         82  \n",
       "item_category_name  Чистые носители (шпиль)  Чистые носители (штучные)  \n",
       "item_category_id                         81                         82  \n",
       "\n",
       "[2 rows x 22 columns]"
      ]
     },
     "execution_count": 44,
     "metadata": {},
     "output_type": "execute_result"
    }
   ],
   "source": [
    "# categories.loc[categories['item_category_id'].isin(categories_in_test)]\n",
    "categories.loc[~categories['item_category_id'].isin(categories_in_test)].T"
   ]
  },
  {
   "cell_type": "markdown",
   "metadata": {},
   "source": [
    "Using the same method, I generated a matrix plot to observe similarity with the shop names"
   ]
  },
  {
   "cell_type": "markdown",
   "metadata": {},
   "source": [
    "### Grouping Common Categories and Extracting Sub-Categories"
   ]
  },
  {
   "cell_type": "markdown",
   "metadata": {},
   "source": [
    "Upon examing the above matrices, one can spot a trend of main and sub-categories. These are in the dataframe, before the hyphen. Let's extract them!"
   ]
  },
  {
   "cell_type": "code",
   "execution_count": 45,
   "metadata": {},
   "outputs": [],
   "source": [
    "le = preprocessing.LabelEncoder()\n",
    "\n",
    "main_categories = categories['item_category_name'].str.split('-')\n",
    "categories['main_category_id'] = main_categories.map(lambda row: row[0].strip())\n",
    "categories['main_category_id'] = le.fit_transform(categories['main_category_id'])\n",
    "\n",
    "# Some items don't have sub-categories. For those, we will use the main category as a sub-category\n",
    "categories['sub_category_id'] = main_categories.map(lambda row: row[1].strip() if len(row) > 1 else row[0].strip())\n",
    "categories['sub_category_id'] = le.fit_transform(categories['sub_category_id'])"
   ]
  },
  {
   "cell_type": "code",
   "execution_count": 46,
   "metadata": {},
   "outputs": [
    {
     "data": {
      "text/html": [
       "<div>\n",
       "<style scoped>\n",
       "    .dataframe tbody tr th:only-of-type {\n",
       "        vertical-align: middle;\n",
       "    }\n",
       "\n",
       "    .dataframe tbody tr th {\n",
       "        vertical-align: top;\n",
       "    }\n",
       "\n",
       "    .dataframe thead th {\n",
       "        text-align: right;\n",
       "    }\n",
       "</style>\n",
       "<table border=\"1\" class=\"dataframe\">\n",
       "  <thead>\n",
       "    <tr style=\"text-align: right;\">\n",
       "      <th></th>\n",
       "      <th>item_category_name</th>\n",
       "      <th>item_category_id</th>\n",
       "      <th>main_category_id</th>\n",
       "      <th>sub_category_id</th>\n",
       "    </tr>\n",
       "  </thead>\n",
       "  <tbody>\n",
       "    <tr>\n",
       "      <th>0</th>\n",
       "      <td>PC - Гарнитуры/Наушники</td>\n",
       "      <td>0</td>\n",
       "      <td>0</td>\n",
       "      <td>29</td>\n",
       "    </tr>\n",
       "    <tr>\n",
       "      <th>1</th>\n",
       "      <td>Аксессуары - PS2</td>\n",
       "      <td>1</td>\n",
       "      <td>1</td>\n",
       "      <td>9</td>\n",
       "    </tr>\n",
       "    <tr>\n",
       "      <th>2</th>\n",
       "      <td>Аксессуары - PS3</td>\n",
       "      <td>2</td>\n",
       "      <td>1</td>\n",
       "      <td>10</td>\n",
       "    </tr>\n",
       "    <tr>\n",
       "      <th>3</th>\n",
       "      <td>Аксессуары - PS4</td>\n",
       "      <td>3</td>\n",
       "      <td>1</td>\n",
       "      <td>11</td>\n",
       "    </tr>\n",
       "    <tr>\n",
       "      <th>4</th>\n",
       "      <td>Аксессуары - PSP</td>\n",
       "      <td>4</td>\n",
       "      <td>1</td>\n",
       "      <td>13</td>\n",
       "    </tr>\n",
       "  </tbody>\n",
       "</table>\n",
       "</div>"
      ],
      "text/plain": [
       "        item_category_name  item_category_id  main_category_id  \\\n",
       "0  PC - Гарнитуры/Наушники                 0                 0   \n",
       "1         Аксессуары - PS2                 1                 1   \n",
       "2         Аксессуары - PS3                 2                 1   \n",
       "3         Аксессуары - PS4                 3                 1   \n",
       "4         Аксессуары - PSP                 4                 1   \n",
       "\n",
       "   sub_category_id  \n",
       "0               29  \n",
       "1                9  \n",
       "2               10  \n",
       "3               11  \n",
       "4               13  "
      ]
     },
     "execution_count": 46,
     "metadata": {},
     "output_type": "execute_result"
    }
   ],
   "source": [
    "categories.head()"
   ]
  },
  {
   "cell_type": "markdown",
   "metadata": {},
   "source": [
    "Now, let's generate sales data for each shop and item present in the training set. We should do this for each month, as the final prediction is for the monthly count of sales for a particular shop and item"
   ]
  },
  {
   "cell_type": "markdown",
   "metadata": {},
   "source": [
    "## Generating prodcuct of Shop-Item pairs for each month in the training data"
   ]
  },
  {
   "cell_type": "code",
   "execution_count": 47,
   "metadata": {},
   "outputs": [],
   "source": [
    "train['date'] =  pd.to_datetime(train['date'], format='%d.%m.%Y')"
   ]
  },
  {
   "cell_type": "code",
   "execution_count": 48,
   "metadata": {},
   "outputs": [],
   "source": [
    "from itertools import product"
   ]
  },
  {
   "cell_type": "code",
   "execution_count": 49,
   "metadata": {},
   "outputs": [],
   "source": [
    "# Testing generation of cartesian product for the month of January in 2013\n",
    "\n",
    "shops_in_jan = train.loc[train['date_block_num']==0, 'shop_id'].unique()\n",
    "items_in_jan = train.loc[train['date_block_num']==0, 'item_id'].unique()\n",
    "jan = list(product(*[shops_in_jan, items_in_jan, [0]]))"
   ]
  },
  {
   "cell_type": "code",
   "execution_count": 50,
   "metadata": {},
   "outputs": [
    {
     "name": "stdout",
     "output_type": "stream",
     "text": [
      "365175\n"
     ]
    }
   ],
   "source": [
    "print(len(jan))"
   ]
  },
  {
   "cell_type": "markdown",
   "metadata": {},
   "source": [
    "As we can see, January 2013 contains 365,175 intersections of shops and items. Most of these will have no sales and we can verify this once we check our training set, which has been grouped by month, to see which 'items' x 'shops' combinations have a sale count associated with them. \n",
    "\n",
    "But before that, we need to generate this cartesian product for all 33 months in the training set. Before generating it for all months, I will generate it for February 2013, concatenate it with January 2013 and produce a dataframe."
   ]
  },
  {
   "cell_type": "code",
   "execution_count": 51,
   "metadata": {},
   "outputs": [],
   "source": [
    "# Testing generation of cartesian product for the month of February in 2013\n",
    "\n",
    "shops_in_feb = train.loc[train['date_block_num']==1, 'shop_id'].unique()\n",
    "items_in_feb = train.loc[train['date_block_num']==1, 'item_id'].unique()\n",
    "feb = list(product(*[shops_in_feb, items_in_feb, [1]]))"
   ]
  },
  {
   "cell_type": "code",
   "execution_count": 52,
   "metadata": {},
   "outputs": [
    {
     "name": "stdout",
     "output_type": "stream",
     "text": [
      "375728\n"
     ]
    }
   ],
   "source": [
    "print(len(feb))"
   ]
  },
  {
   "cell_type": "code",
   "execution_count": 53,
   "metadata": {},
   "outputs": [],
   "source": [
    "cartesian_test = []\n",
    "cartesian_test.append(np.array(jan))\n",
    "cartesian_test.append(np.array(feb))"
   ]
  },
  {
   "cell_type": "code",
   "execution_count": 54,
   "metadata": {},
   "outputs": [
    {
     "data": {
      "text/plain": [
       "[array([[   59, 22154,     0],\n",
       "        [   59,  2552,     0],\n",
       "        [   59,  2554,     0],\n",
       "        ...,\n",
       "        [   45,   628,     0],\n",
       "        [   45,   631,     0],\n",
       "        [   45,   621,     0]], dtype=int64),\n",
       " array([[   50,  3880,     1],\n",
       "        [   50,  4128,     1],\n",
       "        [   50,  4124,     1],\n",
       "        ...,\n",
       "        [   28, 12885,     1],\n",
       "        [   28, 12791,     1],\n",
       "        [   28, 13433,     1]], dtype=int64)]"
      ]
     },
     "execution_count": 54,
     "metadata": {},
     "output_type": "execute_result"
    }
   ],
   "source": [
    "cartesian_test"
   ]
  },
  {
   "cell_type": "markdown",
   "metadata": {},
   "source": [
    "Ran out of memory when trying to create a dataframe from january and february lists. The trick was to convert the lists to a numpy array. The handy numpy method 'vstack' will shape the cartesian_test object in the right manner, so we can convert it into a long form dataframe."
   ]
  },
  {
   "cell_type": "code",
   "execution_count": 55,
   "metadata": {},
   "outputs": [],
   "source": [
    "cartesian_test = np.vstack(cartesian_test)"
   ]
  },
  {
   "cell_type": "code",
   "execution_count": 56,
   "metadata": {},
   "outputs": [],
   "source": [
    "cartesian_test_df = pd.DataFrame(cartesian_test, columns = ['shop_id', 'item_id', 'date_block_num'])"
   ]
  },
  {
   "cell_type": "code",
   "execution_count": 57,
   "metadata": {},
   "outputs": [
    {
     "data": {
      "text/html": [
       "<div>\n",
       "<style scoped>\n",
       "    .dataframe tbody tr th:only-of-type {\n",
       "        vertical-align: middle;\n",
       "    }\n",
       "\n",
       "    .dataframe tbody tr th {\n",
       "        vertical-align: top;\n",
       "    }\n",
       "\n",
       "    .dataframe thead th {\n",
       "        text-align: right;\n",
       "    }\n",
       "</style>\n",
       "<table border=\"1\" class=\"dataframe\">\n",
       "  <thead>\n",
       "    <tr style=\"text-align: right;\">\n",
       "      <th></th>\n",
       "      <th>shop_id</th>\n",
       "      <th>item_id</th>\n",
       "      <th>date_block_num</th>\n",
       "    </tr>\n",
       "  </thead>\n",
       "  <tbody>\n",
       "    <tr>\n",
       "      <th>0</th>\n",
       "      <td>59</td>\n",
       "      <td>22154</td>\n",
       "      <td>0</td>\n",
       "    </tr>\n",
       "    <tr>\n",
       "      <th>1</th>\n",
       "      <td>59</td>\n",
       "      <td>2552</td>\n",
       "      <td>0</td>\n",
       "    </tr>\n",
       "    <tr>\n",
       "      <th>2</th>\n",
       "      <td>59</td>\n",
       "      <td>2554</td>\n",
       "      <td>0</td>\n",
       "    </tr>\n",
       "    <tr>\n",
       "      <th>3</th>\n",
       "      <td>59</td>\n",
       "      <td>2555</td>\n",
       "      <td>0</td>\n",
       "    </tr>\n",
       "    <tr>\n",
       "      <th>4</th>\n",
       "      <td>59</td>\n",
       "      <td>2564</td>\n",
       "      <td>0</td>\n",
       "    </tr>\n",
       "  </tbody>\n",
       "</table>\n",
       "</div>"
      ],
      "text/plain": [
       "   shop_id  item_id  date_block_num\n",
       "0       59    22154               0\n",
       "1       59     2552               0\n",
       "2       59     2554               0\n",
       "3       59     2555               0\n",
       "4       59     2564               0"
      ]
     },
     "execution_count": 57,
     "metadata": {},
     "output_type": "execute_result"
    }
   ],
   "source": [
    "cartesian_test_df.head()"
   ]
  },
  {
   "cell_type": "code",
   "execution_count": 58,
   "metadata": {},
   "outputs": [
    {
     "data": {
      "text/plain": [
       "(740903, 3)"
      ]
     },
     "execution_count": 58,
     "metadata": {},
     "output_type": "execute_result"
    }
   ],
   "source": [
    "cartesian_test_df.shape"
   ]
  },
  {
   "cell_type": "markdown",
   "metadata": {},
   "source": [
    "Viola! That worked. Time to extend this to all months using some neat code"
   ]
  },
  {
   "cell_type": "code",
   "execution_count": 59,
   "metadata": {},
   "outputs": [],
   "source": [
    "from tqdm import tqdm_notebook\n",
    "\n",
    "def downcast_dtypes(df):\n",
    "    '''\n",
    "        Changes column types in the dataframe: \n",
    "                \n",
    "                `float64` type to `float32`\n",
    "                `int64`   type to `int32`\n",
    "    '''\n",
    "    \n",
    "    # Select columns to downcast\n",
    "    float_cols = [c for c in df if df[c].dtype == \"float64\"]\n",
    "    int_cols =   [c for c in df if df[c].dtype == \"int64\"]\n",
    "    \n",
    "    # Downcast\n",
    "    df[float_cols] = df[float_cols].astype(np.float16)\n",
    "    df[int_cols]   = df[int_cols].astype(np.int16)\n",
    "    \n",
    "    return df"
   ]
  },
  {
   "cell_type": "code",
   "execution_count": 60,
   "metadata": {},
   "outputs": [],
   "source": [
    "months = train['date_block_num'].unique()"
   ]
  },
  {
   "cell_type": "code",
   "execution_count": 61,
   "metadata": {},
   "outputs": [],
   "source": [
    "cartesian = []\n",
    "for month in months:\n",
    "    shops_in_month = train.loc[train['date_block_num']==month, 'shop_id'].unique()\n",
    "    items_in_month = train.loc[train['date_block_num']==month, 'item_id'].unique()\n",
    "    cartesian.append(np.array(list(product(*[shops_in_month, items_in_month, [month]])), dtype='int32'))"
   ]
  },
  {
   "cell_type": "code",
   "execution_count": 62,
   "metadata": {},
   "outputs": [],
   "source": [
    "cartesian_df = pd.DataFrame(np.vstack(cartesian), columns = ['shop_id', 'item_id', 'date_block_num'], dtype=np.int32)"
   ]
  },
  {
   "cell_type": "code",
   "execution_count": 63,
   "metadata": {},
   "outputs": [
    {
     "data": {
      "text/plain": [
       "(10913804, 3)"
      ]
     },
     "execution_count": 63,
     "metadata": {},
     "output_type": "execute_result"
    }
   ],
   "source": [
    "cartesian_df.shape"
   ]
  },
  {
   "cell_type": "markdown",
   "metadata": {},
   "source": [
    "## Aggregating sales to a monthly level and clipping target variable"
   ]
  },
  {
   "cell_type": "code",
   "execution_count": 64,
   "metadata": {},
   "outputs": [
    {
     "data": {
      "text/html": [
       "<div>\n",
       "<style scoped>\n",
       "    .dataframe tbody tr th:only-of-type {\n",
       "        vertical-align: middle;\n",
       "    }\n",
       "\n",
       "    .dataframe tbody tr th {\n",
       "        vertical-align: top;\n",
       "    }\n",
       "\n",
       "    .dataframe thead th {\n",
       "        text-align: right;\n",
       "    }\n",
       "</style>\n",
       "<table border=\"1\" class=\"dataframe\">\n",
       "  <thead>\n",
       "    <tr style=\"text-align: right;\">\n",
       "      <th></th>\n",
       "      <th>shop_id</th>\n",
       "      <th>item_id</th>\n",
       "      <th>date_block_num</th>\n",
       "      <th>item_cnt_month</th>\n",
       "    </tr>\n",
       "  </thead>\n",
       "  <tbody>\n",
       "    <tr>\n",
       "      <th>0</th>\n",
       "      <td>2</td>\n",
       "      <td>27</td>\n",
       "      <td>0</td>\n",
       "      <td>1.0</td>\n",
       "    </tr>\n",
       "    <tr>\n",
       "      <th>1</th>\n",
       "      <td>2</td>\n",
       "      <td>27</td>\n",
       "      <td>17</td>\n",
       "      <td>1.0</td>\n",
       "    </tr>\n",
       "    <tr>\n",
       "      <th>2</th>\n",
       "      <td>2</td>\n",
       "      <td>30</td>\n",
       "      <td>2</td>\n",
       "      <td>1.0</td>\n",
       "    </tr>\n",
       "    <tr>\n",
       "      <th>3</th>\n",
       "      <td>2</td>\n",
       "      <td>30</td>\n",
       "      <td>5</td>\n",
       "      <td>1.0</td>\n",
       "    </tr>\n",
       "    <tr>\n",
       "      <th>4</th>\n",
       "      <td>2</td>\n",
       "      <td>30</td>\n",
       "      <td>15</td>\n",
       "      <td>1.0</td>\n",
       "    </tr>\n",
       "  </tbody>\n",
       "</table>\n",
       "</div>"
      ],
      "text/plain": [
       "   shop_id  item_id  date_block_num  item_cnt_month\n",
       "0        2       27               0             1.0\n",
       "1        2       27              17             1.0\n",
       "2        2       30               2             1.0\n",
       "3        2       30               5             1.0\n",
       "4        2       30              15             1.0"
      ]
     },
     "execution_count": 64,
     "metadata": {},
     "output_type": "execute_result"
    }
   ],
   "source": [
    "x = train.groupby(['shop_id', 'item_id', 'date_block_num'])['item_cnt_day'].sum().rename('item_cnt_month').reset_index()\n",
    "x.head()"
   ]
  },
  {
   "cell_type": "code",
   "execution_count": 65,
   "metadata": {},
   "outputs": [
    {
     "data": {
      "text/plain": [
       "(1609123, 4)"
      ]
     },
     "execution_count": 65,
     "metadata": {},
     "output_type": "execute_result"
    }
   ],
   "source": [
    "x.shape"
   ]
  },
  {
   "cell_type": "markdown",
   "metadata": {},
   "source": [
    "Now we need to merge our two dataframes. For the intersecting, we will simply put the values that exist in the dataframe x. For the remaining rows, we will sub in zero. Remember, the columns you want to merge on are the intersection of shop_id, item_id, and date_block_num"
   ]
  },
  {
   "cell_type": "code",
   "execution_count": 66,
   "metadata": {},
   "outputs": [],
   "source": [
    "new_train = pd.merge(cartesian_df, x, on=['shop_id', 'item_id', 'date_block_num'], how='left').fillna(0)"
   ]
  },
  {
   "cell_type": "markdown",
   "metadata": {},
   "source": [
    "By default, pandas fills the dataframes with NaN. That's why we use fillna to replace all NaN's with zero."
   ]
  },
  {
   "cell_type": "code",
   "execution_count": 67,
   "metadata": {},
   "outputs": [],
   "source": [
    "new_train['item_cnt_month'] = np.clip(new_train['item_cnt_month'], 0, 20)"
   ]
  },
  {
   "cell_type": "code",
   "execution_count": 68,
   "metadata": {},
   "outputs": [],
   "source": [
    "del x\n",
    "del cartesian_df\n",
    "del cartesian\n",
    "del cartesian_test\n",
    "del cartesian_test_df\n",
    "del feb\n",
    "del jan\n",
    "del items_test_list\n",
    "del items_train_list\n",
    "del train"
   ]
  },
  {
   "cell_type": "code",
   "execution_count": 69,
   "metadata": {},
   "outputs": [
    {
     "data": {
      "text/html": [
       "<div>\n",
       "<style scoped>\n",
       "    .dataframe tbody tr th:only-of-type {\n",
       "        vertical-align: middle;\n",
       "    }\n",
       "\n",
       "    .dataframe tbody tr th {\n",
       "        vertical-align: top;\n",
       "    }\n",
       "\n",
       "    .dataframe thead th {\n",
       "        text-align: right;\n",
       "    }\n",
       "</style>\n",
       "<table border=\"1\" class=\"dataframe\">\n",
       "  <thead>\n",
       "    <tr style=\"text-align: right;\">\n",
       "      <th></th>\n",
       "      <th>shop_id</th>\n",
       "      <th>item_id</th>\n",
       "      <th>date_block_num</th>\n",
       "      <th>item_cnt_month</th>\n",
       "    </tr>\n",
       "  </thead>\n",
       "  <tbody>\n",
       "    <tr>\n",
       "      <th>114910</th>\n",
       "      <td>2</td>\n",
       "      <td>19</td>\n",
       "      <td>0</td>\n",
       "      <td>0.0</td>\n",
       "    </tr>\n",
       "    <tr>\n",
       "      <th>117150</th>\n",
       "      <td>2</td>\n",
       "      <td>27</td>\n",
       "      <td>0</td>\n",
       "      <td>1.0</td>\n",
       "    </tr>\n",
       "    <tr>\n",
       "      <th>120623</th>\n",
       "      <td>2</td>\n",
       "      <td>28</td>\n",
       "      <td>0</td>\n",
       "      <td>0.0</td>\n",
       "    </tr>\n",
       "    <tr>\n",
       "      <th>118316</th>\n",
       "      <td>2</td>\n",
       "      <td>29</td>\n",
       "      <td>0</td>\n",
       "      <td>0.0</td>\n",
       "    </tr>\n",
       "    <tr>\n",
       "      <th>114602</th>\n",
       "      <td>2</td>\n",
       "      <td>32</td>\n",
       "      <td>0</td>\n",
       "      <td>0.0</td>\n",
       "    </tr>\n",
       "  </tbody>\n",
       "</table>\n",
       "</div>"
      ],
      "text/plain": [
       "        shop_id  item_id  date_block_num  item_cnt_month\n",
       "114910        2       19               0             0.0\n",
       "117150        2       27               0             1.0\n",
       "120623        2       28               0             0.0\n",
       "118316        2       29               0             0.0\n",
       "114602        2       32               0             0.0"
      ]
     },
     "execution_count": 69,
     "metadata": {},
     "output_type": "execute_result"
    }
   ],
   "source": [
    "new_train.sort_values(['date_block_num','shop_id','item_id'], inplace = True)\n",
    "new_train.head()"
   ]
  },
  {
   "cell_type": "markdown",
   "metadata": {},
   "source": [
    "## Appending Test Set to Training Set"
   ]
  },
  {
   "cell_type": "markdown",
   "metadata": {},
   "source": [
    "First, let's insert the date_block_num feature for the test set! Using insert method of pandas to place this new column at a specific index. This will allow us to concatenate the test set easily to the training set before we generate mean encodings and lag features"
   ]
  },
  {
   "cell_type": "code",
   "execution_count": 70,
   "metadata": {},
   "outputs": [],
   "source": [
    "test.insert(loc=3, column='date_block_num', value=34)"
   ]
  },
  {
   "cell_type": "code",
   "execution_count": 71,
   "metadata": {},
   "outputs": [],
   "source": [
    "test['item_cnt_month'] = 0"
   ]
  },
  {
   "cell_type": "code",
   "execution_count": 72,
   "metadata": {},
   "outputs": [
    {
     "data": {
      "text/html": [
       "<div>\n",
       "<style scoped>\n",
       "    .dataframe tbody tr th:only-of-type {\n",
       "        vertical-align: middle;\n",
       "    }\n",
       "\n",
       "    .dataframe tbody tr th {\n",
       "        vertical-align: top;\n",
       "    }\n",
       "\n",
       "    .dataframe thead th {\n",
       "        text-align: right;\n",
       "    }\n",
       "</style>\n",
       "<table border=\"1\" class=\"dataframe\">\n",
       "  <thead>\n",
       "    <tr style=\"text-align: right;\">\n",
       "      <th></th>\n",
       "      <th>ID</th>\n",
       "      <th>shop_id</th>\n",
       "      <th>item_id</th>\n",
       "      <th>date_block_num</th>\n",
       "      <th>item_cnt_month</th>\n",
       "    </tr>\n",
       "  </thead>\n",
       "  <tbody>\n",
       "    <tr>\n",
       "      <th>0</th>\n",
       "      <td>0</td>\n",
       "      <td>5</td>\n",
       "      <td>5037</td>\n",
       "      <td>34</td>\n",
       "      <td>0</td>\n",
       "    </tr>\n",
       "    <tr>\n",
       "      <th>1</th>\n",
       "      <td>1</td>\n",
       "      <td>5</td>\n",
       "      <td>5320</td>\n",
       "      <td>34</td>\n",
       "      <td>0</td>\n",
       "    </tr>\n",
       "    <tr>\n",
       "      <th>2</th>\n",
       "      <td>2</td>\n",
       "      <td>5</td>\n",
       "      <td>5233</td>\n",
       "      <td>34</td>\n",
       "      <td>0</td>\n",
       "    </tr>\n",
       "    <tr>\n",
       "      <th>3</th>\n",
       "      <td>3</td>\n",
       "      <td>5</td>\n",
       "      <td>5232</td>\n",
       "      <td>34</td>\n",
       "      <td>0</td>\n",
       "    </tr>\n",
       "    <tr>\n",
       "      <th>4</th>\n",
       "      <td>4</td>\n",
       "      <td>5</td>\n",
       "      <td>5268</td>\n",
       "      <td>34</td>\n",
       "      <td>0</td>\n",
       "    </tr>\n",
       "  </tbody>\n",
       "</table>\n",
       "</div>"
      ],
      "text/plain": [
       "   ID  shop_id  item_id  date_block_num  item_cnt_month\n",
       "0   0        5     5037              34               0\n",
       "1   1        5     5320              34               0\n",
       "2   2        5     5233              34               0\n",
       "3   3        5     5232              34               0\n",
       "4   4        5     5268              34               0"
      ]
     },
     "execution_count": 72,
     "metadata": {},
     "output_type": "execute_result"
    }
   ],
   "source": [
    "test.head()"
   ]
  },
  {
   "cell_type": "code",
   "execution_count": 73,
   "metadata": {},
   "outputs": [],
   "source": [
    "new_train = new_train.append(test.drop('ID', axis = 1))"
   ]
  },
  {
   "cell_type": "markdown",
   "metadata": {},
   "source": [
    "### Merging Shops, Items, Categories dataframes to add the city label, category_id, main category and sub-category feature"
   ]
  },
  {
   "cell_type": "code",
   "execution_count": 74,
   "metadata": {},
   "outputs": [
    {
     "data": {
      "text/html": [
       "<div>\n",
       "<style scoped>\n",
       "    .dataframe tbody tr th:only-of-type {\n",
       "        vertical-align: middle;\n",
       "    }\n",
       "\n",
       "    .dataframe tbody tr th {\n",
       "        vertical-align: top;\n",
       "    }\n",
       "\n",
       "    .dataframe thead th {\n",
       "        text-align: right;\n",
       "    }\n",
       "</style>\n",
       "<table border=\"1\" class=\"dataframe\">\n",
       "  <thead>\n",
       "    <tr style=\"text-align: right;\">\n",
       "      <th></th>\n",
       "      <th>shop_id</th>\n",
       "      <th>item_id</th>\n",
       "      <th>date_block_num</th>\n",
       "      <th>item_cnt_month</th>\n",
       "      <th>city_label</th>\n",
       "    </tr>\n",
       "  </thead>\n",
       "  <tbody>\n",
       "    <tr>\n",
       "      <th>0</th>\n",
       "      <td>2</td>\n",
       "      <td>19</td>\n",
       "      <td>0</td>\n",
       "      <td>0.0</td>\n",
       "      <td>0</td>\n",
       "    </tr>\n",
       "    <tr>\n",
       "      <th>1</th>\n",
       "      <td>2</td>\n",
       "      <td>27</td>\n",
       "      <td>0</td>\n",
       "      <td>1.0</td>\n",
       "      <td>0</td>\n",
       "    </tr>\n",
       "    <tr>\n",
       "      <th>2</th>\n",
       "      <td>2</td>\n",
       "      <td>28</td>\n",
       "      <td>0</td>\n",
       "      <td>0.0</td>\n",
       "      <td>0</td>\n",
       "    </tr>\n",
       "    <tr>\n",
       "      <th>3</th>\n",
       "      <td>2</td>\n",
       "      <td>29</td>\n",
       "      <td>0</td>\n",
       "      <td>0.0</td>\n",
       "      <td>0</td>\n",
       "    </tr>\n",
       "    <tr>\n",
       "      <th>4</th>\n",
       "      <td>2</td>\n",
       "      <td>32</td>\n",
       "      <td>0</td>\n",
       "      <td>0.0</td>\n",
       "      <td>0</td>\n",
       "    </tr>\n",
       "  </tbody>\n",
       "</table>\n",
       "</div>"
      ],
      "text/plain": [
       "   shop_id  item_id  date_block_num  item_cnt_month  city_label\n",
       "0        2       19               0             0.0           0\n",
       "1        2       27               0             1.0           0\n",
       "2        2       28               0             0.0           0\n",
       "3        2       29               0             0.0           0\n",
       "4        2       32               0             0.0           0"
      ]
     },
     "execution_count": 74,
     "metadata": {},
     "output_type": "execute_result"
    }
   ],
   "source": [
    "new_train = pd.merge(new_train, shops, on=['shop_id'], how='left')\n",
    "new_train.head()"
   ]
  },
  {
   "cell_type": "code",
   "execution_count": 75,
   "metadata": {},
   "outputs": [
    {
     "data": {
      "text/html": [
       "<div>\n",
       "<style scoped>\n",
       "    .dataframe tbody tr th:only-of-type {\n",
       "        vertical-align: middle;\n",
       "    }\n",
       "\n",
       "    .dataframe tbody tr th {\n",
       "        vertical-align: top;\n",
       "    }\n",
       "\n",
       "    .dataframe thead th {\n",
       "        text-align: right;\n",
       "    }\n",
       "</style>\n",
       "<table border=\"1\" class=\"dataframe\">\n",
       "  <thead>\n",
       "    <tr style=\"text-align: right;\">\n",
       "      <th></th>\n",
       "      <th>shop_id</th>\n",
       "      <th>item_id</th>\n",
       "      <th>date_block_num</th>\n",
       "      <th>item_cnt_month</th>\n",
       "      <th>city_label</th>\n",
       "      <th>item_category_id</th>\n",
       "    </tr>\n",
       "  </thead>\n",
       "  <tbody>\n",
       "    <tr>\n",
       "      <th>0</th>\n",
       "      <td>2</td>\n",
       "      <td>19</td>\n",
       "      <td>0</td>\n",
       "      <td>0.0</td>\n",
       "      <td>0</td>\n",
       "      <td>40</td>\n",
       "    </tr>\n",
       "    <tr>\n",
       "      <th>1</th>\n",
       "      <td>2</td>\n",
       "      <td>27</td>\n",
       "      <td>0</td>\n",
       "      <td>1.0</td>\n",
       "      <td>0</td>\n",
       "      <td>19</td>\n",
       "    </tr>\n",
       "    <tr>\n",
       "      <th>2</th>\n",
       "      <td>2</td>\n",
       "      <td>28</td>\n",
       "      <td>0</td>\n",
       "      <td>0.0</td>\n",
       "      <td>0</td>\n",
       "      <td>30</td>\n",
       "    </tr>\n",
       "    <tr>\n",
       "      <th>3</th>\n",
       "      <td>2</td>\n",
       "      <td>29</td>\n",
       "      <td>0</td>\n",
       "      <td>0.0</td>\n",
       "      <td>0</td>\n",
       "      <td>23</td>\n",
       "    </tr>\n",
       "    <tr>\n",
       "      <th>4</th>\n",
       "      <td>2</td>\n",
       "      <td>32</td>\n",
       "      <td>0</td>\n",
       "      <td>0.0</td>\n",
       "      <td>0</td>\n",
       "      <td>40</td>\n",
       "    </tr>\n",
       "  </tbody>\n",
       "</table>\n",
       "</div>"
      ],
      "text/plain": [
       "   shop_id  item_id  date_block_num  item_cnt_month  city_label  \\\n",
       "0        2       19               0             0.0           0   \n",
       "1        2       27               0             1.0           0   \n",
       "2        2       28               0             0.0           0   \n",
       "3        2       29               0             0.0           0   \n",
       "4        2       32               0             0.0           0   \n",
       "\n",
       "   item_category_id  \n",
       "0                40  \n",
       "1                19  \n",
       "2                30  \n",
       "3                23  \n",
       "4                40  "
      ]
     },
     "execution_count": 75,
     "metadata": {},
     "output_type": "execute_result"
    }
   ],
   "source": [
    "new_train = pd.merge(new_train, items.drop('item_name', axis = 1), on=['item_id'], how='left')\n",
    "new_train.head()"
   ]
  },
  {
   "cell_type": "code",
   "execution_count": 76,
   "metadata": {},
   "outputs": [
    {
     "data": {
      "text/html": [
       "<div>\n",
       "<style scoped>\n",
       "    .dataframe tbody tr th:only-of-type {\n",
       "        vertical-align: middle;\n",
       "    }\n",
       "\n",
       "    .dataframe tbody tr th {\n",
       "        vertical-align: top;\n",
       "    }\n",
       "\n",
       "    .dataframe thead th {\n",
       "        text-align: right;\n",
       "    }\n",
       "</style>\n",
       "<table border=\"1\" class=\"dataframe\">\n",
       "  <thead>\n",
       "    <tr style=\"text-align: right;\">\n",
       "      <th></th>\n",
       "      <th>shop_id</th>\n",
       "      <th>item_id</th>\n",
       "      <th>date_block_num</th>\n",
       "      <th>item_cnt_month</th>\n",
       "      <th>city_label</th>\n",
       "      <th>item_category_id</th>\n",
       "      <th>main_category_id</th>\n",
       "      <th>sub_category_id</th>\n",
       "    </tr>\n",
       "  </thead>\n",
       "  <tbody>\n",
       "    <tr>\n",
       "      <th>0</th>\n",
       "      <td>2</td>\n",
       "      <td>19</td>\n",
       "      <td>0</td>\n",
       "      <td>0.0</td>\n",
       "      <td>0</td>\n",
       "      <td>40</td>\n",
       "      <td>11</td>\n",
       "      <td>4</td>\n",
       "    </tr>\n",
       "    <tr>\n",
       "      <th>1</th>\n",
       "      <td>2</td>\n",
       "      <td>27</td>\n",
       "      <td>0</td>\n",
       "      <td>1.0</td>\n",
       "      <td>0</td>\n",
       "      <td>19</td>\n",
       "      <td>5</td>\n",
       "      <td>10</td>\n",
       "    </tr>\n",
       "    <tr>\n",
       "      <th>2</th>\n",
       "      <td>2</td>\n",
       "      <td>28</td>\n",
       "      <td>0</td>\n",
       "      <td>0.0</td>\n",
       "      <td>0</td>\n",
       "      <td>30</td>\n",
       "      <td>8</td>\n",
       "      <td>55</td>\n",
       "    </tr>\n",
       "    <tr>\n",
       "      <th>3</th>\n",
       "      <td>2</td>\n",
       "      <td>29</td>\n",
       "      <td>0</td>\n",
       "      <td>0.0</td>\n",
       "      <td>0</td>\n",
       "      <td>23</td>\n",
       "      <td>5</td>\n",
       "      <td>16</td>\n",
       "    </tr>\n",
       "    <tr>\n",
       "      <th>4</th>\n",
       "      <td>2</td>\n",
       "      <td>32</td>\n",
       "      <td>0</td>\n",
       "      <td>0.0</td>\n",
       "      <td>0</td>\n",
       "      <td>40</td>\n",
       "      <td>11</td>\n",
       "      <td>4</td>\n",
       "    </tr>\n",
       "  </tbody>\n",
       "</table>\n",
       "</div>"
      ],
      "text/plain": [
       "   shop_id  item_id  date_block_num  item_cnt_month  city_label  \\\n",
       "0        2       19               0             0.0           0   \n",
       "1        2       27               0             1.0           0   \n",
       "2        2       28               0             0.0           0   \n",
       "3        2       29               0             0.0           0   \n",
       "4        2       32               0             0.0           0   \n",
       "\n",
       "   item_category_id  main_category_id  sub_category_id  \n",
       "0                40                11                4  \n",
       "1                19                 5               10  \n",
       "2                30                 8               55  \n",
       "3                23                 5               16  \n",
       "4                40                11                4  "
      ]
     },
     "execution_count": 76,
     "metadata": {},
     "output_type": "execute_result"
    }
   ],
   "source": [
    "new_train = pd.merge(new_train, categories.drop('item_category_name', axis = 1), on=['item_category_id'], how='left')\n",
    "new_train.head()"
   ]
  },
  {
   "cell_type": "markdown",
   "metadata": {},
   "source": [
    "## Generating Lag Features and Mean-Encodings"
   ]
  },
  {
   "cell_type": "code",
   "execution_count": 77,
   "metadata": {},
   "outputs": [],
   "source": [
    "def generate_lag(train, months, lag_column):\n",
    "    for month in months:\n",
    "        # Speed up by grabbing only the useful bits\n",
    "        train_shift = train[['date_block_num', 'shop_id', 'item_id', lag_column]].copy()\n",
    "        train_shift.columns = ['date_block_num', 'shop_id', 'item_id', lag_column+'_lag_'+ str(month)]\n",
    "        train_shift['date_block_num'] += month\n",
    "        train = pd.merge(train, train_shift, on=['date_block_num', 'shop_id', 'item_id'], how='left')\n",
    "    return train"
   ]
  },
  {
   "cell_type": "code",
   "execution_count": 78,
   "metadata": {},
   "outputs": [],
   "source": [
    "del items\n",
    "del categories\n",
    "del shops\n",
    "del test"
   ]
  },
  {
   "cell_type": "code",
   "execution_count": 79,
   "metadata": {},
   "outputs": [],
   "source": [
    "new_train = downcast_dtypes(new_train)"
   ]
  },
  {
   "cell_type": "code",
   "execution_count": 80,
   "metadata": {},
   "outputs": [
    {
     "data": {
      "text/plain": [
       "17"
      ]
     },
     "execution_count": 80,
     "metadata": {},
     "output_type": "execute_result"
    }
   ],
   "source": [
    "import gc\n",
    "gc.collect()"
   ]
  },
  {
   "cell_type": "markdown",
   "metadata": {},
   "source": [
    "### Lag for Target Variable"
   ]
  },
  {
   "cell_type": "code",
   "execution_count": 81,
   "metadata": {},
   "outputs": [
    {
     "name": "stdout",
     "output_type": "stream",
     "text": [
      "Wall time: 52 s\n"
     ]
    }
   ],
   "source": [
    "%%time\n",
    "new_train = generate_lag(new_train, [1,2,3,4,5,6,12], 'item_cnt_month')"
   ]
  },
  {
   "cell_type": "markdown",
   "metadata": {},
   "source": [
    "### Lag for monthly Item-Target mean"
   ]
  },
  {
   "cell_type": "code",
   "execution_count": 82,
   "metadata": {},
   "outputs": [
    {
     "name": "stdout",
     "output_type": "stream",
     "text": [
      "Wall time: 47 s\n"
     ]
    }
   ],
   "source": [
    "%%time\n",
    "group = new_train.groupby(['date_block_num', 'item_id'])['item_cnt_month'].mean().rename('item_month_mean').reset_index()\n",
    "new_train = pd.merge(new_train, group, on=['date_block_num', 'item_id'], how='left')\n",
    "new_train = generate_lag(new_train, [1,2,3,6,12], 'item_month_mean')\n",
    "new_train.drop(['item_month_mean'], axis=1, inplace=True)"
   ]
  },
  {
   "cell_type": "markdown",
   "metadata": {},
   "source": [
    "### Lag for monthly Shop-Target mean"
   ]
  },
  {
   "cell_type": "code",
   "execution_count": 83,
   "metadata": {},
   "outputs": [
    {
     "name": "stdout",
     "output_type": "stream",
     "text": [
      "Wall time: 53.1 s\n"
     ]
    }
   ],
   "source": [
    "%%time\n",
    "group = new_train.groupby(['date_block_num', 'shop_id'])['item_cnt_month'].mean().rename('shop_month_mean').reset_index()\n",
    "new_train = pd.merge(new_train, group, on=['date_block_num', 'shop_id'], how='left')\n",
    "new_train = generate_lag(new_train, [1,2,3,6,12], 'shop_month_mean')\n",
    "new_train.drop(['shop_month_mean'], axis=1, inplace=True)"
   ]
  },
  {
   "cell_type": "markdown",
   "metadata": {},
   "source": [
    "### Lag for monthly Shop-Category mean"
   ]
  },
  {
   "cell_type": "code",
   "execution_count": 84,
   "metadata": {},
   "outputs": [
    {
     "name": "stdout",
     "output_type": "stream",
     "text": [
      "Wall time: 26 s\n"
     ]
    }
   ],
   "source": [
    "%%time\n",
    "group = new_train.groupby(['date_block_num', 'shop_id', 'item_category_id'])['item_cnt_month'].mean().rename('shop_category_month_mean').reset_index()\n",
    "new_train = pd.merge(new_train, group, on=['date_block_num', 'shop_id', 'item_category_id'], how='left')\n",
    "new_train = generate_lag(new_train, [1, 2], 'shop_category_month_mean')\n",
    "new_train.drop(['shop_category_month_mean'], axis=1, inplace=True)"
   ]
  },
  {
   "cell_type": "markdown",
   "metadata": {},
   "source": [
    "### Lag for Monthly Main-Category mean"
   ]
  },
  {
   "cell_type": "code",
   "execution_count": 85,
   "metadata": {},
   "outputs": [
    {
     "name": "stdout",
     "output_type": "stream",
     "text": [
      "Wall time: 16.9 s\n"
     ]
    }
   ],
   "source": [
    "%%time\n",
    "group = new_train.groupby(['date_block_num', 'main_category_id'])['item_cnt_month'].mean().rename('main_category_month_mean').reset_index()\n",
    "new_train = pd.merge(new_train, group, on=['date_block_num', 'main_category_id'], how='left')\n",
    "\n",
    "new_train = generate_lag(new_train, [1], 'main_category_month_mean')\n",
    "new_train.drop(['main_category_month_mean'], axis=1, inplace=True)"
   ]
  },
  {
   "cell_type": "markdown",
   "metadata": {},
   "source": [
    "### Lag for Monthly Sub-Category mean"
   ]
  },
  {
   "cell_type": "code",
   "execution_count": 86,
   "metadata": {},
   "outputs": [
    {
     "name": "stdout",
     "output_type": "stream",
     "text": [
      "Wall time: 16.8 s\n"
     ]
    }
   ],
   "source": [
    "%%time\n",
    "group = new_train.groupby(['date_block_num', 'sub_category_id'])['item_cnt_month'].mean().rename('sub_category_month_mean').reset_index()\n",
    "new_train = pd.merge(new_train, group, on=['date_block_num', 'sub_category_id'], how='left')\n",
    "\n",
    "new_train = generate_lag(new_train, [1], 'sub_category_month_mean')\n",
    "new_train.drop(['sub_category_month_mean'], axis=1, inplace=True)"
   ]
  },
  {
   "cell_type": "code",
   "execution_count": 87,
   "metadata": {},
   "outputs": [
    {
     "data": {
      "text/html": [
       "<div>\n",
       "<style scoped>\n",
       "    .dataframe tbody tr th:only-of-type {\n",
       "        vertical-align: middle;\n",
       "    }\n",
       "\n",
       "    .dataframe tbody tr th {\n",
       "        vertical-align: top;\n",
       "    }\n",
       "\n",
       "    .dataframe thead th {\n",
       "        text-align: right;\n",
       "    }\n",
       "</style>\n",
       "<table border=\"1\" class=\"dataframe\">\n",
       "  <thead>\n",
       "    <tr style=\"text-align: right;\">\n",
       "      <th></th>\n",
       "      <th>shop_id</th>\n",
       "      <th>item_id</th>\n",
       "      <th>date_block_num</th>\n",
       "      <th>item_cnt_month</th>\n",
       "      <th>city_label</th>\n",
       "      <th>item_category_id</th>\n",
       "      <th>main_category_id</th>\n",
       "      <th>sub_category_id</th>\n",
       "      <th>item_cnt_month_lag_1</th>\n",
       "      <th>item_cnt_month_lag_2</th>\n",
       "      <th>...</th>\n",
       "      <th>item_month_mean_lag_12</th>\n",
       "      <th>shop_month_mean_lag_1</th>\n",
       "      <th>shop_month_mean_lag_2</th>\n",
       "      <th>shop_month_mean_lag_3</th>\n",
       "      <th>shop_month_mean_lag_6</th>\n",
       "      <th>shop_month_mean_lag_12</th>\n",
       "      <th>shop_category_month_mean_lag_1</th>\n",
       "      <th>shop_category_month_mean_lag_2</th>\n",
       "      <th>main_category_month_mean_lag_1</th>\n",
       "      <th>sub_category_month_mean_lag_1</th>\n",
       "    </tr>\n",
       "  </thead>\n",
       "  <tbody>\n",
       "    <tr>\n",
       "      <th>11127999</th>\n",
       "      <td>45</td>\n",
       "      <td>18454</td>\n",
       "      <td>34</td>\n",
       "      <td>0.0</td>\n",
       "      <td>20</td>\n",
       "      <td>55</td>\n",
       "      <td>13</td>\n",
       "      <td>2</td>\n",
       "      <td>1.0</td>\n",
       "      <td>0.0</td>\n",
       "      <td>...</td>\n",
       "      <td>NaN</td>\n",
       "      <td>0.126709</td>\n",
       "      <td>0.128784</td>\n",
       "      <td>0.139038</td>\n",
       "      <td>0.137573</td>\n",
       "      <td>NaN</td>\n",
       "      <td>0.126831</td>\n",
       "      <td>0.074524</td>\n",
       "      <td>0.146973</td>\n",
       "      <td>0.196899</td>\n",
       "    </tr>\n",
       "    <tr>\n",
       "      <th>11128000</th>\n",
       "      <td>45</td>\n",
       "      <td>16188</td>\n",
       "      <td>34</td>\n",
       "      <td>0.0</td>\n",
       "      <td>20</td>\n",
       "      <td>64</td>\n",
       "      <td>14</td>\n",
       "      <td>42</td>\n",
       "      <td>0.0</td>\n",
       "      <td>0.0</td>\n",
       "      <td>...</td>\n",
       "      <td>NaN</td>\n",
       "      <td>0.126709</td>\n",
       "      <td>0.128784</td>\n",
       "      <td>NaN</td>\n",
       "      <td>NaN</td>\n",
       "      <td>NaN</td>\n",
       "      <td>0.094482</td>\n",
       "      <td>0.117126</td>\n",
       "      <td>0.237305</td>\n",
       "      <td>0.155884</td>\n",
       "    </tr>\n",
       "    <tr>\n",
       "      <th>11128001</th>\n",
       "      <td>45</td>\n",
       "      <td>15757</td>\n",
       "      <td>34</td>\n",
       "      <td>0.0</td>\n",
       "      <td>20</td>\n",
       "      <td>55</td>\n",
       "      <td>13</td>\n",
       "      <td>2</td>\n",
       "      <td>0.0</td>\n",
       "      <td>0.0</td>\n",
       "      <td>...</td>\n",
       "      <td>0.180054</td>\n",
       "      <td>0.126709</td>\n",
       "      <td>0.128784</td>\n",
       "      <td>0.139038</td>\n",
       "      <td>0.137573</td>\n",
       "      <td>0.181274</td>\n",
       "      <td>0.126831</td>\n",
       "      <td>0.074524</td>\n",
       "      <td>0.146973</td>\n",
       "      <td>0.196899</td>\n",
       "    </tr>\n",
       "    <tr>\n",
       "      <th>11128002</th>\n",
       "      <td>45</td>\n",
       "      <td>19648</td>\n",
       "      <td>34</td>\n",
       "      <td>0.0</td>\n",
       "      <td>20</td>\n",
       "      <td>40</td>\n",
       "      <td>11</td>\n",
       "      <td>4</td>\n",
       "      <td>0.0</td>\n",
       "      <td>0.0</td>\n",
       "      <td>...</td>\n",
       "      <td>NaN</td>\n",
       "      <td>0.126709</td>\n",
       "      <td>0.128784</td>\n",
       "      <td>0.139038</td>\n",
       "      <td>0.137573</td>\n",
       "      <td>NaN</td>\n",
       "      <td>0.083740</td>\n",
       "      <td>0.074097</td>\n",
       "      <td>0.224243</td>\n",
       "      <td>0.220825</td>\n",
       "    </tr>\n",
       "    <tr>\n",
       "      <th>11128003</th>\n",
       "      <td>45</td>\n",
       "      <td>969</td>\n",
       "      <td>34</td>\n",
       "      <td>0.0</td>\n",
       "      <td>20</td>\n",
       "      <td>37</td>\n",
       "      <td>11</td>\n",
       "      <td>1</td>\n",
       "      <td>0.0</td>\n",
       "      <td>0.0</td>\n",
       "      <td>...</td>\n",
       "      <td>0.119995</td>\n",
       "      <td>0.126709</td>\n",
       "      <td>0.128784</td>\n",
       "      <td>0.139038</td>\n",
       "      <td>0.137573</td>\n",
       "      <td>0.181274</td>\n",
       "      <td>0.128174</td>\n",
       "      <td>0.067444</td>\n",
       "      <td>0.224243</td>\n",
       "      <td>0.240967</td>\n",
       "    </tr>\n",
       "  </tbody>\n",
       "</table>\n",
       "<p>5 rows × 29 columns</p>\n",
       "</div>"
      ],
      "text/plain": [
       "          shop_id  item_id  date_block_num  item_cnt_month  city_label  \\\n",
       "11127999       45    18454              34             0.0          20   \n",
       "11128000       45    16188              34             0.0          20   \n",
       "11128001       45    15757              34             0.0          20   \n",
       "11128002       45    19648              34             0.0          20   \n",
       "11128003       45      969              34             0.0          20   \n",
       "\n",
       "          item_category_id  main_category_id  sub_category_id  \\\n",
       "11127999                55                13                2   \n",
       "11128000                64                14               42   \n",
       "11128001                55                13                2   \n",
       "11128002                40                11                4   \n",
       "11128003                37                11                1   \n",
       "\n",
       "          item_cnt_month_lag_1  item_cnt_month_lag_2  ...  \\\n",
       "11127999                   1.0                   0.0  ...   \n",
       "11128000                   0.0                   0.0  ...   \n",
       "11128001                   0.0                   0.0  ...   \n",
       "11128002                   0.0                   0.0  ...   \n",
       "11128003                   0.0                   0.0  ...   \n",
       "\n",
       "          item_month_mean_lag_12  shop_month_mean_lag_1  \\\n",
       "11127999                     NaN               0.126709   \n",
       "11128000                     NaN               0.126709   \n",
       "11128001                0.180054               0.126709   \n",
       "11128002                     NaN               0.126709   \n",
       "11128003                0.119995               0.126709   \n",
       "\n",
       "          shop_month_mean_lag_2  shop_month_mean_lag_3  shop_month_mean_lag_6  \\\n",
       "11127999               0.128784               0.139038               0.137573   \n",
       "11128000               0.128784                    NaN                    NaN   \n",
       "11128001               0.128784               0.139038               0.137573   \n",
       "11128002               0.128784               0.139038               0.137573   \n",
       "11128003               0.128784               0.139038               0.137573   \n",
       "\n",
       "          shop_month_mean_lag_12  shop_category_month_mean_lag_1  \\\n",
       "11127999                     NaN                        0.126831   \n",
       "11128000                     NaN                        0.094482   \n",
       "11128001                0.181274                        0.126831   \n",
       "11128002                     NaN                        0.083740   \n",
       "11128003                0.181274                        0.128174   \n",
       "\n",
       "          shop_category_month_mean_lag_2  main_category_month_mean_lag_1  \\\n",
       "11127999                        0.074524                        0.146973   \n",
       "11128000                        0.117126                        0.237305   \n",
       "11128001                        0.074524                        0.146973   \n",
       "11128002                        0.074097                        0.224243   \n",
       "11128003                        0.067444                        0.224243   \n",
       "\n",
       "          sub_category_month_mean_lag_1  \n",
       "11127999                       0.196899  \n",
       "11128000                       0.155884  \n",
       "11128001                       0.196899  \n",
       "11128002                       0.220825  \n",
       "11128003                       0.240967  \n",
       "\n",
       "[5 rows x 29 columns]"
      ]
     },
     "execution_count": 87,
     "metadata": {},
     "output_type": "execute_result"
    }
   ],
   "source": [
    "new_train.tail()"
   ]
  },
  {
   "cell_type": "markdown",
   "metadata": {},
   "source": [
    "### Add month feature!"
   ]
  },
  {
   "cell_type": "code",
   "execution_count": 88,
   "metadata": {},
   "outputs": [],
   "source": [
    "new_train['month'] = new_train['date_block_num'] % 12"
   ]
  },
  {
   "cell_type": "markdown",
   "metadata": {},
   "source": [
    "### Add Holiday feature!"
   ]
  },
  {
   "cell_type": "code",
   "execution_count": 89,
   "metadata": {},
   "outputs": [],
   "source": [
    "holiday_dict = {\n",
    "    0: 6,\n",
    "    1: 3,\n",
    "    2: 2,\n",
    "    3: 8,\n",
    "    4: 3,\n",
    "    5: 3,\n",
    "    6: 2,\n",
    "    7: 8,\n",
    "    8: 4,\n",
    "    9: 8,\n",
    "    10: 5,\n",
    "    11: 4,\n",
    "}"
   ]
  },
  {
   "cell_type": "code",
   "execution_count": 90,
   "metadata": {},
   "outputs": [],
   "source": [
    "new_train['holidays_in_month'] = new_train['month'].map(holiday_dict)"
   ]
  },
  {
   "cell_type": "markdown",
   "metadata": {},
   "source": [
    "### Russian Ruble Price per month!"
   ]
  },
  {
   "cell_type": "code",
   "execution_count": 91,
   "metadata": {},
   "outputs": [],
   "source": [
    "# ruble_dollar = { 12: 33.675610, 13: 35.245171, 14: 36.195442, 15: 35.658811, 16: 34.918525, 17: 34.392044, 18: 34.684944, 19: 36.144526, 20: 37.951523, 21: 40.815324, 22: 46.257598, 23: 55.966912, 24: 63.676710, 25: 64.443511, 26: 60.261687, 27: 53.179035, 28: 50.682796, 29: 54.610770, 30: 57.155767, 31: 65.355082, 32: 66.950360, 33: 63.126499, 34: 65.083095, }"
   ]
  },
  {
   "cell_type": "code",
   "execution_count": 92,
   "metadata": {},
   "outputs": [],
   "source": [
    "# new_train['ruble_value'] = new_train.date_block_num.map(ruble_dollar)"
   ]
  },
  {
   "cell_type": "markdown",
   "metadata": {},
   "source": [
    "### Russian Stock Exchange Trading Volume (in Trillions)"
   ]
  },
  {
   "cell_type": "code",
   "execution_count": 93,
   "metadata": {},
   "outputs": [],
   "source": [
    "moex = {\n",
    "    12: 659, 13: 640, 14: 1231,\n",
    "    15: 881, 16: 764, 17: 663,\n",
    "    18: 743, 19: 627, 20: 692,\n",
    "    21: 736, 22: 680, 23: 1092,\n",
    "    24: 657, 25: 863, 26: 720,\n",
    "    27: 819, 28: 574, 29: 568,\n",
    "    30: 633, 31: 658, 32: 611,\n",
    "    33: 770, 34: 723,\n",
    "}"
   ]
  },
  {
   "cell_type": "code",
   "execution_count": 94,
   "metadata": {},
   "outputs": [],
   "source": [
    "new_train['moex_value'] = new_train.date_block_num.map(moex)"
   ]
  },
  {
   "cell_type": "code",
   "execution_count": 95,
   "metadata": {},
   "outputs": [],
   "source": [
    "new_train = downcast_dtypes(new_train)"
   ]
  },
  {
   "cell_type": "markdown",
   "metadata": {},
   "source": [
    "# Training"
   ]
  },
  {
   "cell_type": "code",
   "execution_count": 97,
   "metadata": {},
   "outputs": [],
   "source": [
    "import xgboost as xgb"
   ]
  },
  {
   "cell_type": "code",
   "execution_count": 98,
   "metadata": {},
   "outputs": [],
   "source": [
    "new_train = new_train[new_train.date_block_num > 11]\n",
    "\n",
    "# x_train = new_train[new_train.date_block_num < 33].drop(['item_cnt_month'], axis=1)\n",
    "# y_train = new_train[new_train.date_block_num < 33]['item_cnt_month']\n",
    "\n",
    "# x_valid = new_train[new_train.date_block_num == 33].drop(['item_cnt_month'], axis=1)\n",
    "# y_valid = new_train[new_train.date_block_num == 33]['item_cnt_month']\n",
    "\n",
    "# x_test = new_train[new_train.date_block_num == 34].drop(['item_cnt_month'], axis=1)"
   ]
  },
  {
   "cell_type": "code",
   "execution_count": 99,
   "metadata": {},
   "outputs": [
    {
     "data": {
      "text/plain": [
       "50"
      ]
     },
     "execution_count": 99,
     "metadata": {},
     "output_type": "execute_result"
    }
   ],
   "source": [
    "import gc\n",
    "gc.collect()"
   ]
  },
  {
   "cell_type": "code",
   "execution_count": 100,
   "metadata": {},
   "outputs": [],
   "source": [
    "def fill_na(df):\n",
    "    for col in df.columns:\n",
    "        if ('_lag_' in col) & (df[col].isnull().any()):\n",
    "            df[col].fillna(0, inplace=True)         \n",
    "    return df\n",
    "\n",
    "new_train = fill_na(new_train)"
   ]
  },
  {
   "cell_type": "raw",
   "metadata": {},
   "source": [
    "new_train = new_train.reset_index(drop = True)\n",
    "new_train.to_feather('new_train_baller')"
   ]
  },
  {
   "cell_type": "code",
   "execution_count": 101,
   "metadata": {},
   "outputs": [],
   "source": [
    "def xgtrain():\n",
    "    regressor = xgb.XGBRegressor(n_estimators = 5000,\n",
    "                                 learning_rate = 0.01,\n",
    "                                 max_depth = 10,\n",
    "                                 subsample = 0.5,\n",
    "                                 colsample_bytree = 0.5)\n",
    "    \n",
    "    regressor_ = regressor.fit(new_train[new_train.date_block_num < 33].drop(['item_cnt_month'], axis=1).values, \n",
    "                               new_train[new_train.date_block_num < 33]['item_cnt_month'].values, \n",
    "                               eval_metric = 'rmse', \n",
    "                               eval_set = [(new_train[new_train.date_block_num < 33].drop(['item_cnt_month'], axis=1).values, \n",
    "                                            new_train[new_train.date_block_num < 33]['item_cnt_month'].values), \n",
    "                                           (new_train[new_train.date_block_num == 33].drop(['item_cnt_month'], axis=1).values, \n",
    "                                            new_train[new_train.date_block_num == 33]['item_cnt_month'].values)\n",
    "                                          ], \n",
    "                               verbose=True,\n",
    "                               early_stopping_rounds = 50,\n",
    "                              )\n",
    "    return regressor_"
   ]
  },
  {
   "cell_type": "code",
   "execution_count": 102,
   "metadata": {
    "_kg_hide-output": false
   },
   "outputs": [
    {
     "name": "stdout",
     "output_type": "stream",
     "text": [
      "[0]\tvalidation_0-rmse:1.20359\tvalidation_1-rmse:1.15806\n",
      "[1]\tvalidation_0-rmse:1.19867\tvalidation_1-rmse:1.15389\n",
      "[2]\tvalidation_0-rmse:1.19494\tvalidation_1-rmse:1.15047\n",
      "[3]\tvalidation_0-rmse:1.18878\tvalidation_1-rmse:1.14672\n",
      "[4]\tvalidation_0-rmse:1.18418\tvalidation_1-rmse:1.14308\n",
      "[5]\tvalidation_0-rmse:1.17950\tvalidation_1-rmse:1.13969\n",
      "[6]\tvalidation_0-rmse:1.17540\tvalidation_1-rmse:1.13686\n",
      "[7]\tvalidation_0-rmse:1.16955\tvalidation_1-rmse:1.13307\n",
      "[8]\tvalidation_0-rmse:1.16530\tvalidation_1-rmse:1.12975\n",
      "[9]\tvalidation_0-rmse:1.16128\tvalidation_1-rmse:1.12664\n",
      "[10]\tvalidation_0-rmse:1.15639\tvalidation_1-rmse:1.12303\n",
      "[11]\tvalidation_0-rmse:1.15190\tvalidation_1-rmse:1.11978\n",
      "[12]\tvalidation_0-rmse:1.14791\tvalidation_1-rmse:1.11663\n",
      "[13]\tvalidation_0-rmse:1.14358\tvalidation_1-rmse:1.11350\n",
      "[14]\tvalidation_0-rmse:1.13915\tvalidation_1-rmse:1.11011\n",
      "[15]\tvalidation_0-rmse:1.13622\tvalidation_1-rmse:1.10744\n",
      "[16]\tvalidation_0-rmse:1.13318\tvalidation_1-rmse:1.10467\n",
      "[17]\tvalidation_0-rmse:1.12899\tvalidation_1-rmse:1.10148\n",
      "[18]\tvalidation_0-rmse:1.12580\tvalidation_1-rmse:1.09886\n",
      "[19]\tvalidation_0-rmse:1.12107\tvalidation_1-rmse:1.09580\n",
      "[20]\tvalidation_0-rmse:1.11742\tvalidation_1-rmse:1.09289\n",
      "[21]\tvalidation_0-rmse:1.11302\tvalidation_1-rmse:1.08956\n",
      "[22]\tvalidation_0-rmse:1.10966\tvalidation_1-rmse:1.08688\n",
      "[23]\tvalidation_0-rmse:1.10574\tvalidation_1-rmse:1.08400\n",
      "[24]\tvalidation_0-rmse:1.10178\tvalidation_1-rmse:1.08134\n",
      "[25]\tvalidation_0-rmse:1.09751\tvalidation_1-rmse:1.07816\n",
      "[26]\tvalidation_0-rmse:1.09339\tvalidation_1-rmse:1.07511\n",
      "[27]\tvalidation_0-rmse:1.08948\tvalidation_1-rmse:1.07220\n",
      "[28]\tvalidation_0-rmse:1.08609\tvalidation_1-rmse:1.06961\n",
      "[29]\tvalidation_0-rmse:1.08178\tvalidation_1-rmse:1.06665\n",
      "[30]\tvalidation_0-rmse:1.07872\tvalidation_1-rmse:1.06459\n",
      "[31]\tvalidation_0-rmse:1.07558\tvalidation_1-rmse:1.06229\n",
      "[32]\tvalidation_0-rmse:1.07167\tvalidation_1-rmse:1.05950\n",
      "[33]\tvalidation_0-rmse:1.06887\tvalidation_1-rmse:1.05746\n",
      "[34]\tvalidation_0-rmse:1.06560\tvalidation_1-rmse:1.05514\n",
      "[35]\tvalidation_0-rmse:1.06235\tvalidation_1-rmse:1.05271\n",
      "[36]\tvalidation_0-rmse:1.05934\tvalidation_1-rmse:1.05058\n",
      "[37]\tvalidation_0-rmse:1.05646\tvalidation_1-rmse:1.04845\n",
      "[38]\tvalidation_0-rmse:1.05309\tvalidation_1-rmse:1.04595\n",
      "[39]\tvalidation_0-rmse:1.04993\tvalidation_1-rmse:1.04376\n",
      "[40]\tvalidation_0-rmse:1.04745\tvalidation_1-rmse:1.04186\n",
      "[41]\tvalidation_0-rmse:1.04450\tvalidation_1-rmse:1.03963\n",
      "[42]\tvalidation_0-rmse:1.04121\tvalidation_1-rmse:1.03775\n",
      "[43]\tvalidation_0-rmse:1.03791\tvalidation_1-rmse:1.03560\n",
      "[44]\tvalidation_0-rmse:1.03517\tvalidation_1-rmse:1.03366\n",
      "[45]\tvalidation_0-rmse:1.03264\tvalidation_1-rmse:1.03174\n",
      "[46]\tvalidation_0-rmse:1.02954\tvalidation_1-rmse:1.02992\n",
      "[47]\tvalidation_0-rmse:1.02653\tvalidation_1-rmse:1.02787\n",
      "[48]\tvalidation_0-rmse:1.02371\tvalidation_1-rmse:1.02592\n",
      "[49]\tvalidation_0-rmse:1.02079\tvalidation_1-rmse:1.02395\n",
      "[50]\tvalidation_0-rmse:1.01777\tvalidation_1-rmse:1.02191\n",
      "[51]\tvalidation_0-rmse:1.01499\tvalidation_1-rmse:1.01992\n",
      "[52]\tvalidation_0-rmse:1.01217\tvalidation_1-rmse:1.01797\n",
      "[53]\tvalidation_0-rmse:1.00955\tvalidation_1-rmse:1.01625\n",
      "[54]\tvalidation_0-rmse:1.00732\tvalidation_1-rmse:1.01461\n",
      "[55]\tvalidation_0-rmse:1.00477\tvalidation_1-rmse:1.01295\n",
      "[56]\tvalidation_0-rmse:1.00215\tvalidation_1-rmse:1.01116\n",
      "[57]\tvalidation_0-rmse:1.00048\tvalidation_1-rmse:1.00999\n",
      "[58]\tvalidation_0-rmse:0.99796\tvalidation_1-rmse:1.00828\n",
      "[59]\tvalidation_0-rmse:0.99520\tvalidation_1-rmse:1.00659\n",
      "[60]\tvalidation_0-rmse:0.99338\tvalidation_1-rmse:1.00534\n",
      "[61]\tvalidation_0-rmse:0.99086\tvalidation_1-rmse:1.00373\n",
      "[62]\tvalidation_0-rmse:0.98836\tvalidation_1-rmse:1.00226\n",
      "[63]\tvalidation_0-rmse:0.98608\tvalidation_1-rmse:1.00081\n",
      "[64]\tvalidation_0-rmse:0.98387\tvalidation_1-rmse:0.99948\n",
      "[65]\tvalidation_0-rmse:0.98150\tvalidation_1-rmse:0.99811\n",
      "[66]\tvalidation_0-rmse:0.97962\tvalidation_1-rmse:0.99691\n",
      "[67]\tvalidation_0-rmse:0.97722\tvalidation_1-rmse:0.99548\n",
      "[68]\tvalidation_0-rmse:0.97500\tvalidation_1-rmse:0.99407\n",
      "[69]\tvalidation_0-rmse:0.97317\tvalidation_1-rmse:0.99294\n",
      "[70]\tvalidation_0-rmse:0.97100\tvalidation_1-rmse:0.99157\n",
      "[71]\tvalidation_0-rmse:0.96928\tvalidation_1-rmse:0.99040\n",
      "[72]\tvalidation_0-rmse:0.96773\tvalidation_1-rmse:0.98934\n",
      "[73]\tvalidation_0-rmse:0.96569\tvalidation_1-rmse:0.98806\n",
      "[74]\tvalidation_0-rmse:0.96410\tvalidation_1-rmse:0.98701\n",
      "[75]\tvalidation_0-rmse:0.96210\tvalidation_1-rmse:0.98578\n",
      "[76]\tvalidation_0-rmse:0.96043\tvalidation_1-rmse:0.98465\n",
      "[77]\tvalidation_0-rmse:0.95867\tvalidation_1-rmse:0.98357\n",
      "[78]\tvalidation_0-rmse:0.95671\tvalidation_1-rmse:0.98232\n",
      "[79]\tvalidation_0-rmse:0.95505\tvalidation_1-rmse:0.98130\n",
      "[80]\tvalidation_0-rmse:0.95362\tvalidation_1-rmse:0.98039\n",
      "[81]\tvalidation_0-rmse:0.95168\tvalidation_1-rmse:0.97913\n",
      "[82]\tvalidation_0-rmse:0.95034\tvalidation_1-rmse:0.97826\n",
      "[83]\tvalidation_0-rmse:0.94847\tvalidation_1-rmse:0.97715\n",
      "[84]\tvalidation_0-rmse:0.94697\tvalidation_1-rmse:0.97615\n",
      "[85]\tvalidation_0-rmse:0.94549\tvalidation_1-rmse:0.97535\n",
      "[86]\tvalidation_0-rmse:0.94366\tvalidation_1-rmse:0.97445\n",
      "[87]\tvalidation_0-rmse:0.94202\tvalidation_1-rmse:0.97343\n",
      "[88]\tvalidation_0-rmse:0.94028\tvalidation_1-rmse:0.97238\n",
      "[89]\tvalidation_0-rmse:0.93865\tvalidation_1-rmse:0.97147\n",
      "[90]\tvalidation_0-rmse:0.93685\tvalidation_1-rmse:0.97046\n",
      "[91]\tvalidation_0-rmse:0.93527\tvalidation_1-rmse:0.96957\n",
      "[92]\tvalidation_0-rmse:0.93375\tvalidation_1-rmse:0.96870\n",
      "[93]\tvalidation_0-rmse:0.93251\tvalidation_1-rmse:0.96796\n",
      "[94]\tvalidation_0-rmse:0.93080\tvalidation_1-rmse:0.96704\n",
      "[95]\tvalidation_0-rmse:0.92936\tvalidation_1-rmse:0.96628\n",
      "[96]\tvalidation_0-rmse:0.92807\tvalidation_1-rmse:0.96557\n",
      "[97]\tvalidation_0-rmse:0.92643\tvalidation_1-rmse:0.96469\n",
      "[98]\tvalidation_0-rmse:0.92488\tvalidation_1-rmse:0.96374\n",
      "[99]\tvalidation_0-rmse:0.92327\tvalidation_1-rmse:0.96284\n",
      "[100]\tvalidation_0-rmse:0.92174\tvalidation_1-rmse:0.96194\n",
      "[101]\tvalidation_0-rmse:0.92024\tvalidation_1-rmse:0.96107\n",
      "[102]\tvalidation_0-rmse:0.91873\tvalidation_1-rmse:0.96021\n",
      "[103]\tvalidation_0-rmse:0.91760\tvalidation_1-rmse:0.95946\n",
      "[104]\tvalidation_0-rmse:0.91614\tvalidation_1-rmse:0.95865\n",
      "[105]\tvalidation_0-rmse:0.91526\tvalidation_1-rmse:0.95807\n",
      "[106]\tvalidation_0-rmse:0.91434\tvalidation_1-rmse:0.95758\n",
      "[107]\tvalidation_0-rmse:0.91344\tvalidation_1-rmse:0.95702\n",
      "[108]\tvalidation_0-rmse:0.91245\tvalidation_1-rmse:0.95637\n",
      "[109]\tvalidation_0-rmse:0.91111\tvalidation_1-rmse:0.95568\n",
      "[110]\tvalidation_0-rmse:0.91008\tvalidation_1-rmse:0.95506\n",
      "[111]\tvalidation_0-rmse:0.90882\tvalidation_1-rmse:0.95423\n",
      "[112]\tvalidation_0-rmse:0.90769\tvalidation_1-rmse:0.95361\n",
      "[113]\tvalidation_0-rmse:0.90684\tvalidation_1-rmse:0.95308\n",
      "[114]\tvalidation_0-rmse:0.90555\tvalidation_1-rmse:0.95235\n",
      "[115]\tvalidation_0-rmse:0.90461\tvalidation_1-rmse:0.95177\n",
      "[116]\tvalidation_0-rmse:0.90338\tvalidation_1-rmse:0.95112\n",
      "[117]\tvalidation_0-rmse:0.90222\tvalidation_1-rmse:0.95050\n",
      "[118]\tvalidation_0-rmse:0.90122\tvalidation_1-rmse:0.95001\n",
      "[119]\tvalidation_0-rmse:0.90003\tvalidation_1-rmse:0.94930\n",
      "[120]\tvalidation_0-rmse:0.89876\tvalidation_1-rmse:0.94856\n",
      "[121]\tvalidation_0-rmse:0.89770\tvalidation_1-rmse:0.94808\n",
      "[122]\tvalidation_0-rmse:0.89668\tvalidation_1-rmse:0.94761\n",
      "[123]\tvalidation_0-rmse:0.89573\tvalidation_1-rmse:0.94703\n",
      "[124]\tvalidation_0-rmse:0.89455\tvalidation_1-rmse:0.94650\n",
      "[125]\tvalidation_0-rmse:0.89379\tvalidation_1-rmse:0.94601\n",
      "[126]\tvalidation_0-rmse:0.89279\tvalidation_1-rmse:0.94562\n",
      "[127]\tvalidation_0-rmse:0.89168\tvalidation_1-rmse:0.94512\n",
      "[128]\tvalidation_0-rmse:0.89069\tvalidation_1-rmse:0.94457\n",
      "[129]\tvalidation_0-rmse:0.88969\tvalidation_1-rmse:0.94400\n",
      "[130]\tvalidation_0-rmse:0.88877\tvalidation_1-rmse:0.94363\n",
      "[131]\tvalidation_0-rmse:0.88780\tvalidation_1-rmse:0.94324\n",
      "[132]\tvalidation_0-rmse:0.88696\tvalidation_1-rmse:0.94293\n",
      "[133]\tvalidation_0-rmse:0.88613\tvalidation_1-rmse:0.94244\n",
      "[134]\tvalidation_0-rmse:0.88545\tvalidation_1-rmse:0.94203\n",
      "[135]\tvalidation_0-rmse:0.88483\tvalidation_1-rmse:0.94172\n",
      "[136]\tvalidation_0-rmse:0.88391\tvalidation_1-rmse:0.94128\n",
      "[137]\tvalidation_0-rmse:0.88294\tvalidation_1-rmse:0.94077\n",
      "[138]\tvalidation_0-rmse:0.88220\tvalidation_1-rmse:0.94046\n",
      "[139]\tvalidation_0-rmse:0.88153\tvalidation_1-rmse:0.94011\n",
      "[140]\tvalidation_0-rmse:0.88052\tvalidation_1-rmse:0.93966\n",
      "[141]\tvalidation_0-rmse:0.87965\tvalidation_1-rmse:0.93919\n",
      "[142]\tvalidation_0-rmse:0.87871\tvalidation_1-rmse:0.93868\n",
      "[143]\tvalidation_0-rmse:0.87782\tvalidation_1-rmse:0.93821\n"
     ]
    },
    {
     "name": "stdout",
     "output_type": "stream",
     "text": [
      "[144]\tvalidation_0-rmse:0.87698\tvalidation_1-rmse:0.93783\n",
      "[145]\tvalidation_0-rmse:0.87637\tvalidation_1-rmse:0.93751\n",
      "[146]\tvalidation_0-rmse:0.87551\tvalidation_1-rmse:0.93708\n",
      "[147]\tvalidation_0-rmse:0.87498\tvalidation_1-rmse:0.93676\n",
      "[148]\tvalidation_0-rmse:0.87412\tvalidation_1-rmse:0.93646\n",
      "[149]\tvalidation_0-rmse:0.87338\tvalidation_1-rmse:0.93621\n",
      "[150]\tvalidation_0-rmse:0.87272\tvalidation_1-rmse:0.93594\n",
      "[151]\tvalidation_0-rmse:0.87196\tvalidation_1-rmse:0.93552\n",
      "[152]\tvalidation_0-rmse:0.87135\tvalidation_1-rmse:0.93516\n",
      "[153]\tvalidation_0-rmse:0.87055\tvalidation_1-rmse:0.93480\n",
      "[154]\tvalidation_0-rmse:0.86980\tvalidation_1-rmse:0.93442\n",
      "[155]\tvalidation_0-rmse:0.86920\tvalidation_1-rmse:0.93410\n",
      "[156]\tvalidation_0-rmse:0.86840\tvalidation_1-rmse:0.93379\n",
      "[157]\tvalidation_0-rmse:0.86769\tvalidation_1-rmse:0.93355\n",
      "[158]\tvalidation_0-rmse:0.86682\tvalidation_1-rmse:0.93331\n",
      "[159]\tvalidation_0-rmse:0.86620\tvalidation_1-rmse:0.93297\n",
      "[160]\tvalidation_0-rmse:0.86549\tvalidation_1-rmse:0.93262\n",
      "[161]\tvalidation_0-rmse:0.86498\tvalidation_1-rmse:0.93232\n",
      "[162]\tvalidation_0-rmse:0.86423\tvalidation_1-rmse:0.93204\n",
      "[163]\tvalidation_0-rmse:0.86365\tvalidation_1-rmse:0.93169\n",
      "[164]\tvalidation_0-rmse:0.86300\tvalidation_1-rmse:0.93140\n",
      "[165]\tvalidation_0-rmse:0.86224\tvalidation_1-rmse:0.93114\n",
      "[166]\tvalidation_0-rmse:0.86178\tvalidation_1-rmse:0.93091\n",
      "[167]\tvalidation_0-rmse:0.86139\tvalidation_1-rmse:0.93075\n",
      "[168]\tvalidation_0-rmse:0.86094\tvalidation_1-rmse:0.93047\n",
      "[169]\tvalidation_0-rmse:0.86036\tvalidation_1-rmse:0.93018\n",
      "[170]\tvalidation_0-rmse:0.85970\tvalidation_1-rmse:0.92985\n",
      "[171]\tvalidation_0-rmse:0.85921\tvalidation_1-rmse:0.92962\n",
      "[172]\tvalidation_0-rmse:0.85859\tvalidation_1-rmse:0.92949\n",
      "[173]\tvalidation_0-rmse:0.85795\tvalidation_1-rmse:0.92917\n",
      "[174]\tvalidation_0-rmse:0.85731\tvalidation_1-rmse:0.92892\n",
      "[175]\tvalidation_0-rmse:0.85680\tvalidation_1-rmse:0.92872\n",
      "[176]\tvalidation_0-rmse:0.85620\tvalidation_1-rmse:0.92855\n",
      "[177]\tvalidation_0-rmse:0.85555\tvalidation_1-rmse:0.92829\n",
      "[178]\tvalidation_0-rmse:0.85511\tvalidation_1-rmse:0.92815\n",
      "[179]\tvalidation_0-rmse:0.85456\tvalidation_1-rmse:0.92790\n",
      "[180]\tvalidation_0-rmse:0.85393\tvalidation_1-rmse:0.92766\n",
      "[181]\tvalidation_0-rmse:0.85332\tvalidation_1-rmse:0.92737\n",
      "[182]\tvalidation_0-rmse:0.85271\tvalidation_1-rmse:0.92718\n",
      "[183]\tvalidation_0-rmse:0.85223\tvalidation_1-rmse:0.92700\n",
      "[184]\tvalidation_0-rmse:0.85170\tvalidation_1-rmse:0.92670\n",
      "[185]\tvalidation_0-rmse:0.85125\tvalidation_1-rmse:0.92659\n",
      "[186]\tvalidation_0-rmse:0.85083\tvalidation_1-rmse:0.92645\n",
      "[187]\tvalidation_0-rmse:0.85025\tvalidation_1-rmse:0.92620\n",
      "[188]\tvalidation_0-rmse:0.84961\tvalidation_1-rmse:0.92602\n",
      "[189]\tvalidation_0-rmse:0.84905\tvalidation_1-rmse:0.92580\n",
      "[190]\tvalidation_0-rmse:0.84870\tvalidation_1-rmse:0.92566\n",
      "[191]\tvalidation_0-rmse:0.84826\tvalidation_1-rmse:0.92544\n",
      "[192]\tvalidation_0-rmse:0.84772\tvalidation_1-rmse:0.92526\n",
      "[193]\tvalidation_0-rmse:0.84731\tvalidation_1-rmse:0.92510\n",
      "[194]\tvalidation_0-rmse:0.84674\tvalidation_1-rmse:0.92492\n",
      "[195]\tvalidation_0-rmse:0.84627\tvalidation_1-rmse:0.92477\n",
      "[196]\tvalidation_0-rmse:0.84583\tvalidation_1-rmse:0.92461\n",
      "[197]\tvalidation_0-rmse:0.84548\tvalidation_1-rmse:0.92458\n",
      "[198]\tvalidation_0-rmse:0.84499\tvalidation_1-rmse:0.92447\n",
      "[199]\tvalidation_0-rmse:0.84453\tvalidation_1-rmse:0.92429\n",
      "[200]\tvalidation_0-rmse:0.84418\tvalidation_1-rmse:0.92415\n",
      "[201]\tvalidation_0-rmse:0.84367\tvalidation_1-rmse:0.92398\n",
      "[202]\tvalidation_0-rmse:0.84323\tvalidation_1-rmse:0.92381\n",
      "[203]\tvalidation_0-rmse:0.84275\tvalidation_1-rmse:0.92367\n",
      "[204]\tvalidation_0-rmse:0.84233\tvalidation_1-rmse:0.92357\n",
      "[205]\tvalidation_0-rmse:0.84184\tvalidation_1-rmse:0.92348\n",
      "[206]\tvalidation_0-rmse:0.84143\tvalidation_1-rmse:0.92335\n",
      "[207]\tvalidation_0-rmse:0.84107\tvalidation_1-rmse:0.92334\n",
      "[208]\tvalidation_0-rmse:0.84063\tvalidation_1-rmse:0.92317\n",
      "[209]\tvalidation_0-rmse:0.84023\tvalidation_1-rmse:0.92312\n",
      "[210]\tvalidation_0-rmse:0.83977\tvalidation_1-rmse:0.92300\n",
      "[211]\tvalidation_0-rmse:0.83930\tvalidation_1-rmse:0.92286\n",
      "[212]\tvalidation_0-rmse:0.83890\tvalidation_1-rmse:0.92270\n",
      "[213]\tvalidation_0-rmse:0.83854\tvalidation_1-rmse:0.92256\n",
      "[214]\tvalidation_0-rmse:0.83824\tvalidation_1-rmse:0.92243\n",
      "[215]\tvalidation_0-rmse:0.83787\tvalidation_1-rmse:0.92229\n",
      "[216]\tvalidation_0-rmse:0.83746\tvalidation_1-rmse:0.92223\n",
      "[217]\tvalidation_0-rmse:0.83715\tvalidation_1-rmse:0.92214\n",
      "[218]\tvalidation_0-rmse:0.83674\tvalidation_1-rmse:0.92197\n",
      "[219]\tvalidation_0-rmse:0.83630\tvalidation_1-rmse:0.92192\n",
      "[220]\tvalidation_0-rmse:0.83592\tvalidation_1-rmse:0.92186\n",
      "[221]\tvalidation_0-rmse:0.83554\tvalidation_1-rmse:0.92180\n",
      "[222]\tvalidation_0-rmse:0.83514\tvalidation_1-rmse:0.92172\n",
      "[223]\tvalidation_0-rmse:0.83476\tvalidation_1-rmse:0.92159\n",
      "[224]\tvalidation_0-rmse:0.83450\tvalidation_1-rmse:0.92149\n",
      "[225]\tvalidation_0-rmse:0.83406\tvalidation_1-rmse:0.92135\n",
      "[226]\tvalidation_0-rmse:0.83365\tvalidation_1-rmse:0.92134\n",
      "[227]\tvalidation_0-rmse:0.83335\tvalidation_1-rmse:0.92131\n",
      "[228]\tvalidation_0-rmse:0.83293\tvalidation_1-rmse:0.92129\n",
      "[229]\tvalidation_0-rmse:0.83251\tvalidation_1-rmse:0.92124\n",
      "[230]\tvalidation_0-rmse:0.83211\tvalidation_1-rmse:0.92120\n",
      "[231]\tvalidation_0-rmse:0.83178\tvalidation_1-rmse:0.92108\n",
      "[232]\tvalidation_0-rmse:0.83147\tvalidation_1-rmse:0.92098\n",
      "[233]\tvalidation_0-rmse:0.83110\tvalidation_1-rmse:0.92093\n",
      "[234]\tvalidation_0-rmse:0.83076\tvalidation_1-rmse:0.92085\n",
      "[235]\tvalidation_0-rmse:0.83052\tvalidation_1-rmse:0.92075\n",
      "[236]\tvalidation_0-rmse:0.83025\tvalidation_1-rmse:0.92066\n",
      "[237]\tvalidation_0-rmse:0.82990\tvalidation_1-rmse:0.92060\n",
      "[238]\tvalidation_0-rmse:0.82965\tvalidation_1-rmse:0.92058\n",
      "[239]\tvalidation_0-rmse:0.82932\tvalidation_1-rmse:0.92055\n",
      "[240]\tvalidation_0-rmse:0.82904\tvalidation_1-rmse:0.92050\n",
      "[241]\tvalidation_0-rmse:0.82872\tvalidation_1-rmse:0.92044\n",
      "[242]\tvalidation_0-rmse:0.82844\tvalidation_1-rmse:0.92031\n",
      "[243]\tvalidation_0-rmse:0.82817\tvalidation_1-rmse:0.92023\n",
      "[244]\tvalidation_0-rmse:0.82789\tvalidation_1-rmse:0.92014\n",
      "[245]\tvalidation_0-rmse:0.82761\tvalidation_1-rmse:0.92012\n",
      "[246]\tvalidation_0-rmse:0.82742\tvalidation_1-rmse:0.92003\n",
      "[247]\tvalidation_0-rmse:0.82714\tvalidation_1-rmse:0.91991\n",
      "[248]\tvalidation_0-rmse:0.82689\tvalidation_1-rmse:0.91983\n",
      "[249]\tvalidation_0-rmse:0.82657\tvalidation_1-rmse:0.91981\n",
      "[250]\tvalidation_0-rmse:0.82635\tvalidation_1-rmse:0.91978\n",
      "[251]\tvalidation_0-rmse:0.82614\tvalidation_1-rmse:0.91974\n",
      "[252]\tvalidation_0-rmse:0.82583\tvalidation_1-rmse:0.91968\n",
      "[253]\tvalidation_0-rmse:0.82556\tvalidation_1-rmse:0.91960\n",
      "[254]\tvalidation_0-rmse:0.82518\tvalidation_1-rmse:0.91956\n",
      "[255]\tvalidation_0-rmse:0.82491\tvalidation_1-rmse:0.91956\n",
      "[256]\tvalidation_0-rmse:0.82466\tvalidation_1-rmse:0.91950\n",
      "[257]\tvalidation_0-rmse:0.82432\tvalidation_1-rmse:0.91943\n",
      "[258]\tvalidation_0-rmse:0.82406\tvalidation_1-rmse:0.91937\n",
      "[259]\tvalidation_0-rmse:0.82382\tvalidation_1-rmse:0.91935\n",
      "[260]\tvalidation_0-rmse:0.82353\tvalidation_1-rmse:0.91931\n",
      "[261]\tvalidation_0-rmse:0.82329\tvalidation_1-rmse:0.91924\n",
      "[262]\tvalidation_0-rmse:0.82307\tvalidation_1-rmse:0.91919\n",
      "[263]\tvalidation_0-rmse:0.82281\tvalidation_1-rmse:0.91922\n",
      "[264]\tvalidation_0-rmse:0.82254\tvalidation_1-rmse:0.91921\n",
      "[265]\tvalidation_0-rmse:0.82230\tvalidation_1-rmse:0.91915\n",
      "[266]\tvalidation_0-rmse:0.82205\tvalidation_1-rmse:0.91910\n",
      "[267]\tvalidation_0-rmse:0.82178\tvalidation_1-rmse:0.91912\n",
      "[268]\tvalidation_0-rmse:0.82156\tvalidation_1-rmse:0.91909\n",
      "[269]\tvalidation_0-rmse:0.82123\tvalidation_1-rmse:0.91892\n",
      "[270]\tvalidation_0-rmse:0.82103\tvalidation_1-rmse:0.91886\n",
      "[271]\tvalidation_0-rmse:0.82078\tvalidation_1-rmse:0.91887\n",
      "[272]\tvalidation_0-rmse:0.82051\tvalidation_1-rmse:0.91884\n",
      "[273]\tvalidation_0-rmse:0.82027\tvalidation_1-rmse:0.91880\n",
      "[274]\tvalidation_0-rmse:0.82000\tvalidation_1-rmse:0.91880\n",
      "[275]\tvalidation_0-rmse:0.81974\tvalidation_1-rmse:0.91875\n",
      "[276]\tvalidation_0-rmse:0.81954\tvalidation_1-rmse:0.91869\n",
      "[277]\tvalidation_0-rmse:0.81921\tvalidation_1-rmse:0.91865\n",
      "[278]\tvalidation_0-rmse:0.81895\tvalidation_1-rmse:0.91866\n",
      "[279]\tvalidation_0-rmse:0.81878\tvalidation_1-rmse:0.91864\n",
      "[280]\tvalidation_0-rmse:0.81857\tvalidation_1-rmse:0.91858\n",
      "[281]\tvalidation_0-rmse:0.81821\tvalidation_1-rmse:0.91855\n",
      "[282]\tvalidation_0-rmse:0.81796\tvalidation_1-rmse:0.91854\n",
      "[283]\tvalidation_0-rmse:0.81772\tvalidation_1-rmse:0.91851\n",
      "[284]\tvalidation_0-rmse:0.81751\tvalidation_1-rmse:0.91836\n",
      "[285]\tvalidation_0-rmse:0.81725\tvalidation_1-rmse:0.91828\n"
     ]
    },
    {
     "name": "stdout",
     "output_type": "stream",
     "text": [
      "[286]\tvalidation_0-rmse:0.81697\tvalidation_1-rmse:0.91838\n",
      "[287]\tvalidation_0-rmse:0.81675\tvalidation_1-rmse:0.91831\n",
      "[288]\tvalidation_0-rmse:0.81655\tvalidation_1-rmse:0.91825\n",
      "[289]\tvalidation_0-rmse:0.81635\tvalidation_1-rmse:0.91823\n",
      "[290]\tvalidation_0-rmse:0.81609\tvalidation_1-rmse:0.91826\n",
      "[291]\tvalidation_0-rmse:0.81587\tvalidation_1-rmse:0.91822\n",
      "[292]\tvalidation_0-rmse:0.81570\tvalidation_1-rmse:0.91821\n",
      "[293]\tvalidation_0-rmse:0.81553\tvalidation_1-rmse:0.91819\n",
      "[294]\tvalidation_0-rmse:0.81536\tvalidation_1-rmse:0.91812\n",
      "[295]\tvalidation_0-rmse:0.81509\tvalidation_1-rmse:0.91816\n",
      "[296]\tvalidation_0-rmse:0.81474\tvalidation_1-rmse:0.91815\n",
      "[297]\tvalidation_0-rmse:0.81453\tvalidation_1-rmse:0.91818\n",
      "[298]\tvalidation_0-rmse:0.81434\tvalidation_1-rmse:0.91815\n",
      "[299]\tvalidation_0-rmse:0.81417\tvalidation_1-rmse:0.91814\n",
      "[300]\tvalidation_0-rmse:0.81397\tvalidation_1-rmse:0.91812\n",
      "[301]\tvalidation_0-rmse:0.81379\tvalidation_1-rmse:0.91805\n",
      "[302]\tvalidation_0-rmse:0.81362\tvalidation_1-rmse:0.91803\n",
      "[303]\tvalidation_0-rmse:0.81347\tvalidation_1-rmse:0.91798\n",
      "[304]\tvalidation_0-rmse:0.81330\tvalidation_1-rmse:0.91795\n",
      "[305]\tvalidation_0-rmse:0.81311\tvalidation_1-rmse:0.91799\n",
      "[306]\tvalidation_0-rmse:0.81293\tvalidation_1-rmse:0.91804\n",
      "[307]\tvalidation_0-rmse:0.81274\tvalidation_1-rmse:0.91807\n",
      "[308]\tvalidation_0-rmse:0.81259\tvalidation_1-rmse:0.91805\n",
      "[309]\tvalidation_0-rmse:0.81237\tvalidation_1-rmse:0.91805\n",
      "[310]\tvalidation_0-rmse:0.81216\tvalidation_1-rmse:0.91810\n",
      "[311]\tvalidation_0-rmse:0.81199\tvalidation_1-rmse:0.91806\n",
      "[312]\tvalidation_0-rmse:0.81184\tvalidation_1-rmse:0.91799\n",
      "[313]\tvalidation_0-rmse:0.81167\tvalidation_1-rmse:0.91795\n",
      "[314]\tvalidation_0-rmse:0.81151\tvalidation_1-rmse:0.91794\n",
      "[315]\tvalidation_0-rmse:0.81125\tvalidation_1-rmse:0.91797\n",
      "[316]\tvalidation_0-rmse:0.81105\tvalidation_1-rmse:0.91797\n",
      "[317]\tvalidation_0-rmse:0.81084\tvalidation_1-rmse:0.91796\n",
      "[318]\tvalidation_0-rmse:0.81062\tvalidation_1-rmse:0.91792\n",
      "[319]\tvalidation_0-rmse:0.81041\tvalidation_1-rmse:0.91800\n",
      "[320]\tvalidation_0-rmse:0.81021\tvalidation_1-rmse:0.91799\n",
      "[321]\tvalidation_0-rmse:0.81005\tvalidation_1-rmse:0.91801\n",
      "[322]\tvalidation_0-rmse:0.80986\tvalidation_1-rmse:0.91802\n",
      "[323]\tvalidation_0-rmse:0.80970\tvalidation_1-rmse:0.91800\n",
      "[324]\tvalidation_0-rmse:0.80951\tvalidation_1-rmse:0.91797\n",
      "[325]\tvalidation_0-rmse:0.80938\tvalidation_1-rmse:0.91797\n",
      "[326]\tvalidation_0-rmse:0.80915\tvalidation_1-rmse:0.91797\n",
      "[327]\tvalidation_0-rmse:0.80895\tvalidation_1-rmse:0.91799\n",
      "[328]\tvalidation_0-rmse:0.80878\tvalidation_1-rmse:0.91799\n",
      "[329]\tvalidation_0-rmse:0.80863\tvalidation_1-rmse:0.91795\n",
      "[330]\tvalidation_0-rmse:0.80848\tvalidation_1-rmse:0.91798\n",
      "[331]\tvalidation_0-rmse:0.80834\tvalidation_1-rmse:0.91797\n",
      "[332]\tvalidation_0-rmse:0.80819\tvalidation_1-rmse:0.91796\n",
      "[333]\tvalidation_0-rmse:0.80801\tvalidation_1-rmse:0.91797\n",
      "[334]\tvalidation_0-rmse:0.80791\tvalidation_1-rmse:0.91794\n",
      "[335]\tvalidation_0-rmse:0.80776\tvalidation_1-rmse:0.91792\n",
      "[336]\tvalidation_0-rmse:0.80769\tvalidation_1-rmse:0.91789\n",
      "[337]\tvalidation_0-rmse:0.80753\tvalidation_1-rmse:0.91786\n",
      "[338]\tvalidation_0-rmse:0.80737\tvalidation_1-rmse:0.91785\n",
      "[339]\tvalidation_0-rmse:0.80713\tvalidation_1-rmse:0.91785\n",
      "[340]\tvalidation_0-rmse:0.80698\tvalidation_1-rmse:0.91785\n",
      "[341]\tvalidation_0-rmse:0.80676\tvalidation_1-rmse:0.91771\n",
      "[342]\tvalidation_0-rmse:0.80652\tvalidation_1-rmse:0.91768\n",
      "[343]\tvalidation_0-rmse:0.80635\tvalidation_1-rmse:0.91771\n",
      "[344]\tvalidation_0-rmse:0.80614\tvalidation_1-rmse:0.91775\n",
      "[345]\tvalidation_0-rmse:0.80599\tvalidation_1-rmse:0.91776\n",
      "[346]\tvalidation_0-rmse:0.80589\tvalidation_1-rmse:0.91770\n",
      "[347]\tvalidation_0-rmse:0.80573\tvalidation_1-rmse:0.91768\n",
      "[348]\tvalidation_0-rmse:0.80554\tvalidation_1-rmse:0.91772\n",
      "[349]\tvalidation_0-rmse:0.80538\tvalidation_1-rmse:0.91774\n",
      "[350]\tvalidation_0-rmse:0.80524\tvalidation_1-rmse:0.91772\n",
      "[351]\tvalidation_0-rmse:0.80500\tvalidation_1-rmse:0.91774\n",
      "[352]\tvalidation_0-rmse:0.80485\tvalidation_1-rmse:0.91771\n",
      "[353]\tvalidation_0-rmse:0.80466\tvalidation_1-rmse:0.91775\n",
      "[354]\tvalidation_0-rmse:0.80454\tvalidation_1-rmse:0.91775\n",
      "[355]\tvalidation_0-rmse:0.80441\tvalidation_1-rmse:0.91773\n",
      "[356]\tvalidation_0-rmse:0.80411\tvalidation_1-rmse:0.91796\n",
      "[357]\tvalidation_0-rmse:0.80399\tvalidation_1-rmse:0.91795\n",
      "[358]\tvalidation_0-rmse:0.80368\tvalidation_1-rmse:0.91801\n",
      "[359]\tvalidation_0-rmse:0.80356\tvalidation_1-rmse:0.91799\n",
      "[360]\tvalidation_0-rmse:0.80345\tvalidation_1-rmse:0.91800\n",
      "[361]\tvalidation_0-rmse:0.80330\tvalidation_1-rmse:0.91800\n",
      "[362]\tvalidation_0-rmse:0.80309\tvalidation_1-rmse:0.91792\n",
      "[363]\tvalidation_0-rmse:0.80289\tvalidation_1-rmse:0.91797\n",
      "[364]\tvalidation_0-rmse:0.80270\tvalidation_1-rmse:0.91794\n",
      "[365]\tvalidation_0-rmse:0.80258\tvalidation_1-rmse:0.91797\n",
      "[366]\tvalidation_0-rmse:0.80247\tvalidation_1-rmse:0.91799\n",
      "[367]\tvalidation_0-rmse:0.80235\tvalidation_1-rmse:0.91802\n",
      "[368]\tvalidation_0-rmse:0.80222\tvalidation_1-rmse:0.91807\n",
      "[369]\tvalidation_0-rmse:0.80212\tvalidation_1-rmse:0.91807\n",
      "[370]\tvalidation_0-rmse:0.80198\tvalidation_1-rmse:0.91808\n",
      "[371]\tvalidation_0-rmse:0.80184\tvalidation_1-rmse:0.91813\n",
      "[372]\tvalidation_0-rmse:0.80170\tvalidation_1-rmse:0.91810\n",
      "[373]\tvalidation_0-rmse:0.80157\tvalidation_1-rmse:0.91809\n",
      "[374]\tvalidation_0-rmse:0.80129\tvalidation_1-rmse:0.91804\n",
      "[375]\tvalidation_0-rmse:0.80118\tvalidation_1-rmse:0.91801\n",
      "[376]\tvalidation_0-rmse:0.80107\tvalidation_1-rmse:0.91803\n",
      "[377]\tvalidation_0-rmse:0.80093\tvalidation_1-rmse:0.91806\n",
      "[378]\tvalidation_0-rmse:0.80078\tvalidation_1-rmse:0.91807\n",
      "[379]\tvalidation_0-rmse:0.80065\tvalidation_1-rmse:0.91810\n",
      "[380]\tvalidation_0-rmse:0.80053\tvalidation_1-rmse:0.91809\n",
      "[381]\tvalidation_0-rmse:0.80040\tvalidation_1-rmse:0.91811\n",
      "[382]\tvalidation_0-rmse:0.80032\tvalidation_1-rmse:0.91812\n",
      "[383]\tvalidation_0-rmse:0.80021\tvalidation_1-rmse:0.91812\n",
      "[384]\tvalidation_0-rmse:0.80007\tvalidation_1-rmse:0.91808\n",
      "[385]\tvalidation_0-rmse:0.79994\tvalidation_1-rmse:0.91814\n",
      "[386]\tvalidation_0-rmse:0.79978\tvalidation_1-rmse:0.91813\n",
      "[387]\tvalidation_0-rmse:0.79965\tvalidation_1-rmse:0.91808\n",
      "[388]\tvalidation_0-rmse:0.79954\tvalidation_1-rmse:0.91812\n",
      "[389]\tvalidation_0-rmse:0.79943\tvalidation_1-rmse:0.91813\n",
      "[390]\tvalidation_0-rmse:0.79928\tvalidation_1-rmse:0.91813\n",
      "[391]\tvalidation_0-rmse:0.79916\tvalidation_1-rmse:0.91816\n",
      "[392]\tvalidation_0-rmse:0.79893\tvalidation_1-rmse:0.91813\n",
      "[393]\tvalidation_0-rmse:0.79879\tvalidation_1-rmse:0.91811\n",
      "[394]\tvalidation_0-rmse:0.79860\tvalidation_1-rmse:0.91813\n",
      "[395]\tvalidation_0-rmse:0.79849\tvalidation_1-rmse:0.91813\n",
      "[396]\tvalidation_0-rmse:0.79831\tvalidation_1-rmse:0.91812\n",
      "[397]\tvalidation_0-rmse:0.79817\tvalidation_1-rmse:0.91815\n",
      "Wall time: 31min 31s\n"
     ]
    }
   ],
   "source": [
    "%%time\n",
    "regressor_ = xgtrain()"
   ]
  },
  {
   "cell_type": "code",
   "execution_count": 103,
   "metadata": {},
   "outputs": [],
   "source": [
    "predictions = regressor_.predict(new_train[new_train.date_block_num == 34].drop(['item_cnt_month'], axis = 1).values)"
   ]
  },
  {
   "cell_type": "code",
   "execution_count": 104,
   "metadata": {},
   "outputs": [
    {
     "data": {
      "image/png": "[encoded data removed]",
      "text/plain": [
       "<Figure size 842.4x595.44 with 1 Axes>"
      ]
     },
     "metadata": {
      "needs_background": "light"
     },
     "output_type": "display_data"
    }
   ],
   "source": [
    "from matplotlib import rcParams\n",
    "rcParams['figure.figsize'] = 11.7,8.27\n",
    "\n",
    "cols = new_train.drop('item_cnt_month', axis = 1).columns\n",
    "plt.barh(cols, regressor_.feature_importances_)\n",
    "plt.show()"
   ]
  },
  {
   "cell_type": "code",
   "execution_count": 105,
   "metadata": {},
   "outputs": [],
   "source": [
    "submission['item_cnt_month'] = predictions"
   ]
  },
  {
   "cell_type": "code",
   "execution_count": 106,
   "metadata": {},
   "outputs": [],
   "source": [
    "submission.to_csv('sales_faster_learn.csv', index=False)"
   ]
  }
 ],
 "metadata": {
  "kernelspec": {
   "display_name": "Python 3",
   "language": "python",
   "name": "python3"
  },
  "language_info": {
   "codemirror_mode": {
    "name": "ipython",
    "version": 3
   },
   "file_extension": ".py",
   "mimetype": "text/x-python",
   "name": "python",
   "nbconvert_exporter": "python",
   "pygments_lexer": "ipython3",
   "version": "3.8.10"
  }
 },
 "nbformat": 4,
 "nbformat_minor": 1
}
