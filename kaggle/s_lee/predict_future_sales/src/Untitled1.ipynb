{
 "cells": [
  {
   "cell_type": "code",
   "execution_count": 3,
   "id": "3eca19fc",
   "metadata": {},
   "outputs": [
    {
     "name": "stdout",
     "output_type": "stream",
     "text": [
      "['items.csv', 'item_categories.csv', 'sales_train.csv', 'sample_submission.csv', 'shops.csv', 'test.csv']\n"
     ]
    }
   ],
   "source": [
    "import numpy as np\n",
    "import pandas as pd\n",
    "import matplotlib.pyplot as plt\n",
    "import seaborn as sns\n",
    "\n",
    "#import altair as alt\n",
    "\n",
    "import os\n",
    "print(os.listdir('../dataset'))"
   ]
  },
  {
   "cell_type": "code",
   "execution_count": 5,
   "id": "02889b93",
   "metadata": {},
   "outputs": [],
   "source": [
    "train = pd.read_csv('../dataset/sales_train.csv')\n",
    "items = pd.read_csv('../dataset/items.csv')\n",
    "categories = pd.read_csv('../dataset/item_categories.csv')\n",
    "shops = pd.read_csv('../dataset/shops.csv')\n",
    "test = pd.read_csv('../dataset/test.csv')\n",
    "submission = pd.read_csv('../dataset/sample_submission.csv')"
   ]
  },
  {
   "cell_type": "code",
   "execution_count": 6,
   "id": "e40c221b",
   "metadata": {},
   "outputs": [
    {
     "data": {
      "text/html": [
       "<div>\n",
       "<style scoped>\n",
       "    .dataframe tbody tr th:only-of-type {\n",
       "        vertical-align: middle;\n",
       "    }\n",
       "\n",
       "    .dataframe tbody tr th {\n",
       "        vertical-align: top;\n",
       "    }\n",
       "\n",
       "    .dataframe thead th {\n",
       "        text-align: right;\n",
       "    }\n",
       "</style>\n",
       "<table border=\"1\" class=\"dataframe\">\n",
       "  <thead>\n",
       "    <tr style=\"text-align: right;\">\n",
       "      <th></th>\n",
       "      <th>date</th>\n",
       "      <th>date_block_num</th>\n",
       "      <th>shop_id</th>\n",
       "      <th>item_id</th>\n",
       "      <th>item_price</th>\n",
       "      <th>item_cnt_day</th>\n",
       "    </tr>\n",
       "  </thead>\n",
       "  <tbody>\n",
       "    <tr>\n",
       "      <th>0</th>\n",
       "      <td>02.01.2013</td>\n",
       "      <td>0</td>\n",
       "      <td>59</td>\n",
       "      <td>22154</td>\n",
       "      <td>999.00</td>\n",
       "      <td>1.0</td>\n",
       "    </tr>\n",
       "    <tr>\n",
       "      <th>1</th>\n",
       "      <td>03.01.2013</td>\n",
       "      <td>0</td>\n",
       "      <td>25</td>\n",
       "      <td>2552</td>\n",
       "      <td>899.00</td>\n",
       "      <td>1.0</td>\n",
       "    </tr>\n",
       "    <tr>\n",
       "      <th>2</th>\n",
       "      <td>05.01.2013</td>\n",
       "      <td>0</td>\n",
       "      <td>25</td>\n",
       "      <td>2552</td>\n",
       "      <td>899.00</td>\n",
       "      <td>-1.0</td>\n",
       "    </tr>\n",
       "    <tr>\n",
       "      <th>3</th>\n",
       "      <td>06.01.2013</td>\n",
       "      <td>0</td>\n",
       "      <td>25</td>\n",
       "      <td>2554</td>\n",
       "      <td>1709.05</td>\n",
       "      <td>1.0</td>\n",
       "    </tr>\n",
       "    <tr>\n",
       "      <th>4</th>\n",
       "      <td>15.01.2013</td>\n",
       "      <td>0</td>\n",
       "      <td>25</td>\n",
       "      <td>2555</td>\n",
       "      <td>1099.00</td>\n",
       "      <td>1.0</td>\n",
       "    </tr>\n",
       "  </tbody>\n",
       "</table>\n",
       "</div>"
      ],
      "text/plain": [
       "         date  date_block_num  shop_id  item_id  item_price  item_cnt_day\n",
       "0  02.01.2013               0       59    22154      999.00           1.0\n",
       "1  03.01.2013               0       25     2552      899.00           1.0\n",
       "2  05.01.2013               0       25     2552      899.00          -1.0\n",
       "3  06.01.2013               0       25     2554     1709.05           1.0\n",
       "4  15.01.2013               0       25     2555     1099.00           1.0"
      ]
     },
     "execution_count": 6,
     "metadata": {},
     "output_type": "execute_result"
    }
   ],
   "source": [
    "train.head()"
   ]
  },
  {
   "cell_type": "code",
   "execution_count": 7,
   "id": "f1a77b9d",
   "metadata": {},
   "outputs": [
    {
     "data": {
      "text/plain": [
       "(2935849, 6)"
      ]
     },
     "execution_count": 7,
     "metadata": {},
     "output_type": "execute_result"
    }
   ],
   "source": [
    "train.shape"
   ]
  },
  {
   "cell_type": "code",
   "execution_count": 8,
   "id": "9543d925",
   "metadata": {},
   "outputs": [
    {
     "data": {
      "text/html": [
       "<div>\n",
       "<style scoped>\n",
       "    .dataframe tbody tr th:only-of-type {\n",
       "        vertical-align: middle;\n",
       "    }\n",
       "\n",
       "    .dataframe tbody tr th {\n",
       "        vertical-align: top;\n",
       "    }\n",
       "\n",
       "    .dataframe thead th {\n",
       "        text-align: right;\n",
       "    }\n",
       "</style>\n",
       "<table border=\"1\" class=\"dataframe\">\n",
       "  <thead>\n",
       "    <tr style=\"text-align: right;\">\n",
       "      <th></th>\n",
       "      <th>ID</th>\n",
       "      <th>item_cnt_month</th>\n",
       "    </tr>\n",
       "  </thead>\n",
       "  <tbody>\n",
       "    <tr>\n",
       "      <th>0</th>\n",
       "      <td>0</td>\n",
       "      <td>0.5</td>\n",
       "    </tr>\n",
       "    <tr>\n",
       "      <th>1</th>\n",
       "      <td>1</td>\n",
       "      <td>0.5</td>\n",
       "    </tr>\n",
       "    <tr>\n",
       "      <th>2</th>\n",
       "      <td>2</td>\n",
       "      <td>0.5</td>\n",
       "    </tr>\n",
       "    <tr>\n",
       "      <th>3</th>\n",
       "      <td>3</td>\n",
       "      <td>0.5</td>\n",
       "    </tr>\n",
       "    <tr>\n",
       "      <th>4</th>\n",
       "      <td>4</td>\n",
       "      <td>0.5</td>\n",
       "    </tr>\n",
       "  </tbody>\n",
       "</table>\n",
       "</div>"
      ],
      "text/plain": [
       "   ID  item_cnt_month\n",
       "0   0             0.5\n",
       "1   1             0.5\n",
       "2   2             0.5\n",
       "3   3             0.5\n",
       "4   4             0.5"
      ]
     },
     "execution_count": 8,
     "metadata": {},
     "output_type": "execute_result"
    }
   ],
   "source": [
    "submission.head()"
   ]
  },
  {
   "cell_type": "markdown",
   "id": "fd46df95",
   "metadata": {},
   "source": [
    "## EDA"
   ]
  },
  {
   "cell_type": "code",
   "execution_count": 11,
   "id": "4847b3bf",
   "metadata": {},
   "outputs": [
    {
     "data": {
      "image/png": "[encoded data removed]",
      "text/plain": [
       "<Figure size 1296x648 with 5 Axes>"
      ]
     },
     "metadata": {
      "needs_background": "light"
     },
     "output_type": "display_data"
    }
   ],
   "source": [
    "fig = plt.figure(figsize=(18, 9))\n",
    "plt.subplots_adjust(hspace=.5)\n",
    "\n",
    "plt.subplot2grid((3,3), (0,0), colspan=3)\n",
    "train['shop_id'].value_counts(normalize=True).plot(kind='bar', alpha=0.7)\n",
    "plt.title('Shop ID Values in the Training Set (Normalized)')\n",
    "\n",
    "plt.subplot2grid((3,3), (1,0))\n",
    "train['item_id'].plot(kind='hist', alpha=0.7)\n",
    "plt.title('Item ID Histogram')\n",
    "\n",
    "plt.subplot2grid((3,3), (1,1))\n",
    "train['item_price'].plot(kind='hist', alpha=0.7, color='orange')\n",
    "plt.title('Item Price Histogram')\n",
    "\n",
    "plt.subplot2grid((3,3), (1,2))\n",
    "train['item_cnt_day'].plot(kind='hist', alpha=0.7, color='green')\n",
    "plt.title('Item Count Day Histogram')\n",
    "\n",
    "plt.subplot2grid((3,3), (2,0), colspan=3)\n",
    "train['date_block_num'].value_counts(normalize=True).plot(kind='bar', alpha=0.7)\n",
    "plt.title('Month (date_block_num) Values in the Training Set (Normalized)')\n",
    "\n",
    "plt.show()\n"
   ]
  },
  {
   "cell_type": "markdown",
   "id": "0ce7d875",
   "metadata": {},
   "source": [
    "The above graphs are a nice way to look at the raw distribtion of the test dataset. Here are some observations:\n",
    "\n",
    "- We have 60 'shop_id's but there is an uneven distribtution of these in the dataset. Four (<7%) of these shops make up ~25 percent of this dataset. These are shops (31, 25, 54, 28).\n",
    "- The Item IDs seem to have variations in frequency. We can't attribute a reason to this yet but we can inspect this further. Certain cateogeries are bound to sell better and maybe items under the same category are closer to each other as far as their ID distributions are concerned\n",
    "- From the vast empty spaces in the histograms of 'item_price' and 'item_cnt_day', we can infer that there are outliers in their distribution. Let's write some simple code below to put a value to these outliers.\n",
    "- Plotting the individual months from January 2013 to October 2015, it is interesting to see that the block month 12, corresponding to December 2013, had the highest number of sales. Month 23, which corresponds to December 2014, had the second highest number of sales. Shortly, we will use some better graphs to observe the monthly sale trends."
   ]
  },
  {
   "cell_type": "markdown",
   "id": "aa1492ee",
   "metadata": {},
   "source": [
    "### Dealing with Outliers"
   ]
  },
  {
   "cell_type": "code",
   "execution_count": 13,
   "id": "5056ef8e",
   "metadata": {},
   "outputs": [
    {
     "data": {
      "text/plain": [
       "20949    31340\n",
       "5822      9408\n",
       "17717     9067\n",
       "2808      7479\n",
       "4181      6853\n",
       "Name: item_id, dtype: int64"
      ]
     },
     "execution_count": 13,
     "metadata": {},
     "output_type": "execute_result"
    }
   ],
   "source": [
    "train['item_id'].value_counts(ascending=False)[:5]"
   ]
  },
  {
   "cell_type": "code",
   "execution_count": 14,
   "id": "85788c52",
   "metadata": {},
   "outputs": [
    {
     "data": {
      "text/html": [
       "<div>\n",
       "<style scoped>\n",
       "    .dataframe tbody tr th:only-of-type {\n",
       "        vertical-align: middle;\n",
       "    }\n",
       "\n",
       "    .dataframe tbody tr th {\n",
       "        vertical-align: top;\n",
       "    }\n",
       "\n",
       "    .dataframe thead th {\n",
       "        text-align: right;\n",
       "    }\n",
       "</style>\n",
       "<table border=\"1\" class=\"dataframe\">\n",
       "  <thead>\n",
       "    <tr style=\"text-align: right;\">\n",
       "      <th></th>\n",
       "      <th>item_name</th>\n",
       "      <th>item_id</th>\n",
       "      <th>item_category_id</th>\n",
       "    </tr>\n",
       "  </thead>\n",
       "  <tbody>\n",
       "    <tr>\n",
       "      <th>20949</th>\n",
       "      <td>Фирменный пакет майка 1С Интерес белый (34*42)...</td>\n",
       "      <td>20949</td>\n",
       "      <td>71</td>\n",
       "    </tr>\n",
       "  </tbody>\n",
       "</table>\n",
       "</div>"
      ],
      "text/plain": [
       "                                               item_name  item_id  \\\n",
       "20949  Фирменный пакет майка 1С Интерес белый (34*42)...    20949   \n",
       "\n",
       "       item_category_id  \n",
       "20949                71  "
      ]
     },
     "execution_count": 14,
     "metadata": {},
     "output_type": "execute_result"
    }
   ],
   "source": [
    "items.loc[items['item_id']==20949]"
   ]
  },
  {
   "cell_type": "code",
   "execution_count": 16,
   "id": "590bbaa6",
   "metadata": {},
   "outputs": [
    {
     "data": {
      "text/html": [
       "<div>\n",
       "<style scoped>\n",
       "    .dataframe tbody tr th:only-of-type {\n",
       "        vertical-align: middle;\n",
       "    }\n",
       "\n",
       "    .dataframe tbody tr th {\n",
       "        vertical-align: top;\n",
       "    }\n",
       "\n",
       "    .dataframe thead th {\n",
       "        text-align: right;\n",
       "    }\n",
       "</style>\n",
       "<table border=\"1\" class=\"dataframe\">\n",
       "  <thead>\n",
       "    <tr style=\"text-align: right;\">\n",
       "      <th></th>\n",
       "      <th>item_category_name</th>\n",
       "      <th>item_category_id</th>\n",
       "    </tr>\n",
       "  </thead>\n",
       "  <tbody>\n",
       "    <tr>\n",
       "      <th>71</th>\n",
       "      <td>Подарки - Сумки, Альбомы, Коврики д/мыши</td>\n",
       "      <td>71</td>\n",
       "    </tr>\n",
       "  </tbody>\n",
       "</table>\n",
       "</div>"
      ],
      "text/plain": [
       "                          item_category_name  item_category_id\n",
       "71  Подарки - Сумки, Альбомы, Коврики д/мыши                71"
      ]
     },
     "execution_count": 16,
     "metadata": {},
     "output_type": "execute_result"
    }
   ],
   "source": [
    "categories.loc[categories['item_category_id']==71]"
   ]
  },
  {
   "cell_type": "code",
   "execution_count": 17,
   "id": "a23a0dca",
   "metadata": {
    "scrolled": true
   },
   "outputs": [
    {
     "data": {
      "text/html": [
       "<div>\n",
       "<style scoped>\n",
       "    .dataframe tbody tr th:only-of-type {\n",
       "        vertical-align: middle;\n",
       "    }\n",
       "\n",
       "    .dataframe tbody tr th {\n",
       "        vertical-align: top;\n",
       "    }\n",
       "\n",
       "    .dataframe thead th {\n",
       "        text-align: right;\n",
       "    }\n",
       "</style>\n",
       "<table border=\"1\" class=\"dataframe\">\n",
       "  <thead>\n",
       "    <tr style=\"text-align: right;\">\n",
       "      <th></th>\n",
       "      <th>ID</th>\n",
       "      <th>shop_id</th>\n",
       "      <th>item_id</th>\n",
       "    </tr>\n",
       "  </thead>\n",
       "  <tbody>\n",
       "    <tr>\n",
       "      <th>460</th>\n",
       "      <td>460</td>\n",
       "      <td>5</td>\n",
       "      <td>20949</td>\n",
       "    </tr>\n",
       "    <tr>\n",
       "      <th>5560</th>\n",
       "      <td>5560</td>\n",
       "      <td>4</td>\n",
       "      <td>20949</td>\n",
       "    </tr>\n",
       "    <tr>\n",
       "      <th>10660</th>\n",
       "      <td>10660</td>\n",
       "      <td>6</td>\n",
       "      <td>20949</td>\n",
       "    </tr>\n",
       "    <tr>\n",
       "      <th>15760</th>\n",
       "      <td>15760</td>\n",
       "      <td>3</td>\n",
       "      <td>20949</td>\n",
       "    </tr>\n",
       "    <tr>\n",
       "      <th>20860</th>\n",
       "      <td>20860</td>\n",
       "      <td>2</td>\n",
       "      <td>20949</td>\n",
       "    </tr>\n",
       "  </tbody>\n",
       "</table>\n",
       "</div>"
      ],
      "text/plain": [
       "          ID  shop_id  item_id\n",
       "460      460        5    20949\n",
       "5560    5560        4    20949\n",
       "10660  10660        6    20949\n",
       "15760  15760        3    20949\n",
       "20860  20860        2    20949"
      ]
     },
     "execution_count": 17,
     "metadata": {},
     "output_type": "execute_result"
    }
   ],
   "source": [
    "test.loc[test['item_id']==20949].head(5)"
   ]
  },
  {
   "cell_type": "markdown",
   "id": "bcbb5c92",
   "metadata": {},
   "source": [
    "And just to satisfy my curiosity bowels, there is only one item under item category 71 and it is indeed present in the test set!"
   ]
  },
  {
   "cell_type": "code",
   "execution_count": 18,
   "id": "283f837f",
   "metadata": {},
   "outputs": [
    {
     "data": {
      "text/plain": [
       "2909818    2169.0\n",
       "2326930    1000.0\n",
       "2864235     669.0\n",
       "2851091     637.0\n",
       "2608040     624.0\n",
       "Name: item_cnt_day, dtype: float64"
      ]
     },
     "execution_count": 18,
     "metadata": {},
     "output_type": "execute_result"
    }
   ],
   "source": [
    "train['item_cnt_day'].sort_values(ascending=False)[:5]"
   ]
  },
  {
   "cell_type": "code",
   "execution_count": 19,
   "id": "54ccf530",
   "metadata": {},
   "outputs": [
    {
     "data": {
      "text/html": [
       "<div>\n",
       "<style scoped>\n",
       "    .dataframe tbody tr th:only-of-type {\n",
       "        vertical-align: middle;\n",
       "    }\n",
       "\n",
       "    .dataframe tbody tr th {\n",
       "        vertical-align: top;\n",
       "    }\n",
       "\n",
       "    .dataframe thead th {\n",
       "        text-align: right;\n",
       "    }\n",
       "</style>\n",
       "<table border=\"1\" class=\"dataframe\">\n",
       "  <thead>\n",
       "    <tr style=\"text-align: right;\">\n",
       "      <th></th>\n",
       "      <th>date</th>\n",
       "      <th>date_block_num</th>\n",
       "      <th>shop_id</th>\n",
       "      <th>item_id</th>\n",
       "      <th>item_price</th>\n",
       "      <th>item_cnt_day</th>\n",
       "    </tr>\n",
       "  </thead>\n",
       "  <tbody>\n",
       "    <tr>\n",
       "      <th>2909818</th>\n",
       "      <td>28.10.2015</td>\n",
       "      <td>33</td>\n",
       "      <td>12</td>\n",
       "      <td>11373</td>\n",
       "      <td>0.908714</td>\n",
       "      <td>2169.0</td>\n",
       "    </tr>\n",
       "  </tbody>\n",
       "</table>\n",
       "</div>"
      ],
      "text/plain": [
       "               date  date_block_num  shop_id  item_id  item_price  \\\n",
       "2909818  28.10.2015              33       12    11373    0.908714   \n",
       "\n",
       "         item_cnt_day  \n",
       "2909818        2169.0  "
      ]
     },
     "execution_count": 19,
     "metadata": {},
     "output_type": "execute_result"
    }
   ],
   "source": [
    "train[train['item_cnt_day']==2169]"
   ]
  },
  {
   "cell_type": "markdown",
   "id": "b1b19c40",
   "metadata": {},
   "source": [
    "So item 11373 was sold 2169 times at shop 12 on a single day in October. Let's inspect this outlier a bit more."
   ]
  },
  {
   "cell_type": "code",
   "execution_count": 20,
   "id": "2e0ec4f6",
   "metadata": {
    "scrolled": true
   },
   "outputs": [
    {
     "data": {
      "text/html": [
       "<div>\n",
       "<style scoped>\n",
       "    .dataframe tbody tr th:only-of-type {\n",
       "        vertical-align: middle;\n",
       "    }\n",
       "\n",
       "    .dataframe tbody tr th {\n",
       "        vertical-align: top;\n",
       "    }\n",
       "\n",
       "    .dataframe thead th {\n",
       "        text-align: right;\n",
       "    }\n",
       "</style>\n",
       "<table border=\"1\" class=\"dataframe\">\n",
       "  <thead>\n",
       "    <tr style=\"text-align: right;\">\n",
       "      <th></th>\n",
       "      <th>item_name</th>\n",
       "      <th>item_id</th>\n",
       "      <th>item_category_id</th>\n",
       "    </tr>\n",
       "  </thead>\n",
       "  <tbody>\n",
       "    <tr>\n",
       "      <th>11373</th>\n",
       "      <td>Доставка до пункта выдачи (Boxberry)</td>\n",
       "      <td>11373</td>\n",
       "      <td>9</td>\n",
       "    </tr>\n",
       "  </tbody>\n",
       "</table>\n",
       "</div>"
      ],
      "text/plain": [
       "                                  item_name  item_id  item_category_id\n",
       "11373  Доставка до пункта выдачи (Boxberry)    11373                 9"
      ]
     },
     "execution_count": 20,
     "metadata": {},
     "output_type": "execute_result"
    }
   ],
   "source": [
    "items[items['item_id'] == 11373]"
   ]
  },
  {
   "cell_type": "markdown",
   "id": "46a6de5b",
   "metadata": {},
   "source": [
    "Using google translate, I understood that this item is related to point of delivery and the Russian shipment company 'Boxberry'. Let's look at some of the other daiy sales for this item"
   ]
  },
  {
   "cell_type": "code",
   "execution_count": 21,
   "id": "f4ca49f7",
   "metadata": {},
   "outputs": [
    {
     "data": {
      "text/html": [
       "<div>\n",
       "<style scoped>\n",
       "    .dataframe tbody tr th:only-of-type {\n",
       "        vertical-align: middle;\n",
       "    }\n",
       "\n",
       "    .dataframe tbody tr th {\n",
       "        vertical-align: top;\n",
       "    }\n",
       "\n",
       "    .dataframe thead th {\n",
       "        text-align: right;\n",
       "    }\n",
       "</style>\n",
       "<table border=\"1\" class=\"dataframe\">\n",
       "  <thead>\n",
       "    <tr style=\"text-align: right;\">\n",
       "      <th></th>\n",
       "      <th>date</th>\n",
       "      <th>date_block_num</th>\n",
       "      <th>shop_id</th>\n",
       "      <th>item_id</th>\n",
       "      <th>item_price</th>\n",
       "      <th>item_cnt_day</th>\n",
       "    </tr>\n",
       "  </thead>\n",
       "  <tbody>\n",
       "    <tr>\n",
       "      <th>58323</th>\n",
       "      <td>08.01.2013</td>\n",
       "      <td>0</td>\n",
       "      <td>12</td>\n",
       "      <td>11373</td>\n",
       "      <td>1000.0</td>\n",
       "      <td>1.0</td>\n",
       "    </tr>\n",
       "    <tr>\n",
       "      <th>58324</th>\n",
       "      <td>31.01.2013</td>\n",
       "      <td>0</td>\n",
       "      <td>12</td>\n",
       "      <td>11373</td>\n",
       "      <td>97.8</td>\n",
       "      <td>5.0</td>\n",
       "    </tr>\n",
       "    <tr>\n",
       "      <th>176790</th>\n",
       "      <td>01.02.2013</td>\n",
       "      <td>1</td>\n",
       "      <td>12</td>\n",
       "      <td>11373</td>\n",
       "      <td>229.0</td>\n",
       "      <td>1.0</td>\n",
       "    </tr>\n",
       "    <tr>\n",
       "      <th>176791</th>\n",
       "      <td>04.02.2013</td>\n",
       "      <td>1</td>\n",
       "      <td>12</td>\n",
       "      <td>11373</td>\n",
       "      <td>130.0</td>\n",
       "      <td>1.0</td>\n",
       "    </tr>\n",
       "    <tr>\n",
       "      <th>302468</th>\n",
       "      <td>29.03.2013</td>\n",
       "      <td>2</td>\n",
       "      <td>12</td>\n",
       "      <td>11373</td>\n",
       "      <td>139.5</td>\n",
       "      <td>2.0</td>\n",
       "    </tr>\n",
       "  </tbody>\n",
       "</table>\n",
       "</div>"
      ],
      "text/plain": [
       "              date  date_block_num  shop_id  item_id  item_price  item_cnt_day\n",
       "58323   08.01.2013               0       12    11373      1000.0           1.0\n",
       "58324   31.01.2013               0       12    11373        97.8           5.0\n",
       "176790  01.02.2013               1       12    11373       229.0           1.0\n",
       "176791  04.02.2013               1       12    11373       130.0           1.0\n",
       "302468  29.03.2013               2       12    11373       139.5           2.0"
      ]
     },
     "execution_count": 21,
     "metadata": {},
     "output_type": "execute_result"
    }
   ],
   "source": [
    "train[train['item_id']==11373].head(5)"
   ]
  },
  {
   "cell_type": "markdown",
   "id": "5bec3d51",
   "metadata": {},
   "source": [
    "We can see that item 11373 usually has sells much less. I calculated the median of it's 'item_cnt_day' value to be 4. This confirms that the high value of 2169 is an anomaly and we should get rid of it."
   ]
  },
  {
   "cell_type": "code",
   "execution_count": 22,
   "id": "a10a65e9",
   "metadata": {
    "scrolled": true
   },
   "outputs": [
    {
     "data": {
      "text/plain": [
       "1163158    307980.0\n",
       "885138      59200.0\n",
       "1488135     50999.0\n",
       "2327159     49782.0\n",
       "2931380     42990.0\n",
       "Name: item_price, dtype: float64"
      ]
     },
     "execution_count": 22,
     "metadata": {},
     "output_type": "execute_result"
    }
   ],
   "source": [
    "train = train[train['item_cnt_day'] < 2000]\n",
    "train['item_price'].sort_values(ascending=False)[:5]"
   ]
  },
  {
   "cell_type": "markdown",
   "id": "18d00905",
   "metadata": {},
   "source": [
    "Another outlier! This time with 'item_price'. Let's inspect this a little further before we decide to remove it."
   ]
  },
  {
   "cell_type": "code",
   "execution_count": 23,
   "id": "13dba1a5",
   "metadata": {},
   "outputs": [
    {
     "data": {
      "text/html": [
       "<div>\n",
       "<style scoped>\n",
       "    .dataframe tbody tr th:only-of-type {\n",
       "        vertical-align: middle;\n",
       "    }\n",
       "\n",
       "    .dataframe tbody tr th {\n",
       "        vertical-align: top;\n",
       "    }\n",
       "\n",
       "    .dataframe thead th {\n",
       "        text-align: right;\n",
       "    }\n",
       "</style>\n",
       "<table border=\"1\" class=\"dataframe\">\n",
       "  <thead>\n",
       "    <tr style=\"text-align: right;\">\n",
       "      <th></th>\n",
       "      <th>date</th>\n",
       "      <th>date_block_num</th>\n",
       "      <th>shop_id</th>\n",
       "      <th>item_id</th>\n",
       "      <th>item_price</th>\n",
       "      <th>item_cnt_day</th>\n",
       "    </tr>\n",
       "  </thead>\n",
       "  <tbody>\n",
       "    <tr>\n",
       "      <th>1163158</th>\n",
       "      <td>13.12.2013</td>\n",
       "      <td>11</td>\n",
       "      <td>12</td>\n",
       "      <td>6066</td>\n",
       "      <td>307980.0</td>\n",
       "      <td>1.0</td>\n",
       "    </tr>\n",
       "  </tbody>\n",
       "</table>\n",
       "</div>"
      ],
      "text/plain": [
       "               date  date_block_num  shop_id  item_id  item_price  \\\n",
       "1163158  13.12.2013              11       12     6066    307980.0   \n",
       "\n",
       "         item_cnt_day  \n",
       "1163158           1.0  "
      ]
     },
     "execution_count": 23,
     "metadata": {},
     "output_type": "execute_result"
    }
   ],
   "source": [
    "train[train['item_price'] == 307980]"
   ]
  },
  {
   "cell_type": "code",
   "execution_count": 24,
   "id": "141e3f03",
   "metadata": {},
   "outputs": [
    {
     "data": {
      "text/html": [
       "<div>\n",
       "<style scoped>\n",
       "    .dataframe tbody tr th:only-of-type {\n",
       "        vertical-align: middle;\n",
       "    }\n",
       "\n",
       "    .dataframe tbody tr th {\n",
       "        vertical-align: top;\n",
       "    }\n",
       "\n",
       "    .dataframe thead th {\n",
       "        text-align: right;\n",
       "    }\n",
       "</style>\n",
       "<table border=\"1\" class=\"dataframe\">\n",
       "  <thead>\n",
       "    <tr style=\"text-align: right;\">\n",
       "      <th></th>\n",
       "      <th>item_name</th>\n",
       "      <th>item_id</th>\n",
       "      <th>item_category_id</th>\n",
       "    </tr>\n",
       "  </thead>\n",
       "  <tbody>\n",
       "    <tr>\n",
       "      <th>6066</th>\n",
       "      <td>Radmin 3  - 522 лиц.</td>\n",
       "      <td>6066</td>\n",
       "      <td>75</td>\n",
       "    </tr>\n",
       "  </tbody>\n",
       "</table>\n",
       "</div>"
      ],
      "text/plain": [
       "                 item_name  item_id  item_category_id\n",
       "6066  Radmin 3  - 522 лиц.     6066                75"
      ]
     },
     "execution_count": 24,
     "metadata": {},
     "output_type": "execute_result"
    }
   ],
   "source": [
    "items[items['item_id'] == 6066]"
   ]
  },
  {
   "cell_type": "markdown",
   "id": "cced7810",
   "metadata": {},
   "source": [
    "Once again, using Google translate, I found that this is an antivirus sold to 522 people and the price is probabaly the cost of one installation times 522. Let's see if there are other transactions related to this software in our training set."
   ]
  },
  {
   "cell_type": "code",
   "execution_count": 25,
   "id": "d8e2f609",
   "metadata": {
    "scrolled": true
   },
   "outputs": [
    {
     "data": {
      "text/html": [
       "<div>\n",
       "<style scoped>\n",
       "    .dataframe tbody tr th:only-of-type {\n",
       "        vertical-align: middle;\n",
       "    }\n",
       "\n",
       "    .dataframe tbody tr th {\n",
       "        vertical-align: top;\n",
       "    }\n",
       "\n",
       "    .dataframe thead th {\n",
       "        text-align: right;\n",
       "    }\n",
       "</style>\n",
       "<table border=\"1\" class=\"dataframe\">\n",
       "  <thead>\n",
       "    <tr style=\"text-align: right;\">\n",
       "      <th></th>\n",
       "      <th>date</th>\n",
       "      <th>date_block_num</th>\n",
       "      <th>shop_id</th>\n",
       "      <th>item_id</th>\n",
       "      <th>item_price</th>\n",
       "      <th>item_cnt_day</th>\n",
       "    </tr>\n",
       "  </thead>\n",
       "  <tbody>\n",
       "    <tr>\n",
       "      <th>1163158</th>\n",
       "      <td>13.12.2013</td>\n",
       "      <td>11</td>\n",
       "      <td>12</td>\n",
       "      <td>6066</td>\n",
       "      <td>307980.0</td>\n",
       "      <td>1.0</td>\n",
       "    </tr>\n",
       "  </tbody>\n",
       "</table>\n",
       "</div>"
      ],
      "text/plain": [
       "               date  date_block_num  shop_id  item_id  item_price  \\\n",
       "1163158  13.12.2013              11       12     6066    307980.0   \n",
       "\n",
       "         item_cnt_day  \n",
       "1163158           1.0  "
      ]
     },
     "execution_count": 25,
     "metadata": {},
     "output_type": "execute_result"
    }
   ],
   "source": [
    "train[train['item_id'] == 6066]"
   ]
  },
  {
   "cell_type": "markdown",
   "id": "f4f2260d",
   "metadata": {},
   "source": [
    "Nope! The outlier is the only transaction. It is justifiable to remove this observation from the training set."
   ]
  },
  {
   "cell_type": "code",
   "execution_count": 26,
   "id": "318c6090",
   "metadata": {},
   "outputs": [
    {
     "data": {
      "text/plain": [
       "484683   -1.0000\n",
       "608763    0.0700\n",
       "579766    0.0700\n",
       "611400    0.0875\n",
       "673155    0.0900\n",
       "Name: item_price, dtype: float64"
      ]
     },
     "execution_count": 26,
     "metadata": {},
     "output_type": "execute_result"
    }
   ],
   "source": [
    "train = train[train['item_price'] < 300000]\n",
    "train['item_price'].sort_values()[:5]"
   ]
  },
  {
   "cell_type": "markdown",
   "id": "7e569a1f",
   "metadata": {},
   "source": [
    "And yes, there exists a value of -1. This is an error and we should inspect this observation further"
   ]
  },
  {
   "cell_type": "code",
   "execution_count": 27,
   "id": "371d75d6",
   "metadata": {},
   "outputs": [
    {
     "data": {
      "text/html": [
       "<div>\n",
       "<style scoped>\n",
       "    .dataframe tbody tr th:only-of-type {\n",
       "        vertical-align: middle;\n",
       "    }\n",
       "\n",
       "    .dataframe tbody tr th {\n",
       "        vertical-align: top;\n",
       "    }\n",
       "\n",
       "    .dataframe thead th {\n",
       "        text-align: right;\n",
       "    }\n",
       "</style>\n",
       "<table border=\"1\" class=\"dataframe\">\n",
       "  <thead>\n",
       "    <tr style=\"text-align: right;\">\n",
       "      <th></th>\n",
       "      <th>date</th>\n",
       "      <th>date_block_num</th>\n",
       "      <th>shop_id</th>\n",
       "      <th>item_id</th>\n",
       "      <th>item_price</th>\n",
       "      <th>item_cnt_day</th>\n",
       "    </tr>\n",
       "  </thead>\n",
       "  <tbody>\n",
       "    <tr>\n",
       "      <th>484683</th>\n",
       "      <td>15.05.2013</td>\n",
       "      <td>4</td>\n",
       "      <td>32</td>\n",
       "      <td>2973</td>\n",
       "      <td>-1.0</td>\n",
       "      <td>1.0</td>\n",
       "    </tr>\n",
       "  </tbody>\n",
       "</table>\n",
       "</div>"
      ],
      "text/plain": [
       "              date  date_block_num  shop_id  item_id  item_price  item_cnt_day\n",
       "484683  15.05.2013               4       32     2973        -1.0           1.0"
      ]
     },
     "execution_count": 27,
     "metadata": {},
     "output_type": "execute_result"
    }
   ],
   "source": [
    "train[train['item_price'] == -1]"
   ]
  },
  {
   "cell_type": "code",
   "execution_count": 28,
   "id": "9250dfb1",
   "metadata": {
    "scrolled": true
   },
   "outputs": [
    {
     "data": {
      "text/html": [
       "<div>\n",
       "<style scoped>\n",
       "    .dataframe tbody tr th:only-of-type {\n",
       "        vertical-align: middle;\n",
       "    }\n",
       "\n",
       "    .dataframe tbody tr th {\n",
       "        vertical-align: top;\n",
       "    }\n",
       "\n",
       "    .dataframe thead th {\n",
       "        text-align: right;\n",
       "    }\n",
       "</style>\n",
       "<table border=\"1\" class=\"dataframe\">\n",
       "  <thead>\n",
       "    <tr style=\"text-align: right;\">\n",
       "      <th></th>\n",
       "      <th>date</th>\n",
       "      <th>date_block_num</th>\n",
       "      <th>shop_id</th>\n",
       "      <th>item_id</th>\n",
       "      <th>item_price</th>\n",
       "      <th>item_cnt_day</th>\n",
       "    </tr>\n",
       "  </thead>\n",
       "  <tbody>\n",
       "    <tr>\n",
       "      <th>352</th>\n",
       "      <td>15.01.2013</td>\n",
       "      <td>0</td>\n",
       "      <td>25</td>\n",
       "      <td>2973</td>\n",
       "      <td>2499.0</td>\n",
       "      <td>13.0</td>\n",
       "    </tr>\n",
       "    <tr>\n",
       "      <th>353</th>\n",
       "      <td>16.01.2013</td>\n",
       "      <td>0</td>\n",
       "      <td>25</td>\n",
       "      <td>2973</td>\n",
       "      <td>2499.0</td>\n",
       "      <td>5.0</td>\n",
       "    </tr>\n",
       "    <tr>\n",
       "      <th>354</th>\n",
       "      <td>17.01.2013</td>\n",
       "      <td>0</td>\n",
       "      <td>25</td>\n",
       "      <td>2973</td>\n",
       "      <td>2499.0</td>\n",
       "      <td>3.0</td>\n",
       "    </tr>\n",
       "    <tr>\n",
       "      <th>355</th>\n",
       "      <td>18.01.2013</td>\n",
       "      <td>0</td>\n",
       "      <td>25</td>\n",
       "      <td>2973</td>\n",
       "      <td>2499.0</td>\n",
       "      <td>2.0</td>\n",
       "    </tr>\n",
       "    <tr>\n",
       "      <th>356</th>\n",
       "      <td>19.01.2013</td>\n",
       "      <td>0</td>\n",
       "      <td>25</td>\n",
       "      <td>2973</td>\n",
       "      <td>2499.0</td>\n",
       "      <td>3.0</td>\n",
       "    </tr>\n",
       "  </tbody>\n",
       "</table>\n",
       "</div>"
      ],
      "text/plain": [
       "           date  date_block_num  shop_id  item_id  item_price  item_cnt_day\n",
       "352  15.01.2013               0       25     2973      2499.0          13.0\n",
       "353  16.01.2013               0       25     2973      2499.0           5.0\n",
       "354  17.01.2013               0       25     2973      2499.0           3.0\n",
       "355  18.01.2013               0       25     2973      2499.0           2.0\n",
       "356  19.01.2013               0       25     2973      2499.0           3.0"
      ]
     },
     "execution_count": 28,
     "metadata": {},
     "output_type": "execute_result"
    }
   ],
   "source": [
    "# Let's see if there are other observations for this item (2973) which can help us determine its price\n",
    "train[train['item_id'] == 2973].head(5)"
   ]
  },
  {
   "cell_type": "markdown",
   "id": "ea4382b2",
   "metadata": {},
   "source": [
    "Indeed, this item seems to have been sold for quite a high price so its value of -1 should be changed. We should replace it with the median of its price, but this should be calculated for the shop (ID 12) for which this outlier exists. If there are other sales for this item in that shop for the same month (date_block_num 4), then we should calculate the median using that"
   ]
  },
  {
   "cell_type": "code",
   "execution_count": 29,
   "id": "61da828e",
   "metadata": {},
   "outputs": [],
   "source": [
    "price_correction = train[(train['shop_id'] == 32) & (train['item_id'] == 2973) & (train['date_block_num'] == 4) & (train['item_price'] > 0)].item_price.median()\n",
    "train.loc[train['item_price'] < 0, 'item_price'] = price_correction"
   ]
  },
  {
   "cell_type": "markdown",
   "id": "cac7fe9f",
   "metadata": {},
   "source": [
    "#### Test set Distribution\n",
    "Now, let's do the distribution analysis for the test set and see if we can spot any differences"
   ]
  },
  {
   "cell_type": "code",
   "execution_count": 30,
   "id": "8e08812e",
   "metadata": {
    "scrolled": true
   },
   "outputs": [
    {
     "data": {
      "image/png": "[encoded data removed]",
      "text/plain": [
       "<Figure size 1296x576 with 2 Axes>"
      ]
     },
     "metadata": {
      "needs_background": "light"
     },
     "output_type": "display_data"
    }
   ],
   "source": [
    "fig = plt.figure(figsize=(18,8))\n",
    "plt.subplots_adjust(hspace=.5)\n",
    "\n",
    "plt.subplot2grid((3,3), (0,0), colspan = 3)\n",
    "test['shop_id'].value_counts(normalize=True).plot(kind='bar', alpha=0.7)\n",
    "plt.title('Shop ID Values in the Test Set (Normalized)')\n",
    "\n",
    "plt.subplot2grid((3,3), (1,0))\n",
    "test['item_id'].plot(kind='hist', alpha=0.7)\n",
    "plt.title('Item ID Histogram - Test Set')\n",
    "\n",
    "plt.show()"
   ]
  },
  {
   "cell_type": "markdown",
   "id": "3c5f17c2",
   "metadata": {},
   "source": [
    "1. The Shop Id's are evenly spread out, unlike the training set. The font size of labels quickly tells me that there are certain Shop Id's missing in the test set as the bars in the training set 'shop_id' plot were more tightly packed.\n",
    "2. While item id's in the histogram are binned, the spikes are less in the test set. The test set is much smaller in shape than the training set, and naturally, the frequency values are significantly lower. It is tough to be draw more insights from this histogram.\n",
    "\n",
    "It seems there might be some values of shop_id and item_id completely missing in the test set. Let's have a closer look and put some numbers or percentages to these missing values."
   ]
  },
  {
   "cell_type": "markdown",
   "id": "c4d72826",
   "metadata": {},
   "source": [
    "#### Shops Analysis"
   ]
  },
  {
   "cell_type": "code",
   "execution_count": 31,
   "id": "c93e17fc",
   "metadata": {},
   "outputs": [
    {
     "name": "stdout",
     "output_type": "stream",
     "text": [
      "Shops in Training Set:  60\n",
      "Shops in Test Set:  42\n"
     ]
    }
   ],
   "source": [
    "shops_train = train['shop_id'].nunique()\n",
    "shops_test = test['shop_id'].nunique()\n",
    "print('Shops in Training Set: ', shops_train)\n",
    "print('Shops in Test Set: ', shops_test)"
   ]
  },
  {
   "cell_type": "markdown",
   "id": "93c6c48e",
   "metadata": {},
   "source": [
    "However, this doesn't mean that the training set contains all of the shops present in the test set. For that, we need to see if every element of the test set is present in the training set. Let's write some simple code to see if the test set list is a subset of the training set list."
   ]
  },
  {
   "cell_type": "code",
   "execution_count": 32,
   "id": "61e7b7a3",
   "metadata": {},
   "outputs": [
    {
     "name": "stdout",
     "output_type": "stream",
     "text": [
      "Yes, list is subset of other.\n"
     ]
    }
   ],
   "source": [
    "shops_train_list = list(train['shop_id'].unique())\n",
    "shops_test_list = list(test['shop_id'].unique())\n",
    "\n",
    "flag = 0\n",
    "if(set(shops_test_list).issubset(set(shops_train_list))): \n",
    "    flag = 1\n",
    "      \n",
    "if (flag) : \n",
    "    print (\"Yes, list is subset of other.\") \n",
    "else : \n",
    "    print (\"No, list is not subset of other.\") "
   ]
  },
  {
   "cell_type": "markdown",
   "id": "dd907949",
   "metadata": {},
   "source": [
    "#### Duplicate Shops\n",
    "Great, so all shops id's in the test set are also present in the training set. But there is an issue regarding duplicate shops that was talked about in the competition discussions. Let's have a look at the shops dataframe to identify this issue."
   ]
  },
  {
   "cell_type": "code",
   "execution_count": 33,
   "id": "73014d54",
   "metadata": {
    "scrolled": true
   },
   "outputs": [
    {
     "data": {
      "text/html": [
       "<div>\n",
       "<style scoped>\n",
       "    .dataframe tbody tr th:only-of-type {\n",
       "        vertical-align: middle;\n",
       "    }\n",
       "\n",
       "    .dataframe tbody tr th {\n",
       "        vertical-align: top;\n",
       "    }\n",
       "\n",
       "    .dataframe thead th {\n",
       "        text-align: right;\n",
       "    }\n",
       "</style>\n",
       "<table border=\"1\" class=\"dataframe\">\n",
       "  <thead>\n",
       "    <tr style=\"text-align: right;\">\n",
       "      <th></th>\n",
       "      <th>0</th>\n",
       "      <th>1</th>\n",
       "      <th>2</th>\n",
       "      <th>3</th>\n",
       "      <th>4</th>\n",
       "      <th>5</th>\n",
       "      <th>6</th>\n",
       "      <th>7</th>\n",
       "      <th>8</th>\n",
       "      <th>9</th>\n",
       "      <th>...</th>\n",
       "      <th>50</th>\n",
       "      <th>51</th>\n",
       "      <th>52</th>\n",
       "      <th>53</th>\n",
       "      <th>54</th>\n",
       "      <th>55</th>\n",
       "      <th>56</th>\n",
       "      <th>57</th>\n",
       "      <th>58</th>\n",
       "      <th>59</th>\n",
       "    </tr>\n",
       "  </thead>\n",
       "  <tbody>\n",
       "    <tr>\n",
       "      <th>shop_name</th>\n",
       "      <td>!Якутск Орджоникидзе, 56 фран</td>\n",
       "      <td>!Якутск ТЦ \"Центральный\" фран</td>\n",
       "      <td>Адыгея ТЦ \"Мега\"</td>\n",
       "      <td>Балашиха ТРК \"Октябрь-Киномир\"</td>\n",
       "      <td>Волжский ТЦ \"Волга Молл\"</td>\n",
       "      <td>Вологда ТРЦ \"Мармелад\"</td>\n",
       "      <td>Воронеж (Плехановская, 13)</td>\n",
       "      <td>Воронеж ТРЦ \"Максимир\"</td>\n",
       "      <td>Воронеж ТРЦ Сити-Парк \"Град\"</td>\n",
       "      <td>Выездная Торговля</td>\n",
       "      <td>...</td>\n",
       "      <td>Тюмень ТЦ \"Гудвин\"</td>\n",
       "      <td>Тюмень ТЦ \"Зеленый Берег\"</td>\n",
       "      <td>Уфа ТК \"Центральный\"</td>\n",
       "      <td>Уфа ТЦ \"Семья\" 2</td>\n",
       "      <td>Химки ТЦ \"Мега\"</td>\n",
       "      <td>Цифровой склад 1С-Онлайн</td>\n",
       "      <td>Чехов ТРЦ \"Карнавал\"</td>\n",
       "      <td>Якутск Орджоникидзе, 56</td>\n",
       "      <td>Якутск ТЦ \"Центральный\"</td>\n",
       "      <td>Ярославль ТЦ \"Альтаир\"</td>\n",
       "    </tr>\n",
       "    <tr>\n",
       "      <th>shop_id</th>\n",
       "      <td>0</td>\n",
       "      <td>1</td>\n",
       "      <td>2</td>\n",
       "      <td>3</td>\n",
       "      <td>4</td>\n",
       "      <td>5</td>\n",
       "      <td>6</td>\n",
       "      <td>7</td>\n",
       "      <td>8</td>\n",
       "      <td>9</td>\n",
       "      <td>...</td>\n",
       "      <td>50</td>\n",
       "      <td>51</td>\n",
       "      <td>52</td>\n",
       "      <td>53</td>\n",
       "      <td>54</td>\n",
       "      <td>55</td>\n",
       "      <td>56</td>\n",
       "      <td>57</td>\n",
       "      <td>58</td>\n",
       "      <td>59</td>\n",
       "    </tr>\n",
       "  </tbody>\n",
       "</table>\n",
       "<p>2 rows × 60 columns</p>\n",
       "</div>"
      ],
      "text/plain": [
       "                                      0                              1   \\\n",
       "shop_name  !Якутск Орджоникидзе, 56 фран  !Якутск ТЦ \"Центральный\" фран   \n",
       "shop_id                                0                              1   \n",
       "\n",
       "                         2                               3   \\\n",
       "shop_name  Адыгея ТЦ \"Мега\"  Балашиха ТРК \"Октябрь-Киномир\"   \n",
       "shop_id                   2                               3   \n",
       "\n",
       "                                 4                       5   \\\n",
       "shop_name  Волжский ТЦ \"Волга Молл\"  Вологда ТРЦ \"Мармелад\"   \n",
       "shop_id                           4                       5   \n",
       "\n",
       "                                   6                       7   \\\n",
       "shop_name  Воронеж (Плехановская, 13)  Воронеж ТРЦ \"Максимир\"   \n",
       "shop_id                             6                       7   \n",
       "\n",
       "                                     8                  9   ...  \\\n",
       "shop_name  Воронеж ТРЦ Сити-Парк \"Град\"  Выездная Торговля  ...   \n",
       "shop_id                               8                  9  ...   \n",
       "\n",
       "                           50                         51  \\\n",
       "shop_name  Тюмень ТЦ \"Гудвин\"  Тюмень ТЦ \"Зеленый Берег\"   \n",
       "shop_id                    50                         51   \n",
       "\n",
       "                             52                53               54  \\\n",
       "shop_name  Уфа ТК \"Центральный\"  Уфа ТЦ \"Семья\" 2  Химки ТЦ \"Мега\"   \n",
       "shop_id                      52                53               54   \n",
       "\n",
       "                                 55                    56  \\\n",
       "shop_name  Цифровой склад 1С-Онлайн  Чехов ТРЦ \"Карнавал\"   \n",
       "shop_id                          55                    56   \n",
       "\n",
       "                                57                       58  \\\n",
       "shop_name  Якутск Орджоникидзе, 56  Якутск ТЦ \"Центральный\"   \n",
       "shop_id                         57                       58   \n",
       "\n",
       "                               59  \n",
       "shop_name  Ярославль ТЦ \"Альтаир\"  \n",
       "shop_id                        59  \n",
       "\n",
       "[2 rows x 60 columns]"
      ]
     },
     "execution_count": 33,
     "metadata": {},
     "output_type": "execute_result"
    }
   ],
   "source": [
    "shops.T"
   ]
  },
  {
   "cell_type": "markdown",
   "id": "a13cd342",
   "metadata": {},
   "source": [
    "Using Google translate API and measuring pair wise Levenstein distance with a python library, I generated a matrix plot to observe similarity with the shop names"
   ]
  },
  {
   "cell_type": "markdown",
   "id": "221f77ba",
   "metadata": {},
   "source": [
    "Upon examing the above matrixes and 'similar' shop names, one observes that shops start with their city name! This can be a useful feature. Also, 'shop_id's 0 and 1 are the same as 57 and 58 respectively. The only difference is the Russian word 'фран' attached to both shops 0 and 1. Shops 10 and 11 have the exact same name excpet the last character ('?' vs '2'). These duplicates should be removed!"
   ]
  },
  {
   "cell_type": "code",
   "execution_count": 34,
   "id": "3c267f0b",
   "metadata": {},
   "outputs": [],
   "source": [
    "train.loc[train['shop_id'] == 0, 'shop_id'] = 57\n",
    "test.loc[test['shop_id'] == 0, 'shop_id'] = 57\n",
    "\n",
    "train.loc[train['shop_id'] == 1, 'shop_id'] = 58\n",
    "test.loc[test['shop_id'] == 1, 'shop_id'] = 58\n",
    "\n",
    "train.loc[train['shop_id'] == 10, 'shop_id'] = 11\n",
    "test.loc[test['shop_id'] == 10, 'shop_id'] = 11"
   ]
  },
  {
   "cell_type": "markdown",
   "id": "3048b844",
   "metadata": {},
   "source": [
    "#### Extracting City"
   ]
  },
  {
   "cell_type": "code",
   "execution_count": 35,
   "id": "613ef2df",
   "metadata": {
    "scrolled": true
   },
   "outputs": [
    {
     "data": {
      "text/plain": [
       "array(['!Якутск', 'Адыгея', 'Балашиха', 'Волжский', 'Вологда', 'Воронеж',\n",
       "       'Выездная', 'Жуковский', 'Интернет-магазин', 'Казань', 'Калуга',\n",
       "       'Коломна', 'Красноярск', 'Курск', 'Москва', 'Мытищи', 'Н.Новгород',\n",
       "       'Новосибирск', 'Омск', 'РостовНаДону', 'СПб', 'Самара', 'Сергиев',\n",
       "       'Сургут', 'Томск', 'Тюмень', 'Уфа', 'Химки', 'Цифровой', 'Чехов',\n",
       "       'Якутск', 'Ярославль'], dtype=object)"
      ]
     },
     "execution_count": 35,
     "metadata": {},
     "output_type": "execute_result"
    }
   ],
   "source": [
    "cities = shops['shop_name'].str.split(' ').map(lambda row: row[0])\n",
    "cities.unique()"
   ]
  },
  {
   "cell_type": "markdown",
   "id": "4472feed",
   "metadata": {},
   "source": [
    "Upon careful observation, the city Yakutsk is represented as '!Якутск' and 'Якутск'. We should make sure they are the same so when we label encode these city names, they will fall under the same cateogory. For reference, the english tranlation of the cities is below.\n",
    "\n",
    "'!Yakutsk', 'Adygea', 'Balashikha', 'Volzhsky', 'Vologda', 'Voronezh', 'Outbound', 'Zhukovsky', 'Online', 'Kazan', 'Kaluga', 'Kolomna', 'Krasnoyarsk', 'Kursk', 'Moscow', 'Mytishchi', 'N.Novgorod', 'Novosibirsk', 'Omsk', 'RostovNaDonu', 'St.', 'Samara', 'Sergiev', 'Surgut', 'Tomsk', 'Tyumen', 'Ufa', 'Khimki', 'Digital', 'Chekhov', 'Yakutsk', 'Yaroslavl'\n",
    "\n",
    "You will notice we only extract the St. from St. Petersburg but that's okay as we will label encode these categorical variables."
   ]
  },
  {
   "cell_type": "code",
   "execution_count": 36,
   "id": "ad770f39",
   "metadata": {},
   "outputs": [
    {
     "data": {
      "text/plain": [
       "array([29, 29,  0,  1,  2,  3,  4,  4,  4,  5,  6,  6,  7,  8,  8,  9, 10,\n",
       "       11, 11, 12, 13, 13, 13, 13, 13, 13, 13, 13, 13, 13, 13, 13, 13, 14,\n",
       "       15, 15, 16, 16, 17, 18, 18, 18, 19, 19, 20, 20, 21, 22, 23, 24, 24,\n",
       "       24, 25, 25, 26, 27, 28, 29, 29, 30])"
      ]
     },
     "execution_count": 36,
     "metadata": {},
     "output_type": "execute_result"
    }
   ],
   "source": [
    "shops['city'] = shops['shop_name'].str.split(' ').map(lambda row: row[0])\n",
    "shops.loc[shops.city == '!Якутск', 'city'] = 'Якутск'\n",
    "\n",
    "from sklearn import preprocessing\n",
    "le = preprocessing.LabelEncoder()\n",
    "le.fit_transform(shops['city'])"
   ]
  },
  {
   "cell_type": "code",
   "execution_count": 37,
   "id": "e2e6c2cf",
   "metadata": {
    "scrolled": true
   },
   "outputs": [
    {
     "data": {
      "text/html": [
       "<div>\n",
       "<style scoped>\n",
       "    .dataframe tbody tr th:only-of-type {\n",
       "        vertical-align: middle;\n",
       "    }\n",
       "\n",
       "    .dataframe tbody tr th {\n",
       "        vertical-align: top;\n",
       "    }\n",
       "\n",
       "    .dataframe thead th {\n",
       "        text-align: right;\n",
       "    }\n",
       "</style>\n",
       "<table border=\"1\" class=\"dataframe\">\n",
       "  <thead>\n",
       "    <tr style=\"text-align: right;\">\n",
       "      <th></th>\n",
       "      <th>shop_id</th>\n",
       "      <th>city_label</th>\n",
       "    </tr>\n",
       "  </thead>\n",
       "  <tbody>\n",
       "    <tr>\n",
       "      <th>0</th>\n",
       "      <td>0</td>\n",
       "      <td>29</td>\n",
       "    </tr>\n",
       "    <tr>\n",
       "      <th>1</th>\n",
       "      <td>1</td>\n",
       "      <td>29</td>\n",
       "    </tr>\n",
       "    <tr>\n",
       "      <th>2</th>\n",
       "      <td>2</td>\n",
       "      <td>0</td>\n",
       "    </tr>\n",
       "    <tr>\n",
       "      <th>3</th>\n",
       "      <td>3</td>\n",
       "      <td>1</td>\n",
       "    </tr>\n",
       "    <tr>\n",
       "      <th>4</th>\n",
       "      <td>4</td>\n",
       "      <td>2</td>\n",
       "    </tr>\n",
       "  </tbody>\n",
       "</table>\n",
       "</div>"
      ],
      "text/plain": [
       "   shop_id  city_label\n",
       "0        0          29\n",
       "1        1          29\n",
       "2        2           0\n",
       "3        3           1\n",
       "4        4           2"
      ]
     },
     "execution_count": 37,
     "metadata": {},
     "output_type": "execute_result"
    }
   ],
   "source": [
    "shops['city_label'] = le.fit_transform(shops['city'])\n",
    "shops.drop(['shop_name', 'city'], axis = 1, inplace = True)\n",
    "shops.head()"
   ]
  },
  {
   "cell_type": "markdown",
   "id": "a2b978fe",
   "metadata": {},
   "source": [
    "#### Items Analysis\n",
    "Let's perform a similar train-test analysis for item_ids"
   ]
  },
  {
   "cell_type": "code",
   "execution_count": 38,
   "id": "1bdb8ed5",
   "metadata": {},
   "outputs": [
    {
     "name": "stdout",
     "output_type": "stream",
     "text": [
      "Items in Training Set:  21806\n",
      "Items in Test Set:  5100\n"
     ]
    }
   ],
   "source": [
    "items_train = train['item_id'].nunique()\n",
    "items_test = test['item_id'].nunique()\n",
    "print('Items in Training Set: ', items_train)\n",
    "print('Items in Test Set: ', items_test)"
   ]
  },
  {
   "cell_type": "markdown",
   "id": "993eff0b",
   "metadata": {},
   "source": [
    "There are a lot many more items in the training set than there are in the test set. However, this doesn't mean that the training set contains all of the items in the test set. For that, we need to see if every element of the test set is present in the training set. Let's write some simple code to achieve this."
   ]
  },
  {
   "cell_type": "code",
   "execution_count": 39,
   "id": "476663cd",
   "metadata": {},
   "outputs": [
    {
     "name": "stdout",
     "output_type": "stream",
     "text": [
      "No, list is not subset of other.\n"
     ]
    }
   ],
   "source": [
    "items_train_list = list(train['item_id'].unique())\n",
    "items_test_list = list(test['item_id'].unique())\n",
    "\n",
    "flag = 0\n",
    "if(set(items_test_list).issubset(set(items_train_list))): \n",
    "    flag = 1\n",
    "      \n",
    "if (flag) : \n",
    "    print (\"Yes, list is subset of other.\") \n",
    "else : \n",
    "    print (\"No, list is not subset of other.\") "
   ]
  },
  {
   "cell_type": "markdown",
   "id": "2d052e4d",
   "metadata": {},
   "source": [
    "Well then, this means there are certain items that are present in the test set but completely absent in the training set! Can we put a number to this to get an intuition?"
   ]
  },
  {
   "cell_type": "code",
   "execution_count": 40,
   "id": "b97de1db",
   "metadata": {
    "scrolled": true
   },
   "outputs": [
    {
     "data": {
      "text/plain": [
       "363"
      ]
     },
     "execution_count": 40,
     "metadata": {},
     "output_type": "execute_result"
    }
   ],
   "source": [
    "len(set(items_test_list).difference(items_train_list))"
   ]
  },
  {
   "cell_type": "markdown",
   "id": "499db75f",
   "metadata": {},
   "source": [
    "There are 363 items that are present in the test set but completely absent in the training set. This doesn't mean that the sales prediction against those items must be zero as new items can be added to the market or we simply didn't possess the data for those items before. The fascinating questions pops though, how do you go about predicting them?\n",
    "\n",
    "Before we do that, let's find out more about the 5100 items in the test set. What categories to they belong to? What categories do we not have to make predictions in the test set for"
   ]
  },
  {
   "cell_type": "code",
   "execution_count": 41,
   "id": "388a9638",
   "metadata": {},
   "outputs": [
    {
     "data": {
      "text/html": [
       "<div>\n",
       "<style scoped>\n",
       "    .dataframe tbody tr th:only-of-type {\n",
       "        vertical-align: middle;\n",
       "    }\n",
       "\n",
       "    .dataframe tbody tr th {\n",
       "        vertical-align: top;\n",
       "    }\n",
       "\n",
       "    .dataframe thead th {\n",
       "        text-align: right;\n",
       "    }\n",
       "</style>\n",
       "<table border=\"1\" class=\"dataframe\">\n",
       "  <thead>\n",
       "    <tr style=\"text-align: right;\">\n",
       "      <th></th>\n",
       "      <th>1</th>\n",
       "      <th>4</th>\n",
       "      <th>8</th>\n",
       "      <th>10</th>\n",
       "      <th>13</th>\n",
       "      <th>14</th>\n",
       "      <th>17</th>\n",
       "      <th>18</th>\n",
       "      <th>32</th>\n",
       "      <th>39</th>\n",
       "      <th>...</th>\n",
       "      <th>50</th>\n",
       "      <th>51</th>\n",
       "      <th>52</th>\n",
       "      <th>53</th>\n",
       "      <th>59</th>\n",
       "      <th>66</th>\n",
       "      <th>68</th>\n",
       "      <th>80</th>\n",
       "      <th>81</th>\n",
       "      <th>82</th>\n",
       "    </tr>\n",
       "  </thead>\n",
       "  <tbody>\n",
       "    <tr>\n",
       "      <th>item_category_name</th>\n",
       "      <td>Аксессуары - PS2</td>\n",
       "      <td>Аксессуары - PSP</td>\n",
       "      <td>Билеты (Цифра)</td>\n",
       "      <td>Игровые консоли - PS2</td>\n",
       "      <td>Игровые консоли - PSP</td>\n",
       "      <td>Игровые консоли - PSVita</td>\n",
       "      <td>Игровые консоли - Прочие</td>\n",
       "      <td>Игры - PS2</td>\n",
       "      <td>Карты оплаты (Кино, Музыка, Игры)</td>\n",
       "      <td>Кино - Blu-Ray 4K</td>\n",
       "      <td>...</td>\n",
       "      <td>Книги - Открытки</td>\n",
       "      <td>Книги - Познавательная литература</td>\n",
       "      <td>Книги - Путеводители</td>\n",
       "      <td>Книги - Художественная литература</td>\n",
       "      <td>Музыка - Музыкальное видео</td>\n",
       "      <td>Подарки - Открытки, наклейки</td>\n",
       "      <td>Подарки - Сертификаты, услуги</td>\n",
       "      <td>Служебные - Билеты</td>\n",
       "      <td>Чистые носители (шпиль)</td>\n",
       "      <td>Чистые носители (штучные)</td>\n",
       "    </tr>\n",
       "    <tr>\n",
       "      <th>item_category_id</th>\n",
       "      <td>1</td>\n",
       "      <td>4</td>\n",
       "      <td>8</td>\n",
       "      <td>10</td>\n",
       "      <td>13</td>\n",
       "      <td>14</td>\n",
       "      <td>17</td>\n",
       "      <td>18</td>\n",
       "      <td>32</td>\n",
       "      <td>39</td>\n",
       "      <td>...</td>\n",
       "      <td>50</td>\n",
       "      <td>51</td>\n",
       "      <td>52</td>\n",
       "      <td>53</td>\n",
       "      <td>59</td>\n",
       "      <td>66</td>\n",
       "      <td>68</td>\n",
       "      <td>80</td>\n",
       "      <td>81</td>\n",
       "      <td>82</td>\n",
       "    </tr>\n",
       "  </tbody>\n",
       "</table>\n",
       "<p>2 rows × 22 columns</p>\n",
       "</div>"
      ],
      "text/plain": [
       "                                  1                 4               8   \\\n",
       "item_category_name  Аксессуары - PS2  Аксессуары - PSP  Билеты (Цифра)   \n",
       "item_category_id                   1                 4               8   \n",
       "\n",
       "                                       10                     13  \\\n",
       "item_category_name  Игровые консоли - PS2  Игровые консоли - PSP   \n",
       "item_category_id                       10                     13   \n",
       "\n",
       "                                          14                        17  \\\n",
       "item_category_name  Игровые консоли - PSVita  Игровые консоли - Прочие   \n",
       "item_category_id                          14                        17   \n",
       "\n",
       "                            18                                 32  \\\n",
       "item_category_name  Игры - PS2  Карты оплаты (Кино, Музыка, Игры)   \n",
       "item_category_id            18                                 32   \n",
       "\n",
       "                                   39  ...                50  \\\n",
       "item_category_name  Кино - Blu-Ray 4K  ...  Книги - Открытки   \n",
       "item_category_id                   39  ...                50   \n",
       "\n",
       "                                                   51                    52  \\\n",
       "item_category_name  Книги - Познавательная литература  Книги - Путеводители   \n",
       "item_category_id                                   51                    52   \n",
       "\n",
       "                                                   53  \\\n",
       "item_category_name  Книги - Художественная литература   \n",
       "item_category_id                                   53   \n",
       "\n",
       "                                            59                            66  \\\n",
       "item_category_name  Музыка - Музыкальное видео  Подарки - Открытки, наклейки   \n",
       "item_category_id                            59                            66   \n",
       "\n",
       "                                               68                  80  \\\n",
       "item_category_name  Подарки - Сертификаты, услуги  Служебные - Билеты   \n",
       "item_category_id                               68                  80   \n",
       "\n",
       "                                         81                         82  \n",
       "item_category_name  Чистые носители (шпиль)  Чистые носители (штучные)  \n",
       "item_category_id                         81                         82  \n",
       "\n",
       "[2 rows x 22 columns]"
      ]
     },
     "execution_count": 41,
     "metadata": {},
     "output_type": "execute_result"
    }
   ],
   "source": [
    "categories_in_test = items.loc[items['item_id'].isin(sorted(test['item_id'].unique()))].item_category_id.unique()\n",
    "\n",
    "# categories.loc[categories['item_category_id'].isin(categories_in_test)]\n",
    "categories.loc[~categories['item_category_id'].isin(categories_in_test)].T"
   ]
  },
  {
   "cell_type": "code",
   "execution_count": null,
   "id": "a7690220",
   "metadata": {},
   "outputs": [],
   "source": []
  }
 ],
 "metadata": {
  "kernelspec": {
   "display_name": "Python 3",
   "language": "python",
   "name": "python3"
  },
  "language_info": {
   "codemirror_mode": {
    "name": "ipython",
    "version": 3
   },
   "file_extension": ".py",
   "mimetype": "text/x-python",
   "name": "python",
   "nbconvert_exporter": "python",
   "pygments_lexer": "ipython3",
   "version": "3.8.10"
  }
 },
 "nbformat": 4,
 "nbformat_minor": 5
}
